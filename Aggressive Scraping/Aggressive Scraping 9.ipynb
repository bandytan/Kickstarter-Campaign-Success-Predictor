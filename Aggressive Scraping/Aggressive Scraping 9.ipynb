{
 "cells": [
  {
   "cell_type": "code",
   "execution_count": 1,
   "id": "c85cc2b2",
   "metadata": {},
   "outputs": [],
   "source": [
    "import requests\n",
    "from bs4 import BeautifulSoup\n",
    "import re\n",
    "import pandas as pd\n",
    "import os \n",
    "import ast\n",
    "import json\n",
    "import time\n",
    "from requests.exceptions import ConnectionError"
   ]
  },
  {
   "cell_type": "markdown",
   "id": "6804745e",
   "metadata": {},
   "source": [
    "https://stackoverflow.com/questions/62335537/scraping-text-from-kickstarter-projects-return-nothing"
   ]
  },
  {
   "cell_type": "code",
   "execution_count": 2,
   "id": "46c7a574",
   "metadata": {},
   "outputs": [
    {
     "name": "stdout",
     "output_type": "stream",
     "text": [
      "392244\n",
      "203510\n"
     ]
    },
    {
     "name": "stderr",
     "output_type": "stream",
     "text": [
      "/var/folders/dq/33rpc0cx4f54t0vx2cdcgczr0000gn/T/ipykernel_59746/4110031066.py:5: SettingWithCopyWarning: \n",
      "A value is trying to be set on a copy of a slice from a DataFrame.\n",
      "Try using .loc[row_indexer,col_indexer] = value instead\n",
      "\n",
      "See the caveats in the documentation: https://pandas.pydata.org/pandas-docs/stable/user_guide/indexing.html#returning-a-view-versus-a-copy\n",
      "  df_1['main_url'] = df_1['urls'].apply(lambda x: eval(x)['web']['project'])\n"
     ]
    }
   ],
   "source": [
    "base = \"/Users/ivankoh/Downloads/kickstarter data/\"\n",
    "filepaths = [base + f for f in os.listdir(base) if f.endswith('.csv')]\n",
    "df = pd.concat(map(pd.read_csv, filepaths))\n",
    "df_1 = df.drop_duplicates(subset=['id'])\n",
    "df_1['main_url'] = df_1['urls'].apply(lambda x: eval(x)['web']['project'])\n",
    "print(len(df))\n",
    "print(len(df_1))"
   ]
  },
  {
   "cell_type": "code",
   "execution_count": 3,
   "id": "016701b4",
   "metadata": {},
   "outputs": [],
   "source": [
    "def get_slug(url):\n",
    "    return re.search('/projects/(.*)\\?', url).group(1)\n",
    "\n",
    "# get the slug from the urls. the slug is the input to the GraphQL API call \n",
    "slugs = list(map(get_slug, df_1['main_url'].tolist()))\n",
    "# while iterating through all projects, add the story and risk to these lists. At the end len of both list \n",
    "# should be the same as the len of the dataframe. if all good then add as columns to the dataframe df. \n",
    "creator_list = []"
   ]
  },
  {
   "cell_type": "code",
   "execution_count": 4,
   "id": "79db610f",
   "metadata": {},
   "outputs": [
    {
     "name": "stdout",
     "output_type": "stream",
     "text": [
      "--------558299136/pounce-house-coffee-and-cat-lounge------\n",
      "-----CREATOR-----\n",
      "--------1429708888/sisters-pastry-shop-storefront------\n",
      "-----CREATOR-----\n",
      "--------1894640877/a-painters-first-public-debut------\n",
      "-----CREATOR-----\n",
      "--------1330535358/space-is-calling------\n",
      "-----CREATOR-----\n",
      "--------s2creative/good-night-star-hard-enamel-pin-series------\n",
      "-----CREATOR-----\n",
      "TAKING A NAP ZZZ...\n",
      "--------eatitup/eat-it-up------\n",
      "-----CREATOR-----\n",
      "--------468451218/shake-bar------\n",
      "-----CREATOR-----\n",
      "--------125843496/bring-witches-brew-cafe-to-life------\n",
      "-----CREATOR-----\n",
      "--------582330163/buy-a-print-and-fund-my-masters-degree------\n",
      "-----CREATOR-----\n",
      "--------1575811103/nutcracker-ballet-christmas-gift-for-women-silk-sc------\n",
      "-----CREATOR-----\n",
      "TAKING A NAP ZZZ...\n",
      "--------376269831/gershwin-for-four-hands-a-new-cd-of-music-for-piano-duo------\n",
      "-----CREATOR-----\n",
      "--------dimland/dimland-a-feature-film------\n",
      "-----CREATOR-----\n",
      "--------ruthiegrumbine/the-other-side-12------\n",
      "-----CREATOR-----\n",
      "--------643969070/sara-carabantes-2016-girls-calendar------\n",
      "-----CREATOR-----\n",
      "--------387737463/between-home-and-wisdom-sangoma-woman-of-south-afr------\n",
      "-----CREATOR-----\n",
      "TAKING A NAP ZZZ...\n",
      "--------stevieraedrawn/sigils-of-true-sight-tarot-themed-hard-enamel-pins------\n",
      "-----CREATOR-----\n",
      "--------creepykawaii/creepy-kawaii-2018-pin-collection------\n",
      "-----CREATOR-----\n",
      "--------1559272750/discovering-more-classical-string-trios------\n",
      "-----CREATOR-----\n",
      "--------277080784/hydro-garden-growing-made-easy------\n",
      "-----CREATOR-----\n",
      "--------zbyslove/its-all-about-art-art-promotion-and-art-collaborat------\n",
      "-----CREATOR-----\n",
      "TAKING A NAP ZZZ...\n",
      "--------cai-thomas/record-cai-thomas------\n",
      "-----CREATOR-----\n",
      "--------rourrodas/an-elegant-weapon-star-wars-enamel-pin------\n",
      "-----CREATOR-----\n",
      "--------1928437958/aquakit-the-complete-home-aquaponics------\n",
      "-----CREATOR-----\n",
      "--------kittywinkles/kittywinkles-cat-lounge------\n",
      "-----CREATOR-----\n",
      "--------271172125/sweet-c-bakery------\n",
      "-----CREATOR-----\n",
      "TAKING A NAP ZZZ...\n",
      "--------gothicopera/der-vampyr-a-new-production-of-marschners-opera------\n",
      "-----CREATOR-----\n",
      "--------cannedlaughter/cactus-boy-a-short-practical-effects-film------\n",
      "-----CREATOR-----\n",
      "--------65999312/joe-kelly-new-york-city-1981-photography-exhibitio------\n",
      "-----CREATOR-----\n",
      "--------1653560627/make-100-hand-painted-mini-wall-art------\n",
      "-----CREATOR-----\n",
      "--------hartiful/usa-road-trip-polaroid-enamel-pins------\n",
      "-----CREATOR-----\n",
      "TAKING A NAP ZZZ...\n",
      "--------ochis/ochis-first-organic-sunglasses-made-of-coffee------\n",
      "-----CREATOR-----\n",
      "--------marlavaniegos/perros-muertos------\n",
      "-----CREATOR-----\n",
      "--------49920135/into-indigo-the-mythic-landscape-of-the-contempora------\n",
      "-----CREATOR-----\n",
      "--------omegapictures/day-7-fantasy-sci-fi-film------\n",
      "-----CREATOR-----\n",
      "--------gustavenicol/vaval-court-metrage-fantastique------\n",
      "-----CREATOR-----\n",
      "TAKING A NAP ZZZ...\n",
      "--------724195578/le-rideau-pourpre------\n",
      "<Response [429]>\n",
      "TAKING A BIG NAP ZZZ...\n",
      "NAP DIDN't WORK <Response [429]>\n"
     ]
    }
   ],
   "source": [
    "# instantiate a new Session \n",
    "s = requests.Session()\n",
    "\n",
    "query = \"\"\"\n",
    "query Campaign($slug: String!) {\n",
    "  project(slug: $slug) {\n",
    "    risks\n",
    "    story(assetWidth: 680)\n",
    "  }\n",
    "}\"\"\"\n",
    "\n",
    "# PARAMS\n",
    "counter = 0\n",
    "# pause for 30 seconds every 5 iterations\n",
    "for i in range(146577, 167088):\n",
    "    slug = slugs[i]\n",
    "    if counter == 5:\n",
    "        print(\"TAKING A NAP ZZZ...\")\n",
    "        time.sleep(30)\n",
    "        counter = 0\n",
    "    counter += 1\n",
    "    print(f\"--------{slug}------\")\n",
    "    # POST request to GraphQL API situated in kickstarter domain \n",
    "    # response from POST request should contain the story and risks\n",
    "    connect_try = 0\n",
    "    not_found = True\n",
    "    while connect_try < 30 and not_found:       \n",
    "        try:\n",
    "            r = s.post(\"https://www.kickstarter.com/graph\",\n",
    "                headers = {\n",
    "                  'content-type': 'application/json',\n",
    "                  'x-csrf-token': 'bL5nMRm5s147N8RxvNcth-E8NAOt3SprGYtvvKsVLnuZ3XwQ71cy1zrDfjIAGTCHV0obMRNqRMbBJT7nF2ZSAA',\n",
    "                  'User-Agent': 'Mozilla/5.0 (Windows NT 10.0; Win64; x64) AppleWebKit/537.36 (KHTML, like Gecko) Chrome/74.0.3729.169 Safari/537.36',\n",
    "                  'cookie': '_ksr_session=eus10UNK7iB%2FwIMXafXg5yJdYvRD7rHlR%2Ba1KEbUnB5EKTgQxNKEIqrp%2BIyjRC%2FNXw76u4Eki4AsiBom5M1LKNJKWCD65CBzeegWrk2%2FRV9Sht6dlOKplCATNdrmEIIa0Bt%2FKKGnT2m9ID1nTCduj73%2BdeJK663MNcbYWXBHkFyZJgUKh4JcCx3hL0UF2quVeBvfV45M0CNrT1j4DchvTlFBn%2BpE37ZaGldNz7BF0RAcCjIZrt%2FzNkxugCaFfWEPjxh9amOCvytIcdjxOaE68AAmHuU%3D--RPNmoWC%2FGnWTmsfw--9466UG%2Bqs2V%2F8B8zFtXUig%3D%3D'\n",
    "                },\n",
    "                json = {\n",
    "                    \"variables\":{\n",
    "                        \"slug\": slug\n",
    "                    },\n",
    "                    \"query\": \"query CreatorSection($slug: String!) {\\n  me {\\n    id\\n    name\\n  }\\n  project(slug: $slug) {\\n    id\\n    verifiedIdentity\\n    creator {\\n      id\\n      name\\n      imageUrl(width: 100)\\n      url\\n      lastLogin\\n      biography\\n      isFacebookConnected\\n      allowsFollows\\n      backingsCount\\n      location {\\n        displayableName\\n      }\\n      launchedProjects {\\n        totalCount\\n      }\\n      websites {\\n        url\\n        domain\\n      }\\n    }\\n    collaborators {\\n      edges {\\n        node {\\n          name\\n          imageUrl(width: 200)\\n          url\\n        }\\n        title\\n      }\\n    }\\n  }\\n}\\n\"\n",
    "                })\n",
    "            not_found = False\n",
    "        except ConnectionError:\n",
    "            print(\"Connection Error\")\n",
    "            time.sleep(5)\n",
    "            connect_try += 1\n",
    "    try:\n",
    "        result = r.json()\n",
    "        print(\"-----CREATOR-----\")\n",
    "        creator_list.append(result['data']['project'])\n",
    "    except:\n",
    "        print(r)\n",
    "        print(\"TAKING A BIG NAP ZZZ...\")\n",
    "        time.sleep(60*30)\n",
    "        #try one more time\n",
    "        r = s.post(\"https://www.kickstarter.com/graph\",\n",
    "                headers = {\n",
    "                  'content-type': 'application/json',\n",
    "                  'x-csrf-token': 'bL5nMRm5s147N8RxvNcth-E8NAOt3SprGYtvvKsVLnuZ3XwQ71cy1zrDfjIAGTCHV0obMRNqRMbBJT7nF2ZSAA',\n",
    "                  'User-Agent': 'Mozilla/5.0 (Windows NT 6.1; WOW64; rv:50.0) Gecko/20100101 Firefox/50.0',\n",
    "                  'cookie': '_ksr_session=eus10UNK7iB%2FwIMXafXg5yJdYvRD7rHlR%2Ba1KEbUnB5EKTgQxNKEIqrp%2BIyjRC%2FNXw76u4Eki4AsiBom5M1LKNJKWCD65CBzeegWrk2%2FRV9Sht6dlOKplCATNdrmEIIa0Bt%2FKKGnT2m9ID1nTCduj73%2BdeJK663MNcbYWXBHkFyZJgUKh4JcCx3hL0UF2quVeBvfV45M0CNrT1j4DchvTlFBn%2BpE37ZaGldNz7BF0RAcCjIZrt%2FzNkxugCaFfWEPjxh9amOCvytIcdjxOaE68AAmHuU%3D--RPNmoWC%2FGnWTmsfw--9466UG%2Bqs2V%2F8B8zFtXUig%3D%3D'\n",
    "                },\n",
    "                json = {\n",
    "                    \"variables\":{\n",
    "                        \"slug\": slug\n",
    "                    },\n",
    "                    \"query\": \"query CreatorSection($slug: String!) {\\n  me {\\n    id\\n    name\\n  }\\n  project(slug: $slug) {\\n    id\\n    verifiedIdentity\\n    creator {\\n      id\\n      name\\n      imageUrl(width: 100)\\n      url\\n      lastLogin\\n      biography\\n      isFacebookConnected\\n      allowsFollows\\n      backingsCount\\n      location {\\n        displayableName\\n      }\\n      launchedProjects {\\n        totalCount\\n      }\\n      websites {\\n        url\\n        domain\\n      }\\n    }\\n    collaborators {\\n      edges {\\n        node {\\n          name\\n          imageUrl(width: 200)\\n          url\\n        }\\n        title\\n      }\\n    }\\n  }\\n}\\n\"\n",
    "                })\n",
    "        try:\n",
    "            result = r.json()\n",
    "            print(\"-----CREATOR-----\")\n",
    "            creator_list.append(result['data']['project'])\n",
    "        except:\n",
    "            print(\"NAP DIDN't WORK\", r)\n",
    "            break"
   ]
  },
  {
   "cell_type": "markdown",
   "id": "e3537574",
   "metadata": {},
   "source": [
    "# Saving Data\n",
    "\n",
    "## Latest Iteration Ran Till: 2999, Local copy latest: 2000 to 2999\n"
   ]
  },
  {
   "cell_type": "code",
   "execution_count": 21,
   "id": "9927e871",
   "metadata": {},
   "outputs": [],
   "source": [
    "#SAVE LIST IN LOCAL FOR USE LATER. NAME FILE AS {from}_{to]_{story/risk}.json\n",
    "creator_file_name = \"/Users/ivankoh/Downloads/bt4222 data/2000_2999_creator\" #CHANGE THIS\n",
    "creator_file_name += \".json\"\n",
    "\n",
    "with open(creator_file_name, 'w') as f:\n",
    "    # indent=2 is not needed but makes the file human-readable \n",
    "    # if the data is nested\n",
    "    json.dump(creator_list, f, indent=2) \n",
    "    \n",
    "# with open(story_file_name, 'r') as f:\n",
    "#     story_subset = json.load(f)"
   ]
  },
  {
   "cell_type": "code",
   "execution_count": 19,
   "id": "17974e32",
   "metadata": {},
   "outputs": [
    {
     "name": "stdout",
     "output_type": "stream",
     "text": [
      "creator: 1000\n"
     ]
    }
   ],
   "source": [
    "print(\"creator:\", len(creator_list)) "
   ]
  },
  {
   "cell_type": "code",
   "execution_count": 20,
   "id": "61cb9997",
   "metadata": {},
   "outputs": [
    {
     "name": "stdout",
     "output_type": "stream",
     "text": [
      "LATEST CALL DF ROW \n",
      "\n",
      "{\"id\":1612457457,\"name\":\"ariel\",\"is_registered\":null,\"is_email_verified\":null,\"chosen_currency\":null,\"is_superbacker\":null,\"avatar\":{\"thumb\":\"https://ksr-ugc.imgix.net/assets/006/470/577/81edbf612d8af940c96efa151d1b151f_original.jpg?ixlib=rb-4.0.2&w=40&h=40&fit=crop&v=1461390709&auto=format&frame=1&q=92&s=de27d7e7d2a9d8f415a6d0afad2e478c\",\"small\":\"https://ksr-ugc.imgix.net/assets/006/470/577/81edbf612d8af940c96efa151d1b151f_original.jpg?ixlib=rb-4.0.2&w=80&h=80&fit=crop&v=1461390709&auto=format&frame=1&q=92&s=9471c81d1aaa58e587b318c996df239c\",\"medium\":\"https://ksr-ugc.imgix.net/assets/006/470/577/81edbf612d8af940c96efa151d1b151f_original.jpg?ixlib=rb-4.0.2&w=160&h=160&fit=crop&v=1461390709&auto=format&frame=1&q=92&s=e3193fae5543754089bec8c2f534471e\"},\"urls\":{\"web\":{\"user\":\"https://www.kickstarter.com/profile/1612457457\"},\"api\":{\"user\":\"https://api.kickstarter.com/v1/users/1612457457?signature=1654837169.e02300e267b65ff540c8cba78b5c1cf921399e43\"}}}\n",
      "LATEST CREATOR IN LIST \n",
      "\n",
      "{'id': 'UHJvamVjdC02MDUwMzMwMDk=', 'verifiedIdentity': None, 'creator': {'id': 'VXNlci0xNjEyNDU3NDU3', 'name': 'ariel', 'imageUrl': 'https://ksr-ugc.imgix.net/assets/006/470/577/81edbf612d8af940c96efa151d1b151f_original.jpg?ixlib=rb-4.0.2&w=160&h=160&fit=crop&v=1461390709&auto=format&frame=1&q=92&s=e3193fae5543754089bec8c2f534471e', 'url': 'https://www.kickstarter.com/profile/1612457457', 'lastLogin': 1543593339, 'biography': '', 'isFacebookConnected': True, 'allowsFollows': True, 'backingsCount': 0, 'location': {'displayableName': 'Austin, TX'}, 'launchedProjects': {'totalCount': 1}, 'websites': []}, 'collaborators': {'edges': []}}\n"
     ]
    }
   ],
   "source": [
    "print(\"LATEST CALL DF ROW\", \"\\n\")\n",
    "print(df_1.iloc[2000+len(creator_list)-1]['creator'])\n",
    "\n",
    "print(\"LATEST CREATOR IN LIST\", \"\\n\")\n",
    "print(creator_list[-1])\n"
   ]
  },
  {
   "cell_type": "code",
   "execution_count": 165,
   "id": "b955b06f",
   "metadata": {},
   "outputs": [],
   "source": [
    "s = requests.Session()"
   ]
  },
  {
   "cell_type": "code",
   "execution_count": 58,
   "id": "8879d01f",
   "metadata": {},
   "outputs": [
    {
     "name": "stdout",
     "output_type": "stream",
     "text": [
      "200\n",
      "[{'data': {'me': None, 'project': {'id': 'UHJvamVjdC03NTY5NDA0MDI=', 'verifiedIdentity': 'Alexandra Eastman', 'creator': {'id': 'VXNlci0yMDE4MTg3NDcy', 'name': 'Alex E.', 'imageUrl': 'https://ksr-ugc.imgix.net/assets/036/415/186/53fbf1ce977b0312aead1aee65648ff2_original.jpg?ixlib=rb-4.0.2&w=160&h=160&fit=crop&v=1662144462&auto=format&frame=1&q=92&s=ec5c2c4451e85b255cfc03bca9f88b37', 'url': 'https://www.kickstarter.com/profile/thehermetichermit', 'lastLogin': 1664301753, 'biography': 'American living on Canadian soil. \\r\\nTarot reader for almost 15 years, graphic designer, lover of life.', 'isFacebookConnected': False, 'allowsFollows': True, 'backingsCount': 0, 'location': {'displayableName': 'Bucharest, Romania'}, 'launchedProjects': {'totalCount': 2}, 'websites': []}, 'collaborators': {'edges': []}}}}]\n"
     ]
    }
   ],
   "source": [
    "import requests\n",
    "import json\n",
    "\n",
    "url = \"https://www.kickstarter.com/graph\"\n",
    "\n",
    "payload = json.dumps([\n",
    "  {\n",
    "    \"variables\": {\n",
    "      \"slug\": \"thehermetichermit/the-transient-mind-tarot\"\n",
    "    },\n",
    "    \"query\": \"query CreatorSection($slug: String!) {\\n  me {\\n    id\\n    name\\n  }\\n  project(slug: $slug) {\\n    id\\n    verifiedIdentity\\n    creator {\\n      id\\n      name\\n      imageUrl(width: 100)\\n      url\\n      lastLogin\\n      biography\\n      isFacebookConnected\\n      allowsFollows\\n      backingsCount\\n      location {\\n        displayableName\\n      }\\n      launchedProjects {\\n        totalCount\\n      }\\n      websites {\\n        url\\n        domain\\n      }\\n    }\\n    collaborators {\\n      edges {\\n        node {\\n          name\\n          imageUrl(width: 200)\\n          url\\n        }\\n        title\\n      }\\n    }\\n  }\\n}\\n\"\n",
    "  }\n",
    "])\n",
    "headers = {\n",
    "  'content-type': 'application/json',\n",
    "  'x-csrf-token': 'fvjxrhwSYir6BG4U761oTRMXCYu4Ql88J4gTJaaXswCLm-qP6vzjo_vw1FdTY3VNpWEmuQb1MZH_JkJ-GuTPew',\n",
    "  'user-agent': 'Mozilla/5.0 (Linux; U; Android 2.3.4; en-us; Kindle Fire Build/GINGERBREAD) AppleWebKit/533.1 (KHTML, like Gecko) Version/4.0 Mobile Safari/533.1',\n",
    "  'cookie': '_ksr_session=XeMoOdlfAuvBg3vZkCPtR2KPkjnWtoE%2FGrwY68dNgE13OYvjkIxO0Eiaf4Oay2xzILiIHuLsmpCAH%2B9aBGT01%2B7gNDH6exw0dtPhWF5xVSYtZnJawqJNc8IUuF52GC%2FS7QHp1woosgy6PABnOt0X0ITzAvUEg8wwMmv5e1IBYNCmj8ZiCiUwlU2h08X3WX0lQSBSeatHjTEHV%2FgAjhqitXq1xvrNIY7MvvonoTMQat4mSbJKrOzGi74PUMwlhlgHz1oDCWy%2BqAiY%2BIQp9ft4c%2BK2ta8%3D--Rds4wbR2FagzmGoy--ZV4JbIYN8J%2FdS8uWWa5EQw%3D%3D'\n",
    "}\n",
    "\n",
    "response = requests.request(\"POST\", url, headers=headers, data=payload)\n",
    "print(response.status_code)\n",
    "print(response.json())\n",
    "a = response.json()"
   ]
  },
  {
   "cell_type": "code",
   "execution_count": 65,
   "id": "1750cd57",
   "metadata": {},
   "outputs": [
    {
     "name": "stdout",
     "output_type": "stream",
     "text": [
      "{'id': 'UHJvamVjdC03NTY5NDA0MDI=', 'verifiedIdentity': 'Alexandra Eastman', 'creator': {'id': 'VXNlci0yMDE4MTg3NDcy', 'name': 'Alex E.', 'imageUrl': 'https://ksr-ugc.imgix.net/assets/036/415/186/53fbf1ce977b0312aead1aee65648ff2_original.jpg?ixlib=rb-4.0.2&w=160&h=160&fit=crop&v=1662144462&auto=format&frame=1&q=92&s=ec5c2c4451e85b255cfc03bca9f88b37', 'url': 'https://www.kickstarter.com/profile/thehermetichermit', 'lastLogin': 1664301753, 'biography': 'American living on Canadian soil. \\r\\nTarot reader for almost 15 years, graphic designer, lover of life.', 'isFacebookConnected': False, 'allowsFollows': True, 'backingsCount': 0, 'location': {'displayableName': 'Bucharest, Romania'}, 'launchedProjects': {'totalCount': 2}, 'websites': []}, 'collaborators': {'edges': []}}\n"
     ]
    }
   ],
   "source": [
    "print(a[0]['data']['project'])"
   ]
  }
 ],
 "metadata": {
  "kernelspec": {
   "display_name": "bt4222",
   "language": "python",
   "name": "bt4222"
  },
  "language_info": {
   "codemirror_mode": {
    "name": "ipython",
    "version": 3
   },
   "file_extension": ".py",
   "mimetype": "text/x-python",
   "name": "python",
   "nbconvert_exporter": "python",
   "pygments_lexer": "ipython3",
   "version": "3.9.12"
  }
 },
 "nbformat": 4,
 "nbformat_minor": 5
}
