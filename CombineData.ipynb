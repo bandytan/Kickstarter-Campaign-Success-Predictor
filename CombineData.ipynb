{
 "cells": [
  {
   "cell_type": "code",
   "execution_count": 151,
   "id": "158cdb0c",
   "metadata": {},
   "outputs": [],
   "source": [
    "import pandas as pd \n",
    "import os \n",
    "import json\n",
    "import re"
   ]
  },
  {
   "cell_type": "markdown",
   "id": "bd6aca66",
   "metadata": {},
   "source": [
    "# Get data from scraping from Kickstarter GraphQL endpoint"
   ]
  },
  {
   "cell_type": "code",
   "execution_count": 122,
   "id": "1e87ed02",
   "metadata": {},
   "outputs": [],
   "source": [
    "start = \"/Users/ivankoh/Downloads/bt4222 scraped combined/\"\n",
    "\n",
    "with open(start + \"0_44134_story.json\", \"r\") as f:\n",
    "    story_list1 = json.load(f)\n",
    "with open(start + \"0_44134_risk.json\", \"r\") as f:\n",
    "    risk_list1 = json.load(f)\n",
    "with open(start + \"44135_81404_story.json\", \"r\") as f:\n",
    "    story_list2 = json.load(f)\n",
    "with open(start + \"44135_81404_risk.json\", \"r\") as f:\n",
    "    risk_list2 = json.load(f)\n",
    "with open(start + \"81404_122106_story.json\", \"r\") as f:\n",
    "    story_list3 = json.load(f)\n",
    "with open(start + \"81404_122106_risk.json\", \"r\") as f:\n",
    "    risk_list3 = json.load(f)\n",
    "with open(start + \"162808_203510_story.json\", \"r\") as f:\n",
    "    story_list5 = json.load(f)\n",
    "with open(start + \"162808_203510_risk.json\", \"r\") as f:\n",
    "    risk_list5 = json.load(f)\n",
    "\n",
    "story_list = story_list1 + story_list2\n",
    "risk_list = risk_list1 + risk_list2"
   ]
  },
  {
   "cell_type": "markdown",
   "id": "96fb50bc",
   "metadata": {},
   "source": [
    "# Get data from Web Robots (200+k of daily scraping)"
   ]
  },
  {
   "cell_type": "code",
   "execution_count": 123,
   "id": "d16e82b6",
   "metadata": {},
   "outputs": [
    {
     "name": "stdout",
     "output_type": "stream",
     "text": [
      "392244\n",
      "203510\n"
     ]
    },
    {
     "name": "stderr",
     "output_type": "stream",
     "text": [
      "/var/folders/dq/33rpc0cx4f54t0vx2cdcgczr0000gn/T/ipykernel_65430/617038088.py:5: SettingWithCopyWarning: \n",
      "A value is trying to be set on a copy of a slice from a DataFrame.\n",
      "Try using .loc[row_indexer,col_indexer] = value instead\n",
      "\n",
      "See the caveats in the documentation: https://pandas.pydata.org/pandas-docs/stable/user_guide/indexing.html#returning-a-view-versus-a-copy\n",
      "  df_2['main_url'] = df_2['urls'].apply(lambda x: eval(x)['web']['project'])\n"
     ]
    }
   ],
   "source": [
    "base = \"/Users/ivankoh/Downloads/kickstarter data/\"\n",
    "filepaths = [base + f for f in os.listdir(base) if f.endswith('.csv')]\n",
    "df_1 = pd.concat(map(pd.read_csv, filepaths))\n",
    "df_2 = df_1.drop_duplicates(subset=['id'])\n",
    "df_2['main_url'] = df_2['urls'].apply(lambda x: eval(x)['web']['project'])\n",
    "print(len(df_1))\n",
    "print(len(df_2))\n",
    "\n",
    "df_robots = df_2"
   ]
  },
  {
   "cell_type": "markdown",
   "id": "9d54fa95",
   "metadata": {},
   "source": [
    "# Get data from WebScraper.io Scraping"
   ]
  },
  {
   "cell_type": "code",
   "execution_count": 124,
   "id": "81690aa1",
   "metadata": {},
   "outputs": [
    {
     "name": "stderr",
     "output_type": "stream",
     "text": [
      "/var/folders/dq/33rpc0cx4f54t0vx2cdcgczr0000gn/T/ipykernel_65430/234834254.py:4: DtypeWarning: Columns (36,37,38,39) have mixed types. Specify dtype option on import or set low_memory=False.\n",
      "  df_radell = pd.read_csv(\"/Users/ivankoh/Downloads/bt4222 scraped combined/df1_radell.csv\")\n"
     ]
    },
    {
     "name": "stdout",
     "output_type": "stream",
     "text": [
      "50300\n",
      "47341\n"
     ]
    }
   ],
   "source": [
    "df_wy = pd.read_excel(\"/Users/ivankoh/Downloads/bt4222 scraped combined/kickstarter_by_categories.xlsx\")\n",
    "df_bandy = pd.read_csv(\"/Users/ivankoh/Downloads/bt4222 scraped combined/bandy.csv\")\n",
    "df_valentin = pd.read_csv(\"/Users/ivankoh/Downloads/bt4222 scraped combined/merged_ivan_valentin.csv\")\n",
    "df_radell = pd.read_csv(\"/Users/ivankoh/Downloads/bt4222 scraped combined/df1_radell.csv\")\n",
    "\n",
    "valentin_mapping = df_valentin[['ivan_index', 'valentin_index']]\n",
    "print(len(df_wy))\n",
    "df_wy = df_wy.drop_duplicates('Link-href')\n",
    "print(len(df_wy))"
   ]
  },
  {
   "cell_type": "markdown",
   "id": "6a5e70d3",
   "metadata": {},
   "source": [
    "# Merge WebScraper.io dataset (Contains rewards feature) with GraphQL datasets (Contains story and risk features) "
   ]
  },
  {
   "cell_type": "code",
   "execution_count": 125,
   "id": "b048651d",
   "metadata": {},
   "outputs": [],
   "source": [
    "df_bandy_join = df_robots.merge(df_bandy, on=\"id\", how=\"left\")\n",
    "df_bandy_join['final_index'] = range(len(df_bandy_join))\n",
    "\n",
    "if len(story_list) == len(risk_list):\n",
    "    for i, item in enumerate(story_list):\n",
    "        df_bandy_join.loc[df_bandy_join['final_index'] == i, ['story']] = story_list[i]\n",
    "        df_bandy_join.loc[df_bandy_join['final_index'] == i, ['risk']] = risk_list[i]\n",
    "else:\n",
    "    print(\"check story and risk list\")\n"
   ]
  },
  {
   "cell_type": "code",
   "execution_count": 126,
   "id": "6ccfb8fb",
   "metadata": {},
   "outputs": [
    {
     "name": "stdout",
     "output_type": "stream",
     "text": [
      "14732\n"
     ]
    }
   ],
   "source": [
    "df_radell['radell_index'] = range(len(df_radell))\n",
    "df_radell = df_radell[(df_radell['radell_index'] >= 162808) & (df_radell['radell_index'] < 203510)]\n",
    "df_radell = df_radell[['radell_index', 'id']]\n",
    "radell_range = df_bandy_join[(df_bandy_join['final_index'] >= 162808) & (df_bandy_join['final_index'] < 203510)]\n",
    "radell_merged = radell_range.merge(df_radell,on='id',how='inner')\n",
    "\n",
    "print(len(radell_merged))"
   ]
  },
  {
   "cell_type": "code",
   "execution_count": 127,
   "id": "fb098830",
   "metadata": {},
   "outputs": [],
   "source": [
    "radell_mapping = radell_merged[['final_index', 'radell_index']].sort_values('radell_index')\n",
    "base_num = 162808\n",
    "\n",
    "for idx, row in radell_mapping.iterrows():\n",
    "    df_bandy_join.loc[df_bandy_join['final_index'] == row['final_index'], ['story']] = story_list5[row['radell_index'] - base_num]\n",
    "    df_bandy_join.loc[df_bandy_join['final_index'] == row['final_index'], ['risk']] = risk_list5[row['radell_index'] - base_num]"
   ]
  },
  {
   "cell_type": "code",
   "execution_count": 128,
   "id": "f73f7f31",
   "metadata": {},
   "outputs": [],
   "source": [
    "valentin_mapping = valentin_mapping.sort_values('valentin_index')\n",
    "base_num = 81404\n",
    "\n",
    "for idx, row in valentin_mapping.iterrows():\n",
    "    df_bandy_join.loc[df_bandy_join['final_index'] == row['ivan_index'], ['story']] = story_list3[row['valentin_index'] - base_num]\n",
    "    df_bandy_join.loc[df_bandy_join['final_index'] == row['ivan_index'], ['risk']] = risk_list3[row['valentin_index'] - base_num]"
   ]
  },
  {
   "cell_type": "code",
   "execution_count": 129,
   "id": "f479d21c",
   "metadata": {},
   "outputs": [
    {
     "name": "stdout",
     "output_type": "stream",
     "text": [
      "number of empty story to be filled: 54329\n",
      "number of non-empty story: 149181\n"
     ]
    }
   ],
   "source": [
    "# remove empty story and risk\n",
    "print(\"number of empty story to be filled:\", len(df_bandy_join[pd.isnull(df_bandy_join['story'])]))\n",
    "\n",
    "df_bandy_join_rm_na = df_bandy_join[pd.notnull(df_bandy_join['story'])]\n",
    "print(\"number of non-empty story:\", len(df_bandy_join_rm_na))"
   ]
  },
  {
   "cell_type": "code",
   "execution_count": 130,
   "id": "a648eeb8",
   "metadata": {},
   "outputs": [
    {
     "name": "stderr",
     "output_type": "stream",
     "text": [
      "/var/folders/dq/33rpc0cx4f54t0vx2cdcgczr0000gn/T/ipykernel_65430/4062542141.py:2: SettingWithCopyWarning: \n",
      "A value is trying to be set on a copy of a slice from a DataFrame.\n",
      "Try using .loc[row_indexer,col_indexer] = value instead\n",
      "\n",
      "See the caveats in the documentation: https://pandas.pydata.org/pandas-docs/stable/user_guide/indexing.html#returning-a-view-versus-a-copy\n",
      "  df_bandy_join_rm_na['main_url'] = df_bandy_join_rm_na['main_url'].apply(lambda x: str(x)[:str(x).find(\"?ref\")])\n"
     ]
    }
   ],
   "source": [
    "df_wy['Link-href'] = df_wy['Link-href'].apply(lambda x: str(x)[:str(x).find(\"?ref\")])\n",
    "df_bandy_join_rm_na['main_url'] = df_bandy_join_rm_na['main_url'].apply(lambda x: str(x)[:str(x).find(\"?ref\")])\n",
    "final = df_wy.merge(df_bandy_join_rm_na, left_on=\"Link-href\", right_on=\"main_url\", how=\"left\")"
   ]
  },
  {
   "cell_type": "code",
   "execution_count": 168,
   "id": "fd99c798",
   "metadata": {},
   "outputs": [
    {
     "name": "stdout",
     "output_type": "stream",
     "text": [
      "47341\n",
      "47341\n"
     ]
    }
   ],
   "source": [
    "print(len(final))\n",
    "print(len(final.drop_duplicates('Link-href'))) # no more duplicates "
   ]
  },
  {
   "cell_type": "markdown",
   "id": "8249564f",
   "metadata": {},
   "source": [
    "# Inspect Results"
   ]
  },
  {
   "cell_type": "code",
   "execution_count": 172,
   "id": "05c54e03",
   "metadata": {},
   "outputs": [
    {
     "data": {
      "text/plain": [
       "15852"
      ]
     },
     "execution_count": 172,
     "metadata": {},
     "output_type": "execute_result"
    }
   ],
   "source": [
    "#number of missing story/risk\n",
    "len(final[pd.isnull(final['story'])])"
   ]
  },
  {
   "cell_type": "code",
   "execution_count": 173,
   "id": "18c3b15e",
   "metadata": {},
   "outputs": [
    {
     "data": {
      "text/plain": [
       "successful    21841\n",
       "failed         8722\n",
       "canceled        911\n",
       "live             15\n",
       "Name: Status, dtype: int64"
      ]
     },
     "execution_count": 173,
     "metadata": {},
     "output_type": "execute_result"
    }
   ],
   "source": [
    "#distribution of final data (excluding rows with missing story/risk)\n",
    "(final[pd.notnull(final['story'])])['Status'].value_counts()"
   ]
  },
  {
   "cell_type": "code",
   "execution_count": 171,
   "id": "d9f1c897",
   "metadata": {},
   "outputs": [],
   "source": [
    "# def get_slug(url):\n",
    "#     try:\n",
    "#         if url and not None:\n",
    "#             return re.search('/projects/(.*)', url).group(1)\n",
    "#         else:\n",
    "#             return \"\"\n",
    "#     except:\n",
    "#         print(\"Error!\")\n",
    "#         print(url)\n",
    "\n",
    "\n",
    "# print(final[pd.isnull(final['story'])].columns)\n",
    "# print(final[pd.isnull(final['story'])]['Link-href'].iloc[1])\n",
    "# final[pd.isnull(final['story'])]['Link-href'].apply(get_slug)"
   ]
  },
  {
   "cell_type": "markdown",
   "id": "a08932a0",
   "metadata": {},
   "source": [
    "# Export"
   ]
  },
  {
   "cell_type": "code",
   "execution_count": 170,
   "id": "1f2f6540",
   "metadata": {},
   "outputs": [],
   "source": [
    "final.to_csv(\"kickstarter_data_merged.csv\")"
   ]
  }
 ],
 "metadata": {
  "kernelspec": {
   "display_name": "Python 3.9 (bt4222)",
   "language": "python",
   "name": "bt4222"
  },
  "language_info": {
   "codemirror_mode": {
    "name": "ipython",
    "version": 3
   },
   "file_extension": ".py",
   "mimetype": "text/x-python",
   "name": "python",
   "nbconvert_exporter": "python",
   "pygments_lexer": "ipython3",
   "version": "3.9.12"
  }
 },
 "nbformat": 4,
 "nbformat_minor": 5
}
