{
 "cells": [
  {
   "cell_type": "code",
   "execution_count": 1,
   "id": "f9de35f5",
   "metadata": {
    "ExecuteTime": {
     "end_time": "2022-10-26T01:53:08.367727Z",
     "start_time": "2022-10-26T01:53:07.537322Z"
    }
   },
   "outputs": [],
   "source": [
    "import pandas as pd\n",
    "import numpy as np \n",
    "from sklearn.svm import SVC\n",
    "from sklearn.preprocessing import OrdinalEncoder, MinMaxScaler\n",
    "from sklearn.linear_model import LogisticRegression\n",
    "from sklearn.impute import SimpleImputer\n",
    "from sklearn.naive_bayes import GaussianNB, CategoricalNB, BernoulliNB\n",
    "from sklearn.ensemble import RandomForestClassifier\n",
    "import xgboost as xgb\n"
   ]
  },
  {
   "cell_type": "markdown",
   "id": "ca451915",
   "metadata": {},
   "source": [
    "## import data"
   ]
  },
  {
   "cell_type": "code",
   "execution_count": null,
   "id": "3ffa5dc2",
   "metadata": {},
   "outputs": [],
   "source": [
    "train_path = max(glob.glob('/Users/ivankoh/Library/CloudStorage/OneDrive-NationalUniversityofSingapore/1D/NUS Y3S1/BT4222/Data/train/*.csv'), key=os.path.getctime) \n",
    "print(train_path)\n",
    "df = pd.read_csv(train_path)\n",
    "X_train, y_train = df.drop('state', axis=1).to_numpy(), df['state'].to_numpy()\n",
    "\n",
    "test_path = max(glob.glob('/Users/ivankoh/Library/CloudStorage/OneDrive-NationalUniversityofSingapore/1D/NUS Y3S1/BT4222/Data/test/*.csv'), key=os.path.getctime) \n",
    "print(test_path)\n",
    "test = pd.read_csv(test_path)\n",
    "\n",
    "X_test, y_test = test.drop('state', axis=1).to_numpy(), test['state'].to_numpy()"
   ]
  },
  {
   "cell_type": "markdown",
   "id": "97c37c6a",
   "metadata": {},
   "source": [
    "## best classifiers "
   ]
  },
  {
   "cell_type": "code",
   "execution_count": 2,
   "id": "34188d90",
   "metadata": {
    "ExecuteTime": {
     "end_time": "2022-10-26T01:53:09.539535Z",
     "start_time": "2022-10-26T01:53:09.527938Z"
    }
   },
   "outputs": [],
   "source": [
    "#SVC \n",
    "svc_best = {'kernel': 'linear', 'gamma': 0.1, 'C': 0.001}\n",
    "svc_clf = SVC(**svc_best)\n",
    "svc_clf.fit(X_train, y_train)\n",
    "\n",
    "#LOGISTIC REGRESSION\n",
    "lr_clf = LogisticRegression(C=0.02071613012624668, penalty='l2', solver='newton-cg')\n",
    "lr_clf.fit(X_train, y_train)\n",
    "\n",
    "#RANDOM FOREST\n",
    "rf_best = {'n_estimators': 150,\n",
    " 'min_samples_split': 2,\n",
    " 'min_samples_leaf': 4,\n",
    " 'max_features': 'auto',\n",
    " 'max_depth': 8,\n",
    " 'bootstrap': False}\n",
    "rf_clf = RandomForestClassifier(**rf_best)\n",
    "rf_clf.fit(X_train, y_train)\n",
    "\n",
    "#XGBOOST \n",
    "xgb_clf = xgb.XGBClassifier(learning_rate=0.02,\n",
    "                                          max_depth=3,\n",
    "                                          n_estimators=3000,\n",
    "                                          subsample=0.5,\n",
    "                                          colsample_bytree=0.25,\n",
    "                                          eval_metric='auc',\n",
    "                                          verbosity=1,\n",
    "                                          use_label_encoder=False)\n",
    "xgb_clf.fit(X_train, y_train, early_stopping_rounds=20)\n",
    "\n",
    "y_pred_test = best_clf.predict(X_test)"
   ]
  },
  {
   "cell_type": "markdown",
   "id": "8366a519",
   "metadata": {},
   "source": [
    "## NB"
   ]
  },
  {
   "cell_type": "code",
   "execution_count": null,
   "id": "1056be6c",
   "metadata": {},
   "outputs": [],
   "source": [
    "train_ohe_cat = X_train.iloc[:, 422:437]\n",
    "X_train['category'] = train_ohe_cat.idxmax(1)\n",
    "train_ohe_loc = X_train.iloc[:, 437:-1]\n",
    "X_train['location'] = train_ohe_loc.idxmax(1)\n",
    "\n",
    "train_ohe_cat = X_test.iloc[:, 422:437]\n",
    "X_test['category'] = train_ohe_cat.idxmax(1)\n",
    "train_ohe_loc = X_test.iloc[:, 437:-1]\n",
    "X_test['location'] = train_ohe_loc.idxmax(1)\n",
    "\n",
    "X_train = X_train.drop(X_train.iloc[:, 422:-2].columns, axis=1)\n",
    "X_test = X_test.drop(X_test.iloc[:, 422:-2].columns, axis=1)\n",
    "\n",
    "X_train1 = X_train.copy()\n",
    "X_test1 = X_test.copy()\n",
    "binary_cols = ['staff_pick', 'has_video']\n",
    "train_numeric = X_train1.select_dtypes(include='number').drop(binary_cols, axis=1) \n",
    "test_numeric = X_test1.select_dtypes(include='number').drop(binary_cols, axis=1) \n",
    "\n",
    "for i, col in enumerate(train_numeric.columns):\n",
    "    X_train1[col], val = pd.qcut(X_train1[col], 5, retbins = True, duplicates = 'drop')\n",
    "    X_test1[col] = pd.cut(X_test1[col], bins = val, duplicates = 'drop', include_lowest=True)\n",
    "    \n",
    "enc = OrdinalEncoder(handle_unknown='use_encoded_value', unknown_value = np.nan)\n",
    "X_train1_fitted = enc.fit_transform(X_train1)\n",
    "X_test1_fitted = enc.transform(X_test1)\n",
    "imp = SimpleImputer(strategy=\"most_frequent\") # impute nan values\n",
    "X_train1_fitted = imp.fit_transform(X_train1_fitted)\n",
    "X_test1_fitted = imp.transform(X_test1_fitted)\n",
    "\n",
    "X_train2 = X_train.copy()\n",
    "X_test2 = X_test.copy()\n",
    "categorical_cols = ['category', 'location']\n",
    "train_binary = X_train2[binary_cols]\n",
    "train_categorical = X_train2[categorical_cols]\n",
    "test_binary = X_test2[binary_cols]\n",
    "test_categorical = X_test2[categorical_cols]"
   ]
  },
  {
   "cell_type": "code",
   "execution_count": null,
   "id": "0d6b2d4d",
   "metadata": {},
   "outputs": [],
   "source": [
    "\n",
    "\n",
    "cnb_clf = CategoricalNB(alpha=1.873817422860387e-09)\n",
    "cnb_clf.fit(X_train1_fitted, y_train)\n",
    "\n",
    "\n",
    "gnb_clf = GaussianNB(var_smoothing=0.005336699231206307)\n",
    "gnb_clf.fit(X_new_train, y_train)\n",
    "y_train_pred = gnb_clf.predict(X_new_train)\n"
   ]
  }
 ],
 "metadata": {
  "kernelspec": {
   "display_name": "Python 3.9 (bt4222)",
   "language": "python",
   "name": "bt4222"
  },
  "language_info": {
   "codemirror_mode": {
    "name": "ipython",
    "version": 3
   },
   "file_extension": ".py",
   "mimetype": "text/x-python",
   "name": "python",
   "nbconvert_exporter": "python",
   "pygments_lexer": "ipython3",
   "version": "3.9.12"
  },
  "toc": {
   "base_numbering": 1,
   "nav_menu": {},
   "number_sections": false,
   "sideBar": true,
   "skip_h1_title": false,
   "title_cell": "Table of Contents",
   "title_sidebar": "Contents",
   "toc_cell": false,
   "toc_position": {},
   "toc_section_display": true,
   "toc_window_display": false
  }
 },
 "nbformat": 4,
 "nbformat_minor": 5
}
