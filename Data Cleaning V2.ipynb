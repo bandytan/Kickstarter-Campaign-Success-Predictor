{
 "cells": [
  {
   "cell_type": "code",
   "execution_count": 139,
   "id": "826ff0c2",
   "metadata": {
    "id": "826ff0c2"
   },
   "outputs": [],
   "source": [
    "import pandas as pd \n",
    "import numpy as np\n",
    "import matplotlib.pyplot as plt \n",
    "import seaborn as sns\n",
    "from datetime import datetime\n",
    "import ast\n",
    "from sklearn.model_selection import train_test_split\n",
    "from sklearn.preprocessing import LabelBinarizer"
   ]
  },
  {
   "cell_type": "markdown",
   "id": "0tCQ3N37eiMm",
   "metadata": {
    "id": "0tCQ3N37eiMm"
   },
   "source": [
    "## Import Dataset\n",
    "\n"
   ]
  },
  {
   "cell_type": "code",
   "execution_count": 140,
   "id": "9a77d86d",
   "metadata": {
    "id": "9a77d86d"
   },
   "outputs": [
    {
     "name": "stdout",
     "output_type": "stream",
     "text": [
      "47341\n",
      "31135\n"
     ]
    }
   ],
   "source": [
    "df_merged = pd.read_csv(\"kickstart_data_merged_with_empty.csv\", dtype={\"backer-amount\":str})\n",
    "\n",
    "print(len(df_merged))\n",
    "# remove inconsistencies from webscraping and merging \n",
    "# this step was added after proposal submission, so the number of observations differ slightly.\n",
    "# in other words this step is part of post-intermediate data cleaning in preparation for the final report\n",
    "index = df_merged[pd.isnull(df_merged['story'])].index\n",
    "\n",
    "df_merged = df_merged[pd.notnull(df_merged['story'])]\n",
    "print(len(df_merged))"
   ]
  },
  {
   "cell_type": "code",
   "execution_count": 141,
   "id": "1GoVeJhLgO17",
   "metadata": {
    "colab": {
     "base_uri": "https://localhost:8080/"
    },
    "executionInfo": {
     "elapsed": 7,
     "status": "ok",
     "timestamp": 1662897955688,
     "user": {
      "displayName": "wen yin fun",
      "userId": "18154948162664539142"
     },
     "user_tz": -480
    },
    "id": "1GoVeJhLgO17",
    "outputId": "7a814d6e-cabf-4b95-83bb-764fc3d4acec"
   },
   "outputs": [
    {
     "data": {
      "text/plain": [
       "Index(['Unnamed: 0', 'Unnamed: 0_x', 'web-scraper-order',\n",
       "       'web-scraper-start-url', 'Title', 'Description', 'Status',\n",
       "       'Pledged-Amount', 'Funded-percent', 'Time left', 'Sphere', 'Location',\n",
       "       'Image-src', 'Link', 'Link-href', 'backer-amount', 'video',\n",
       "       'description_story', 'description_risks', 'rewards', 'updateCount',\n",
       "       'commentCount', 'backers_count', 'blurb_x', 'category',\n",
       "       'converted_pledged_amount', 'country', 'country_displayable_name',\n",
       "       'created_at', 'creator', 'currency', 'currency_symbol',\n",
       "       'currency_trailing_code', 'current_currency', 'deadline',\n",
       "       'disable_communication', 'friends', 'fx_rate', 'goal', 'id',\n",
       "       'is_backing', 'is_starrable', 'is_starred', 'launched_at', 'location',\n",
       "       'name', 'permissions', 'photo', 'pledged', 'profile', 'slug',\n",
       "       'source_url', 'spotlight', 'staff_pick', 'state', 'state_changed_at',\n",
       "       'static_usd_rate', 'urls', 'usd_exchange_rate', 'usd_pledged',\n",
       "       'usd_type', 'main_url', 'Unnamed: 0_y', 'ivan_index', 'blurb_y',\n",
       "       'story', 'risk', 'final_index'],\n",
       "      dtype='object')"
      ]
     },
     "execution_count": 141,
     "metadata": {},
     "output_type": "execute_result"
    }
   ],
   "source": [
    "df_merged.columns"
   ]
  },
  {
   "cell_type": "markdown",
   "id": "6a866879",
   "metadata": {},
   "source": [
    "## Train Test Split After Cleaning (70-15-15)\n",
    "https://www.researchgate.net/post/Removing_a_low_predictive_column_before_or_after_train_test_split#:~:text=Yes%2C%20you%20should%20remove%20the,but%20not%20before%20the%20split.\n",
    "\n",
    "- Perform encoding for the target then split\n",
    "\n",
    "- So we will apply the same cleaning to the test data at the end"
   ]
  },
  {
   "cell_type": "code",
   "execution_count": 142,
   "id": "430cac32",
   "metadata": {
    "scrolled": true
   },
   "outputs": [
    {
     "name": "stdout",
     "output_type": "stream",
     "text": [
      "after remove \n",
      " successful    21657\n",
      "failed         8570\n",
      "Name: Status, dtype: int64\n"
     ]
    }
   ],
   "source": [
    "# get the target variable - success or failure - binary classfication problem\n",
    "df_merged = df_merged[(df_merged['Status'] == \"successful\") | (df_merged['Status'] == \"failed\")]\n",
    "print('after remove \\n', df_merged['Status'].value_counts())\n",
    "df_merged['Status'] = df_merged['Status'].apply(lambda x: 0 if x==\"failed\" else 1)\n",
    "\n",
    "train, test = train_test_split(df_merged, test_size=0.15, random_state=69, stratify=df_merged['state'])"
   ]
  },
  {
   "cell_type": "code",
   "execution_count": 143,
   "id": "4ffdbc57",
   "metadata": {},
   "outputs": [
    {
     "name": "stdout",
     "output_type": "stream",
     "text": [
      "train size: 25692\n",
      "test size 4535\n"
     ]
    }
   ],
   "source": [
    "print(\"train size:\", len(train))\n",
    "print(\"test size\", len(test))"
   ]
  },
  {
   "cell_type": "code",
   "execution_count": 144,
   "id": "e23c2732",
   "metadata": {},
   "outputs": [
    {
     "data": {
      "text/plain": [
       "1    18409\n",
       "0     7283\n",
       "Name: Status, dtype: int64"
      ]
     },
     "execution_count": 144,
     "metadata": {},
     "output_type": "execute_result"
    }
   ],
   "source": [
    "train['Status'].value_counts()"
   ]
  },
  {
   "cell_type": "markdown",
   "id": "ff3d1c03",
   "metadata": {
    "id": "ff3d1c03"
   },
   "source": [
    "## Intermediate Data Cleaning"
   ]
  },
  {
   "cell_type": "code",
   "execution_count": 145,
   "id": "177bd9f6",
   "metadata": {},
   "outputs": [],
   "source": [
    "#global remove list \n",
    "remove_list = []"
   ]
  },
  {
   "cell_type": "markdown",
   "id": "h0Im_nV7tohI",
   "metadata": {
    "id": "h0Im_nV7tohI"
   },
   "source": [
    "### 3. Remove columns with the same values for all rows\n",
    "\n",
    "\n",
    "\n"
   ]
  },
  {
   "cell_type": "code",
   "execution_count": 146,
   "id": "LdYjDqyStrZ1",
   "metadata": {
    "colab": {
     "base_uri": "https://localhost:8080/"
    },
    "executionInfo": {
     "elapsed": 425,
     "status": "ok",
     "timestamp": 1662898657977,
     "user": {
      "displayName": "wen yin fun",
      "userId": "18154948162664539142"
     },
     "user_tz": -480
    },
    "id": "LdYjDqyStrZ1",
    "outputId": "126e2dec-7f43-4af7-8127-fc353225f2cd"
   },
   "outputs": [
    {
     "name": "stdout",
     "output_type": "stream",
     "text": [
      "Columns with the same values in all of its rows are:\n",
      "Pledged-Amount\n",
      "Time left\n",
      "Sphere\n",
      "Location\n",
      "disable_communication\n"
     ]
    }
   ],
   "source": [
    "print(\"Columns with the same values in all of its rows are:\")\n",
    "for i in train: \n",
    "  if len(set(train[i])) == 1 or all(pd.isnull(train[i])):\n",
    "    remove_list.append(i)\n",
    "    print(i)"
   ]
  },
  {
   "cell_type": "markdown",
   "id": "UJ0dbVjJttHs",
   "metadata": {
    "id": "UJ0dbVjJttHs"
   },
   "source": [
    "### 4. Remove columns that have the exact same values or very similar values as another column, and keep unique columns\n",
    "\n",
    "There will be duplicate or very similar columns because:\n",
    "- Merged dataset takes data from 2 data sources and they may overlap:\n",
    "  - For the columns with very similar values:\n",
    "    - Take the column with more information\n",
    "    - Take the more recent column (Webscraper.io was the most recently scraped)\n",
    "    - Take the column whose values can be compared with each other"
   ]
  },
  {
   "cell_type": "code",
   "execution_count": 147,
   "id": "omBktFPI6I-B",
   "metadata": {
    "id": "omBktFPI6I-B"
   },
   "outputs": [],
   "source": [
    "### name and Title \n",
    "# some differences in name and Title - keep the more recent one which is Title\n",
    "train[train['name'] != train['Title']][['Title', 'name']]\n",
    "remove_list.append('name')\n",
    "\n",
    "### Description, blurb_x, blurb_y\n",
    "train[['blurb_x', 'blurb_y', 'Description']]\n",
    "# blurb_y has significant amount of missing values so blurb_x has more information \n",
    "train[train['blurb_x'] != train['Description']][['blurb_x', 'Description']]\n",
    "# prefer Description over blurb_x \n",
    "remove_list.extend(['blurb_y', 'blurb_x'])\n",
    "\n",
    "### deadline and Time left \n",
    "# deadline is more informative because Time left is dynamic \n",
    "remove_list.append('Time left')\n",
    "\n",
    "# ### location, Location, Country\n",
    "train[['location', 'Location', 'country', 'country_displayable_name']]\n",
    "# Location contains no useful information\n",
    "remove_list.append(\"Location\")\n",
    "train['location'].iloc[1]\n",
    "train[pd.isnull(train['location'])][['location', 'country', 'country_displayable_name']]\n",
    "remove_list.append(\"country_displayable_name\")\n",
    "# location seems to contain more information than Country, but location has a few missing values while country has no missing values\n",
    "# use values in country to impute missing entries in location, then remove country\n",
    "train.loc[train['location'].isna(), 'location'] = train['country_displayable_name']\n",
    " \n",
    "### state and Status\n",
    "# Status is the more recent one \n",
    "remove_list.append('state')"
   ]
  },
  {
   "cell_type": "markdown",
   "id": "ZI7eRPcMybVy",
   "metadata": {
    "id": "ZI7eRPcMybVy"
   },
   "source": [
    "### 5. Remove columns that are redundant \n",
    "\n",
    "Data is redundant in helping us with our problem statement when:\n",
    "- The data is metadata \n",
    "- The data contains urls that cannot be accessed\n",
    "- Variables that have leaks information into target variable"
   ]
  },
  {
   "cell_type": "code",
   "execution_count": 148,
   "id": "uOzJ7fQVyih_",
   "metadata": {
    "id": "uOzJ7fQVyih_"
   },
   "outputs": [],
   "source": [
    "# meta-data\n",
    "remove_list.extend(['web-scraper-start-url', 'web-scraper-order', 'urls', 'Link', 'Link-href',\n",
    "                   'Unnamed: 0', 'Funded-percent', 'Unnamed: 0_x', 'Unnamed: 0_y', 'currency_symbol',\n",
    "                   'currency_trailing_code', 'current_currency', 'description_risks', 'description_story', \n",
    "                    'final_index', 'Image-src', 'currency', \n",
    "                   'friends', 'fx_rate', 'is_backing', 'is_starrable', 'is_starred', 'ivan_index',\n",
    "                   'main_url', 'permissions', 'photo', 'profile', 'slug', 'source_url', 'state_changed_at',\n",
    "                   'static_usd_rate', 'usd_exchange_rate', 'usd_type', 'country', 'final_index', 'creator',\n",
    "                   'pledged'])\n",
    "\n",
    "# Features that leak information into target variable \n",
    "remove_list.extend(['backer-amount', 'backers_count', 'Pledged-Amount', 'updateCount', 'commentCount', \n",
    "                   'spotlight', 'converted_pledged_amount', 'usd_pledged'])"
   ]
  },
  {
   "cell_type": "code",
   "execution_count": 149,
   "id": "4f76fd4b",
   "metadata": {},
   "outputs": [
    {
     "data": {
      "text/plain": [
       "Index(['Title', 'Description', 'Status', 'video', 'rewards', 'category',\n",
       "       'created_at', 'deadline', 'goal', 'id', 'launched_at', 'location',\n",
       "       'staff_pick', 'story', 'risk'],\n",
       "      dtype='object')"
      ]
     },
     "execution_count": 149,
     "metadata": {},
     "output_type": "execute_result"
    }
   ],
   "source": [
    "#drop all at once\n",
    "remove_list = list(set(remove_list))\n",
    "train = train.drop(remove_list, axis = 1)\n",
    "train.columns"
   ]
  },
  {
   "cell_type": "markdown",
   "id": "GCP_EX8nuIZk",
   "metadata": {
    "id": "GCP_EX8nuIZk"
   },
   "source": [
    "### 6. Rename columns to be more readable and convert columns to their correct formats\n",
    "\n"
   ]
  },
  {
   "cell_type": "code",
   "execution_count": 150,
   "id": "moXaMNyAUDwA",
   "metadata": {
    "id": "moXaMNyAUDwA"
   },
   "outputs": [],
   "source": [
    "train = train.rename(columns={\n",
    "    \"Title\":\"name\",\n",
    "    \"Description\": \"description\",\n",
    "    \"story\": \"description_story\",\n",
    "    \"risk\": \"description_risks\",\n",
    "    \"Description\": \"description\",\n",
    "    \"Status\": \"state\"\n",
    "})\n",
    "train = train[['id', 'name', 'description', \n",
    "                       'description_story', 'description_risks', 'rewards',\n",
    "                       'category', 'goal', 'deadline', 'location', \n",
    "                       'state','staff_pick', 'video', 'launched_at', 'created_at']]\n",
    "\n",
    "train['staff_pick'] = train['staff_pick'].astype(int)\n",
    "train['deadline'] = pd.to_datetime(train['deadline'], unit='s')  \n",
    "train['launched_at'] = pd.to_datetime(train['launched_at'], infer_datetime_format=True)\n",
    "train['created_at'] = pd.to_datetime(train['launched_at'], infer_datetime_format=True)"
   ]
  },
  {
   "cell_type": "code",
   "execution_count": 151,
   "id": "5nmR1skWCehm",
   "metadata": {
    "colab": {
     "base_uri": "https://localhost:8080/",
     "height": 647
    },
    "executionInfo": {
     "elapsed": 317,
     "status": "ok",
     "timestamp": 1662898706293,
     "user": {
      "displayName": "wen yin fun",
      "userId": "18154948162664539142"
     },
     "user_tz": -480
    },
    "id": "5nmR1skWCehm",
    "outputId": "4fc69b06-2e86-4fcc-ccd5-692dbc60b085"
   },
   "outputs": [
    {
     "data": {
      "text/html": [
       "<div>\n",
       "<style scoped>\n",
       "    .dataframe tbody tr th:only-of-type {\n",
       "        vertical-align: middle;\n",
       "    }\n",
       "\n",
       "    .dataframe tbody tr th {\n",
       "        vertical-align: top;\n",
       "    }\n",
       "\n",
       "    .dataframe thead th {\n",
       "        text-align: right;\n",
       "    }\n",
       "</style>\n",
       "<table border=\"1\" class=\"dataframe\">\n",
       "  <thead>\n",
       "    <tr style=\"text-align: right;\">\n",
       "      <th></th>\n",
       "      <th>id</th>\n",
       "      <th>name</th>\n",
       "      <th>description</th>\n",
       "      <th>description_story</th>\n",
       "      <th>description_risks</th>\n",
       "      <th>rewards</th>\n",
       "      <th>category</th>\n",
       "      <th>goal</th>\n",
       "      <th>deadline</th>\n",
       "      <th>location</th>\n",
       "      <th>state</th>\n",
       "      <th>staff_pick</th>\n",
       "      <th>video</th>\n",
       "      <th>launched_at</th>\n",
       "      <th>created_at</th>\n",
       "    </tr>\n",
       "  </thead>\n",
       "  <tbody>\n",
       "    <tr>\n",
       "      <th>24645</th>\n",
       "      <td>1.193757e+09</td>\n",
       "      <td>DARKARTS ALBUM</td>\n",
       "      <td>Help DARKARTS record their next album!</td>\n",
       "      <td>To the genuine music fans! Welcome to DARKARTS...</td>\n",
       "      <td>We anticipate few risks to launching this proj...</td>\n",
       "      <td>[{\"rewards\":\"Pledge US$ 25 or more\\n\\nAbout S$...</td>\n",
       "      <td>{\"id\":40,\"name\":\"Indie Rock\",\"analytics_name\":...</td>\n",
       "      <td>3400.0</td>\n",
       "      <td>2022-06-11 21:01:43</td>\n",
       "      <td>{\"id\":2391279,\"name\":\"Denver\",\"slug\":\"denver-c...</td>\n",
       "      <td>1</td>\n",
       "      <td>0</td>\n",
       "      <td>https://v2.kickstarter.com/1664695127-1NAeIZwv...</td>\n",
       "      <td>1970-01-01 00:00:01.652389303</td>\n",
       "      <td>1970-01-01 00:00:01.652389303</td>\n",
       "    </tr>\n",
       "    <tr>\n",
       "      <th>34127</th>\n",
       "      <td>1.802286e+09</td>\n",
       "      <td>100% Hand-Poured Soy Candles w/ Wood Wicks in ...</td>\n",
       "      <td>I hand-pour in small batches 8oz. 100% soy can...</td>\n",
       "      <td>I am looking to raise funds in order to buy pe...</td>\n",
       "      <td>The only challenges that I can foresee would b...</td>\n",
       "      <td>[{\"rewards\":\"Pledge US$ 1 or more\\n\\nAbout S$ ...</td>\n",
       "      <td>{\"id\":343,\"name\":\"Candles\",\"analytics_name\":\"C...</td>\n",
       "      <td>1000.0</td>\n",
       "      <td>2016-01-20 23:00:54</td>\n",
       "      <td>{\"id\":2502716,\"name\":\"Sussex\",\"slug\":\"sussex-n...</td>\n",
       "      <td>1</td>\n",
       "      <td>0</td>\n",
       "      <td>NaN</td>\n",
       "      <td>1970-01-01 00:00:01.450738854</td>\n",
       "      <td>1970-01-01 00:00:01.450738854</td>\n",
       "    </tr>\n",
       "    <tr>\n",
       "      <th>33100</th>\n",
       "      <td>9.537778e+07</td>\n",
       "      <td>First Move by Ori Flomin</td>\n",
       "      <td>First Move is a reflection on the mature danci...</td>\n",
       "      <td>First\\nMove is a reflection on the mature danc...</td>\n",
       "      <td>The risks and challenges are the same as those...</td>\n",
       "      <td>[{\"rewards\":\"Pledge US$ 10 or more\\n\\nAbout S$...</td>\n",
       "      <td>{\"id\":254,\"name\":\"Performances\",\"analytics_nam...</td>\n",
       "      <td>7500.0</td>\n",
       "      <td>2015-03-13 16:09:51</td>\n",
       "      <td>{\"id\":2459115,\"name\":\"New York\",\"slug\":\"new-yo...</td>\n",
       "      <td>1</td>\n",
       "      <td>1</td>\n",
       "      <td>https://v2.kickstarter.com/1663849120-vK6gi3cV...</td>\n",
       "      <td>1970-01-01 00:00:01.423674591</td>\n",
       "      <td>1970-01-01 00:00:01.423674591</td>\n",
       "    </tr>\n",
       "    <tr>\n",
       "      <th>42569</th>\n",
       "      <td>3.148434e+08</td>\n",
       "      <td>Looking for the Masters in Ricardo's Golden Shoes</td>\n",
       "      <td>A beautiful hardcover photo book with gold edg...</td>\n",
       "      <td>One summer day in 2013, I was having breakfast...</td>\n",
       "      <td>The risks and challenges when publishing a pho...</td>\n",
       "      <td>[{\"rewards\":\"Pledge €2 or more\\n\\nAbout S$ 3\\n...</td>\n",
       "      <td>{\"id\":276,\"name\":\"Fine Art\",\"analytics_name\":\"...</td>\n",
       "      <td>12000.0</td>\n",
       "      <td>2016-04-24 11:20:25</td>\n",
       "      <td>{\"id\":615702,\"name\":\"Paris\",\"slug\":\"paris-fr\",...</td>\n",
       "      <td>1</td>\n",
       "      <td>1</td>\n",
       "      <td>https://v2.kickstarter.com/1664123995-bH2MjakM...</td>\n",
       "      <td>1970-01-01 00:00:01.458818425</td>\n",
       "      <td>1970-01-01 00:00:01.458818425</td>\n",
       "    </tr>\n",
       "    <tr>\n",
       "      <th>47318</th>\n",
       "      <td>1.655207e+08</td>\n",
       "      <td>Deep Love: Going to the Moon</td>\n",
       "      <td>Deep Love is headed to the moon! (Via Oregon) ...</td>\n",
       "      <td>********** Stretch Goals************ We're com...</td>\n",
       "      <td>As we learned with our last kickstarter campai...</td>\n",
       "      <td>[{\"rewards\":\"Pledge US$ 1 or more\\n\\nAbout US$...</td>\n",
       "      <td>{\"id\":284,\"name\":\"Musical\",\"analytics_name\":\"M...</td>\n",
       "      <td>5000.0</td>\n",
       "      <td>2014-08-31 12:54:48</td>\n",
       "      <td>{\"id\":2487610,\"name\":\"Salt Lake City\",\"slug\":\"...</td>\n",
       "      <td>1</td>\n",
       "      <td>1</td>\n",
       "      <td>https://v2.kickstarter.com/1664440295-pSizLCYF...</td>\n",
       "      <td>1970-01-01 00:00:01.406897688</td>\n",
       "      <td>1970-01-01 00:00:01.406897688</td>\n",
       "    </tr>\n",
       "  </tbody>\n",
       "</table>\n",
       "</div>"
      ],
      "text/plain": [
       "                 id                                               name  \\\n",
       "24645  1.193757e+09                                     DARKARTS ALBUM   \n",
       "34127  1.802286e+09  100% Hand-Poured Soy Candles w/ Wood Wicks in ...   \n",
       "33100  9.537778e+07                           First Move by Ori Flomin   \n",
       "42569  3.148434e+08  Looking for the Masters in Ricardo's Golden Shoes   \n",
       "47318  1.655207e+08                       Deep Love: Going to the Moon   \n",
       "\n",
       "                                             description  \\\n",
       "24645             Help DARKARTS record their next album!   \n",
       "34127  I hand-pour in small batches 8oz. 100% soy can...   \n",
       "33100  First Move is a reflection on the mature danci...   \n",
       "42569  A beautiful hardcover photo book with gold edg...   \n",
       "47318  Deep Love is headed to the moon! (Via Oregon) ...   \n",
       "\n",
       "                                       description_story  \\\n",
       "24645  To the genuine music fans! Welcome to DARKARTS...   \n",
       "34127  I am looking to raise funds in order to buy pe...   \n",
       "33100  First\\nMove is a reflection on the mature danc...   \n",
       "42569  One summer day in 2013, I was having breakfast...   \n",
       "47318  ********** Stretch Goals************ We're com...   \n",
       "\n",
       "                                       description_risks  \\\n",
       "24645  We anticipate few risks to launching this proj...   \n",
       "34127  The only challenges that I can foresee would b...   \n",
       "33100  The risks and challenges are the same as those...   \n",
       "42569  The risks and challenges when publishing a pho...   \n",
       "47318  As we learned with our last kickstarter campai...   \n",
       "\n",
       "                                                 rewards  \\\n",
       "24645  [{\"rewards\":\"Pledge US$ 25 or more\\n\\nAbout S$...   \n",
       "34127  [{\"rewards\":\"Pledge US$ 1 or more\\n\\nAbout S$ ...   \n",
       "33100  [{\"rewards\":\"Pledge US$ 10 or more\\n\\nAbout S$...   \n",
       "42569  [{\"rewards\":\"Pledge €2 or more\\n\\nAbout S$ 3\\n...   \n",
       "47318  [{\"rewards\":\"Pledge US$ 1 or more\\n\\nAbout US$...   \n",
       "\n",
       "                                                category     goal  \\\n",
       "24645  {\"id\":40,\"name\":\"Indie Rock\",\"analytics_name\":...   3400.0   \n",
       "34127  {\"id\":343,\"name\":\"Candles\",\"analytics_name\":\"C...   1000.0   \n",
       "33100  {\"id\":254,\"name\":\"Performances\",\"analytics_nam...   7500.0   \n",
       "42569  {\"id\":276,\"name\":\"Fine Art\",\"analytics_name\":\"...  12000.0   \n",
       "47318  {\"id\":284,\"name\":\"Musical\",\"analytics_name\":\"M...   5000.0   \n",
       "\n",
       "                 deadline                                           location  \\\n",
       "24645 2022-06-11 21:01:43  {\"id\":2391279,\"name\":\"Denver\",\"slug\":\"denver-c...   \n",
       "34127 2016-01-20 23:00:54  {\"id\":2502716,\"name\":\"Sussex\",\"slug\":\"sussex-n...   \n",
       "33100 2015-03-13 16:09:51  {\"id\":2459115,\"name\":\"New York\",\"slug\":\"new-yo...   \n",
       "42569 2016-04-24 11:20:25  {\"id\":615702,\"name\":\"Paris\",\"slug\":\"paris-fr\",...   \n",
       "47318 2014-08-31 12:54:48  {\"id\":2487610,\"name\":\"Salt Lake City\",\"slug\":\"...   \n",
       "\n",
       "       state  staff_pick                                              video  \\\n",
       "24645      1           0  https://v2.kickstarter.com/1664695127-1NAeIZwv...   \n",
       "34127      1           0                                                NaN   \n",
       "33100      1           1  https://v2.kickstarter.com/1663849120-vK6gi3cV...   \n",
       "42569      1           1  https://v2.kickstarter.com/1664123995-bH2MjakM...   \n",
       "47318      1           1  https://v2.kickstarter.com/1664440295-pSizLCYF...   \n",
       "\n",
       "                        launched_at                    created_at  \n",
       "24645 1970-01-01 00:00:01.652389303 1970-01-01 00:00:01.652389303  \n",
       "34127 1970-01-01 00:00:01.450738854 1970-01-01 00:00:01.450738854  \n",
       "33100 1970-01-01 00:00:01.423674591 1970-01-01 00:00:01.423674591  \n",
       "42569 1970-01-01 00:00:01.458818425 1970-01-01 00:00:01.458818425  \n",
       "47318 1970-01-01 00:00:01.406897688 1970-01-01 00:00:01.406897688  "
      ]
     },
     "execution_count": 151,
     "metadata": {},
     "output_type": "execute_result"
    }
   ],
   "source": [
    "train.head()"
   ]
  },
  {
   "cell_type": "code",
   "execution_count": 152,
   "id": "0MjpkqorcwSn",
   "metadata": {
    "colab": {
     "base_uri": "https://localhost:8080/"
    },
    "executionInfo": {
     "elapsed": 6,
     "status": "ok",
     "timestamp": 1662898087018,
     "user": {
      "displayName": "wen yin fun",
      "userId": "18154948162664539142"
     },
     "user_tz": -480
    },
    "id": "0MjpkqorcwSn",
    "outputId": "63d73cec-acb2-4923-c83a-9d457760a4f1"
   },
   "outputs": [
    {
     "data": {
      "text/plain": [
       "Index(['id', 'name', 'description', 'description_story', 'description_risks',\n",
       "       'rewards', 'category', 'goal', 'deadline', 'location', 'state',\n",
       "       'staff_pick', 'video', 'launched_at', 'created_at'],\n",
       "      dtype='object')"
      ]
     },
     "execution_count": 152,
     "metadata": {},
     "output_type": "execute_result"
    }
   ],
   "source": [
    "train.columns"
   ]
  },
  {
   "cell_type": "code",
   "execution_count": 153,
   "id": "mEQGoxxT7-E8",
   "metadata": {
    "colab": {
     "base_uri": "https://localhost:8080/"
    },
    "executionInfo": {
     "elapsed": 660,
     "status": "ok",
     "timestamp": 1662906345694,
     "user": {
      "displayName": "Ivan Koh",
      "userId": "00122251730770892026"
     },
     "user_tz": -480
    },
    "id": "mEQGoxxT7-E8",
    "outputId": "8fc8bd6c-88bb-4869-f20c-1f313e0cfc43"
   },
   "outputs": [
    {
     "data": {
      "text/plain": [
       "15"
      ]
     },
     "execution_count": 153,
     "metadata": {},
     "output_type": "execute_result"
    }
   ],
   "source": [
    "len(train)\n",
    "len(train.columns)"
   ]
  },
  {
   "cell_type": "markdown",
   "id": "cb4b0bd9",
   "metadata": {},
   "source": [
    "## Apply the same data cleaning to test set"
   ]
  },
  {
   "cell_type": "code",
   "execution_count": 154,
   "id": "fcd35c9f",
   "metadata": {},
   "outputs": [],
   "source": [
    "test.loc[test['location'].isna(), 'location'] = test['country_displayable_name']\n",
    "test = test.drop(remove_list, axis = 1)\n",
    "\n",
    "test = test.rename(columns={\n",
    "    \"Title\":\"name\",\n",
    "    \"Description\": \"description\",\n",
    "    \"story\": \"description_story\",\n",
    "    \"risk\": \"description_risks\",\n",
    "    \"Description\": \"description\",\n",
    "    \"Status\": \"state\"\n",
    "})\n",
    "test = test[['id', 'name', 'description', \n",
    "                       'description_story', 'description_risks', 'rewards',\n",
    "                       'category', 'goal', 'deadline', 'location', \n",
    "                       'state','staff_pick', 'video', 'launched_at', 'created_at']]\n",
    "\n",
    "test['staff_pick'] = test['staff_pick'].astype(int)\n",
    "test['deadline'] = pd.to_datetime(test['deadline'], unit='s')  \n",
    "test['launched_at'] = pd.to_datetime(test['launched_at'], infer_datetime_format=True)\n",
    "test['created_at'] = pd.to_datetime(test['launched_at'], infer_datetime_format=True)"
   ]
  },
  {
   "cell_type": "markdown",
   "id": "1sjc-w3T_KKC",
   "metadata": {
    "id": "1sjc-w3T_KKC"
   },
   "source": [
    "## Export to excel"
   ]
  },
  {
   "cell_type": "code",
   "execution_count": 155,
   "id": "ENeFoYOD8M3w",
   "metadata": {
    "id": "ENeFoYOD8M3w"
   },
   "outputs": [],
   "source": [
    "train.to_csv(\"data/kickstarter_train.csv\", index=False)\n",
    "test.to_csv(\"data/kickstarter_test.csv\", index=False)"
   ]
  }
 ],
 "metadata": {
  "colab": {
   "collapsed_sections": [
    "mkPED5zOf4I0"
   ],
   "provenance": []
  },
  "kernelspec": {
   "display_name": "Python 3.9 (bt4222)",
   "language": "python",
   "name": "bt4222"
  },
  "language_info": {
   "codemirror_mode": {
    "name": "ipython",
    "version": 3
   },
   "file_extension": ".py",
   "mimetype": "text/x-python",
   "name": "python",
   "nbconvert_exporter": "python",
   "pygments_lexer": "ipython3",
   "version": "3.9.12"
  }
 },
 "nbformat": 4,
 "nbformat_minor": 5
}
