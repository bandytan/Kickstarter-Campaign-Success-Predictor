{
 "cells": [
  {
   "cell_type": "code",
   "execution_count": 46,
   "id": "826ff0c2",
   "metadata": {
    "id": "826ff0c2"
   },
   "outputs": [],
   "source": [
    "import pandas as pd \n",
    "import numpy as np\n",
    "import matplotlib.pyplot as plt \n",
    "import seaborn as sns\n",
    "from datetime import datetime\n",
    "import ast\n",
    "from sklearn.model_selection import train_test_split\n",
    "from sklearn.preprocessing import LabelBinarizer\n",
    "import re\n",
    "import json"
   ]
  },
  {
   "cell_type": "markdown",
   "id": "0tCQ3N37eiMm",
   "metadata": {
    "id": "0tCQ3N37eiMm"
   },
   "source": [
    "## Import Dataset\n",
    "\n"
   ]
  },
  {
   "cell_type": "code",
   "execution_count": 47,
   "id": "9a77d86d",
   "metadata": {
    "id": "9a77d86d"
   },
   "outputs": [
    {
     "name": "stdout",
     "output_type": "stream",
     "text": [
      "47341\n",
      "30031\n"
     ]
    }
   ],
   "source": [
    "df_merged = pd.read_csv(\"/Users/bandy/Downloads/data/kickstart_data_merged_with_empty.csv\", dtype={\"backer-amount\":str})\n",
    "print(len(df_merged))\n",
    "# remove inconsistencies from webscraping and merging \n",
    "# this step was added after proposal submission, so the number of observations differ slightly.\n",
    "# in other words this step is part of post-intermediate data cleaning in preparation for the final report\n",
    "index = df_merged[pd.isnull(df_merged['story'])].index\n",
    "\n",
    "df_merged = df_merged[pd.notnull(df_merged['story'])]\n",
    "df_merged = df_merged[pd.notnull(df_merged['risk'])]\n",
    "print(len(df_merged))"
   ]
  },
  {
   "cell_type": "code",
   "execution_count": 48,
   "id": "1GoVeJhLgO17",
   "metadata": {
    "colab": {
     "base_uri": "https://localhost:8080/"
    },
    "executionInfo": {
     "elapsed": 7,
     "status": "ok",
     "timestamp": 1662897955688,
     "user": {
      "displayName": "wen yin fun",
      "userId": "18154948162664539142"
     },
     "user_tz": -480
    },
    "id": "1GoVeJhLgO17",
    "outputId": "7a814d6e-cabf-4b95-83bb-764fc3d4acec"
   },
   "outputs": [
    {
     "data": {
      "text/plain": [
       "Index(['Unnamed: 0', 'Unnamed: 0_x', 'web-scraper-order',\n",
       "       'web-scraper-start-url', 'Title', 'Description', 'Status',\n",
       "       'Pledged-Amount', 'Funded-percent', 'Time left', 'Sphere', 'Location',\n",
       "       'Image-src', 'Link', 'Link-href', 'backer-amount', 'video',\n",
       "       'description_story', 'description_risks', 'rewards', 'updateCount',\n",
       "       'commentCount', 'backers_count', 'blurb_x', 'category',\n",
       "       'converted_pledged_amount', 'country', 'country_displayable_name',\n",
       "       'created_at', 'creator', 'currency', 'currency_symbol',\n",
       "       'currency_trailing_code', 'current_currency', 'deadline',\n",
       "       'disable_communication', 'friends', 'fx_rate', 'goal', 'id',\n",
       "       'is_backing', 'is_starrable', 'is_starred', 'launched_at', 'location',\n",
       "       'name', 'permissions', 'photo', 'pledged', 'profile', 'slug',\n",
       "       'source_url', 'spotlight', 'staff_pick', 'state', 'state_changed_at',\n",
       "       'static_usd_rate', 'urls', 'usd_exchange_rate', 'usd_pledged',\n",
       "       'usd_type', 'main_url', 'Unnamed: 0_y', 'ivan_index', 'blurb_y',\n",
       "       'story', 'risk', 'final_index'],\n",
       "      dtype='object')"
      ]
     },
     "execution_count": 48,
     "metadata": {},
     "output_type": "execute_result"
    }
   ],
   "source": [
    "df_merged.columns"
   ]
  },
  {
   "cell_type": "markdown",
   "id": "6a866879",
   "metadata": {},
   "source": [
    "## Train Test Split After Cleaning (70-15-15)\n",
    "https://www.researchgate.net/post/Removing_a_low_predictive_column_before_or_after_train_test_split#:~:text=Yes%2C%20you%20should%20remove%20the,but%20not%20before%20the%20split.\n",
    "\n",
    "- Perform encoding for the target then split\n",
    "\n",
    "- So we will apply the same cleaning to the test data at the end"
   ]
  },
  {
   "cell_type": "code",
   "execution_count": 49,
   "id": "430cac32",
   "metadata": {
    "scrolled": true
   },
   "outputs": [
    {
     "name": "stdout",
     "output_type": "stream",
     "text": [
      "after remove \n",
      " successful    20569\n",
      "failed         8556\n",
      "Name: Status, dtype: int64\n"
     ]
    }
   ],
   "source": [
    "# get the target variable - success or failure - binary classfication problem\n",
    "df_merged = df_merged[(df_merged['Status'] == \"successful\") | (df_merged['Status'] == \"failed\")]\n",
    "print('after remove \\n', df_merged['Status'].value_counts())\n",
    "df_merged['Status'] = df_merged['Status'].apply(lambda x: 0 if x==\"failed\" else 1)\n",
    "\n",
    "train, test = train_test_split(df_merged, test_size=0.15, random_state=69, stratify=df_merged['state'])"
   ]
  },
  {
   "cell_type": "code",
   "execution_count": 50,
   "id": "4ffdbc57",
   "metadata": {},
   "outputs": [
    {
     "name": "stdout",
     "output_type": "stream",
     "text": [
      "train size: 24756\n",
      "test size 4369\n"
     ]
    }
   ],
   "source": [
    "print(\"train size:\", len(train))\n",
    "print(\"test size\", len(test))"
   ]
  },
  {
   "cell_type": "code",
   "execution_count": 51,
   "id": "e23c2732",
   "metadata": {},
   "outputs": [
    {
     "data": {
      "text/plain": [
       "1    17482\n",
       "0     7274\n",
       "Name: Status, dtype: int64"
      ]
     },
     "execution_count": 51,
     "metadata": {},
     "output_type": "execute_result"
    }
   ],
   "source": [
    "train['Status'].value_counts()"
   ]
  },
  {
   "cell_type": "markdown",
   "id": "ff3d1c03",
   "metadata": {
    "id": "ff3d1c03"
   },
   "source": [
    "## Intermediate Data Cleaning"
   ]
  },
  {
   "cell_type": "code",
   "execution_count": 52,
   "id": "177bd9f6",
   "metadata": {},
   "outputs": [],
   "source": [
    "#global remove list \n",
    "remove_list = []"
   ]
  },
  {
   "cell_type": "markdown",
   "id": "h0Im_nV7tohI",
   "metadata": {
    "id": "h0Im_nV7tohI"
   },
   "source": [
    "### Remove columns with the same values for all rows\n",
    "\n",
    "\n",
    "\n"
   ]
  },
  {
   "cell_type": "code",
   "execution_count": 53,
   "id": "LdYjDqyStrZ1",
   "metadata": {
    "colab": {
     "base_uri": "https://localhost:8080/"
    },
    "executionInfo": {
     "elapsed": 425,
     "status": "ok",
     "timestamp": 1662898657977,
     "user": {
      "displayName": "wen yin fun",
      "userId": "18154948162664539142"
     },
     "user_tz": -480
    },
    "id": "LdYjDqyStrZ1",
    "outputId": "126e2dec-7f43-4af7-8127-fc353225f2cd"
   },
   "outputs": [
    {
     "name": "stdout",
     "output_type": "stream",
     "text": [
      "Columns with the same values in all of its rows are:\n",
      "Pledged-Amount\n",
      "Time left\n",
      "Sphere\n",
      "Location\n",
      "disable_communication\n"
     ]
    }
   ],
   "source": [
    "print(\"Columns with the same values in all of its rows are:\")\n",
    "for i in train: \n",
    "  if len(set(train[i])) == 1 or all(pd.isnull(train[i])):\n",
    "    remove_list.append(i)\n",
    "    print(i)"
   ]
  },
  {
   "cell_type": "markdown",
   "id": "UJ0dbVjJttHs",
   "metadata": {
    "id": "UJ0dbVjJttHs"
   },
   "source": [
    "### Remove columns that have the exact same values or very similar values as another column, and keep unique columns\n",
    "\n",
    "There will be duplicate or very similar columns because:\n",
    "- Merged dataset takes data from 2 data sources and they may overlap:\n",
    "  - For the columns with very similar values:\n",
    "    - Take the column with more information\n",
    "    - Take the more recent column (Webscraper.io was the most recently scraped)\n",
    "    - Take the column whose values can be compared with each other"
   ]
  },
  {
   "cell_type": "code",
   "execution_count": 54,
   "id": "omBktFPI6I-B",
   "metadata": {
    "id": "omBktFPI6I-B"
   },
   "outputs": [],
   "source": [
    "### name and Title \n",
    "# some differences in name and Title - keep the more recent one which is Title\n",
    "train[train['name'] != train['Title']][['Title', 'name']]\n",
    "remove_list.append('name')\n",
    "\n",
    "### Description, blurb_x, blurb_y\n",
    "train[['blurb_x', 'blurb_y', 'Description']]\n",
    "# blurb_y has significant amount of missing values so blurb_x has more information \n",
    "train[train['blurb_x'] != train['Description']][['blurb_x', 'Description']]\n",
    "# prefer Description over blurb_x \n",
    "remove_list.extend(['blurb_y', 'blurb_x'])\n",
    "\n",
    "### deadline and Time left \n",
    "# deadline is more informative because Time left is dynamic \n",
    "remove_list.append('Time left')\n",
    "\n",
    "# ### location, Location, Country\n",
    "train[['location', 'Location', 'country', 'country_displayable_name']]\n",
    "# Location contains no useful information\n",
    "remove_list.append(\"Location\")\n",
    "train['location'].iloc[1]\n",
    "train[pd.isnull(train['location'])][['location', 'country', 'country_displayable_name']]\n",
    "remove_list.append(\"country_displayable_name\")\n",
    "# location seems to contain more information than Country, but location has a few missing values while country has no missing values\n",
    "# use values in country to impute missing entries in location, then remove country\n",
    "train.loc[train['location'].isna(), 'location'] = train['country_displayable_name']\n",
    " \n",
    "### state and Status\n",
    "# Status is the more recent one \n",
    "remove_list.append('state')"
   ]
  },
  {
   "cell_type": "markdown",
   "id": "ZI7eRPcMybVy",
   "metadata": {
    "id": "ZI7eRPcMybVy"
   },
   "source": [
    "### Remove columns that are redundant \n",
    "\n",
    "Data is redundant in helping us with our problem statement when:\n",
    "- The data is metadata \n",
    "- The data contains urls that cannot be accessed\n",
    "- Variables that have leaks information into target variable"
   ]
  },
  {
   "cell_type": "code",
   "execution_count": 55,
   "id": "uOzJ7fQVyih_",
   "metadata": {
    "id": "uOzJ7fQVyih_"
   },
   "outputs": [],
   "source": [
    "# meta-data\n",
    "remove_list.extend(['web-scraper-start-url', 'web-scraper-order', 'urls', 'Link', 'Link-href',\n",
    "                   'Unnamed: 0', 'Funded-percent', 'Unnamed: 0_x', 'Unnamed: 0_y', 'currency_symbol',\n",
    "                   'currency_trailing_code', 'current_currency', 'description_risks', 'description_story', \n",
    "                    'final_index', 'Image-src', 'currency', \n",
    "                   'friends', 'fx_rate', 'is_backing', 'is_starrable', 'is_starred', 'ivan_index',\n",
    "                   'main_url', 'permissions', 'photo', 'profile', 'slug', 'source_url', 'state_changed_at',\n",
    "                   'static_usd_rate', 'usd_exchange_rate', 'usd_type', 'country', 'final_index', 'creator',\n",
    "                   'pledged'])\n",
    "\n",
    "# Features that leak information into target variable \n",
    "remove_list.extend(['backer-amount', 'backers_count', 'Pledged-Amount', 'updateCount', 'commentCount', \n",
    "                   'spotlight', 'converted_pledged_amount', 'usd_pledged'])"
   ]
  },
  {
   "cell_type": "code",
   "execution_count": 56,
   "id": "4f76fd4b",
   "metadata": {},
   "outputs": [
    {
     "data": {
      "text/plain": [
       "Index(['Title', 'Description', 'Status', 'video', 'rewards', 'category',\n",
       "       'created_at', 'deadline', 'goal', 'id', 'launched_at', 'location',\n",
       "       'staff_pick', 'story', 'risk'],\n",
       "      dtype='object')"
      ]
     },
     "execution_count": 56,
     "metadata": {},
     "output_type": "execute_result"
    }
   ],
   "source": [
    "#drop all at once\n",
    "remove_list = list(set(remove_list))\n",
    "train = train.drop(remove_list, axis = 1)\n",
    "train.columns"
   ]
  },
  {
   "cell_type": "markdown",
   "id": "GCP_EX8nuIZk",
   "metadata": {
    "id": "GCP_EX8nuIZk"
   },
   "source": [
    "### Rename columns to be more readable and convert columns to their correct formats\n",
    "\n"
   ]
  },
  {
   "cell_type": "markdown",
   "id": "2adcef48",
   "metadata": {},
   "source": [
    "#### Parsing text features "
   ]
  },
  {
   "cell_type": "code",
   "execution_count": 57,
   "id": "e393d089",
   "metadata": {},
   "outputs": [],
   "source": [
    "# Remove rewards that got cut off while scraping and closes the dictionary\n",
    "# Text cleaning for: rewards, description, description story, description risks\n",
    "\n",
    "# def clean_text_old(df):\n",
    "#     def clean_rewards(corpus):\n",
    "#         for row in corpus:\n",
    "#             reward_list = row\n",
    "#             try:\n",
    "#                 tiers = ast.literal_eval(reward_list)\n",
    "#             except SyntaxError as e:\n",
    "#                 i = len(reward_list) -1\n",
    "#                 while reward_list[i] != \"{\":\n",
    "#                     i -= 1\n",
    "#                 reward_list = reward_list[:(i-1)]\n",
    "#                 reward_list += ']'\n",
    "#         return reward_list\n",
    "#     df['rewards'] = clean_rewards(df['rewards'])\n",
    "#     return df\n",
    "\n",
    "def clean_text(df):\n",
    "    def clean_rewards(reward_list):\n",
    "        try:\n",
    "            tiers = ast.literal_eval(reward_list)\n",
    "        except SyntaxError as e:\n",
    "            i = len(reward_list) -1\n",
    "            while reward_list[i] != \"{\":\n",
    "                i -= 1\n",
    "            reward_list = reward_list[:(i-1)]\n",
    "            reward_list += ']'\n",
    "        return reward_list\n",
    "    df[\"rewards\"] = df[\"rewards\"].apply(lambda x : clean_rewards(x))\n",
    "    return df\n",
    "\n",
    "        "
   ]
  },
  {
   "cell_type": "markdown",
   "id": "6082d67a",
   "metadata": {},
   "source": [
    "#### Readable Columns"
   ]
  },
  {
   "cell_type": "code",
   "execution_count": 58,
   "id": "moXaMNyAUDwA",
   "metadata": {
    "id": "moXaMNyAUDwA"
   },
   "outputs": [],
   "source": [
    "train = train.rename(columns={\n",
    "    \"Title\":\"name\",\n",
    "    \"Description\": \"description\",\n",
    "    \"story\": \"description_story\",\n",
    "    \"risk\": \"description_risks\",\n",
    "    \"Description\": \"description\",\n",
    "    \"Status\": \"state\"\n",
    "})\n",
    "train = train[['id', 'name', 'description', \n",
    "                       'description_story', 'description_risks', 'rewards',\n",
    "                       'category', 'goal', 'deadline', 'location', \n",
    "                       'state','staff_pick', 'video', 'launched_at', 'created_at']]\n",
    "\n",
    "train['staff_pick'] = train['staff_pick'].astype(int)\n",
    "train['deadline'] = pd.to_datetime(train['deadline'], unit='s')  \n",
    "train['launched_at'] = pd.to_datetime(train['launched_at'], unit='s')\n",
    "train['created_at'] = pd.to_datetime(train['created_at'], unit='s')\n",
    "train['category'] = train['category'].apply(lambda x: json.loads(x)['slug'].split(\"/\")[0])\n",
    "train['location'] = train['location'].apply(lambda x: json.loads(x)['country'])\n",
    "train = clean_text(train)"
   ]
  },
  {
   "cell_type": "code",
   "execution_count": 59,
   "id": "0MjpkqorcwSn",
   "metadata": {
    "colab": {
     "base_uri": "https://localhost:8080/"
    },
    "executionInfo": {
     "elapsed": 6,
     "status": "ok",
     "timestamp": 1662898087018,
     "user": {
      "displayName": "wen yin fun",
      "userId": "18154948162664539142"
     },
     "user_tz": -480
    },
    "id": "0MjpkqorcwSn",
    "outputId": "63d73cec-acb2-4923-c83a-9d457760a4f1"
   },
   "outputs": [
    {
     "data": {
      "text/plain": [
       "Index(['id', 'name', 'description', 'description_story', 'description_risks',\n",
       "       'rewards', 'category', 'goal', 'deadline', 'location', 'state',\n",
       "       'staff_pick', 'video', 'launched_at', 'created_at'],\n",
       "      dtype='object')"
      ]
     },
     "execution_count": 59,
     "metadata": {},
     "output_type": "execute_result"
    }
   ],
   "source": [
    "train.columns"
   ]
  },
  {
   "cell_type": "code",
   "execution_count": 60,
   "id": "mEQGoxxT7-E8",
   "metadata": {
    "colab": {
     "base_uri": "https://localhost:8080/"
    },
    "executionInfo": {
     "elapsed": 660,
     "status": "ok",
     "timestamp": 1662906345694,
     "user": {
      "displayName": "Ivan Koh",
      "userId": "00122251730770892026"
     },
     "user_tz": -480
    },
    "id": "mEQGoxxT7-E8",
    "outputId": "8fc8bd6c-88bb-4869-f20c-1f313e0cfc43"
   },
   "outputs": [
    {
     "data": {
      "text/plain": [
       "15"
      ]
     },
     "execution_count": 60,
     "metadata": {},
     "output_type": "execute_result"
    }
   ],
   "source": [
    "len(train)\n",
    "len(train.columns)"
   ]
  },
  {
   "cell_type": "markdown",
   "id": "cb4b0bd9",
   "metadata": {},
   "source": [
    "## Apply the same data cleaning to test set"
   ]
  },
  {
   "cell_type": "code",
   "execution_count": 61,
   "id": "fcd35c9f",
   "metadata": {},
   "outputs": [],
   "source": [
    "# test.loc[test['location'].isna(), 'location'] = test['country_displayable_name']\n",
    "test = test.drop(remove_list, axis = 1)\n",
    "\n",
    "test = test.rename(columns={\n",
    "    \"Title\":\"name\",\n",
    "    \"Description\": \"description\",\n",
    "    \"story\": \"description_story\",\n",
    "    \"risk\": \"description_risks\",\n",
    "    \"Description\": \"description\",\n",
    "    \"Status\": \"state\"\n",
    "})\n",
    "test = test[['id', 'name', 'description', \n",
    "                       'description_story', 'description_risks', 'rewards',\n",
    "                       'category', 'goal', 'deadline', 'location', \n",
    "                       'state','staff_pick', 'video', 'launched_at', 'created_at']]\n",
    "\n",
    "test['staff_pick'] = test['staff_pick'].astype(int)\n",
    "test['deadline'] = pd.to_datetime(test['deadline'], unit='s')  \n",
    "test['launched_at'] = pd.to_datetime(test['launched_at'], unit='s')\n",
    "test['created_at'] = pd.to_datetime(test['created_at'], unit='s')\n",
    "test['category'] = test['category'].apply(lambda x: json.loads(x)['slug'].split(\"/\")[0])\n",
    "test['location'] = test['location'].apply(lambda x: json.loads(x)['country'])\n",
    "test = clean_text(test)"
   ]
  },
  {
   "cell_type": "markdown",
   "id": "1sjc-w3T_KKC",
   "metadata": {
    "id": "1sjc-w3T_KKC"
   },
   "source": [
    "## Export to excel"
   ]
  },
  {
   "cell_type": "code",
   "execution_count": 62,
   "id": "ENeFoYOD8M3w",
   "metadata": {
    "id": "ENeFoYOD8M3w"
   },
   "outputs": [],
   "source": [
    "train.to_csv(\"./data/train/kickstarter_train.csv\", index=False)\n",
    "test.to_csv(\"./data/test/kickstarter_test.csv\", index=False)"
   ]
  },
  {
   "cell_type": "code",
   "execution_count": 63,
   "id": "0f969069",
   "metadata": {},
   "outputs": [
    {
     "data": {
      "text/html": [
       "<div>\n",
       "<style scoped>\n",
       "    .dataframe tbody tr th:only-of-type {\n",
       "        vertical-align: middle;\n",
       "    }\n",
       "\n",
       "    .dataframe tbody tr th {\n",
       "        vertical-align: top;\n",
       "    }\n",
       "\n",
       "    .dataframe thead th {\n",
       "        text-align: right;\n",
       "    }\n",
       "</style>\n",
       "<table border=\"1\" class=\"dataframe\">\n",
       "  <thead>\n",
       "    <tr style=\"text-align: right;\">\n",
       "      <th></th>\n",
       "      <th>id</th>\n",
       "      <th>name</th>\n",
       "      <th>description</th>\n",
       "      <th>description_story</th>\n",
       "      <th>description_risks</th>\n",
       "      <th>rewards</th>\n",
       "      <th>category</th>\n",
       "      <th>goal</th>\n",
       "      <th>deadline</th>\n",
       "      <th>location</th>\n",
       "      <th>state</th>\n",
       "      <th>staff_pick</th>\n",
       "      <th>video</th>\n",
       "      <th>launched_at</th>\n",
       "      <th>created_at</th>\n",
       "    </tr>\n",
       "  </thead>\n",
       "  <tbody>\n",
       "    <tr>\n",
       "      <th>34790</th>\n",
       "      <td>1.766053e+09</td>\n",
       "      <td>Samson The Short Film</td>\n",
       "      <td>A former boxing champion must fight to save hi...</td>\n",
       "      <td>The film will be submitted to various festival...</td>\n",
       "      <td>We've shot the footage, but we need help takin...</td>\n",
       "      <td>[{\"rewards\":\"Pledge US$ 5 or more\\n\\nAbout S$ ...</td>\n",
       "      <td>film &amp; video</td>\n",
       "      <td>3000.0</td>\n",
       "      <td>2016-05-14 07:15:38</td>\n",
       "      <td>US</td>\n",
       "      <td>1</td>\n",
       "      <td>0</td>\n",
       "      <td>https://v2.kickstarter.com/1663906404-wOtoc0aU...</td>\n",
       "      <td>2016-04-14 07:15:38</td>\n",
       "      <td>2016-04-13 16:26:29</td>\n",
       "    </tr>\n",
       "    <tr>\n",
       "      <th>19711</th>\n",
       "      <td>5.720026e+08</td>\n",
       "      <td>Unmortal : Out of Time Short Film</td>\n",
       "      <td>A Short film for a time-bending Fantasy series...</td>\n",
       "      <td>With your help, we can create a 10-minute Fant...</td>\n",
       "      <td>While we work hard to mitigate our risks, the ...</td>\n",
       "      <td>[{\"rewards\":\"Pledge US$ 1 or more\\n\\nAbout S$ ...</td>\n",
       "      <td>film &amp; video</td>\n",
       "      <td>2500.0</td>\n",
       "      <td>2021-07-01 01:00:00</td>\n",
       "      <td>US</td>\n",
       "      <td>1</td>\n",
       "      <td>0</td>\n",
       "      <td>NaN</td>\n",
       "      <td>2021-06-15 15:49:37</td>\n",
       "      <td>2021-05-23 23:22:33</td>\n",
       "    </tr>\n",
       "    <tr>\n",
       "      <th>16014</th>\n",
       "      <td>1.639267e+09</td>\n",
       "      <td>The Nuclear Family travels to Barcelona this J...</td>\n",
       "      <td>Continue \"The Nuclear Family\" at the Can Serra...</td>\n",
       "      <td>Hello friends of kickstarter!  My name is Aust...</td>\n",
       "      <td>I dont expect production set backs, and the re...</td>\n",
       "      <td>[{\"rewards\":\"Pledge US$ 1 or more\\n\\nAbout S$ ...</td>\n",
       "      <td>art</td>\n",
       "      <td>4200.0</td>\n",
       "      <td>2013-04-20 06:59:00</td>\n",
       "      <td>ES</td>\n",
       "      <td>1</td>\n",
       "      <td>1</td>\n",
       "      <td>https://v2.kickstarter.com/1664116092-mdW9sNO%...</td>\n",
       "      <td>2013-03-21 20:10:32</td>\n",
       "      <td>2013-02-19 09:04:56</td>\n",
       "    </tr>\n",
       "    <tr>\n",
       "      <th>38436</th>\n",
       "      <td>1.866271e+09</td>\n",
       "      <td>Spiritual Business Basics and Spotlight</td>\n",
       "      <td>My goal is to create a community that will hel...</td>\n",
       "      <td>For those of you who don't know me, my name is...</td>\n",
       "      <td>The only challenges I foresee are related to n...</td>\n",
       "      <td>[{\"rewards\":\"Pledge €10 or more\\n\\nAbout S$ 15...</td>\n",
       "      <td>publishing</td>\n",
       "      <td>3000.0</td>\n",
       "      <td>2018-02-23 16:04:50</td>\n",
       "      <td>AT</td>\n",
       "      <td>0</td>\n",
       "      <td>0</td>\n",
       "      <td>NaN</td>\n",
       "      <td>2018-01-24 16:04:50</td>\n",
       "      <td>2018-01-15 15:54:37</td>\n",
       "    </tr>\n",
       "    <tr>\n",
       "      <th>44735</th>\n",
       "      <td>1.905675e+07</td>\n",
       "      <td>MyBodyModel: Fashion Sketch Templates to Your ...</td>\n",
       "      <td>Fashion sketch templates (croquis) made to you...</td>\n",
       "      <td>MyBodyModel's mission is to create body-positi...</td>\n",
       "      <td>We have been working for more than 6 months to...</td>\n",
       "      <td>[{\"rewards\":\"Pledge US$ 10 or more\\n\\nAbout S$...</td>\n",
       "      <td>fashion</td>\n",
       "      <td>20000.0</td>\n",
       "      <td>2017-08-24 22:00:00</td>\n",
       "      <td>US</td>\n",
       "      <td>1</td>\n",
       "      <td>1</td>\n",
       "      <td>https://v2.kickstarter.com/1663784821-8d8QWgz%...</td>\n",
       "      <td>2017-08-01 10:51:42</td>\n",
       "      <td>2017-04-11 11:40:36</td>\n",
       "    </tr>\n",
       "  </tbody>\n",
       "</table>\n",
       "</div>"
      ],
      "text/plain": [
       "                 id                                               name  \\\n",
       "34790  1.766053e+09                              Samson The Short Film   \n",
       "19711  5.720026e+08                  Unmortal : Out of Time Short Film   \n",
       "16014  1.639267e+09  The Nuclear Family travels to Barcelona this J...   \n",
       "38436  1.866271e+09            Spiritual Business Basics and Spotlight   \n",
       "44735  1.905675e+07  MyBodyModel: Fashion Sketch Templates to Your ...   \n",
       "\n",
       "                                             description  \\\n",
       "34790  A former boxing champion must fight to save hi...   \n",
       "19711  A Short film for a time-bending Fantasy series...   \n",
       "16014  Continue \"The Nuclear Family\" at the Can Serra...   \n",
       "38436  My goal is to create a community that will hel...   \n",
       "44735  Fashion sketch templates (croquis) made to you...   \n",
       "\n",
       "                                       description_story  \\\n",
       "34790  The film will be submitted to various festival...   \n",
       "19711  With your help, we can create a 10-minute Fant...   \n",
       "16014  Hello friends of kickstarter!  My name is Aust...   \n",
       "38436  For those of you who don't know me, my name is...   \n",
       "44735  MyBodyModel's mission is to create body-positi...   \n",
       "\n",
       "                                       description_risks  \\\n",
       "34790  We've shot the footage, but we need help takin...   \n",
       "19711  While we work hard to mitigate our risks, the ...   \n",
       "16014  I dont expect production set backs, and the re...   \n",
       "38436  The only challenges I foresee are related to n...   \n",
       "44735  We have been working for more than 6 months to...   \n",
       "\n",
       "                                                 rewards      category  \\\n",
       "34790  [{\"rewards\":\"Pledge US$ 5 or more\\n\\nAbout S$ ...  film & video   \n",
       "19711  [{\"rewards\":\"Pledge US$ 1 or more\\n\\nAbout S$ ...  film & video   \n",
       "16014  [{\"rewards\":\"Pledge US$ 1 or more\\n\\nAbout S$ ...           art   \n",
       "38436  [{\"rewards\":\"Pledge €10 or more\\n\\nAbout S$ 15...    publishing   \n",
       "44735  [{\"rewards\":\"Pledge US$ 10 or more\\n\\nAbout S$...       fashion   \n",
       "\n",
       "          goal            deadline location  state  staff_pick  \\\n",
       "34790   3000.0 2016-05-14 07:15:38       US      1           0   \n",
       "19711   2500.0 2021-07-01 01:00:00       US      1           0   \n",
       "16014   4200.0 2013-04-20 06:59:00       ES      1           1   \n",
       "38436   3000.0 2018-02-23 16:04:50       AT      0           0   \n",
       "44735  20000.0 2017-08-24 22:00:00       US      1           1   \n",
       "\n",
       "                                                   video         launched_at  \\\n",
       "34790  https://v2.kickstarter.com/1663906404-wOtoc0aU... 2016-04-14 07:15:38   \n",
       "19711                                                NaN 2021-06-15 15:49:37   \n",
       "16014  https://v2.kickstarter.com/1664116092-mdW9sNO%... 2013-03-21 20:10:32   \n",
       "38436                                                NaN 2018-01-24 16:04:50   \n",
       "44735  https://v2.kickstarter.com/1663784821-8d8QWgz%... 2017-08-01 10:51:42   \n",
       "\n",
       "               created_at  \n",
       "34790 2016-04-13 16:26:29  \n",
       "19711 2021-05-23 23:22:33  \n",
       "16014 2013-02-19 09:04:56  \n",
       "38436 2018-01-15 15:54:37  \n",
       "44735 2017-04-11 11:40:36  "
      ]
     },
     "execution_count": 63,
     "metadata": {},
     "output_type": "execute_result"
    }
   ],
   "source": [
    "test.head()"
   ]
  },
  {
   "cell_type": "code",
   "execution_count": null,
   "id": "1dddfdb6",
   "metadata": {},
   "outputs": [],
   "source": []
  }
 ],
 "metadata": {
  "colab": {
   "collapsed_sections": [
    "mkPED5zOf4I0"
   ],
   "provenance": []
  },
  "kernelspec": {
   "display_name": "Python 3.10.8 64-bit (microsoft store)",
   "language": "python",
   "name": "python3"
  },
  "language_info": {
   "codemirror_mode": {
    "name": "ipython",
    "version": 3
   },
   "file_extension": ".py",
   "mimetype": "text/x-python",
   "name": "python",
   "nbconvert_exporter": "python",
   "pygments_lexer": "ipython3",
   "version": "3.10.8"
  },
  "toc": {
   "base_numbering": 1,
   "nav_menu": {},
   "number_sections": true,
   "sideBar": true,
   "skip_h1_title": false,
   "title_cell": "Table of Contents",
   "title_sidebar": "Contents",
   "toc_cell": false,
   "toc_position": {
    "height": "calc(100% - 180px)",
    "left": "10px",
    "top": "150px",
    "width": "165px"
   },
   "toc_section_display": true,
   "toc_window_display": true
  },
  "vscode": {
   "interpreter": {
    "hash": "b14d2bd7895077ad303f266db7ad1f8a11e285bbfcdfa868008aad211f623e81"
   }
  }
 },
 "nbformat": 4,
 "nbformat_minor": 5
}
