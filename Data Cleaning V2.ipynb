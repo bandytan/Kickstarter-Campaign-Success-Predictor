{
 "cells": [
  {
   "cell_type": "code",
   "execution_count": 1,
   "id": "826ff0c2",
   "metadata": {
    "id": "826ff0c2"
   },
   "outputs": [],
   "source": [
    "import pandas as pd \n",
    "import numpy as np\n",
    "import matplotlib.pyplot as plt \n",
    "import seaborn as sns\n",
    "from datetime import datetime\n",
    "import ast\n",
    "from sklearn.model_selection import train_test_split\n",
    "from sklearn.preprocessing import LabelBinarizer\n",
    "# from googletrans import Translator"
   ]
  },
  {
   "cell_type": "markdown",
   "id": "VVjuvAM5f_tm",
   "metadata": {
    "id": "VVjuvAM5f_tm"
   },
   "source": [
    "## Mount to Google Drive"
   ]
  },
  {
   "cell_type": "code",
   "execution_count": 2,
   "id": "tSF39fBV2RMZ",
   "metadata": {
    "colab": {
     "base_uri": "https://localhost:8080/"
    },
    "executionInfo": {
     "elapsed": 22833,
     "status": "ok",
     "timestamp": 1662897946687,
     "user": {
      "displayName": "wen yin fun",
      "userId": "18154948162664539142"
     },
     "user_tz": -480
    },
    "id": "tSF39fBV2RMZ",
    "outputId": "4515286e-0a63-4f67-fa31-9e4ba52f70f0"
   },
   "outputs": [],
   "source": [
    "# from google.colab import drive\n",
    "# drive.mount('/content/drive')"
   ]
  },
  {
   "cell_type": "markdown",
   "id": "0tCQ3N37eiMm",
   "metadata": {
    "id": "0tCQ3N37eiMm"
   },
   "source": [
    "## Import Dataset\n",
    "\n"
   ]
  },
  {
   "cell_type": "code",
   "execution_count": 3,
   "id": "9a77d86d",
   "metadata": {
    "id": "9a77d86d"
   },
   "outputs": [],
   "source": [
    "#df_1 = pd.read_excel(\"/content/drive/MyDrive/BT4222/BT4222/Data/dataset_kickstarter-search_2022-09-10_13-27-12-948.xlsx\")\n",
    "#df_2 = pd.read_excel(\"/content/drive/MyDrive/BT4222/BT4222/Data/kickstarter-final-comments-project.xlsx\")\n",
    "df_1 = pd.read_excel(\"data/dataset_kickstarter-search_2022-09-10_13-27-12-948.xlsx\")\n",
    "df_2 = pd.read_excel(\"data/kickstarter-final-comments-project.xlsx\")\n",
    "\n",
    "\n",
    "# get common key\n",
    "df_1['link'] = df_1['link'].apply(lambda x: str(x)[:str(x).find(\"?ref\")])\n",
    "df_2['Link-href'] = df_2['Link-href'].apply(lambda x: str(x)[:str(x).find(\"?ref\")])\n",
    "\n",
    "# try to join by df_1['link'] and df_2['Link-href'] \n",
    "df_merged = df_1.merge(df_2, left_on='link', right_on='Link-href')"
   ]
  },
  {
   "cell_type": "code",
   "execution_count": 4,
   "id": "SBMENRl0eTzx",
   "metadata": {
    "colab": {
     "base_uri": "https://localhost:8080/"
    },
    "executionInfo": {
     "elapsed": 11,
     "status": "ok",
     "timestamp": 1662897955688,
     "user": {
      "displayName": "wen yin fun",
      "userId": "18154948162664539142"
     },
     "user_tz": -480
    },
    "id": "SBMENRl0eTzx",
    "outputId": "3ea2e7e8-bcf2-4664-f9d2-77769874e992"
   },
   "outputs": [
    {
     "data": {
      "text/plain": [
       "Index(['web-scraper-order', 'web-scraper-start-url', 'Title', 'Description',\n",
       "       'Status', 'Pledged-Amount', 'Funded-percent', 'Time left', 'Sphere',\n",
       "       'Location', 'Image-src', 'Link', 'Link-href', 'backer-amount', 'video',\n",
       "       'description_story', 'description_risks', 'rewards', 'updateCount',\n",
       "       'commentCount'],\n",
       "      dtype='object')"
      ]
     },
     "execution_count": 4,
     "metadata": {},
     "output_type": "execute_result"
    }
   ],
   "source": [
    "df_2.columns"
   ]
  },
  {
   "cell_type": "code",
   "execution_count": 5,
   "id": "1GoVeJhLgO17",
   "metadata": {
    "colab": {
     "base_uri": "https://localhost:8080/"
    },
    "executionInfo": {
     "elapsed": 7,
     "status": "ok",
     "timestamp": 1662897955688,
     "user": {
      "displayName": "wen yin fun",
      "userId": "18154948162664539142"
     },
     "user_tz": -480
    },
    "id": "1GoVeJhLgO17",
    "outputId": "7a814d6e-cabf-4b95-83bb-764fc3d4acec"
   },
   "outputs": [
    {
     "data": {
      "text/plain": [
       "Index(['backers_count', 'blurb', 'categoryId', 'categoryName', 'categorySlug',\n",
       "       'converted_pledged_amount', 'country', 'country_displayable_name',\n",
       "       'created_at', 'created_at_formatted', 'creatorAvatar', 'creatorId',\n",
       "       'creatorName', 'creatorUrl', 'currency', 'currency_symbol',\n",
       "       'currency_trailing_code', 'current_currency', 'deadline', 'description',\n",
       "       'disable_communication', 'fx_rate', 'goal', 'id', 'is_starrable',\n",
       "       'launched_at', 'launched_at_formatted', 'link', 'locationId',\n",
       "       'locationName', 'name', 'photo', 'pledged', 'pubDate', 'slug',\n",
       "       'spotlight', 'staff_pick', 'state', 'state_changed_at',\n",
       "       'static_usd_rate', 'title', 'url', 'usd_exchange_rate', 'usd_pledged',\n",
       "       'usd_type'],\n",
       "      dtype='object')"
      ]
     },
     "execution_count": 5,
     "metadata": {},
     "output_type": "execute_result"
    }
   ],
   "source": [
    "df_1.columns"
   ]
  },
  {
   "cell_type": "code",
   "execution_count": 6,
   "id": "Mxhi1a31gTap",
   "metadata": {
    "colab": {
     "base_uri": "https://localhost:8080/"
    },
    "executionInfo": {
     "elapsed": 14,
     "status": "ok",
     "timestamp": 1662891362156,
     "user": {
      "displayName": "Ivan Koh",
      "userId": "00122251730770892026"
     },
     "user_tz": -480
    },
    "id": "Mxhi1a31gTap",
    "outputId": "507252d1-7207-428c-ef4b-71acc4114d44"
   },
   "outputs": [
    {
     "name": "stdout",
     "output_type": "stream",
     "text": [
      "APIfy dataset has 45 columns and 2294 rows\n",
      "Webscraper.io dataset has 20 columns and 2293 rows\n",
      "After merge, combined dataframe train has 65 columns and 2266 rows\n"
     ]
    }
   ],
   "source": [
    "print(\"APIfy dataset has\", len(df_1.columns), \"columns\", \"and\", len(df_1), \"rows\")\n",
    "print(\"Webscraper.io dataset has\", len(df_2.columns), \"columns\", \"and\", len(df_2), \"rows\")\n",
    "print(\"After merge, combined dataframe train has\", len(df_merged.columns), \"columns and\", len(df_merged), 'rows')"
   ]
  },
  {
   "cell_type": "markdown",
   "id": "6a866879",
   "metadata": {},
   "source": [
    "## Train Test Split After Cleaning (70-15-15)\n",
    "https://www.researchgate.net/post/Removing_a_low_predictive_column_before_or_after_train_test_split#:~:text=Yes%2C%20you%20should%20remove%20the,but%20not%20before%20the%20split.\n",
    "\n",
    "- Perform encoding for the target then split\n",
    "\n",
    "- So we will apply the same cleaning to the test data at the end"
   ]
  },
  {
   "cell_type": "code",
   "execution_count": 7,
   "id": "430cac32",
   "metadata": {
    "scrolled": true
   },
   "outputs": [
    {
     "name": "stdout",
     "output_type": "stream",
     "text": [
      "after remove \n",
      " successful    991\n",
      "failed        960\n",
      "Name: state, dtype: int64\n"
     ]
    }
   ],
   "source": [
    "# get the target variable - success or failure - binary classfication problem\n",
    "df_merged = df_merged[(df_merged['state'] == \"successful\") | (df_merged['state'] == \"failed\")]\n",
    "print('after remove \\n', df_merged['state'].value_counts())\n",
    "df_merged['state'] = df_merged['state'].apply(lambda x: 0 if x==\"failed\" else 1)\n",
    "\n",
    "train, test = train_test_split(df_merged, test_size=0.15, random_state=69, stratify=df_merged['state'])"
   ]
  },
  {
   "cell_type": "code",
   "execution_count": 8,
   "id": "4ffdbc57",
   "metadata": {},
   "outputs": [
    {
     "name": "stdout",
     "output_type": "stream",
     "text": [
      "train size: 1658\n",
      "test size 293\n"
     ]
    }
   ],
   "source": [
    "print(\"train size:\", len(train))\n",
    "print(\"test size\", len(test))"
   ]
  },
  {
   "cell_type": "code",
   "execution_count": 9,
   "id": "e23c2732",
   "metadata": {},
   "outputs": [
    {
     "data": {
      "text/plain": [
       "108     1\n",
       "281     1\n",
       "478     1\n",
       "1674    0\n",
       "323     1\n",
       "       ..\n",
       "565     1\n",
       "325     1\n",
       "807     1\n",
       "376     1\n",
       "1103    0\n",
       "Name: state, Length: 1658, dtype: int64"
      ]
     },
     "execution_count": 9,
     "metadata": {},
     "output_type": "execute_result"
    }
   ],
   "source": [
    "train['state']"
   ]
  },
  {
   "cell_type": "markdown",
   "id": "ff3d1c03",
   "metadata": {
    "id": "ff3d1c03"
   },
   "source": [
    "## Intermediate Data Cleaning"
   ]
  },
  {
   "cell_type": "code",
   "execution_count": 10,
   "id": "177bd9f6",
   "metadata": {},
   "outputs": [],
   "source": [
    "#global remove list \n",
    "remove_list = []"
   ]
  },
  {
   "cell_type": "markdown",
   "id": "NKXldfAVeq8N",
   "metadata": {
    "id": "NKXldfAVeq8N"
   },
   "source": [
    "### 1. Narrow Scope of Data: Limit to Projects in Singapore"
   ]
  },
  {
   "cell_type": "code",
   "execution_count": 11,
   "id": "8B-4weL-e2jE",
   "metadata": {
    "id": "8B-4weL-e2jE"
   },
   "outputs": [],
   "source": [
    "train = train[train['country'] == 'SG']\n",
    "train = train.drop('country', axis=1)"
   ]
  },
  {
   "cell_type": "markdown",
   "id": "h0Im_nV7tohI",
   "metadata": {
    "id": "h0Im_nV7tohI"
   },
   "source": [
    "### 3. Remove columns with the same values for all rows\n",
    "\n",
    "\n",
    "\n"
   ]
  },
  {
   "cell_type": "code",
   "execution_count": 12,
   "id": "LdYjDqyStrZ1",
   "metadata": {
    "colab": {
     "base_uri": "https://localhost:8080/"
    },
    "executionInfo": {
     "elapsed": 425,
     "status": "ok",
     "timestamp": 1662898657977,
     "user": {
      "displayName": "wen yin fun",
      "userId": "18154948162664539142"
     },
     "user_tz": -480
    },
    "id": "LdYjDqyStrZ1",
    "outputId": "126e2dec-7f43-4af7-8127-fc353225f2cd"
   },
   "outputs": [
    {
     "name": "stdout",
     "output_type": "stream",
     "text": [
      "Columns with the same values in all of its rows are:\n",
      "currency\n",
      "currency_symbol\n",
      "currency_trailing_code\n",
      "current_currency\n",
      "disable_communication\n",
      "fx_rate\n",
      "is_starrable\n",
      "photo\n",
      "usd_type\n",
      "country_displayable_name\n"
     ]
    }
   ],
   "source": [
    "print(\"Columns with the same values in all of its rows are:\")\n",
    "for i in train: \n",
    "  if len(set(train[i])) == 1 or all(pd.isnull(train[i])):\n",
    "    remove_list.append(i)\n",
    "    print(i)\n",
    "\n",
    "## country and location \n",
    "# from APIfy: country_displayable_name\n",
    "# country_displayable_name all same values if all read in English\n",
    "# all values are thus the same, remove 'country_displayable_name'\n",
    "\n",
    "remove_list.append('country_displayable_name')\n",
    "print('country_displayable_name')"
   ]
  },
  {
   "cell_type": "markdown",
   "id": "UJ0dbVjJttHs",
   "metadata": {
    "id": "UJ0dbVjJttHs"
   },
   "source": [
    "### 4. Remove columns that have the exact same values or very similar values as another column, and keep unique columns\n",
    "\n",
    "There will be duplicate or very similar columns because:\n",
    "- Merged dataset takes data from 2 data sources and they may overlap:\n",
    "  - For the columns with the exact same values: \n",
    "    - Take the more updated column (the column from the more recent dataset (APIfy)\n",
    "  - For the columns with very similar values:\n",
    "    - Take the column with more information\n",
    "    - Take the column whose values can be compared with each other"
   ]
  },
  {
   "cell_type": "code",
   "execution_count": 13,
   "id": "omBktFPI6I-B",
   "metadata": {
    "id": "omBktFPI6I-B"
   },
   "outputs": [],
   "source": [
    "### name \n",
    "# from APIfy: name\n",
    "# from webscraper.io: Link\n",
    "# Link is misleading as it is a combination of name and Description \n",
    "# keep name as it is more informative \n",
    "train[train['Description'] != train['description']][['Description', 'description', 'Link', 'name']]\n",
    "remove_list.append('Link')\n",
    "\n",
    "### description \n",
    "# from APIfy: 'description', 'blurb'\n",
    "# from webscraper.io: 'Description'\n",
    "train[train['blurb'] != train['Description']][['blurb','Description']]\n",
    "train[train['description'] != train['Description']][['description','Description']]\n",
    "# blurb is same as Description, but Description can handle more emojis (more informative)\n",
    "# description is exactly the same as blurb\n",
    "# keep Description, remove blurb and description\n",
    "remove_list.extend(['blurb', 'description'])\n",
    "\n",
    "### pledged amount \n",
    "# from APIfy: 'pledged', 'converted_pledged_amount', 'usd_pledged'\n",
    "# from webscraper.io: 'Pledged-Amount', 'Funded-percent'\n",
    "\n",
    "# Take the pledged values from webscrapper.io, remove Pledged-Amount and Funded-percent as it is less recent\n",
    "# pledged vs converted_pledged_amount, converted_pledged_amount is same but removed decimals from pledged\n",
    "# Keep pledged since it provides more information than converted_pledged_amount (more specific) \n",
    "# Keep pledged since it provides more information than usd_pledged (we want local currency) \n",
    "# Since the focus is on local currency SGD, remove usd_exchange_rate and static_usd_rate as they are no longer informative\n",
    "remove_list.extend(['Pledged-Amount', 'converted_pledged_amount',\n",
    "                    'usd_pledged', 'Funded-percent', 'usd_exchange_rate',\n",
    "                    'static_usd_rate'])\n",
    "# Title, title, name\n",
    "# take the most recent one which is name or title. Keep name\n",
    "remove_list.extend(['Title', 'title'])\n",
    "\n",
    "### url\n",
    "# from APIfy: 'url'\n",
    "# from webscraper.io: 'Link-href'\n",
    "train[train['Link-href'] != train['url']][['Link-href','url']]\n",
    "# Both 'Link-href' and 'url' point to the same webpage. Keep url as it is from the more updated dataset.\n",
    "remove_list.append('Link-href')\n",
    "\n",
    "### backers \n",
    "# from APIfy: backers_count\n",
    "# from webscraper.io: backer-amount\n",
    "train[train['backer-amount'] != train['backers_count']][['backer-amount','backers_count']]\n",
    "# Keep backers_count as it is from the more updated dataset.\n",
    "remove_list.append('backer-amount')\n",
    "\n",
    "## time variables: created_at, launched_at \n",
    "# from APIfy: created_at, created_at_formatted, launched_at, launched_at_formatted\n",
    "# 'created_at' and 'launched_at' column: unix time, converted time already present in 'created_at_formatted' and 'launched_at_formatted'\n",
    "# Keep 'created_at_formatted' and 'launched_at_formatted' because they have more information \n",
    "# and remove 'created_at' and 'launched_at' columns\n",
    "remove_list.extend(['created_at', 'launched_at'])\n",
    "# 'pubDate' and 'launched_at_formatted' have exact same values, remove one of the two\n",
    "remove_list.append('pubDate')\n",
    "\n",
    "## deadline \n",
    "# from APify: deadline\n",
    "# from webscraper.io: Time left\n",
    "# keep deadline because it is more recent. Furthermore 'Time left' is dynamic \n",
    "remove_list.append('Time left')\n",
    "\n",
    "### category \n",
    "# from APIfy: categoryId, categoryName, categorySlug \n",
    "# from websraper.io: Sphare \n",
    "train['categoryName'].value_counts().to_frame()\n",
    "train['categorySlug'].value_counts().to_frame()\n",
    "train['categoryId'].value_counts().to_frame()\n",
    "train['Sphere'].value_counts().to_frame()\n",
    "\n",
    "# the value counts for categoryId and categorySlug are the same \n",
    "# Keep categorySlug because it has more information than categoryId which we cannot use to identify the category\n",
    "# the value counts for categoryName and categorySlug are different - categoryName has more because there are duplicate categories in different languages\n",
    "# Keep categorySlug as it provides more information that is language neutral\n",
    "# remove Sphere as there is incomplete information, categorySlug provides full information about category\n",
    "remove_list.extend(['categoryId', 'categoryName', 'Sphere'])\n",
    "\n",
    "### location \n",
    "# from APIfy: locationId, locationName\n",
    "# from webscraper: Location\n",
    "train['locationId'].value_counts()\n",
    "train['locationName'].value_counts()\n",
    "# locationId and locationName are the same\n",
    "# keep locationName as it provides more information and more recent than Location\n",
    "remove_list.extend([\"locationId\", \"Location\"])\n",
    "\n",
    "### status and State \n",
    "# from APIfy: 'state'\n",
    "# from webscraper.io: 'Status'\n",
    "# Keep state as it is more recent than Status\n",
    "remove_list.append('Status')\n",
    "\n",
    "### creator\n",
    "# from APIfy: 'creatorId', 'creatorName'\n",
    "# keep creatorName as it tells us more information about the creator \n",
    "train[['creatorId','creatorName','creatorUrl']]\n",
    "remove_list.append('creatorId')\n",
    "\n",
    "## slug and id \n",
    "# from APIfy: slug, id\n",
    "# both are identifiers to the projects \n",
    "# just choose 1 to keep: keep id\n",
    "remove_list.append('slug')"
   ]
  },
  {
   "cell_type": "markdown",
   "id": "ZI7eRPcMybVy",
   "metadata": {
    "id": "ZI7eRPcMybVy"
   },
   "source": [
    "### 5. Remove columns that are redundant \n",
    "\n",
    "Data is redundant in helping us with our problem statement when:\n",
    "- The data is metadata \n",
    "- The data contains urls that cannot be accessed"
   ]
  },
  {
   "cell_type": "code",
   "execution_count": 14,
   "id": "uOzJ7fQVyih_",
   "metadata": {
    "id": "uOzJ7fQVyih_"
   },
   "outputs": [],
   "source": [
    "## metadata from webscraper.io\n",
    "# web-scraper-start-url, web-scraper-order\n",
    "remove_list.extend(['web-scraper-start-url', 'web-scraper-order'])\n",
    "#state_changed_at \n",
    "remove_list.extend(['state_changed_at'])\n",
    "\n",
    "#unaccessible urls \n",
    "#Image-src and creatorAvatar\n",
    "remove_list.extend(['Image-src', 'creatorAvatar'])\n",
    "\n",
    "#creator-url, starrable, created_at, is metadata, creator_name\n",
    "remove_list.extend(['creatorUrl', 'created_at_formatted', 'creatorName', 'url', 'link'])"
   ]
  },
  {
   "cell_type": "code",
   "execution_count": 15,
   "id": "4f76fd4b",
   "metadata": {},
   "outputs": [
    {
     "data": {
      "text/plain": [
       "Index(['backers_count', 'categorySlug', 'deadline', 'goal', 'id',\n",
       "       'launched_at_formatted', 'locationName', 'name', 'pledged', 'spotlight',\n",
       "       'staff_pick', 'state', 'Description', 'video', 'description_story',\n",
       "       'description_risks', 'rewards', 'updateCount', 'commentCount'],\n",
       "      dtype='object')"
      ]
     },
     "execution_count": 15,
     "metadata": {},
     "output_type": "execute_result"
    }
   ],
   "source": [
    "#drop all at once\n",
    "train = train.drop(remove_list, axis = 1)\n",
    "train.columns"
   ]
  },
  {
   "cell_type": "code",
   "execution_count": 16,
   "id": "7xoGp_0hTrkR",
   "metadata": {
    "colab": {
     "base_uri": "https://localhost:8080/"
    },
    "executionInfo": {
     "elapsed": 287,
     "status": "ok",
     "timestamp": 1662897996204,
     "user": {
      "displayName": "wen yin fun",
      "userId": "18154948162664539142"
     },
     "user_tz": -480
    },
    "id": "7xoGp_0hTrkR",
    "outputId": "68a2abb3-7bed-42ca-fbf2-9cb4d0f18e83"
   },
   "outputs": [
    {
     "name": "stdout",
     "output_type": "stream",
     "text": [
      "APIfy dataset has 45 columns and 2294 rows\n",
      "Webscraper.io dataset has 20 columns and 2293 rows\n",
      "After clean, combined dataframe train has 19 columns and 1557 rows\n"
     ]
    },
    {
     "data": {
      "text/plain": [
       "Index(['backers_count', 'categorySlug', 'deadline', 'goal', 'id',\n",
       "       'launched_at_formatted', 'locationName', 'name', 'pledged', 'spotlight',\n",
       "       'staff_pick', 'state', 'Description', 'video', 'description_story',\n",
       "       'description_risks', 'rewards', 'updateCount', 'commentCount'],\n",
       "      dtype='object')"
      ]
     },
     "execution_count": 16,
     "metadata": {},
     "output_type": "execute_result"
    }
   ],
   "source": [
    "print(\"APIfy dataset has\", len(df_1.columns), \"columns\", \"and\", len(df_1), \"rows\")\n",
    "print(\"Webscraper.io dataset has\", len(df_2.columns), \"columns\", \"and\", len(df_2), \"rows\")\n",
    "print(\"After clean, combined dataframe train has\", len(train.columns), \"columns and\", len(train), 'rows')\n",
    "train.columns"
   ]
  },
  {
   "cell_type": "markdown",
   "id": "GCP_EX8nuIZk",
   "metadata": {
    "id": "GCP_EX8nuIZk"
   },
   "source": [
    "### 6. Rename columns to be more readable and convert columns to their correct formats\n",
    "\n"
   ]
  },
  {
   "cell_type": "code",
   "execution_count": 17,
   "id": "moXaMNyAUDwA",
   "metadata": {
    "id": "moXaMNyAUDwA"
   },
   "outputs": [],
   "source": [
    "train = train.rename(columns={\n",
    "    \"categorySlug\":\"category\",\n",
    "    \"launched_at_formatted\": \"launched_at\",\n",
    "    \"locationName\": \"location\",\n",
    "    \"Description\": \"description\",\n",
    "    \"updateCount\": \"update_count\",\n",
    "    \"commentCount\": \"faq_count\"\n",
    "})\n",
    "train = train[['id', 'name', 'description', \n",
    "                       'description_story', 'description_risks', 'rewards',\n",
    "                       'category', 'pledged', 'goal', 'deadline', 'location', \n",
    "                       'state','faq_count', 'update_count', 'backers_count',\n",
    "                       'spotlight', 'staff_pick', 'video', 'launched_at']]\n",
    "\n",
    "train['spotlight'] = train['spotlight'].astype(int)\n",
    "train['staff_pick'] = train['staff_pick'].astype(int)\n",
    "train['deadline'] = pd.to_datetime(train['deadline'], unit='s')  \n",
    "train['launched_at'] = pd.to_datetime(train['launched_at'], infer_datetime_format=True)\n",
    "train['rewards'] = train['rewards'].apply(lambda x: ast.literal_eval(x))"
   ]
  },
  {
   "cell_type": "code",
   "execution_count": 18,
   "id": "5nmR1skWCehm",
   "metadata": {
    "colab": {
     "base_uri": "https://localhost:8080/",
     "height": 647
    },
    "executionInfo": {
     "elapsed": 317,
     "status": "ok",
     "timestamp": 1662898706293,
     "user": {
      "displayName": "wen yin fun",
      "userId": "18154948162664539142"
     },
     "user_tz": -480
    },
    "id": "5nmR1skWCehm",
    "outputId": "4fc69b06-2e86-4fcc-ccd5-692dbc60b085"
   },
   "outputs": [
    {
     "data": {
      "text/html": [
       "<div>\n",
       "<style scoped>\n",
       "    .dataframe tbody tr th:only-of-type {\n",
       "        vertical-align: middle;\n",
       "    }\n",
       "\n",
       "    .dataframe tbody tr th {\n",
       "        vertical-align: top;\n",
       "    }\n",
       "\n",
       "    .dataframe thead th {\n",
       "        text-align: right;\n",
       "    }\n",
       "</style>\n",
       "<table border=\"1\" class=\"dataframe\">\n",
       "  <thead>\n",
       "    <tr style=\"text-align: right;\">\n",
       "      <th></th>\n",
       "      <th>id</th>\n",
       "      <th>name</th>\n",
       "      <th>description</th>\n",
       "      <th>description_story</th>\n",
       "      <th>description_risks</th>\n",
       "      <th>rewards</th>\n",
       "      <th>category</th>\n",
       "      <th>pledged</th>\n",
       "      <th>goal</th>\n",
       "      <th>deadline</th>\n",
       "      <th>location</th>\n",
       "      <th>state</th>\n",
       "      <th>faq_count</th>\n",
       "      <th>update_count</th>\n",
       "      <th>backers_count</th>\n",
       "      <th>spotlight</th>\n",
       "      <th>staff_pick</th>\n",
       "      <th>video</th>\n",
       "      <th>launched_at</th>\n",
       "    </tr>\n",
       "  </thead>\n",
       "  <tbody>\n",
       "    <tr>\n",
       "      <th>108</th>\n",
       "      <td>1691565384</td>\n",
       "      <td>Make 100: City maps weaved of cassette tapes</td>\n",
       "      <td>Personalised a map that contains curated music...</td>\n",
       "      <td>Story\\n\\n\\n\\n\\n\\n\\n\\n\\n\\n\\n\\n\\n\\nYou'll need a...</td>\n",
       "      <td>We thank all of our cassette tape donors who c...</td>\n",
       "      <td>[{'rewards': 'Pledge S$ 90 or more\n",
       "\n",
       "About $65\n",
       "...</td>\n",
       "      <td>technology</td>\n",
       "      <td>2138.00</td>\n",
       "      <td>800</td>\n",
       "      <td>2022-02-02 12:00:05</td>\n",
       "      <td>Singapore, Singapore</td>\n",
       "      <td>1</td>\n",
       "      <td>4</td>\n",
       "      <td>5.0</td>\n",
       "      <td>17</td>\n",
       "      <td>1</td>\n",
       "      <td>0</td>\n",
       "      <td>https://v2.kickstarter.com/1662722892-eVf1EU6P...</td>\n",
       "      <td>2022-01-08 12:00:05+00:00</td>\n",
       "    </tr>\n",
       "    <tr>\n",
       "      <th>281</th>\n",
       "      <td>320949924</td>\n",
       "      <td>Retrograde Hard Enamel Pins</td>\n",
       "      <td>A series of Enamel Pins based on the combinati...</td>\n",
       "      <td>StoryA series of pins based on a set of illust...</td>\n",
       "      <td>- The possibility of minor changes in details ...</td>\n",
       "      <td>[{'rewards': 'Pledge S$ 10 or more\n",
       "\n",
       "About US$ ...</td>\n",
       "      <td>design/graphic design</td>\n",
       "      <td>10476.00</td>\n",
       "      <td>1200</td>\n",
       "      <td>2021-03-16 12:50:23</td>\n",
       "      <td>Singapore, Singapore</td>\n",
       "      <td>1</td>\n",
       "      <td>12</td>\n",
       "      <td>9.0</td>\n",
       "      <td>226</td>\n",
       "      <td>1</td>\n",
       "      <td>0</td>\n",
       "      <td>NaN</td>\n",
       "      <td>2021-02-18 13:50:23+00:00</td>\n",
       "    </tr>\n",
       "    <tr>\n",
       "      <th>478</th>\n",
       "      <td>1956852023</td>\n",
       "      <td>Owl-Carina: The Sound of Wings | MAKE 100</td>\n",
       "      <td>Cute handmade owl ocarinas and whistles. Potte...</td>\n",
       "      <td>Story\\n\\n\\nOwl-carina\\n\\n\\n\\n\\nWhat can these ...</td>\n",
       "      <td>Shipping and delivery might break the pieces. ...</td>\n",
       "      <td>[{'rewards': 'Pledge S$ 2 or more\n",
       "\n",
       "About $2\n",
       "\n",
       "\n",
       "...</td>\n",
       "      <td>crafts/pottery</td>\n",
       "      <td>7316.00</td>\n",
       "      <td>100</td>\n",
       "      <td>2020-02-24 17:46:24</td>\n",
       "      <td>Singapore, Singapore</td>\n",
       "      <td>1</td>\n",
       "      <td>11</td>\n",
       "      <td>9.0</td>\n",
       "      <td>152</td>\n",
       "      <td>1</td>\n",
       "      <td>1</td>\n",
       "      <td>NaN</td>\n",
       "      <td>2020-01-25 17:46:24+00:00</td>\n",
       "    </tr>\n",
       "    <tr>\n",
       "      <th>1674</th>\n",
       "      <td>1565012664</td>\n",
       "      <td>Alohomora - Magical Automated Safety Gate Unlo...</td>\n",
       "      <td>Alohomora, an automated unlocking module for b...</td>\n",
       "      <td>NaN</td>\n",
       "      <td>NaN</td>\n",
       "      <td>[{'rewards': 'Pledge S$ 2 or more\n",
       "\n",
       "About $2\n",
       "\n",
       "\n",
       "...</td>\n",
       "      <td>technology/gadgets</td>\n",
       "      <td>2437.00</td>\n",
       "      <td>3000</td>\n",
       "      <td>2017-12-15 12:02:03</td>\n",
       "      <td>Singapore, Singapore</td>\n",
       "      <td>0</td>\n",
       "      <td>0</td>\n",
       "      <td>4.0</td>\n",
       "      <td>112</td>\n",
       "      <td>0</td>\n",
       "      <td>0</td>\n",
       "      <td>https://v2.kickstarter.com/1662722793-jJXI4ird...</td>\n",
       "      <td>2017-11-15 12:02:03+00:00</td>\n",
       "    </tr>\n",
       "    <tr>\n",
       "      <th>323</th>\n",
       "      <td>1255089705</td>\n",
       "      <td>Vario WW1 1918 Trench Watch</td>\n",
       "      <td>Vario's 3rd watch collection inspired by WW1 p...</td>\n",
       "      <td>StoryAll watches will come with a strap and ba...</td>\n",
       "      <td>We've had numerous successful crowdfunding cam...</td>\n",
       "      <td>[{'rewards': 'Pledge S$ 20 or more\n",
       "\n",
       "About US$ ...</td>\n",
       "      <td>design/product design</td>\n",
       "      <td>297149.03</td>\n",
       "      <td>30000</td>\n",
       "      <td>2020-11-25 04:00:00</td>\n",
       "      <td>Singapore, Singapore</td>\n",
       "      <td>1</td>\n",
       "      <td>631</td>\n",
       "      <td>31.0</td>\n",
       "      <td>741</td>\n",
       "      <td>1</td>\n",
       "      <td>0</td>\n",
       "      <td>https://v2.kickstarter.com/1662645846-J7scf2mw...</td>\n",
       "      <td>2020-11-11 02:59:03+00:00</td>\n",
       "    </tr>\n",
       "  </tbody>\n",
       "</table>\n",
       "</div>"
      ],
      "text/plain": [
       "              id                                               name  \\\n",
       "108   1691565384       Make 100: City maps weaved of cassette tapes   \n",
       "281    320949924                        Retrograde Hard Enamel Pins   \n",
       "478   1956852023          Owl-Carina: The Sound of Wings | MAKE 100   \n",
       "1674  1565012664  Alohomora - Magical Automated Safety Gate Unlo...   \n",
       "323   1255089705                        Vario WW1 1918 Trench Watch   \n",
       "\n",
       "                                            description  \\\n",
       "108   Personalised a map that contains curated music...   \n",
       "281   A series of Enamel Pins based on the combinati...   \n",
       "478   Cute handmade owl ocarinas and whistles. Potte...   \n",
       "1674  Alohomora, an automated unlocking module for b...   \n",
       "323   Vario's 3rd watch collection inspired by WW1 p...   \n",
       "\n",
       "                                      description_story  \\\n",
       "108   Story\\n\\n\\n\\n\\n\\n\\n\\n\\n\\n\\n\\n\\n\\nYou'll need a...   \n",
       "281   StoryA series of pins based on a set of illust...   \n",
       "478   Story\\n\\n\\nOwl-carina\\n\\n\\n\\n\\nWhat can these ...   \n",
       "1674                                                NaN   \n",
       "323   StoryAll watches will come with a strap and ba...   \n",
       "\n",
       "                                      description_risks  \\\n",
       "108   We thank all of our cassette tape donors who c...   \n",
       "281   - The possibility of minor changes in details ...   \n",
       "478   Shipping and delivery might break the pieces. ...   \n",
       "1674                                                NaN   \n",
       "323   We've had numerous successful crowdfunding cam...   \n",
       "\n",
       "                                                rewards  \\\n",
       "108   [{'rewards': 'Pledge S$ 90 or more\n",
       "\n",
       "About $65\n",
       "...   \n",
       "281   [{'rewards': 'Pledge S$ 10 or more\n",
       "\n",
       "About US$ ...   \n",
       "478   [{'rewards': 'Pledge S$ 2 or more\n",
       "\n",
       "About $2\n",
       "\n",
       "\n",
       "...   \n",
       "1674  [{'rewards': 'Pledge S$ 2 or more\n",
       "\n",
       "About $2\n",
       "\n",
       "\n",
       "...   \n",
       "323   [{'rewards': 'Pledge S$ 20 or more\n",
       "\n",
       "About US$ ...   \n",
       "\n",
       "                   category    pledged   goal            deadline  \\\n",
       "108              technology    2138.00    800 2022-02-02 12:00:05   \n",
       "281   design/graphic design   10476.00   1200 2021-03-16 12:50:23   \n",
       "478          crafts/pottery    7316.00    100 2020-02-24 17:46:24   \n",
       "1674     technology/gadgets    2437.00   3000 2017-12-15 12:02:03   \n",
       "323   design/product design  297149.03  30000 2020-11-25 04:00:00   \n",
       "\n",
       "                  location  state faq_count  update_count  backers_count  \\\n",
       "108   Singapore, Singapore      1         4           5.0             17   \n",
       "281   Singapore, Singapore      1        12           9.0            226   \n",
       "478   Singapore, Singapore      1        11           9.0            152   \n",
       "1674  Singapore, Singapore      0         0           4.0            112   \n",
       "323   Singapore, Singapore      1       631          31.0            741   \n",
       "\n",
       "      spotlight  staff_pick  \\\n",
       "108           1           0   \n",
       "281           1           0   \n",
       "478           1           1   \n",
       "1674          0           0   \n",
       "323           1           0   \n",
       "\n",
       "                                                  video  \\\n",
       "108   https://v2.kickstarter.com/1662722892-eVf1EU6P...   \n",
       "281                                                 NaN   \n",
       "478                                                 NaN   \n",
       "1674  https://v2.kickstarter.com/1662722793-jJXI4ird...   \n",
       "323   https://v2.kickstarter.com/1662645846-J7scf2mw...   \n",
       "\n",
       "                   launched_at  \n",
       "108  2022-01-08 12:00:05+00:00  \n",
       "281  2021-02-18 13:50:23+00:00  \n",
       "478  2020-01-25 17:46:24+00:00  \n",
       "1674 2017-11-15 12:02:03+00:00  \n",
       "323  2020-11-11 02:59:03+00:00  "
      ]
     },
     "execution_count": 18,
     "metadata": {},
     "output_type": "execute_result"
    }
   ],
   "source": [
    "train.head()"
   ]
  },
  {
   "cell_type": "code",
   "execution_count": 19,
   "id": "0MjpkqorcwSn",
   "metadata": {
    "colab": {
     "base_uri": "https://localhost:8080/"
    },
    "executionInfo": {
     "elapsed": 6,
     "status": "ok",
     "timestamp": 1662898087018,
     "user": {
      "displayName": "wen yin fun",
      "userId": "18154948162664539142"
     },
     "user_tz": -480
    },
    "id": "0MjpkqorcwSn",
    "outputId": "63d73cec-acb2-4923-c83a-9d457760a4f1"
   },
   "outputs": [
    {
     "data": {
      "text/plain": [
       "Index(['id', 'name', 'description', 'description_story', 'description_risks',\n",
       "       'rewards', 'category', 'pledged', 'goal', 'deadline', 'location',\n",
       "       'state', 'faq_count', 'update_count', 'backers_count', 'spotlight',\n",
       "       'staff_pick', 'video', 'launched_at'],\n",
       "      dtype='object')"
      ]
     },
     "execution_count": 19,
     "metadata": {},
     "output_type": "execute_result"
    }
   ],
   "source": [
    "train.columns"
   ]
  },
  {
   "cell_type": "code",
   "execution_count": 20,
   "id": "mEQGoxxT7-E8",
   "metadata": {
    "colab": {
     "base_uri": "https://localhost:8080/"
    },
    "executionInfo": {
     "elapsed": 660,
     "status": "ok",
     "timestamp": 1662906345694,
     "user": {
      "displayName": "Ivan Koh",
      "userId": "00122251730770892026"
     },
     "user_tz": -480
    },
    "id": "mEQGoxxT7-E8",
    "outputId": "8fc8bd6c-88bb-4869-f20c-1f313e0cfc43"
   },
   "outputs": [
    {
     "data": {
      "text/plain": [
       "19"
      ]
     },
     "execution_count": 20,
     "metadata": {},
     "output_type": "execute_result"
    }
   ],
   "source": [
    "len(train)\n",
    "len(train.columns)"
   ]
  },
  {
   "cell_type": "markdown",
   "id": "cb4b0bd9",
   "metadata": {},
   "source": [
    "## Apply the same data cleaning to test set"
   ]
  },
  {
   "cell_type": "code",
   "execution_count": 21,
   "id": "fcd35c9f",
   "metadata": {},
   "outputs": [],
   "source": [
    "test = test.drop(remove_list, axis = 1)\n",
    "\n",
    "test = test.rename(columns={\n",
    "    \"categorySlug\":\"category\",\n",
    "    \"launched_at_formatted\": \"launched_at\",\n",
    "    \"locationName\": \"location\",\n",
    "    \"Description\": \"description\",\n",
    "    \"updateCount\": \"update_count\",\n",
    "    \"commentCount\": \"faq_count\"\n",
    "})\n",
    "test = test[['id', 'name', 'description', \n",
    "                       'description_story', 'description_risks', 'rewards',\n",
    "                       'category', 'pledged', 'goal', 'deadline', 'location', \n",
    "                       'state','faq_count', 'update_count', 'backers_count',\n",
    "                       'spotlight', 'staff_pick', 'video', 'launched_at']]\n",
    "\n",
    "test['spotlight'] = test['spotlight'].astype(int)\n",
    "test['staff_pick'] = test['staff_pick'].astype(int)\n",
    "test['deadline'] = pd.to_datetime(test['deadline'], unit='s')  \n",
    "test['launched_at'] = pd.to_datetime(test['launched_at'], infer_datetime_format=True)\n",
    "test['rewards'] = test['rewards'].apply(lambda x: ast.literal_eval(x))"
   ]
  },
  {
   "cell_type": "markdown",
   "id": "1sjc-w3T_KKC",
   "metadata": {
    "id": "1sjc-w3T_KKC"
   },
   "source": [
    "## Export to excel"
   ]
  },
  {
   "cell_type": "code",
   "execution_count": 22,
   "id": "ENeFoYOD8M3w",
   "metadata": {
    "id": "ENeFoYOD8M3w"
   },
   "outputs": [],
   "source": [
    "train.to_csv(\"data/kickstarter_train.csv\", index=False)\n",
    "test.to_csv(\"data/kickstarter_test.csv\", index=False)"
   ]
  }
 ],
 "metadata": {
  "colab": {
   "collapsed_sections": [
    "mkPED5zOf4I0"
   ],
   "provenance": []
  },
  "kernelspec": {
   "display_name": "Python 3.9 (bt4222)",
   "language": "python",
   "name": "bt4222"
  },
  "language_info": {
   "codemirror_mode": {
    "name": "ipython",
    "version": 3
   },
   "file_extension": ".py",
   "mimetype": "text/x-python",
   "name": "python",
   "nbconvert_exporter": "python",
   "pygments_lexer": "ipython3",
   "version": "3.9.12"
  }
 },
 "nbformat": 4,
 "nbformat_minor": 5
}
