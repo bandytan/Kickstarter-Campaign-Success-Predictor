{
 "cells": [
  {
   "cell_type": "code",
   "execution_count": 216,
   "id": "826ff0c2",
   "metadata": {
    "id": "826ff0c2"
   },
   "outputs": [],
   "source": [
    "import pandas as pd \n",
    "import numpy as np\n",
    "import matplotlib.pyplot as plt \n",
    "import seaborn as sns\n",
    "from datetime import datetime\n",
    "import ast\n",
    "from sklearn.model_selection import train_test_split\n",
    "from sklearn.preprocessing import LabelBinarizer\n",
    "import re"
   ]
  },
  {
   "cell_type": "markdown",
   "id": "0tCQ3N37eiMm",
   "metadata": {
    "id": "0tCQ3N37eiMm"
   },
   "source": [
    "## Import Dataset\n",
    "\n"
   ]
  },
  {
   "cell_type": "code",
   "execution_count": 217,
   "id": "9a77d86d",
   "metadata": {
    "id": "9a77d86d"
   },
   "outputs": [
    {
     "name": "stdout",
     "output_type": "stream",
     "text": [
      "47341\n",
      "30031\n"
     ]
    }
   ],
   "source": [
    "df_merged = pd.read_csv(\"/Users/ivankoh/Library/CloudStorage/OneDrive-NationalUniversityofSingapore/1D/NUS Y3S1/BT4222/Data/kickstart_data_merged_with_empty.csv\", dtype={\"backer-amount\":str})\n",
    "\n",
    "print(len(df_merged))\n",
    "# remove inconsistencies from webscraping and merging \n",
    "# this step was added after proposal submission, so the number of observations differ slightly.\n",
    "# in other words this step is part of post-intermediate data cleaning in preparation for the final report\n",
    "index = df_merged[pd.isnull(df_merged['story'])].index\n",
    "\n",
    "df_merged = df_merged[pd.notnull(df_merged['story'])]\n",
    "df_merged = df_merged[pd.notnull(df_merged['risk'])]\n",
    "print(len(df_merged))"
   ]
  },
  {
   "cell_type": "code",
   "execution_count": 218,
   "id": "1GoVeJhLgO17",
   "metadata": {
    "colab": {
     "base_uri": "https://localhost:8080/"
    },
    "executionInfo": {
     "elapsed": 7,
     "status": "ok",
     "timestamp": 1662897955688,
     "user": {
      "displayName": "wen yin fun",
      "userId": "18154948162664539142"
     },
     "user_tz": -480
    },
    "id": "1GoVeJhLgO17",
    "outputId": "7a814d6e-cabf-4b95-83bb-764fc3d4acec"
   },
   "outputs": [
    {
     "data": {
      "text/plain": [
       "Index(['Unnamed: 0', 'Unnamed: 0_x', 'web-scraper-order',\n",
       "       'web-scraper-start-url', 'Title', 'Description', 'Status',\n",
       "       'Pledged-Amount', 'Funded-percent', 'Time left', 'Sphere', 'Location',\n",
       "       'Image-src', 'Link', 'Link-href', 'backer-amount', 'video',\n",
       "       'description_story', 'description_risks', 'rewards', 'updateCount',\n",
       "       'commentCount', 'backers_count', 'blurb_x', 'category',\n",
       "       'converted_pledged_amount', 'country', 'country_displayable_name',\n",
       "       'created_at', 'creator', 'currency', 'currency_symbol',\n",
       "       'currency_trailing_code', 'current_currency', 'deadline',\n",
       "       'disable_communication', 'friends', 'fx_rate', 'goal', 'id',\n",
       "       'is_backing', 'is_starrable', 'is_starred', 'launched_at', 'location',\n",
       "       'name', 'permissions', 'photo', 'pledged', 'profile', 'slug',\n",
       "       'source_url', 'spotlight', 'staff_pick', 'state', 'state_changed_at',\n",
       "       'static_usd_rate', 'urls', 'usd_exchange_rate', 'usd_pledged',\n",
       "       'usd_type', 'main_url', 'Unnamed: 0_y', 'ivan_index', 'blurb_y',\n",
       "       'story', 'risk', 'final_index'],\n",
       "      dtype='object')"
      ]
     },
     "execution_count": 218,
     "metadata": {},
     "output_type": "execute_result"
    }
   ],
   "source": [
    "df_merged.columns"
   ]
  },
  {
   "cell_type": "markdown",
   "id": "6a866879",
   "metadata": {},
   "source": [
    "## Train Test Split After Cleaning (70-15-15)\n",
    "https://www.researchgate.net/post/Removing_a_low_predictive_column_before_or_after_train_test_split#:~:text=Yes%2C%20you%20should%20remove%20the,but%20not%20before%20the%20split.\n",
    "\n",
    "- Perform encoding for the target then split\n",
    "\n",
    "- So we will apply the same cleaning to the test data at the end"
   ]
  },
  {
   "cell_type": "code",
   "execution_count": 219,
   "id": "430cac32",
   "metadata": {
    "scrolled": true
   },
   "outputs": [
    {
     "name": "stdout",
     "output_type": "stream",
     "text": [
      "after remove \n",
      " successful    20569\n",
      "failed         8556\n",
      "Name: Status, dtype: int64\n"
     ]
    }
   ],
   "source": [
    "# get the target variable - success or failure - binary classfication problem\n",
    "df_merged = df_merged[(df_merged['Status'] == \"successful\") | (df_merged['Status'] == \"failed\")]\n",
    "print('after remove \\n', df_merged['Status'].value_counts())\n",
    "df_merged['Status'] = df_merged['Status'].apply(lambda x: 0 if x==\"failed\" else 1)\n",
    "\n",
    "train, test = train_test_split(df_merged, test_size=0.15, random_state=69, stratify=df_merged['state'])"
   ]
  },
  {
   "cell_type": "code",
   "execution_count": 220,
   "id": "4ffdbc57",
   "metadata": {},
   "outputs": [
    {
     "name": "stdout",
     "output_type": "stream",
     "text": [
      "train size: 24756\n",
      "test size 4369\n"
     ]
    }
   ],
   "source": [
    "print(\"train size:\", len(train))\n",
    "print(\"test size\", len(test))"
   ]
  },
  {
   "cell_type": "code",
   "execution_count": 221,
   "id": "e23c2732",
   "metadata": {},
   "outputs": [
    {
     "data": {
      "text/plain": [
       "1    17482\n",
       "0     7274\n",
       "Name: Status, dtype: int64"
      ]
     },
     "execution_count": 221,
     "metadata": {},
     "output_type": "execute_result"
    }
   ],
   "source": [
    "train['Status'].value_counts()"
   ]
  },
  {
   "cell_type": "markdown",
   "id": "ff3d1c03",
   "metadata": {
    "id": "ff3d1c03"
   },
   "source": [
    "## Intermediate Data Cleaning"
   ]
  },
  {
   "cell_type": "code",
   "execution_count": 222,
   "id": "177bd9f6",
   "metadata": {},
   "outputs": [],
   "source": [
    "#global remove list \n",
    "remove_list = []"
   ]
  },
  {
   "cell_type": "markdown",
   "id": "h0Im_nV7tohI",
   "metadata": {
    "id": "h0Im_nV7tohI"
   },
   "source": [
    "### Remove columns with the same values for all rows\n",
    "\n",
    "\n",
    "\n"
   ]
  },
  {
   "cell_type": "code",
   "execution_count": 223,
   "id": "LdYjDqyStrZ1",
   "metadata": {
    "colab": {
     "base_uri": "https://localhost:8080/"
    },
    "executionInfo": {
     "elapsed": 425,
     "status": "ok",
     "timestamp": 1662898657977,
     "user": {
      "displayName": "wen yin fun",
      "userId": "18154948162664539142"
     },
     "user_tz": -480
    },
    "id": "LdYjDqyStrZ1",
    "outputId": "126e2dec-7f43-4af7-8127-fc353225f2cd"
   },
   "outputs": [
    {
     "name": "stdout",
     "output_type": "stream",
     "text": [
      "Columns with the same values in all of its rows are:\n",
      "Pledged-Amount\n",
      "Time left\n",
      "Sphere\n",
      "Location\n",
      "disable_communication\n"
     ]
    }
   ],
   "source": [
    "print(\"Columns with the same values in all of its rows are:\")\n",
    "for i in train: \n",
    "  if len(set(train[i])) == 1 or all(pd.isnull(train[i])):\n",
    "    remove_list.append(i)\n",
    "    print(i)"
   ]
  },
  {
   "cell_type": "markdown",
   "id": "UJ0dbVjJttHs",
   "metadata": {
    "id": "UJ0dbVjJttHs"
   },
   "source": [
    "### Remove columns that have the exact same values or very similar values as another column, and keep unique columns\n",
    "\n",
    "There will be duplicate or very similar columns because:\n",
    "- Merged dataset takes data from 2 data sources and they may overlap:\n",
    "  - For the columns with very similar values:\n",
    "    - Take the column with more information\n",
    "    - Take the more recent column (Webscraper.io was the most recently scraped)\n",
    "    - Take the column whose values can be compared with each other"
   ]
  },
  {
   "cell_type": "code",
   "execution_count": 224,
   "id": "omBktFPI6I-B",
   "metadata": {
    "id": "omBktFPI6I-B"
   },
   "outputs": [],
   "source": [
    "### name and Title \n",
    "# some differences in name and Title - keep the more recent one which is Title\n",
    "train[train['name'] != train['Title']][['Title', 'name']]\n",
    "remove_list.append('name')\n",
    "\n",
    "### Description, blurb_x, blurb_y\n",
    "train[['blurb_x', 'blurb_y', 'Description']]\n",
    "# blurb_y has significant amount of missing values so blurb_x has more information \n",
    "train[train['blurb_x'] != train['Description']][['blurb_x', 'Description']]\n",
    "# prefer Description over blurb_x \n",
    "remove_list.extend(['blurb_y', 'blurb_x'])\n",
    "\n",
    "### deadline and Time left \n",
    "# deadline is more informative because Time left is dynamic \n",
    "remove_list.append('Time left')\n",
    "\n",
    "# ### location, Location, Country\n",
    "train[['location', 'Location', 'country', 'country_displayable_name']]\n",
    "# Location contains no useful information\n",
    "remove_list.append(\"Location\")\n",
    "train['location'].iloc[1]\n",
    "train[pd.isnull(train['location'])][['location', 'country', 'country_displayable_name']]\n",
    "remove_list.append(\"country_displayable_name\")\n",
    "# location seems to contain more information than Country, but location has a few missing values while country has no missing values\n",
    "# use values in country to impute missing entries in location, then remove country\n",
    "train.loc[train['location'].isna(), 'location'] = train['country_displayable_name']\n",
    " \n",
    "### state and Status\n",
    "# Status is the more recent one \n",
    "remove_list.append('state')"
   ]
  },
  {
   "cell_type": "markdown",
   "id": "ZI7eRPcMybVy",
   "metadata": {
    "id": "ZI7eRPcMybVy"
   },
   "source": [
    "### Remove columns that are redundant \n",
    "\n",
    "Data is redundant in helping us with our problem statement when:\n",
    "- The data is metadata \n",
    "- The data contains urls that cannot be accessed\n",
    "- Variables that have leaks information into target variable"
   ]
  },
  {
   "cell_type": "code",
   "execution_count": 225,
   "id": "uOzJ7fQVyih_",
   "metadata": {
    "id": "uOzJ7fQVyih_"
   },
   "outputs": [],
   "source": [
    "# meta-data\n",
    "remove_list.extend(['web-scraper-start-url', 'web-scraper-order', 'urls', 'Link', 'Link-href',\n",
    "                   'Unnamed: 0', 'Funded-percent', 'Unnamed: 0_x', 'Unnamed: 0_y', 'currency_symbol',\n",
    "                   'currency_trailing_code', 'current_currency', 'description_risks', 'description_story', \n",
    "                    'final_index', 'Image-src', 'currency', \n",
    "                   'friends', 'fx_rate', 'is_backing', 'is_starrable', 'is_starred', 'ivan_index',\n",
    "                   'main_url', 'permissions', 'photo', 'profile', 'slug', 'source_url', 'state_changed_at',\n",
    "                   'static_usd_rate', 'usd_exchange_rate', 'usd_type', 'country', 'final_index', 'creator',\n",
    "                   'pledged'])\n",
    "\n",
    "# Features that leak information into target variable \n",
    "remove_list.extend(['backer-amount', 'backers_count', 'Pledged-Amount', 'updateCount', 'commentCount', \n",
    "                   'spotlight', 'converted_pledged_amount', 'usd_pledged'])"
   ]
  },
  {
   "cell_type": "code",
   "execution_count": 226,
   "id": "4f76fd4b",
   "metadata": {},
   "outputs": [
    {
     "data": {
      "text/plain": [
       "Index(['Title', 'Description', 'Status', 'video', 'rewards', 'category',\n",
       "       'created_at', 'deadline', 'goal', 'id', 'launched_at', 'location',\n",
       "       'staff_pick', 'story', 'risk'],\n",
       "      dtype='object')"
      ]
     },
     "execution_count": 226,
     "metadata": {},
     "output_type": "execute_result"
    }
   ],
   "source": [
    "#drop all at once\n",
    "remove_list = list(set(remove_list))\n",
    "train = train.drop(remove_list, axis = 1)\n",
    "train.columns"
   ]
  },
  {
   "cell_type": "markdown",
   "id": "GCP_EX8nuIZk",
   "metadata": {
    "id": "GCP_EX8nuIZk"
   },
   "source": [
    "### Rename columns to be more readable and convert columns to their correct formats\n",
    "\n"
   ]
  },
  {
   "cell_type": "markdown",
   "id": "2adcef48",
   "metadata": {},
   "source": [
    "#### Parsing text features (Post Proposal)"
   ]
  },
  {
   "cell_type": "code",
   "execution_count": 227,
   "id": "e393d089",
   "metadata": {},
   "outputs": [],
   "source": [
    "# Remove rewards that got cut off while scraping and closes the dictionary\n",
    "# Text cleaning for: rewards, description, description story, description risks\n",
    "def clean_text(df):\n",
    "    def clean_rewards(corpus):\n",
    "        for row in corpus:\n",
    "            reward_list = row\n",
    "            try:\n",
    "                tiers = ast.literal_eval(reward_list)\n",
    "            except SyntaxError as e:\n",
    "                i = len(reward_list) -1\n",
    "                while reward_list[i] != \"{\":\n",
    "                    i -= 1\n",
    "                reward_list = reward_list[:(i-1)]\n",
    "                reward_list += ']'\n",
    "        return reward_list\n",
    "    \n",
    "    df['rewards'] = clean_rewards(df['rewards'])\n",
    "\n",
    "    return df"
   ]
  },
  {
   "cell_type": "code",
   "execution_count": 228,
   "id": "moXaMNyAUDwA",
   "metadata": {
    "id": "moXaMNyAUDwA"
   },
   "outputs": [],
   "source": [
    "train = train.rename(columns={\n",
    "    \"Title\":\"name\",\n",
    "    \"Description\": \"description\",\n",
    "    \"story\": \"description_story\",\n",
    "    \"risk\": \"description_risks\",\n",
    "    \"Description\": \"description\",\n",
    "    \"Status\": \"state\"\n",
    "})\n",
    "train = train[['id', 'name', 'description', \n",
    "                       'description_story', 'description_risks', 'rewards',\n",
    "                       'category', 'goal', 'deadline', 'location', \n",
    "                       'state','staff_pick', 'video', 'launched_at', 'created_at']]\n",
    "\n",
    "train['staff_pick'] = train['staff_pick'].astype(int)\n",
    "train['deadline'] = pd.to_datetime(train['deadline'], unit='s')  \n",
    "train['launched_at'] = pd.to_datetime(train['launched_at'], unit='s')\n",
    "train['created_at'] = pd.to_datetime(train['created_at'], unit='s')\n",
    "train['category'] = train['category'].apply(lambda x: json.loads(x)['slug'].split(\"/\")[0])\n",
    "train['location'] = train['location'].apply(lambda x: json.loads(x)['country'])\n",
    "train = clean_text(train)"
   ]
  },
  {
   "cell_type": "code",
   "execution_count": 229,
   "id": "5nmR1skWCehm",
   "metadata": {
    "colab": {
     "base_uri": "https://localhost:8080/",
     "height": 647
    },
    "executionInfo": {
     "elapsed": 317,
     "status": "ok",
     "timestamp": 1662898706293,
     "user": {
      "displayName": "wen yin fun",
      "userId": "18154948162664539142"
     },
     "user_tz": -480
    },
    "id": "5nmR1skWCehm",
    "outputId": "4fc69b06-2e86-4fcc-ccd5-692dbc60b085"
   },
   "outputs": [
    {
     "data": {
      "text/html": [
       "<div>\n",
       "<style scoped>\n",
       "    .dataframe tbody tr th:only-of-type {\n",
       "        vertical-align: middle;\n",
       "    }\n",
       "\n",
       "    .dataframe tbody tr th {\n",
       "        vertical-align: top;\n",
       "    }\n",
       "\n",
       "    .dataframe thead th {\n",
       "        text-align: right;\n",
       "    }\n",
       "</style>\n",
       "<table border=\"1\" class=\"dataframe\">\n",
       "  <thead>\n",
       "    <tr style=\"text-align: right;\">\n",
       "      <th></th>\n",
       "      <th>id</th>\n",
       "      <th>name</th>\n",
       "      <th>description</th>\n",
       "      <th>description_story</th>\n",
       "      <th>description_risks</th>\n",
       "      <th>rewards</th>\n",
       "      <th>category</th>\n",
       "      <th>goal</th>\n",
       "      <th>deadline</th>\n",
       "      <th>location</th>\n",
       "      <th>state</th>\n",
       "      <th>staff_pick</th>\n",
       "      <th>video</th>\n",
       "      <th>launched_at</th>\n",
       "      <th>created_at</th>\n",
       "    </tr>\n",
       "  </thead>\n",
       "  <tbody>\n",
       "    <tr>\n",
       "      <th>33288</th>\n",
       "      <td>3.071031e+08</td>\n",
       "      <td>\"To the things themselves!\"</td>\n",
       "      <td>A new dance exploring both my allergy to \"abou...</td>\n",
       "      <td>November 2, 2018 OMG! We're just over halfway ...</td>\n",
       "      <td>We really need your support!  Thank you.</td>\n",
       "      <td>[{\"rewards\":\"Pledge US$ 100 or more\\n\\nAbout S...</td>\n",
       "      <td>dance</td>\n",
       "      <td>9000.0</td>\n",
       "      <td>2018-11-17 04:59:00</td>\n",
       "      <td>US</td>\n",
       "      <td>1</td>\n",
       "      <td>1</td>\n",
       "      <td>https://v2.kickstarter.com/1663805284-vaRunMxL...</td>\n",
       "      <td>2018-10-15 20:59:22</td>\n",
       "      <td>2018-10-09 01:27:56</td>\n",
       "    </tr>\n",
       "    <tr>\n",
       "      <th>30856</th>\n",
       "      <td>2.143193e+08</td>\n",
       "      <td>Journals 1990-2014</td>\n",
       "      <td>How did we get to the new century? Ride the wa...</td>\n",
       "      <td>Many thanks to my backers for getting us to th...</td>\n",
       "      <td>Here are the steps of my process:\\r\\n\\r\\nStep ...</td>\n",
       "      <td>[{\"rewards\":\"Pledge US$ 100 or more\\n\\nAbout S...</td>\n",
       "      <td>publishing</td>\n",
       "      <td>5000.0</td>\n",
       "      <td>2015-04-09 14:39:44</td>\n",
       "      <td>US</td>\n",
       "      <td>1</td>\n",
       "      <td>1</td>\n",
       "      <td>https://v2.kickstarter.com/1664643846-VxuMrMK%...</td>\n",
       "      <td>2015-03-16 14:39:44</td>\n",
       "      <td>2015-02-24 17:29:35</td>\n",
       "    </tr>\n",
       "    <tr>\n",
       "      <th>30738</th>\n",
       "      <td>7.475064e+07</td>\n",
       "      <td>Bailarina Piano</td>\n",
       "      <td>Hemos conseguido poner en marcha el proyecto B...</td>\n",
       "      <td>-¿Te gustaría disfrutar de la mezcla de la dan...</td>\n",
       "      <td>El principal riesgo es el retrasar el proyecto...</td>\n",
       "      <td>[{\"rewards\":\"Pledge US$ 100 or more\\n\\nAbout S...</td>\n",
       "      <td>music</td>\n",
       "      <td>650.0</td>\n",
       "      <td>2021-05-23 01:36:40</td>\n",
       "      <td>ES</td>\n",
       "      <td>1</td>\n",
       "      <td>0</td>\n",
       "      <td>https://v2.kickstarter.com/1664750650-Kfqx1NI3...</td>\n",
       "      <td>2021-05-03 01:36:40</td>\n",
       "      <td>2021-04-30 22:16:36</td>\n",
       "    </tr>\n",
       "    <tr>\n",
       "      <th>39633</th>\n",
       "      <td>1.946709e+09</td>\n",
       "      <td>Lily Locksmith full length album</td>\n",
       "      <td>Help Lily Locksmith put out her final recordin...</td>\n",
       "      <td>Lily Locksmith, with her powerful voice, rich ...</td>\n",
       "      <td>The biggest challange here is the time line. I...</td>\n",
       "      <td>[{\"rewards\":\"Pledge US$ 100 or more\\n\\nAbout S...</td>\n",
       "      <td>music</td>\n",
       "      <td>34000.0</td>\n",
       "      <td>2022-04-14 07:21:20</td>\n",
       "      <td>SE</td>\n",
       "      <td>1</td>\n",
       "      <td>0</td>\n",
       "      <td>https://v2.kickstarter.com/1664734207-Ac%2F11N...</td>\n",
       "      <td>2022-03-20 07:21:20</td>\n",
       "      <td>2022-01-30 12:56:59</td>\n",
       "    </tr>\n",
       "    <tr>\n",
       "      <th>11522</th>\n",
       "      <td>5.372524e+08</td>\n",
       "      <td>Very Young Composers @ 20!</td>\n",
       "      <td>Help celebrate 20 years of empowering the youn...</td>\n",
       "      <td>For 20 years now, the Very Young Composers pro...</td>\n",
       "      <td>Live streaming to South Korea, Finland, Venezu...</td>\n",
       "      <td>[{\"rewards\":\"Pledge US$ 100 or more\\n\\nAbout S...</td>\n",
       "      <td>music</td>\n",
       "      <td>20000.0</td>\n",
       "      <td>2016-05-06 18:45:32</td>\n",
       "      <td>US</td>\n",
       "      <td>1</td>\n",
       "      <td>1</td>\n",
       "      <td>https://v2.kickstarter.com/1664682609-xfA%2FLS...</td>\n",
       "      <td>2016-04-05 18:45:32</td>\n",
       "      <td>2016-02-24 16:11:49</td>\n",
       "    </tr>\n",
       "  </tbody>\n",
       "</table>\n",
       "</div>"
      ],
      "text/plain": [
       "                 id                              name  \\\n",
       "33288  3.071031e+08       \"To the things themselves!\"   \n",
       "30856  2.143193e+08                Journals 1990-2014   \n",
       "30738  7.475064e+07                   Bailarina Piano   \n",
       "39633  1.946709e+09  Lily Locksmith full length album   \n",
       "11522  5.372524e+08        Very Young Composers @ 20!   \n",
       "\n",
       "                                             description  \\\n",
       "33288  A new dance exploring both my allergy to \"abou...   \n",
       "30856  How did we get to the new century? Ride the wa...   \n",
       "30738  Hemos conseguido poner en marcha el proyecto B...   \n",
       "39633  Help Lily Locksmith put out her final recordin...   \n",
       "11522  Help celebrate 20 years of empowering the youn...   \n",
       "\n",
       "                                       description_story  \\\n",
       "33288  November 2, 2018 OMG! We're just over halfway ...   \n",
       "30856  Many thanks to my backers for getting us to th...   \n",
       "30738  -¿Te gustaría disfrutar de la mezcla de la dan...   \n",
       "39633  Lily Locksmith, with her powerful voice, rich ...   \n",
       "11522  For 20 years now, the Very Young Composers pro...   \n",
       "\n",
       "                                       description_risks  \\\n",
       "33288           We really need your support!  Thank you.   \n",
       "30856  Here are the steps of my process:\\r\\n\\r\\nStep ...   \n",
       "30738  El principal riesgo es el retrasar el proyecto...   \n",
       "39633  The biggest challange here is the time line. I...   \n",
       "11522  Live streaming to South Korea, Finland, Venezu...   \n",
       "\n",
       "                                                 rewards    category     goal  \\\n",
       "33288  [{\"rewards\":\"Pledge US$ 100 or more\\n\\nAbout S...       dance   9000.0   \n",
       "30856  [{\"rewards\":\"Pledge US$ 100 or more\\n\\nAbout S...  publishing   5000.0   \n",
       "30738  [{\"rewards\":\"Pledge US$ 100 or more\\n\\nAbout S...       music    650.0   \n",
       "39633  [{\"rewards\":\"Pledge US$ 100 or more\\n\\nAbout S...       music  34000.0   \n",
       "11522  [{\"rewards\":\"Pledge US$ 100 or more\\n\\nAbout S...       music  20000.0   \n",
       "\n",
       "                 deadline location  state  staff_pick  \\\n",
       "33288 2018-11-17 04:59:00       US      1           1   \n",
       "30856 2015-04-09 14:39:44       US      1           1   \n",
       "30738 2021-05-23 01:36:40       ES      1           0   \n",
       "39633 2022-04-14 07:21:20       SE      1           0   \n",
       "11522 2016-05-06 18:45:32       US      1           1   \n",
       "\n",
       "                                                   video         launched_at  \\\n",
       "33288  https://v2.kickstarter.com/1663805284-vaRunMxL... 2018-10-15 20:59:22   \n",
       "30856  https://v2.kickstarter.com/1664643846-VxuMrMK%... 2015-03-16 14:39:44   \n",
       "30738  https://v2.kickstarter.com/1664750650-Kfqx1NI3... 2021-05-03 01:36:40   \n",
       "39633  https://v2.kickstarter.com/1664734207-Ac%2F11N... 2022-03-20 07:21:20   \n",
       "11522  https://v2.kickstarter.com/1664682609-xfA%2FLS... 2016-04-05 18:45:32   \n",
       "\n",
       "               created_at  \n",
       "33288 2018-10-09 01:27:56  \n",
       "30856 2015-02-24 17:29:35  \n",
       "30738 2021-04-30 22:16:36  \n",
       "39633 2022-01-30 12:56:59  \n",
       "11522 2016-02-24 16:11:49  "
      ]
     },
     "execution_count": 229,
     "metadata": {},
     "output_type": "execute_result"
    }
   ],
   "source": [
    "train.head()"
   ]
  },
  {
   "cell_type": "code",
   "execution_count": 230,
   "id": "0MjpkqorcwSn",
   "metadata": {
    "colab": {
     "base_uri": "https://localhost:8080/"
    },
    "executionInfo": {
     "elapsed": 6,
     "status": "ok",
     "timestamp": 1662898087018,
     "user": {
      "displayName": "wen yin fun",
      "userId": "18154948162664539142"
     },
     "user_tz": -480
    },
    "id": "0MjpkqorcwSn",
    "outputId": "63d73cec-acb2-4923-c83a-9d457760a4f1"
   },
   "outputs": [
    {
     "data": {
      "text/plain": [
       "Index(['id', 'name', 'description', 'description_story', 'description_risks',\n",
       "       'rewards', 'category', 'goal', 'deadline', 'location', 'state',\n",
       "       'staff_pick', 'video', 'launched_at', 'created_at'],\n",
       "      dtype='object')"
      ]
     },
     "execution_count": 230,
     "metadata": {},
     "output_type": "execute_result"
    }
   ],
   "source": [
    "train.columns"
   ]
  },
  {
   "cell_type": "code",
   "execution_count": 231,
   "id": "mEQGoxxT7-E8",
   "metadata": {
    "colab": {
     "base_uri": "https://localhost:8080/"
    },
    "executionInfo": {
     "elapsed": 660,
     "status": "ok",
     "timestamp": 1662906345694,
     "user": {
      "displayName": "Ivan Koh",
      "userId": "00122251730770892026"
     },
     "user_tz": -480
    },
    "id": "mEQGoxxT7-E8",
    "outputId": "8fc8bd6c-88bb-4869-f20c-1f313e0cfc43"
   },
   "outputs": [
    {
     "data": {
      "text/plain": [
       "15"
      ]
     },
     "execution_count": 231,
     "metadata": {},
     "output_type": "execute_result"
    }
   ],
   "source": [
    "len(train)\n",
    "len(train.columns)"
   ]
  },
  {
   "cell_type": "markdown",
   "id": "cb4b0bd9",
   "metadata": {},
   "source": [
    "## Apply the same data cleaning to test set"
   ]
  },
  {
   "cell_type": "code",
   "execution_count": 232,
   "id": "fcd35c9f",
   "metadata": {},
   "outputs": [],
   "source": [
    "# test.loc[test['location'].isna(), 'location'] = test['country_displayable_name']\n",
    "test = test.drop(remove_list, axis = 1)\n",
    "\n",
    "test = test.rename(columns={\n",
    "    \"Title\":\"name\",\n",
    "    \"Description\": \"description\",\n",
    "    \"story\": \"description_story\",\n",
    "    \"risk\": \"description_risks\",\n",
    "    \"Description\": \"description\",\n",
    "    \"Status\": \"state\"\n",
    "})\n",
    "test = test[['id', 'name', 'description', \n",
    "                       'description_story', 'description_risks', 'rewards',\n",
    "                       'category', 'goal', 'deadline', 'location', \n",
    "                       'state','staff_pick', 'video', 'launched_at', 'created_at']]\n",
    "\n",
    "test['staff_pick'] = test['staff_pick'].astype(int)\n",
    "test['deadline'] = pd.to_datetime(test['deadline'], unit='s')  \n",
    "test['launched_at'] = pd.to_datetime(test['launched_at'], unit='s')\n",
    "test['created_at'] = pd.to_datetime(test['created_at'], unit='s')\n",
    "test['category'] = test['category'].apply(lambda x: json.loads(x)['slug'].split(\"/\")[0])\n",
    "test['location'] = test['location'].apply(lambda x: json.loads(x)['country'])\n",
    "test = clean_text(test)"
   ]
  },
  {
   "cell_type": "markdown",
   "id": "1sjc-w3T_KKC",
   "metadata": {
    "id": "1sjc-w3T_KKC"
   },
   "source": [
    "## Export to excel"
   ]
  },
  {
   "cell_type": "code",
   "execution_count": 233,
   "id": "ENeFoYOD8M3w",
   "metadata": {
    "id": "ENeFoYOD8M3w"
   },
   "outputs": [],
   "source": [
    "train.to_csv(\"/Users/ivankoh/Library/CloudStorage/OneDrive-NationalUniversityofSingapore/1D/NUS Y3S1/BT4222/Data/kickstarter_train.csv\", index=False)\n",
    "test.to_csv(\"/Users/ivankoh/Library/CloudStorage/OneDrive-NationalUniversityofSingapore/1D/NUS Y3S1/BT4222/Data/kickstarter_test.csv\", index=False)"
   ]
  }
 ],
 "metadata": {
  "colab": {
   "collapsed_sections": [
    "mkPED5zOf4I0"
   ],
   "provenance": []
  },
  "kernelspec": {
   "display_name": "Python 3.9 (bt4222)",
   "language": "python",
   "name": "bt4222"
  },
  "language_info": {
   "codemirror_mode": {
    "name": "ipython",
    "version": 3
   },
   "file_extension": ".py",
   "mimetype": "text/x-python",
   "name": "python",
   "nbconvert_exporter": "python",
   "pygments_lexer": "ipython3",
   "version": "3.9.12"
  },
  "toc": {
   "base_numbering": 1,
   "nav_menu": {},
   "number_sections": true,
   "sideBar": true,
   "skip_h1_title": false,
   "title_cell": "Table of Contents",
   "title_sidebar": "Contents",
   "toc_cell": false,
   "toc_position": {
    "height": "calc(100% - 180px)",
    "left": "10px",
    "top": "150px",
    "width": "165px"
   },
   "toc_section_display": true,
   "toc_window_display": true
  }
 },
 "nbformat": 4,
 "nbformat_minor": 5
}
