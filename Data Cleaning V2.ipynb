{
 "cells": [
  {
   "cell_type": "code",
   "execution_count": null,
   "id": "826ff0c2",
   "metadata": {
    "id": "826ff0c2"
   },
   "outputs": [],
   "source": [
    "import pandas as pd \n",
    "import numpy as np\n",
    "import matplotlib.pyplot as plt \n",
    "import seaborn as sns\n",
    "from datetime import datetime\n",
    "import ast\n",
    "from sklearn.model_selection import train_test_split\n",
    "from sklearn.preprocessing import LabelBinarizer"
   ]
  },
  {
   "cell_type": "markdown",
   "id": "0tCQ3N37eiMm",
   "metadata": {
    "id": "0tCQ3N37eiMm"
   },
   "source": [
    "## Import Dataset\n",
    "\n"
   ]
  },
  {
   "cell_type": "code",
   "execution_count": null,
   "id": "9a77d86d",
   "metadata": {
    "id": "9a77d86d"
   },
   "outputs": [],
   "source": [
    "df_merged = pd.read_csv(\"kickstart_data_merged_with_empty.csv\", dtype={\"backer-amount\":str})\n",
    "\n",
    "print(len(df_merged))\n",
    "# remove inconsistencies from webscraping and merging \n",
    "# this step was added after proposal submission, so the number of observations differ slightly.\n",
    "# in other words this step is part of post-intermediate data cleaning in preparation for the final report\n",
    "index = df_merged[pd.isnull(df_merged['story'])].index\n",
    "\n",
    "df_merged = df_merged[pd.notnull(df_merged['story'])]\n",
    "df_merged = df_merged[pd.notnull(df_merged['risk'])]\n",
    "print(len(df_merged))"
   ]
  },
  {
   "cell_type": "code",
   "execution_count": null,
   "id": "1GoVeJhLgO17",
   "metadata": {
    "colab": {
     "base_uri": "https://localhost:8080/"
    },
    "executionInfo": {
     "elapsed": 7,
     "status": "ok",
     "timestamp": 1662897955688,
     "user": {
      "displayName": "wen yin fun",
      "userId": "18154948162664539142"
     },
     "user_tz": -480
    },
    "id": "1GoVeJhLgO17",
    "outputId": "7a814d6e-cabf-4b95-83bb-764fc3d4acec"
   },
   "outputs": [],
   "source": [
    "df_merged.columns"
   ]
  },
  {
   "cell_type": "markdown",
   "id": "6a866879",
   "metadata": {},
   "source": [
    "## Train Test Split After Cleaning (70-15-15)\n",
    "https://www.researchgate.net/post/Removing_a_low_predictive_column_before_or_after_train_test_split#:~:text=Yes%2C%20you%20should%20remove%20the,but%20not%20before%20the%20split.\n",
    "\n",
    "- Perform encoding for the target then split\n",
    "\n",
    "- So we will apply the same cleaning to the test data at the end"
   ]
  },
  {
   "cell_type": "code",
   "execution_count": null,
   "id": "430cac32",
   "metadata": {
    "scrolled": true
   },
   "outputs": [],
   "source": [
    "# get the target variable - success or failure - binary classfication problem\n",
    "df_merged = df_merged[(df_merged['Status'] == \"successful\") | (df_merged['Status'] == \"failed\")]\n",
    "print('after remove \\n', df_merged['Status'].value_counts())\n",
    "df_merged['Status'] = df_merged['Status'].apply(lambda x: 0 if x==\"failed\" else 1)\n",
    "\n",
    "train, test = train_test_split(df_merged, test_size=0.15, random_state=69, stratify=df_merged['state'])"
   ]
  },
  {
   "cell_type": "code",
   "execution_count": null,
   "id": "4ffdbc57",
   "metadata": {},
   "outputs": [],
   "source": [
    "print(\"train size:\", len(train))\n",
    "print(\"test size\", len(test))"
   ]
  },
  {
   "cell_type": "code",
   "execution_count": null,
   "id": "e23c2732",
   "metadata": {},
   "outputs": [],
   "source": [
    "train['Status'].value_counts()"
   ]
  },
  {
   "cell_type": "markdown",
   "id": "ff3d1c03",
   "metadata": {
    "id": "ff3d1c03"
   },
   "source": [
    "## Intermediate Data Cleaning"
   ]
  },
  {
   "cell_type": "code",
   "execution_count": null,
   "id": "177bd9f6",
   "metadata": {},
   "outputs": [],
   "source": [
    "#global remove list \n",
    "remove_list = []"
   ]
  },
  {
   "cell_type": "markdown",
   "id": "h0Im_nV7tohI",
   "metadata": {
    "id": "h0Im_nV7tohI"
   },
   "source": [
    "### 3. Remove columns with the same values for all rows\n",
    "\n",
    "\n",
    "\n"
   ]
  },
  {
   "cell_type": "code",
   "execution_count": null,
   "id": "LdYjDqyStrZ1",
   "metadata": {
    "colab": {
     "base_uri": "https://localhost:8080/"
    },
    "executionInfo": {
     "elapsed": 425,
     "status": "ok",
     "timestamp": 1662898657977,
     "user": {
      "displayName": "wen yin fun",
      "userId": "18154948162664539142"
     },
     "user_tz": -480
    },
    "id": "LdYjDqyStrZ1",
    "outputId": "126e2dec-7f43-4af7-8127-fc353225f2cd"
   },
   "outputs": [],
   "source": [
    "print(\"Columns with the same values in all of its rows are:\")\n",
    "for i in train: \n",
    "  if len(set(train[i])) == 1 or all(pd.isnull(train[i])):\n",
    "    remove_list.append(i)\n",
    "    print(i)"
   ]
  },
  {
   "cell_type": "markdown",
   "id": "UJ0dbVjJttHs",
   "metadata": {
    "id": "UJ0dbVjJttHs"
   },
   "source": [
    "### 4. Remove columns that have the exact same values or very similar values as another column, and keep unique columns\n",
    "\n",
    "There will be duplicate or very similar columns because:\n",
    "- Merged dataset takes data from 2 data sources and they may overlap:\n",
    "  - For the columns with very similar values:\n",
    "    - Take the column with more information\n",
    "    - Take the more recent column (Webscraper.io was the most recently scraped)\n",
    "    - Take the column whose values can be compared with each other"
   ]
  },
  {
   "cell_type": "code",
   "execution_count": null,
   "id": "omBktFPI6I-B",
   "metadata": {
    "id": "omBktFPI6I-B"
   },
   "outputs": [],
   "source": [
    "### name and Title \n",
    "# some differences in name and Title - keep the more recent one which is Title\n",
    "train[train['name'] != train['Title']][['Title', 'name']]\n",
    "remove_list.append('name')\n",
    "\n",
    "### Description, blurb_x, blurb_y\n",
    "train[['blurb_x', 'blurb_y', 'Description']]\n",
    "# blurb_y has significant amount of missing values so blurb_x has more information \n",
    "train[train['blurb_x'] != train['Description']][['blurb_x', 'Description']]\n",
    "# prefer Description over blurb_x \n",
    "remove_list.extend(['blurb_y', 'blurb_x'])\n",
    "\n",
    "### deadline and Time left \n",
    "# deadline is more informative because Time left is dynamic \n",
    "remove_list.append('Time left')\n",
    "\n",
    "# ### location, Location, Country\n",
    "train[['location', 'Location', 'country', 'country_displayable_name']]\n",
    "# Location contains no useful information\n",
    "remove_list.append(\"Location\")\n",
    "train['location'].iloc[1]\n",
    "train[pd.isnull(train['location'])][['location', 'country', 'country_displayable_name']]\n",
    "remove_list.append(\"country_displayable_name\")\n",
    "# location seems to contain more information than Country, but location has a few missing values while country has no missing values\n",
    "# use values in country to impute missing entries in location, then remove country\n",
    "train.loc[train['location'].isna(), 'location'] = train['country_displayable_name']\n",
    " \n",
    "### state and Status\n",
    "# Status is the more recent one \n",
    "remove_list.append('state')"
   ]
  },
  {
   "cell_type": "markdown",
   "id": "ZI7eRPcMybVy",
   "metadata": {
    "id": "ZI7eRPcMybVy"
   },
   "source": [
    "### 5. Remove columns that are redundant \n",
    "\n",
    "Data is redundant in helping us with our problem statement when:\n",
    "- The data is metadata \n",
    "- The data contains urls that cannot be accessed\n",
    "- Variables that have leaks information into target variable"
   ]
  },
  {
   "cell_type": "code",
   "execution_count": null,
   "id": "uOzJ7fQVyih_",
   "metadata": {
    "id": "uOzJ7fQVyih_"
   },
   "outputs": [],
   "source": [
    "# meta-data\n",
    "remove_list.extend(['web-scraper-start-url', 'web-scraper-order', 'urls', 'Link', 'Link-href',\n",
    "                   'Unnamed: 0', 'Funded-percent', 'Unnamed: 0_x', 'Unnamed: 0_y', 'currency_symbol',\n",
    "                   'currency_trailing_code', 'current_currency', 'description_risks', 'description_story', \n",
    "                    'final_index', 'Image-src', 'currency', \n",
    "                   'friends', 'fx_rate', 'is_backing', 'is_starrable', 'is_starred', 'ivan_index',\n",
    "                   'main_url', 'permissions', 'photo', 'profile', 'slug', 'source_url', 'state_changed_at',\n",
    "                   'static_usd_rate', 'usd_exchange_rate', 'usd_type', 'country', 'final_index', 'creator',\n",
    "                   'pledged'])\n",
    "\n",
    "# Features that leak information into target variable \n",
    "remove_list.extend(['backer-amount', 'backers_count', 'Pledged-Amount', 'updateCount', 'commentCount', \n",
    "                   'spotlight', 'converted_pledged_amount', 'usd_pledged'])"
   ]
  },
  {
   "cell_type": "code",
   "execution_count": null,
   "id": "4f76fd4b",
   "metadata": {},
   "outputs": [],
   "source": [
    "#drop all at once\n",
    "remove_list = list(set(remove_list))\n",
    "train = train.drop(remove_list, axis = 1)\n",
    "train.columns"
   ]
  },
  {
   "cell_type": "markdown",
   "id": "GCP_EX8nuIZk",
   "metadata": {
    "id": "GCP_EX8nuIZk"
   },
   "source": [
    "### 6. Rename columns to be more readable and convert columns to their correct formats\n",
    "\n"
   ]
  },
  {
   "cell_type": "code",
   "execution_count": null,
   "id": "moXaMNyAUDwA",
   "metadata": {
    "id": "moXaMNyAUDwA"
   },
   "outputs": [],
   "source": [
    "train = train.rename(columns={\n",
    "    \"Title\":\"name\",\n",
    "    \"Description\": \"description\",\n",
    "    \"story\": \"description_story\",\n",
    "    \"risk\": \"description_risks\",\n",
    "    \"Description\": \"description\",\n",
    "    \"Status\": \"state\"\n",
    "})\n",
    "train = train[['id', 'name', 'description', \n",
    "                       'description_story', 'description_risks', 'rewards',\n",
    "                       'category', 'goal', 'deadline', 'location', \n",
    "                       'state','staff_pick', 'video', 'launched_at', 'created_at']]\n",
    "\n",
    "train['staff_pick'] = train['staff_pick'].astype(int)\n",
    "train['deadline'] = pd.to_datetime(train['deadline'], unit='s')  \n",
    "train['launched_at'] = pd.to_datetime(train['launched_at'], unit='s')\n",
    "train['created_at'] = pd.to_datetime(train['created_at'], unit='s')"
   ]
  },
  {
   "cell_type": "code",
   "execution_count": null,
   "id": "5nmR1skWCehm",
   "metadata": {
    "colab": {
     "base_uri": "https://localhost:8080/",
     "height": 647
    },
    "executionInfo": {
     "elapsed": 317,
     "status": "ok",
     "timestamp": 1662898706293,
     "user": {
      "displayName": "wen yin fun",
      "userId": "18154948162664539142"
     },
     "user_tz": -480
    },
    "id": "5nmR1skWCehm",
    "outputId": "4fc69b06-2e86-4fcc-ccd5-692dbc60b085"
   },
   "outputs": [],
   "source": [
    "train.head()"
   ]
  },
  {
   "cell_type": "code",
   "execution_count": null,
   "id": "0MjpkqorcwSn",
   "metadata": {
    "colab": {
     "base_uri": "https://localhost:8080/"
    },
    "executionInfo": {
     "elapsed": 6,
     "status": "ok",
     "timestamp": 1662898087018,
     "user": {
      "displayName": "wen yin fun",
      "userId": "18154948162664539142"
     },
     "user_tz": -480
    },
    "id": "0MjpkqorcwSn",
    "outputId": "63d73cec-acb2-4923-c83a-9d457760a4f1"
   },
   "outputs": [],
   "source": [
    "train.columns"
   ]
  },
  {
   "cell_type": "code",
   "execution_count": null,
   "id": "mEQGoxxT7-E8",
   "metadata": {
    "colab": {
     "base_uri": "https://localhost:8080/"
    },
    "executionInfo": {
     "elapsed": 660,
     "status": "ok",
     "timestamp": 1662906345694,
     "user": {
      "displayName": "Ivan Koh",
      "userId": "00122251730770892026"
     },
     "user_tz": -480
    },
    "id": "mEQGoxxT7-E8",
    "outputId": "8fc8bd6c-88bb-4869-f20c-1f313e0cfc43"
   },
   "outputs": [],
   "source": [
    "len(train)\n",
    "len(train.columns)"
   ]
  },
  {
   "cell_type": "markdown",
   "id": "cb4b0bd9",
   "metadata": {},
   "source": [
    "## Apply the same data cleaning to test set"
   ]
  },
  {
   "cell_type": "code",
   "execution_count": null,
   "id": "fcd35c9f",
   "metadata": {},
   "outputs": [],
   "source": [
    "# test.loc[test['location'].isna(), 'location'] = test['country_displayable_name']\n",
    "# test = test.drop(remove_list, axis = 1)\n",
    "\n",
    "test = test.rename(columns={\n",
    "    \"Title\":\"name\",\n",
    "    \"Description\": \"description\",\n",
    "    \"story\": \"description_story\",\n",
    "    \"risk\": \"description_risks\",\n",
    "    \"Description\": \"description\",\n",
    "    \"Status\": \"state\"\n",
    "})\n",
    "test = test[['id', 'name', 'description', \n",
    "                       'description_story', 'description_risks', 'rewards',\n",
    "                       'category', 'goal', 'deadline', 'location', \n",
    "                       'state','staff_pick', 'video', 'launched_at', 'created_at']]\n",
    "\n",
    "test['staff_pick'] = test['staff_pick'].astype(int)\n",
    "test['deadline'] = pd.to_datetime(test['deadline'], unit='s')  \n",
    "test['launched_at'] = pd.to_datetime(test['launched_at'], unit='s')\n",
    "test['created_at'] = pd.to_datetime(test['created_at'], unit='s')"
   ]
  },
  {
   "cell_type": "code",
   "execution_count": null,
   "id": "d642ae32",
   "metadata": {},
   "outputs": [],
   "source": [
    "test.head()"
   ]
  },
  {
   "cell_type": "markdown",
   "id": "1sjc-w3T_KKC",
   "metadata": {
    "id": "1sjc-w3T_KKC"
   },
   "source": [
    "## Export to excel"
   ]
  },
  {
   "cell_type": "code",
   "execution_count": null,
   "id": "ENeFoYOD8M3w",
   "metadata": {
    "id": "ENeFoYOD8M3w"
   },
   "outputs": [],
   "source": [
    "train.to_csv(\"data/kickstarter_train.csv\", index=False)\n",
    "test.to_csv(\"data/kickstarter_test.csv\", index=False)"
   ]
  }
 ],
 "metadata": {
  "colab": {
   "collapsed_sections": [
    "mkPED5zOf4I0"
   ],
   "provenance": []
  },
  "kernelspec": {
   "display_name": "Python 3 (ipykernel)",
   "language": "python",
   "name": "python3"
  },
  "language_info": {
   "codemirror_mode": {
    "name": "ipython",
    "version": 3
   },
   "file_extension": ".py",
   "mimetype": "text/x-python",
   "name": "python",
   "nbconvert_exporter": "python",
   "pygments_lexer": "ipython3",
   "version": "3.9.7"
  }
 },
 "nbformat": 4,
 "nbformat_minor": 5
}