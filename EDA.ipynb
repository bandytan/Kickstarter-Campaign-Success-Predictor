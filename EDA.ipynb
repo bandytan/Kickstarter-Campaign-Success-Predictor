{
 "cells": [
  {
   "cell_type": "code",
   "execution_count": 2,
   "id": "fb0d5e7d",
   "metadata": {},
   "outputs": [],
   "source": [
    "import pandas as pd \n",
    "import matplotlib.pyplot as plt\n",
    "import seaborn as sns\n",
    "import os"
   ]
  },
  {
   "cell_type": "code",
   "execution_count": 2,
   "id": "ebd0c35e",
   "metadata": {},
   "outputs": [],
   "source": [
    "df = pd.read_csv(\"./data/Kickstarter_merged.csv\")"
   ]
  },
  {
   "cell_type": "code",
   "execution_count": 3,
   "id": "5164c225",
   "metadata": {},
   "outputs": [
    {
     "data": {
      "text/plain": [
       "Index(['id', 'name', 'description', 'description_story', 'description_risks',\n",
       "       'rewards', 'category', 'pledged', 'goal', 'deadline', 'location',\n",
       "       'state', 'faq_count', 'update_count', 'backers_count', 'is_starrable',\n",
       "       'spotlight', 'staff_pick', 'video', 'creator_name', 'creator_url',\n",
       "       'url', 'created_at', 'published_at', 'launched_at', 'link'],\n",
       "      dtype='object')"
      ]
     },
     "execution_count": 3,
     "metadata": {},
     "output_type": "execute_result"
    }
   ],
   "source": [
    "df.columns"
   ]
  },
  {
   "cell_type": "code",
   "execution_count": 11,
   "id": "feaf2cc4",
   "metadata": {},
   "outputs": [
    {
     "data": {
      "text/plain": [
       "<AxesSubplot:xlabel='backers_count', ylabel='pledged'>"
      ]
     },
     "execution_count": 11,
     "metadata": {},
     "output_type": "execute_result"
    },
    {
     "data": {
      "image/png": "[encoded data removed]",
      "text/plain": [
       "<Figure size 432x288 with 1 Axes>"
      ]
     },
     "metadata": {
      "needs_background": "light"
     },
     "output_type": "display_data"
    }
   ],
   "source": [
    "# check if there is a relationship between backers_count and pledged\n",
    "#sns.lineplot(data=df, x='backers_count',y='pledged')\n",
    "\n",
    "sns.regplot(data=df, x='backers_count', y='pledged')"
   ]
  },
  {
   "cell_type": "markdown",
   "id": "d5ae8a8a",
   "metadata": {},
   "source": [
    "There is a linear relationship between backers_count and pledged. Outlier at the end."
   ]
  },
  {
   "cell_type": "code",
   "execution_count": 12,
   "id": "49fa4fa9",
   "metadata": {},
   "outputs": [
    {
     "data": {
      "text/plain": [
       "<AxesSubplot:xlabel='backers_count', ylabel='state'>"
      ]
     },
     "execution_count": 12,
     "metadata": {},
     "output_type": "execute_result"
    },
    {
     "data": {
      "image/png": "[encoded data removed]",
      "text/plain": [
       "<Figure size 432x288 with 1 Axes>"
      ]
     },
     "metadata": {
      "needs_background": "light"
     },
     "output_type": "display_data"
    }
   ],
   "source": [
    "# violinplot\n",
    "sns.violinplot(data=df, x=\"backers_count\", y=\"state\")"
   ]
  },
  {
   "cell_type": "code",
   "execution_count": 16,
   "id": "d838b552",
   "metadata": {},
   "outputs": [
    {
     "data": {
      "text/plain": [
       "2131        0\n",
       "1829        0\n",
       "1702        0\n",
       "1695        0\n",
       "1690        0\n",
       "        ...  \n",
       "812      5061\n",
       "83       5248\n",
       "350      5823\n",
       "734      6177\n",
       "598     18768\n",
       "Name: backers_count, Length: 2132, dtype: int64"
      ]
     },
     "execution_count": 16,
     "metadata": {},
     "output_type": "execute_result"
    }
   ],
   "source": [
    "df['backers_count'].sort_values()"
   ]
  },
  {
   "cell_type": "code",
   "execution_count": 5,
   "id": "92799366",
   "metadata": {},
   "outputs": [
    {
     "name": "stdout",
     "output_type": "stream",
     "text": [
      "392244\n",
      "203510\n"
     ]
    },
    {
     "name": "stderr",
     "output_type": "stream",
     "text": [
      "/var/folders/dq/33rpc0cx4f54t0vx2cdcgczr0000gn/T/ipykernel_10683/1863032995.py:5: SettingWithCopyWarning: \n",
      "A value is trying to be set on a copy of a slice from a DataFrame.\n",
      "Try using .loc[row_indexer,col_indexer] = value instead\n",
      "\n",
      "See the caveats in the documentation: https://pandas.pydata.org/pandas-docs/stable/user_guide/indexing.html#returning-a-view-versus-a-copy\n",
      "  df_2['main_url'] = df_2['urls'].apply(lambda x: eval(x)['web']['project'])\n"
     ]
    }
   ],
   "source": [
    "base = \"/Users/ivankoh/Downloads/kickstarter data/\"\n",
    "filepaths = [base + f for f in os.listdir(base) if f.endswith('.csv')]\n",
    "df_1 = pd.concat(map(pd.read_csv, filepaths))\n",
    "df_2 = df_1.drop_duplicates(subset=['id'])\n",
    "df_2['main_url'] = df_2['urls'].apply(lambda x: eval(x)['web']['project'])\n",
    "print(len(df_1))\n",
    "print(len(df_2))"
   ]
  },
  {
   "cell_type": "code",
   "execution_count": 13,
   "id": "c3b509c8",
   "metadata": {},
   "outputs": [
    {
     "data": {
      "text/plain": [
       "0        869639785\n",
       "1       1511883132\n",
       "2         43198687\n",
       "3       1897699884\n",
       "4        967845967\n",
       "           ...    \n",
       "3655    1318307476\n",
       "3656    2079254065\n",
       "3657    1461455268\n",
       "3658    1360935499\n",
       "3659    1335709529\n",
       "Name: id, Length: 392244, dtype: int64"
      ]
     },
     "execution_count": 13,
     "metadata": {},
     "output_type": "execute_result"
    }
   ],
   "source": []
  },
  {
   "cell_type": "code",
   "execution_count": 3,
   "id": "d358995e",
   "metadata": {
    "scrolled": false
   },
   "outputs": [
    {
     "name": "stdout",
     "output_type": "stream",
     "text": [
      "5834\n"
     ]
    }
   ],
   "source": [
    "base = \"/Users/ivankoh/Downloads/kickstarter data wy/\"\n",
    "filepaths = [base + f for f in os.listdir(base) if f.endswith('.xlsx')]\n",
    "df = pd.concat(map(pd.read_excel, filepaths))\n",
    "#df_1 = df.drop_duplicates(subset=['id'])\n",
    "#df_1['main_url'] = df_1['urls'].apply(lambda x: eval(x)['web']['project'])\n",
    "print(len(df))\n",
    "#print(len(df_1))"
   ]
  },
  {
   "cell_type": "code",
   "execution_count": 6,
   "id": "ebb3652b",
   "metadata": {},
   "outputs": [
    {
     "name": "stdout",
     "output_type": "stream",
     "text": [
      "5834\n",
      "2335\n",
      "2510\n",
      "361\n",
      "361\n",
      "successful    4248\n",
      "failed         694\n",
      "live           505\n",
      "canceled        26\n",
      "Name: Status, dtype: int64\n"
     ]
    }
   ],
   "source": [
    "print(len(df))\n",
    "print(pd.isnull(df['description_story']).sum())\n",
    "print(pd.isnull(df['description_risks']).sum())\n",
    "print(pd.isnull(df['rewards']).sum())\n",
    "print(pd.isnull(df['updateCount']).sum())\n",
    "print(df['Status'].value_counts())"
   ]
  },
  {
   "cell_type": "code",
   "execution_count": 14,
   "id": "dd96bd67",
   "metadata": {},
   "outputs": [
    {
     "name": "stderr",
     "output_type": "stream",
     "text": [
      "/var/folders/dq/33rpc0cx4f54t0vx2cdcgczr0000gn/T/ipykernel_10683/2972390848.py:2: SettingWithCopyWarning: \n",
      "A value is trying to be set on a copy of a slice from a DataFrame.\n",
      "Try using .loc[row_indexer,col_indexer] = value instead\n",
      "\n",
      "See the caveats in the documentation: https://pandas.pydata.org/pandas-docs/stable/user_guide/indexing.html#returning-a-view-versus-a-copy\n",
      "  df_2['urls'] = df_2['urls'].apply(lambda x: eval(x)['web']['project'])\n"
     ]
    }
   ],
   "source": [
    "df['Link-href']\n",
    "df_2['urls'] = df_2['urls'].apply(lambda x: eval(x)['web']['project'])"
   ]
  },
  {
   "cell_type": "code",
   "execution_count": 24,
   "id": "9ef891dd",
   "metadata": {},
   "outputs": [
    {
     "name": "stderr",
     "output_type": "stream",
     "text": [
      "/var/folders/dq/33rpc0cx4f54t0vx2cdcgczr0000gn/T/ipykernel_10683/1811708439.py:2: SettingWithCopyWarning: \n",
      "A value is trying to be set on a copy of a slice from a DataFrame.\n",
      "Try using .loc[row_indexer,col_indexer] = value instead\n",
      "\n",
      "See the caveats in the documentation: https://pandas.pydata.org/pandas-docs/stable/user_guide/indexing.html#returning-a-view-versus-a-copy\n",
      "  df_2['urls'] = df_2['urls'].apply(lambda x: str(x)[:str(x).find(\"?ref\")])\n"
     ]
    },
    {
     "data": {
      "text/html": [
       "<div>\n",
       "<style scoped>\n",
       "    .dataframe tbody tr th:only-of-type {\n",
       "        vertical-align: middle;\n",
       "    }\n",
       "\n",
       "    .dataframe tbody tr th {\n",
       "        vertical-align: top;\n",
       "    }\n",
       "\n",
       "    .dataframe thead th {\n",
       "        text-align: right;\n",
       "    }\n",
       "</style>\n",
       "<table border=\"1\" class=\"dataframe\">\n",
       "  <thead>\n",
       "    <tr style=\"text-align: right;\">\n",
       "      <th></th>\n",
       "      <th>web-scraper-order</th>\n",
       "      <th>web-scraper-start-url</th>\n",
       "      <th>Title</th>\n",
       "      <th>Description</th>\n",
       "      <th>Status</th>\n",
       "      <th>Pledged-Amount</th>\n",
       "      <th>Funded-percent</th>\n",
       "      <th>Time left</th>\n",
       "      <th>Sphere</th>\n",
       "      <th>Location</th>\n",
       "      <th>...</th>\n",
       "      <th>spotlight</th>\n",
       "      <th>staff_pick</th>\n",
       "      <th>state</th>\n",
       "      <th>state_changed_at</th>\n",
       "      <th>static_usd_rate</th>\n",
       "      <th>urls</th>\n",
       "      <th>usd_exchange_rate</th>\n",
       "      <th>usd_pledged</th>\n",
       "      <th>usd_type</th>\n",
       "      <th>main_url</th>\n",
       "    </tr>\n",
       "  </thead>\n",
       "  <tbody>\n",
       "    <tr>\n",
       "      <th>0</th>\n",
       "      <td>1663816378-503</td>\n",
       "      <td>https://www.kickstarter.com/discover/advanced?...</td>\n",
       "      <td>The Sad Man Kickstarter</td>\n",
       "      <td>A kick in the teeth starter, for the sad man.</td>\n",
       "      <td>successful</td>\n",
       "      <td>NaN</td>\n",
       "      <td>5700.000000</td>\n",
       "      <td>NaN</td>\n",
       "      <td>NaN</td>\n",
       "      <td>NaN</td>\n",
       "      <td>...</td>\n",
       "      <td>True</td>\n",
       "      <td>False</td>\n",
       "      <td>successful</td>\n",
       "      <td>1447888249</td>\n",
       "      <td>1.000000</td>\n",
       "      <td>https://www.kickstarter.com/projects/129545930...</td>\n",
       "      <td>1.000000</td>\n",
       "      <td>57.000000</td>\n",
       "      <td>international</td>\n",
       "      <td>https://www.kickstarter.com/projects/129545930...</td>\n",
       "    </tr>\n",
       "    <tr>\n",
       "      <th>1</th>\n",
       "      <td>1663816385-504</td>\n",
       "      <td>https://www.kickstarter.com/discover/advanced?...</td>\n",
       "      <td>Double Down V7</td>\n",
       "      <td>Double Down wants to make the most extravagant...</td>\n",
       "      <td>successful</td>\n",
       "      <td>NaN</td>\n",
       "      <td>110.937500</td>\n",
       "      <td>NaN</td>\n",
       "      <td>NaN</td>\n",
       "      <td>NaN</td>\n",
       "      <td>...</td>\n",
       "      <td>True</td>\n",
       "      <td>False</td>\n",
       "      <td>successful</td>\n",
       "      <td>1442808013</td>\n",
       "      <td>1.000000</td>\n",
       "      <td>https://www.kickstarter.com/projects/188304643...</td>\n",
       "      <td>1.000000</td>\n",
       "      <td>71.000000</td>\n",
       "      <td>international</td>\n",
       "      <td>https://www.kickstarter.com/projects/188304643...</td>\n",
       "    </tr>\n",
       "    <tr>\n",
       "      <th>2</th>\n",
       "      <td>1663816390-505</td>\n",
       "      <td>https://www.kickstarter.com/discover/advanced?...</td>\n",
       "      <td>Tiny Tools of Turmoil: Mini Enamel Pins</td>\n",
       "      <td>A set of tiny pins revolved around the turmoil...</td>\n",
       "      <td>successful</td>\n",
       "      <td>NaN</td>\n",
       "      <td>153.000000</td>\n",
       "      <td>NaN</td>\n",
       "      <td>NaN</td>\n",
       "      <td>NaN</td>\n",
       "      <td>...</td>\n",
       "      <td>True</td>\n",
       "      <td>False</td>\n",
       "      <td>successful</td>\n",
       "      <td>1620003606</td>\n",
       "      <td>1.000000</td>\n",
       "      <td>https://www.kickstarter.com/projects/thefairyg...</td>\n",
       "      <td>1.000000</td>\n",
       "      <td>612.000000</td>\n",
       "      <td>international</td>\n",
       "      <td>https://www.kickstarter.com/projects/thefairyg...</td>\n",
       "    </tr>\n",
       "    <tr>\n",
       "      <th>3</th>\n",
       "      <td>1663816395-506</td>\n",
       "      <td>https://www.kickstarter.com/discover/advanced?...</td>\n",
       "      <td>VF-124 Gunfighters Commemorative Challenge Coin</td>\n",
       "      <td>All donations go towards the benefit of the VF...</td>\n",
       "      <td>successful</td>\n",
       "      <td>NaN</td>\n",
       "      <td>102.105263</td>\n",
       "      <td>NaN</td>\n",
       "      <td>NaN</td>\n",
       "      <td>NaN</td>\n",
       "      <td>...</td>\n",
       "      <td>True</td>\n",
       "      <td>False</td>\n",
       "      <td>successful</td>\n",
       "      <td>1410381010</td>\n",
       "      <td>1.000000</td>\n",
       "      <td>https://www.kickstarter.com/projects/190131547...</td>\n",
       "      <td>1.000000</td>\n",
       "      <td>970.000000</td>\n",
       "      <td>domestic</td>\n",
       "      <td>https://www.kickstarter.com/projects/190131547...</td>\n",
       "    </tr>\n",
       "    <tr>\n",
       "      <th>4</th>\n",
       "      <td>1663816400-507</td>\n",
       "      <td>https://www.kickstarter.com/discover/advanced?...</td>\n",
       "      <td>Becoming Slovenian</td>\n",
       "      <td>An American artist in Slovenia interprets live...</td>\n",
       "      <td>successful</td>\n",
       "      <td>NaN</td>\n",
       "      <td>100.857143</td>\n",
       "      <td>NaN</td>\n",
       "      <td>NaN</td>\n",
       "      <td>NaN</td>\n",
       "      <td>...</td>\n",
       "      <td>True</td>\n",
       "      <td>False</td>\n",
       "      <td>successful</td>\n",
       "      <td>1333339144</td>\n",
       "      <td>1.000000</td>\n",
       "      <td>https://www.kickstarter.com/projects/interstat...</td>\n",
       "      <td>1.000000</td>\n",
       "      <td>3530.000000</td>\n",
       "      <td>international</td>\n",
       "      <td>https://www.kickstarter.com/projects/interstat...</td>\n",
       "    </tr>\n",
       "    <tr>\n",
       "      <th>...</th>\n",
       "      <td>...</td>\n",
       "      <td>...</td>\n",
       "      <td>...</td>\n",
       "      <td>...</td>\n",
       "      <td>...</td>\n",
       "      <td>...</td>\n",
       "      <td>...</td>\n",
       "      <td>...</td>\n",
       "      <td>...</td>\n",
       "      <td>...</td>\n",
       "      <td>...</td>\n",
       "      <td>...</td>\n",
       "      <td>...</td>\n",
       "      <td>...</td>\n",
       "      <td>...</td>\n",
       "      <td>...</td>\n",
       "      <td>...</td>\n",
       "      <td>...</td>\n",
       "      <td>...</td>\n",
       "      <td>...</td>\n",
       "      <td>...</td>\n",
       "    </tr>\n",
       "    <tr>\n",
       "      <th>4405</th>\n",
       "      <td>1663866369-5868</td>\n",
       "      <td>https://www.kickstarter.com/discover/advanced?...</td>\n",
       "      <td>Freezy Freakies gloves - Back from the '80s. N...</td>\n",
       "      <td>Those color-changing gloves from the '80s are ...</td>\n",
       "      <td>successful</td>\n",
       "      <td>NaN</td>\n",
       "      <td>606.180000</td>\n",
       "      <td>NaN</td>\n",
       "      <td>NaN</td>\n",
       "      <td>NaN</td>\n",
       "      <td>...</td>\n",
       "      <td>True</td>\n",
       "      <td>True</td>\n",
       "      <td>successful</td>\n",
       "      <td>1423334180</td>\n",
       "      <td>1.000000</td>\n",
       "      <td>https://www.kickstarter.com/projects/hansr/fre...</td>\n",
       "      <td>1.000000</td>\n",
       "      <td>60618.000000</td>\n",
       "      <td>international</td>\n",
       "      <td>https://www.kickstarter.com/projects/hansr/fre...</td>\n",
       "    </tr>\n",
       "    <tr>\n",
       "      <th>4406</th>\n",
       "      <td>1663866379-5870</td>\n",
       "      <td>https://www.kickstarter.com/discover/advanced?...</td>\n",
       "      <td>Wu &amp; Y: Art on Activewear Shorts</td>\n",
       "      <td>The first shorts to combine breath-taking art ...</td>\n",
       "      <td>successful</td>\n",
       "      <td>NaN</td>\n",
       "      <td>787.600000</td>\n",
       "      <td>NaN</td>\n",
       "      <td>NaN</td>\n",
       "      <td>NaN</td>\n",
       "      <td>...</td>\n",
       "      <td>True</td>\n",
       "      <td>True</td>\n",
       "      <td>successful</td>\n",
       "      <td>1467431940</td>\n",
       "      <td>1.000000</td>\n",
       "      <td>https://www.kickstarter.com/projects/168269830...</td>\n",
       "      <td>1.000000</td>\n",
       "      <td>39380.000000</td>\n",
       "      <td>international</td>\n",
       "      <td>https://www.kickstarter.com/projects/168269830...</td>\n",
       "    </tr>\n",
       "    <tr>\n",
       "      <th>4407</th>\n",
       "      <td>1663866400-5874</td>\n",
       "      <td>https://www.kickstarter.com/discover/advanced?...</td>\n",
       "      <td>The Bicycle Wrap Skirt | Function + Style</td>\n",
       "      <td>Sustainably made in the USA with hidden fasten...</td>\n",
       "      <td>successful</td>\n",
       "      <td>NaN</td>\n",
       "      <td>193.152381</td>\n",
       "      <td>NaN</td>\n",
       "      <td>NaN</td>\n",
       "      <td>NaN</td>\n",
       "      <td>...</td>\n",
       "      <td>True</td>\n",
       "      <td>True</td>\n",
       "      <td>successful</td>\n",
       "      <td>1435291143</td>\n",
       "      <td>1.000000</td>\n",
       "      <td>https://www.kickstarter.com/projects/192051740...</td>\n",
       "      <td>1.000000</td>\n",
       "      <td>20281.000000</td>\n",
       "      <td>international</td>\n",
       "      <td>https://www.kickstarter.com/projects/192051740...</td>\n",
       "    </tr>\n",
       "    <tr>\n",
       "      <th>4408</th>\n",
       "      <td>1663866406-5875</td>\n",
       "      <td>https://www.kickstarter.com/discover/advanced?...</td>\n",
       "      <td>Takaokami - Rainwear for the urban life style</td>\n",
       "      <td>Feminine and bike friendly rainwear designed f...</td>\n",
       "      <td>successful</td>\n",
       "      <td>NaN</td>\n",
       "      <td>101.238196</td>\n",
       "      <td>NaN</td>\n",
       "      <td>NaN</td>\n",
       "      <td>NaN</td>\n",
       "      <td>...</td>\n",
       "      <td>True</td>\n",
       "      <td>True</td>\n",
       "      <td>successful</td>\n",
       "      <td>1429308064</td>\n",
       "      <td>0.152188</td>\n",
       "      <td>https://www.kickstarter.com/projects/947503148...</td>\n",
       "      <td>0.144084</td>\n",
       "      <td>29042.660059</td>\n",
       "      <td>international</td>\n",
       "      <td>https://www.kickstarter.com/projects/947503148...</td>\n",
       "    </tr>\n",
       "    <tr>\n",
       "      <th>4409</th>\n",
       "      <td>1663866439-5881</td>\n",
       "      <td>https://www.kickstarter.com/discover/advanced?...</td>\n",
       "      <td>Thorough Loop Jacket: Enlighten the Martial Ar...</td>\n",
       "      <td>Revive the authentic kung fu attire that bring...</td>\n",
       "      <td>successful</td>\n",
       "      <td>NaN</td>\n",
       "      <td>2082.500000</td>\n",
       "      <td>NaN</td>\n",
       "      <td>NaN</td>\n",
       "      <td>NaN</td>\n",
       "      <td>...</td>\n",
       "      <td>True</td>\n",
       "      <td>True</td>\n",
       "      <td>successful</td>\n",
       "      <td>1626321540</td>\n",
       "      <td>1.000000</td>\n",
       "      <td>https://www.kickstarter.com/projects/fbkkungfu...</td>\n",
       "      <td>1.000000</td>\n",
       "      <td>62475.000000</td>\n",
       "      <td>international</td>\n",
       "      <td>https://www.kickstarter.com/projects/fbkkungfu...</td>\n",
       "    </tr>\n",
       "  </tbody>\n",
       "</table>\n",
       "<p>4410 rows × 60 columns</p>\n",
       "</div>"
      ],
      "text/plain": [
       "     web-scraper-order                              web-scraper-start-url  \\\n",
       "0       1663816378-503  https://www.kickstarter.com/discover/advanced?...   \n",
       "1       1663816385-504  https://www.kickstarter.com/discover/advanced?...   \n",
       "2       1663816390-505  https://www.kickstarter.com/discover/advanced?...   \n",
       "3       1663816395-506  https://www.kickstarter.com/discover/advanced?...   \n",
       "4       1663816400-507  https://www.kickstarter.com/discover/advanced?...   \n",
       "...                ...                                                ...   \n",
       "4405   1663866369-5868  https://www.kickstarter.com/discover/advanced?...   \n",
       "4406   1663866379-5870  https://www.kickstarter.com/discover/advanced?...   \n",
       "4407   1663866400-5874  https://www.kickstarter.com/discover/advanced?...   \n",
       "4408   1663866406-5875  https://www.kickstarter.com/discover/advanced?...   \n",
       "4409   1663866439-5881  https://www.kickstarter.com/discover/advanced?...   \n",
       "\n",
       "                                                  Title  \\\n",
       "0                               The Sad Man Kickstarter   \n",
       "1                                        Double Down V7   \n",
       "2               Tiny Tools of Turmoil: Mini Enamel Pins   \n",
       "3       VF-124 Gunfighters Commemorative Challenge Coin   \n",
       "4                                    Becoming Slovenian   \n",
       "...                                                 ...   \n",
       "4405  Freezy Freakies gloves - Back from the '80s. N...   \n",
       "4406                   Wu & Y: Art on Activewear Shorts   \n",
       "4407          The Bicycle Wrap Skirt | Function + Style   \n",
       "4408      Takaokami - Rainwear for the urban life style   \n",
       "4409  Thorough Loop Jacket: Enlighten the Martial Ar...   \n",
       "\n",
       "                                            Description      Status  \\\n",
       "0         A kick in the teeth starter, for the sad man.  successful   \n",
       "1     Double Down wants to make the most extravagant...  successful   \n",
       "2     A set of tiny pins revolved around the turmoil...  successful   \n",
       "3     All donations go towards the benefit of the VF...  successful   \n",
       "4     An American artist in Slovenia interprets live...  successful   \n",
       "...                                                 ...         ...   \n",
       "4405  Those color-changing gloves from the '80s are ...  successful   \n",
       "4406  The first shorts to combine breath-taking art ...  successful   \n",
       "4407  Sustainably made in the USA with hidden fasten...  successful   \n",
       "4408  Feminine and bike friendly rainwear designed f...  successful   \n",
       "4409  Revive the authentic kung fu attire that bring...  successful   \n",
       "\n",
       "     Pledged-Amount  Funded-percent Time left Sphere Location  ... spotlight  \\\n",
       "0               NaN     5700.000000       NaN    NaN      NaN  ...      True   \n",
       "1               NaN      110.937500       NaN    NaN      NaN  ...      True   \n",
       "2               NaN      153.000000       NaN    NaN      NaN  ...      True   \n",
       "3               NaN      102.105263       NaN    NaN      NaN  ...      True   \n",
       "4               NaN      100.857143       NaN    NaN      NaN  ...      True   \n",
       "...             ...             ...       ...    ...      ...  ...       ...   \n",
       "4405            NaN      606.180000       NaN    NaN      NaN  ...      True   \n",
       "4406            NaN      787.600000       NaN    NaN      NaN  ...      True   \n",
       "4407            NaN      193.152381       NaN    NaN      NaN  ...      True   \n",
       "4408            NaN      101.238196       NaN    NaN      NaN  ...      True   \n",
       "4409            NaN     2082.500000       NaN    NaN      NaN  ...      True   \n",
       "\n",
       "     staff_pick       state state_changed_at static_usd_rate  \\\n",
       "0         False  successful       1447888249        1.000000   \n",
       "1         False  successful       1442808013        1.000000   \n",
       "2         False  successful       1620003606        1.000000   \n",
       "3         False  successful       1410381010        1.000000   \n",
       "4         False  successful       1333339144        1.000000   \n",
       "...         ...         ...              ...             ...   \n",
       "4405       True  successful       1423334180        1.000000   \n",
       "4406       True  successful       1467431940        1.000000   \n",
       "4407       True  successful       1435291143        1.000000   \n",
       "4408       True  successful       1429308064        0.152188   \n",
       "4409       True  successful       1626321540        1.000000   \n",
       "\n",
       "                                                   urls usd_exchange_rate  \\\n",
       "0     https://www.kickstarter.com/projects/129545930...          1.000000   \n",
       "1     https://www.kickstarter.com/projects/188304643...          1.000000   \n",
       "2     https://www.kickstarter.com/projects/thefairyg...          1.000000   \n",
       "3     https://www.kickstarter.com/projects/190131547...          1.000000   \n",
       "4     https://www.kickstarter.com/projects/interstat...          1.000000   \n",
       "...                                                 ...               ...   \n",
       "4405  https://www.kickstarter.com/projects/hansr/fre...          1.000000   \n",
       "4406  https://www.kickstarter.com/projects/168269830...          1.000000   \n",
       "4407  https://www.kickstarter.com/projects/192051740...          1.000000   \n",
       "4408  https://www.kickstarter.com/projects/947503148...          0.144084   \n",
       "4409  https://www.kickstarter.com/projects/fbkkungfu...          1.000000   \n",
       "\n",
       "       usd_pledged       usd_type  \\\n",
       "0        57.000000  international   \n",
       "1        71.000000  international   \n",
       "2       612.000000  international   \n",
       "3       970.000000       domestic   \n",
       "4      3530.000000  international   \n",
       "...            ...            ...   \n",
       "4405  60618.000000  international   \n",
       "4406  39380.000000  international   \n",
       "4407  20281.000000  international   \n",
       "4408  29042.660059  international   \n",
       "4409  62475.000000  international   \n",
       "\n",
       "                                               main_url  \n",
       "0     https://www.kickstarter.com/projects/129545930...  \n",
       "1     https://www.kickstarter.com/projects/188304643...  \n",
       "2     https://www.kickstarter.com/projects/thefairyg...  \n",
       "3     https://www.kickstarter.com/projects/190131547...  \n",
       "4     https://www.kickstarter.com/projects/interstat...  \n",
       "...                                                 ...  \n",
       "4405  https://www.kickstarter.com/projects/hansr/fre...  \n",
       "4406  https://www.kickstarter.com/projects/168269830...  \n",
       "4407  https://www.kickstarter.com/projects/192051740...  \n",
       "4408  https://www.kickstarter.com/projects/947503148...  \n",
       "4409  https://www.kickstarter.com/projects/fbkkungfu...  \n",
       "\n",
       "[4410 rows x 60 columns]"
      ]
     },
     "execution_count": 24,
     "metadata": {},
     "output_type": "execute_result"
    }
   ],
   "source": [
    "df['Link-href'] = df['Link-href'].apply(lambda x: str(x)[:str(x).find(\"?ref\")])\n",
    "df_2['urls'] = df_2['urls'].apply(lambda x: str(x)[:str(x).find(\"?ref\")])\n",
    "df.merge(df_2, left_on=\"Link-href\", right_on=\"urls\")"
   ]
  },
  {
   "cell_type": "code",
   "execution_count": 25,
   "id": "c72a4300",
   "metadata": {},
   "outputs": [
    {
     "data": {
      "text/plain": [
       "5834"
      ]
     },
     "execution_count": 25,
     "metadata": {},
     "output_type": "execute_result"
    }
   ],
   "source": [
    "len(df)"
   ]
  }
 ],
 "metadata": {
  "kernelspec": {
   "display_name": "bt4222",
   "language": "python",
   "name": "bt4222"
  },
  "language_info": {
   "codemirror_mode": {
    "name": "ipython",
    "version": 3
   },
   "file_extension": ".py",
   "mimetype": "text/x-python",
   "name": "python",
   "nbconvert_exporter": "python",
   "pygments_lexer": "ipython3",
   "version": "3.9.12"
  }
 },
 "nbformat": 4,
 "nbformat_minor": 5
}
