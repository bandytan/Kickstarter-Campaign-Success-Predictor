{
 "cells": [
  {
   "cell_type": "code",
   "execution_count": 107,
   "id": "cfcff7e8",
   "metadata": {},
   "outputs": [
    {
     "name": "stderr",
     "output_type": "stream",
     "text": [
      "[nltk_data] Downloading package stopwords to\n",
      "[nltk_data]     /Users/ivankoh/nltk_data...\n",
      "[nltk_data]   Package stopwords is already up-to-date!\n",
      "[nltk_data] Downloading package punkt to /Users/ivankoh/nltk_data...\n",
      "[nltk_data]   Package punkt is already up-to-date!\n",
      "[nltk_data] Downloading package wordnet to /Users/ivankoh/nltk_data...\n",
      "[nltk_data]   Package wordnet is already up-to-date!\n",
      "[nltk_data] Downloading package omw-1.4 to /Users/ivankoh/nltk_data...\n",
      "[nltk_data]   Package omw-1.4 is already up-to-date!\n"
     ]
    },
    {
     "data": {
      "text/plain": [
       "True"
      ]
     },
     "execution_count": 107,
     "metadata": {},
     "output_type": "execute_result"
    }
   ],
   "source": [
    "import pandas as pd \n",
    "import ast\n",
    "import re\n",
    "import numpy as np\n",
    "import nltk\n",
    "from textblob import TextBlob\n",
    "from nltk import word_tokenize\n",
    "from sklearn.model_selection import train_test_split\n",
    "from nltk.tokenize import word_tokenize, TreebankWordTokenizer\n",
    "from nltk.corpus import stopwords\n",
    "from nltk.stem import WordNetLemmatizer, PorterStemmer\n",
    "from nltk.util import ngrams\n",
    "from sklearn.preprocessing import OneHotEncoder\n",
    "from sklearn.feature_extraction.text import CountVectorizer, TfidfVectorizer\n",
    "import spacy\n",
    "import pyLDAvis.gensim_models\n",
    "import en_core_web_md\n",
    "from gensim.corpora.dictionary import Dictionary\n",
    "from gensim.models import LdaMulticore\n",
    "from gensim.models import CoherenceModel\n",
    "\n",
    "nltk.download('stopwords')\n",
    "nltk.download('punkt')\n",
    "nltk.download('wordnet')\n",
    "nltk.download('omw-1.4')"
   ]
  },
  {
   "cell_type": "code",
   "execution_count": 108,
   "id": "b667a080",
   "metadata": {},
   "outputs": [],
   "source": [
    "df = pd.read_csv(\"./data/Kickstarter_merged.csv\")"
   ]
  },
  {
   "cell_type": "code",
   "execution_count": 109,
   "id": "30a6a68a",
   "metadata": {},
   "outputs": [
    {
     "data": {
      "text/plain": [
       "1    1404\n",
       "0     728\n",
       "Name: has_video, dtype: int64"
      ]
     },
     "execution_count": 109,
     "metadata": {},
     "output_type": "execute_result"
    }
   ],
   "source": [
    "# convert 'video' to a binary categorical variable\n",
    "df['video'].value_counts()\n",
    "df['has_video'] = df['video'].apply(lambda x: 0 if pd.isnull(x) else 1)\n",
    "df['has_video'].value_counts()"
   ]
  },
  {
   "cell_type": "markdown",
   "id": "2ae6f8c5",
   "metadata": {},
   "source": [
    "NLP features"
   ]
  },
  {
   "cell_type": "code",
   "execution_count": 110,
   "id": "a1445895",
   "metadata": {},
   "outputs": [],
   "source": [
    "# Text cleaning for: rewards, description, description story, description risks\n",
    "\n",
    "def clean_text(df):\n",
    "    def process_rewards(corpus):\n",
    "    \n",
    "        corpus_processed = []\n",
    "        for row in corpus:\n",
    "            row_processed = \"\"\n",
    "            row = row.replace(\"\\\\n\", \" \")\n",
    "            row = ast.literal_eval(row)\n",
    "\n",
    "            for dict in row:\n",
    "                row_processed += dict['rewards'].lower() + ' '\n",
    "            \n",
    "            \n",
    "            row_processed = row_processed.replace(\"//\",'')\n",
    "            row_processed = re.sub(r'[^\\w\\s]', '', row_processed) # remove punctuation\n",
    "            corpus_processed.append(row_processed)\n",
    "\n",
    "        return corpus_processed\n",
    "    \n",
    "    def process_description_story(corpus):\n",
    "        corpus_processed = []\n",
    "        for row in corpus:\n",
    "            row = str(row)\n",
    "            row_processed = row.replace(\"\\r\", \" \" )\n",
    "            row_processed = row_processed.replace(\"\\n\", \" \" )\n",
    "            row_processed = re.sub(r'[^\\w\\s]', '', row_processed) # remove punctuation\n",
    "            corpus_processed.append(row_processed if not pd.isnull(row_processed) else \"\") # handle NA\n",
    "\n",
    "        return corpus_processed\n",
    "\n",
    "    df[\"rewards_processed\"] = process_rewards(df[\"rewards\"])\n",
    "    df[\"description_processed\"] = process_description_story(df[\"description\"])\n",
    "    df[\"description_story_processed\"] = process_description_story(df[\"description_story\"])\n",
    "    df[\"description_risks_processed\"] = process_description_story(df[\"description_risks\"])\n",
    "\n",
    "    return df\n"
   ]
  },
  {
   "cell_type": "code",
   "execution_count": 111,
   "id": "f95c3473",
   "metadata": {},
   "outputs": [],
   "source": [
    "class LemmatizeTokenizer(object):\n",
    "    def __init__(self):\n",
    "        self.lemmatizer = WordNetLemmatizer()\n",
    "    def __call__(self, text):\n",
    "        return [self.lemmatizer.lemmatize(word) for word in word_tokenize(text)]"
   ]
  },
  {
   "cell_type": "code",
   "execution_count": 112,
   "id": "62c9ad03",
   "metadata": {},
   "outputs": [],
   "source": [
    "def generate_nlp_features(df):\n",
    "    \n",
    "    # Rewards\n",
    "\n",
    "    vect_rewards = TfidfVectorizer( \n",
    "        tokenizer=LemmatizeTokenizer(),\n",
    "        lowercase=True,\n",
    "        analyzer='word', \n",
    "        ngram_range=(1,3), # unigram, bigram and trigram \n",
    "        max_features=100, # vocabulary that only consider the top max_features ordered by term frequency across the corpus\n",
    "        min_df=10, # minimum word frequency required to be in model\n",
    "        stop_words=stopwords.words('english') # remove stopwords\n",
    "        )\n",
    "\n",
    "    rewards_processed = pd.Series(df[\"rewards_processed\"])\n",
    "    tfidf_fit_rewards = vect_rewards.fit(rewards_processed)\n",
    "    rewards_tfidf_array = tfidf_fit_rewards.transform(rewards_processed).toarray()\n",
    "    rewards_tfidf_df = pd.DataFrame(rewards_tfidf_array)\n",
    "    rewards_tfidf_df.columns = list(map(lambda x : \"rewards_\" + str(x), rewards_tfidf_df.columns))\n",
    "    df = pd.merge(df, rewards_tfidf_df , left_index=True, right_index=True)\n",
    "    \n",
    "\n",
    "    # Description\n",
    "\n",
    "    vect_description = TfidfVectorizer( \n",
    "        tokenizer=LemmatizeTokenizer(),\n",
    "        lowercase=True,\n",
    "        analyzer='word', \n",
    "        ngram_range=(1,3), # unigram, bigram and trigram \n",
    "        max_features=100, # vocabulary that only consider the top max_features ordered by term frequency across the corpus\n",
    "        min_df=10, # minimum word frequency required to be in model\n",
    "        stop_words=stopwords.words('english') # remove stopwords\n",
    "        )\n",
    "\n",
    "    description = pd.Series(df[\"description_processed\"])\n",
    "    tfidf_fit_description = vect_description.fit(description)\n",
    "    description_tfidf_array = tfidf_fit_description.transform(description).toarray()\n",
    "    description_tfidf_df = pd.DataFrame(description_tfidf_array)\n",
    "    description_tfidf_df.columns = list(map(lambda x : \"description_\" + str(x), description_tfidf_df.columns))\n",
    "    df = pd.merge(df, description_tfidf_df , left_index=True, right_index=True)\n",
    "\n",
    "\n",
    "    # Description Story\n",
    "\n",
    "    vect_description_story = TfidfVectorizer( \n",
    "        tokenizer=LemmatizeTokenizer(),\n",
    "        lowercase=True,\n",
    "        analyzer='word', \n",
    "        ngram_range=(1,3), # unigram, bigram and trigram \n",
    "        max_features=100, # vocabulary that only consider the top max_features ordered by term frequency across the corpus\n",
    "        min_df=10, # minimum word frequency required to be in model\n",
    "        stop_words=stopwords.words('english') # remove stopwords\n",
    "        )\n",
    "    \n",
    "    description_story_processed = pd.Series(df[\"description_story_processed\"])\n",
    "    tfidf_fit_description_story_processed = vect_description_story.fit(description_story_processed)\n",
    "    description_story_processed_tfidf_array = tfidf_fit_description_story_processed.transform(description_story_processed).toarray()\n",
    "    description_story_tfidf_df = pd.DataFrame(description_story_processed_tfidf_array)\n",
    "    description_story_tfidf_df.columns = list(map(lambda x : \"description_story_\" + str(x), description_story_tfidf_df.columns))\n",
    "    df = pd.merge(df, description_story_tfidf_df , left_index=True, right_index=True)\n",
    "\n",
    "\n",
    "    # Description Risks\n",
    "\n",
    "    vect_description_risks = TfidfVectorizer( \n",
    "        tokenizer=LemmatizeTokenizer(),\n",
    "        lowercase=True,\n",
    "        analyzer='word', \n",
    "        ngram_range=(1,3), # unigram, bigram and trigram \n",
    "        max_features=100, # vocabulary that only consider the top max_features ordered by term frequency across the corpus\n",
    "        min_df=10, # minimum word frequency required to be in model\n",
    "        stop_words=stopwords.words('english') # remove stopwords\n",
    "        )\n",
    "\n",
    "    description_risks_processed = pd.Series(df[\"description_risks_processed\"])\n",
    "    tfidf_fit_description_risks_processed = vect_description_risks.fit(description_risks_processed)\n",
    "    description_risks_processed_tfidf_array = tfidf_fit_description_risks_processed.transform(description_risks_processed).toarray()\n",
    "    description_risks_tfidf_df = pd.DataFrame(description_risks_processed_tfidf_array)\n",
    "    description_risks_tfidf_df.columns = list(map(lambda x : \"description_risks_\" + str(x), description_risks_tfidf_df.columns))\n",
    "    df = pd.merge(df, description_risks_tfidf_df , left_index=True, right_index=True)\n",
    "\n",
    "    return df"
   ]
  },
  {
   "cell_type": "code",
   "execution_count": 113,
   "id": "965ebbca",
   "metadata": {},
   "outputs": [],
   "source": [
    "# test\n",
    "#df = generate_nlp_features(clean_text(df))"
   ]
  },
  {
   "cell_type": "code",
   "execution_count": 114,
   "id": "dae2d5bd",
   "metadata": {},
   "outputs": [
    {
     "name": "stdout",
     "output_type": "stream",
     "text": [
      "id\n",
      "name\n",
      "description\n",
      "description_story\n",
      "description_risks\n",
      "rewards\n",
      "category\n",
      "pledged\n",
      "goal\n",
      "deadline\n",
      "location\n",
      "state\n",
      "faq_count\n",
      "update_count\n",
      "backers_count\n",
      "is_starrable\n",
      "spotlight\n",
      "staff_pick\n",
      "video\n",
      "creator_name\n",
      "creator_url\n",
      "url\n",
      "created_at\n",
      "published_at\n",
      "launched_at\n",
      "link\n",
      "has_video\n"
     ]
    }
   ],
   "source": [
    "for x in df.columns:\n",
    "    print(x)"
   ]
  },
  {
   "cell_type": "markdown",
   "id": "5883c447",
   "metadata": {},
   "source": [
    "**Rewards Features**"
   ]
  },
  {
   "cell_type": "code",
   "execution_count": 115,
   "id": "5880f30e",
   "metadata": {},
   "outputs": [],
   "source": [
    "def create_rewards_tiers(df):\n",
    "    df[\"reward_tiers\"] = df[\"rewards\"].apply(lambda x : len(ast.literal_eval(x)))\n",
    "    df = move_reward_tiers(df)\n",
    "    return df\n",
    "\n",
    "def create_all_reward_amount(df):\n",
    "    df[\"all_reward_amount\"] = np.empty((len(df), 0)).tolist()\n",
    "\n",
    "    for i in range(len(df)):\n",
    "        all_reward_amount = []\n",
    "        dict_list = ast.literal_eval(df.iloc[i, 5]) # Converts rewards column into dictionary\n",
    "\n",
    "        for dict in dict_list:\n",
    "            values_string = str(dict.values())\n",
    "            reward_title = re.search(r\"Pledge S\\$ \\d{1,3}(,\\d{1,3})? or more\", values_string) # Search for all reward titles\n",
    "\n",
    "            if reward_title is not None:\n",
    "                reward_amount = re.search(r\"\\d{1,3}(,\\d{1,3})?\", reward_title.group()) # Search for only the digits in reward amount\n",
    "                if reward_amount is not None:\n",
    "                    all_reward_amount.append(reward_amount.group())\n",
    "            else:\n",
    "                all_reward_amount.append(0) # If no reward title is found, add 0\n",
    "        df[\"all_reward_amount\"][i] = all_reward_amount\n",
    "    df = move_all_reward_amount(df)\n",
    "    return df\n",
    "\n",
    "# Rearange reward_tiers column to the right of rewards\n",
    "def move_reward_tiers(df):\n",
    "    cols = df.columns.tolist()\n",
    "    cols = cols[:6] + [cols[-1]] + cols[6:-1]\n",
    "    df = df[cols]\n",
    "    return df\n",
    "\n",
    "# Rearange all_reward_amount column to the right of reward_tiers\n",
    "def move_all_reward_amount(df):\n",
    "    cols = df.columns.tolist()\n",
    "    cols = cols[:7] + [cols[-1]] + cols[7:-1]\n",
    "    df = df[cols]\n",
    "    return df"
   ]
  },
  {
   "cell_type": "code",
   "execution_count": 116,
   "id": "a640e9ee",
   "metadata": {},
   "outputs": [],
   "source": [
    "# Create reward tiers feature\n",
    "# df = create_rewards_tiers(df)\n",
    "# df.head()\n"
   ]
  },
  {
   "cell_type": "code",
   "execution_count": 117,
   "id": "2e42c36c",
   "metadata": {},
   "outputs": [],
   "source": [
    "# Create all reward amount feature\n",
    "# If lowest reward amount is not 0, the project is either already fully funded or cancelled.\n",
    "# Rewards should be sorted in ascending order, any amount to the right and less than the max means reward is no longer available.\n",
    "# df = create_all_reward_amount(df)\n",
    "# df.head()"
   ]
  },
  {
   "cell_type": "code",
   "execution_count": 122,
   "id": "2008d31c",
   "metadata": {},
   "outputs": [],
   "source": [
    "'''\n",
    "Polarity is float which lies in the range of [-1,1] where 1 means positive statement and -1 means a negative statement. Subjective sentences generally refer to personal opinion, emotion or judgment whereas objective refers to factual information. Subjectivity is also a float which lies in the range of [0,1].\n",
    "'''\n",
    "def generate_sentiment_features(df):\n",
    "    df = df.dropna(subset=['description_story_processed', 'description_risks_processed', 'description_processed', 'rewards_processed']) # NOTE: put at top with other dropnas from other features?\n",
    "    df[\"description_story_polarity\"] = df[\"description_story_processed\"].apply(lambda x: \n",
    "                   TextBlob(x).sentiment.polarity)\n",
    "    df[\"description_story_subjectivity\"] = df[\"description_story_processed\"].apply(lambda x: \n",
    "                   TextBlob(x).sentiment.subjectivity)\n",
    "    df[\"description_polarity\"] = df[\"description_processed\"].apply(lambda x: \n",
    "                   TextBlob(x).sentiment.polarity)\n",
    "    df[\"description_subjectivity\"] = df[\"description_processed\"].apply(lambda x: \n",
    "                   TextBlob(x).sentiment.subjectivity)\n",
    "    df[\"description_risks_polarity\"] = df[\"description_risks_processed\"].apply(lambda x: \n",
    "                   TextBlob(x).sentiment.polarity)\n",
    "    df[\"description_risks_subjectivity\"] = df[\"description_risks_processed\"].apply(lambda x: \n",
    "                   TextBlob(x).sentiment.subjectivity)\n",
    "    df[\"rewards_polarity\"] = df[\"rewards_processed\"].apply(lambda x: \n",
    "                   TextBlob(x).sentiment.polarity)\n",
    "    df[\"rewards_subjectivity\"] = df[\"rewards_processed\"].apply(lambda x: \n",
    "                   TextBlob(x).sentiment.subjectivity)          \n",
    "    return df"
   ]
  },
  {
   "cell_type": "code",
   "execution_count": null,
   "id": "bb8913eb",
   "metadata": {},
   "outputs": [],
   "source": [
    "def generate_word_count_features(df): # omitted description due to word limit, word count likely similar for all projects\n",
    "    df['description_story_word_count'] = df[\"description_story_processed\"].apply(lambda x: len(str(x).split(\" \")))\n",
    "    df['description_risks_word_count'] = df[\"description_risks_processed\"].apply(lambda x: len(str(x).split(\" \")))\n",
    "    df['rewards_word_count'] = df[\"rewards_processed\"].apply(lambda x: len(str(x).split(\" \")))\n",
    "    return df"
   ]
  },
  {
   "cell_type": "code",
   "execution_count": null,
   "id": "4be5798c",
   "metadata": {},
   "outputs": [],
   "source": [
    "def one_hot_encoding(df):\n",
    "    "
   ]
  },
  {
   "cell_type": "markdown",
   "id": "bf488355",
   "metadata": {},
   "source": [
    "hold out on topic modelling first because it is unsupervised algorithm"
   ]
  },
  {
   "cell_type": "code",
   "execution_count": 120,
   "id": "814d4b30",
   "metadata": {},
   "outputs": [],
   "source": [
    "# df = clean_text(df)\n",
    "# #generate BOW on description_story \n",
    "# #Our spaCy model:\n",
    "# nlp = en_core_web_md.load()\n",
    "# # Tags I want to remove from the text\n",
    "# removal= ['ADV','PRON','CCONJ','PUNCT','PART','DET','ADP','SPACE', 'NUM', 'SYM']\n",
    "# tokens = []\n",
    "\n",
    "# for story in nlp.pipe(df['description_story_processed']):\n",
    "#    proj_tok = [token.lemma_.lower() for token in story if token.pos_ not in removal and not token.is_stop and token.is_alpha]\n",
    "#    tokens.append(proj_tok)\n",
    "    \n",
    "# dictionary.filter_extremes(no_below=5, no_above=0.5, keep_n=1000)\n",
    "# # No_below: Tokens that appear in less than 5 documents are filtered out.\n",
    "# # No_above: Tokens that appear in more than 50% of the total corpus are also removed as default.\n",
    "# # Keep_n: We limit ourselves to the top 1000 most frequent tokens (default is 100.000). Set to ‘None’ if you want to keep all.\n",
    "\n",
    "# df['story_tokens'] = tokens\n",
    "# print(len(df))\n",
    "# print(len(tokens))\n",
    "\n",
    "# df['story_tokens']\n",
    "# dictionary = Dictionary(df['story_tokens'])\n",
    "\n",
    "# corpus = [dictionary.doc2bow(doc) for doc in df['story_tokens']]\n",
    "\n",
    "# lda_model = LdaMulticore(corpus=corpus, id2word=dictionary, iterations=50, num_topics=10, workers = 4, passes=10)"
   ]
  },
  {
   "cell_type": "markdown",
   "id": "cfe67541",
   "metadata": {},
   "source": [
    "## Combine all feature generating functions"
   ]
  },
  {
   "cell_type": "code",
   "execution_count": 123,
   "id": "35d0b1b7",
   "metadata": {},
   "outputs": [
    {
     "name": "stderr",
     "output_type": "stream",
     "text": [
      "/Users/ivankoh/opt/miniconda3/envs/bt4222/lib/python3.9/site-packages/sklearn/feature_extraction/text.py:524: UserWarning: The parameter 'token_pattern' will not be used since 'tokenizer' is not None'\n",
      "  warnings.warn(\n",
      "/Users/ivankoh/opt/miniconda3/envs/bt4222/lib/python3.9/site-packages/sklearn/feature_extraction/text.py:404: UserWarning: Your stop_words may be inconsistent with your preprocessing. Tokenizing the stop words generated tokens [\"'d\", \"'ll\", \"'re\", \"'s\", \"'ve\", 'could', 'doe', 'ha', 'might', 'must', \"n't\", 'need', 'sha', 'wa', 'wo', 'would'] not in stop_words.\n",
      "  warnings.warn(\n",
      "/Users/ivankoh/opt/miniconda3/envs/bt4222/lib/python3.9/site-packages/sklearn/feature_extraction/text.py:524: UserWarning: The parameter 'token_pattern' will not be used since 'tokenizer' is not None'\n",
      "  warnings.warn(\n",
      "/Users/ivankoh/opt/miniconda3/envs/bt4222/lib/python3.9/site-packages/sklearn/feature_extraction/text.py:404: UserWarning: Your stop_words may be inconsistent with your preprocessing. Tokenizing the stop words generated tokens [\"'d\", \"'ll\", \"'re\", \"'s\", \"'ve\", 'could', 'doe', 'ha', 'might', 'must', \"n't\", 'need', 'sha', 'wa', 'wo', 'would'] not in stop_words.\n",
      "  warnings.warn(\n",
      "/Users/ivankoh/opt/miniconda3/envs/bt4222/lib/python3.9/site-packages/sklearn/feature_extraction/text.py:524: UserWarning: The parameter 'token_pattern' will not be used since 'tokenizer' is not None'\n",
      "  warnings.warn(\n",
      "/Users/ivankoh/opt/miniconda3/envs/bt4222/lib/python3.9/site-packages/sklearn/feature_extraction/text.py:404: UserWarning: Your stop_words may be inconsistent with your preprocessing. Tokenizing the stop words generated tokens [\"'d\", \"'ll\", \"'re\", \"'s\", \"'ve\", 'could', 'doe', 'ha', 'might', 'must', \"n't\", 'need', 'sha', 'wa', 'wo', 'would'] not in stop_words.\n",
      "  warnings.warn(\n",
      "/Users/ivankoh/opt/miniconda3/envs/bt4222/lib/python3.9/site-packages/sklearn/feature_extraction/text.py:524: UserWarning: The parameter 'token_pattern' will not be used since 'tokenizer' is not None'\n",
      "  warnings.warn(\n",
      "/Users/ivankoh/opt/miniconda3/envs/bt4222/lib/python3.9/site-packages/sklearn/feature_extraction/text.py:404: UserWarning: Your stop_words may be inconsistent with your preprocessing. Tokenizing the stop words generated tokens [\"'d\", \"'ll\", \"'re\", \"'s\", \"'ve\", 'could', 'doe', 'ha', 'might', 'must', \"n't\", 'need', 'sha', 'wa', 'wo', 'would'] not in stop_words.\n",
      "  warnings.warn(\n",
      "/var/folders/dq/33rpc0cx4f54t0vx2cdcgczr0000gn/T/ipykernel_7310/2749083875.py:23: SettingWithCopyWarning: \n",
      "A value is trying to be set on a copy of a slice from a DataFrame\n",
      "\n",
      "See the caveats in the documentation: https://pandas.pydata.org/pandas-docs/stable/user_guide/indexing.html#returning-a-view-versus-a-copy\n",
      "  df[\"all_reward_amount\"][i] = all_reward_amount\n"
     ]
    }
   ],
   "source": [
    "result = clean_text(df)\n",
    "result = generate_nlp_features(result)\n",
    "result = create_rewards_tiers(result)\n",
    "result = create_all_reward_amount(result)\n",
    "result = generate_sentiment_features(result)\n",
    "result = generate_word_count_features(result)"
   ]
  },
  {
   "cell_type": "markdown",
   "id": "9180d133",
   "metadata": {},
   "source": [
    "## Export"
   ]
  },
  {
   "cell_type": "code",
   "execution_count": 124,
   "id": "788bc10a",
   "metadata": {},
   "outputs": [],
   "source": [
    "import time \n",
    "\n",
    "result.to_csv(f'data/kickstarter_final_{time.strftime(\"%Y%m%d-%H%M%S\")}.csv')"
   ]
  },
  {
   "cell_type": "code",
   "execution_count": null,
   "id": "a41d3f14",
   "metadata": {},
   "outputs": [],
   "source": [
    "#since there could be more than one categories for each project, create new features to split the categories.\n",
    "# df['new_category'] = df.category.str.split(\"/\", expand=False)\n",
    "# split_cat = pd.DataFrame(df['new_category'].tolist(), columns=['category1', 'category2'])\n",
    "# #each project should at least have 1 category, 'category2' can be \"None\". \n",
    "# #'category1' being the main category for the project.\n",
    "# df = pd.concat([df, split_cat], axis=1)\n",
    "# df.head()"
   ]
  }
 ],
 "metadata": {
  "kernelspec": {
   "display_name": "bt4222",
   "language": "python",
   "name": "bt4222"
  },
  "language_info": {
   "codemirror_mode": {
    "name": "ipython",
    "version": 3
   },
   "file_extension": ".py",
   "mimetype": "text/x-python",
   "name": "python",
   "nbconvert_exporter": "python",
   "pygments_lexer": "ipython3",
   "version": "3.9.12"
  },
  "vscode": {
   "interpreter": {
    "hash": "b14d2bd7895077ad303f266db7ad1f8a11e285bbfcdfa868008aad211f623e81"
   }
  }
 },
 "nbformat": 4,
 "nbformat_minor": 5
}
