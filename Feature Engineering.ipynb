{
 "cells": [
  {
   "cell_type": "code",
   "execution_count": 59,
   "id": "cfcff7e8",
   "metadata": {},
   "outputs": [
    {
     "name": "stderr",
     "output_type": "stream",
     "text": [
      "[nltk_data] Downloading package stopwords to\n",
      "[nltk_data]     /Users/ivankoh/nltk_data...\n",
      "[nltk_data]   Package stopwords is already up-to-date!\n",
      "[nltk_data] Downloading package punkt to /Users/ivankoh/nltk_data...\n",
      "[nltk_data]   Package punkt is already up-to-date!\n",
      "[nltk_data] Downloading package wordnet to /Users/ivankoh/nltk_data...\n",
      "[nltk_data]   Package wordnet is already up-to-date!\n",
      "[nltk_data] Downloading package omw-1.4 to /Users/ivankoh/nltk_data...\n",
      "[nltk_data]   Package omw-1.4 is already up-to-date!\n"
     ]
    },
    {
     "data": {
      "text/plain": [
       "True"
      ]
     },
     "execution_count": 59,
     "metadata": {},
     "output_type": "execute_result"
    }
   ],
   "source": [
    "import pandas as pd \n",
    "import ast\n",
    "import re\n",
    "import numpy as np\n",
    "import nltk\n",
    "import json\n",
    "from datetime import datetime\n",
    "from datetime import timedelta\n",
    "from textblob import TextBlob\n",
    "from nltk import word_tokenize\n",
    "from sklearn.model_selection import train_test_split\n",
    "from nltk.tokenize import word_tokenize, TreebankWordTokenizer\n",
    "from nltk.corpus import stopwords\n",
    "from nltk.stem import WordNetLemmatizer, PorterStemmer\n",
    "from nltk.util import ngrams\n",
    "from sklearn.preprocessing import OneHotEncoder\n",
    "from sklearn.feature_extraction.text import CountVectorizer, TfidfVectorizer\n",
    "import spacy\n",
    "import pyLDAvis.gensim_models\n",
    "# import en_core_web_md\n",
    "from gensim.corpora.dictionary import Dictionary\n",
    "from gensim.models import LdaMulticore\n",
    "from gensim.models import CoherenceModel\n",
    "\n",
    "nltk.download('stopwords')\n",
    "nltk.download('punkt')\n",
    "nltk.download('wordnet')\n",
    "nltk.download('omw-1.4')"
   ]
  },
  {
   "cell_type": "code",
   "execution_count": 60,
   "id": "b667a080",
   "metadata": {},
   "outputs": [],
   "source": [
    "df = pd.read_csv(\"/Users/ivankoh/Library/CloudStorage/OneDrive-NationalUniversityofSingapore/1D/NUS Y3S1/BT4222/Data/kickstarter_train.csv\")"
   ]
  },
  {
   "cell_type": "code",
   "execution_count": 61,
   "id": "30a6a68a",
   "metadata": {},
   "outputs": [
    {
     "data": {
      "text/plain": [
       "1    17881\n",
       "0     6875\n",
       "Name: has_video, dtype: int64"
      ]
     },
     "execution_count": 61,
     "metadata": {},
     "output_type": "execute_result"
    }
   ],
   "source": [
    "# convert 'video' to a binary categorical variable\n",
    "df['video'].value_counts()\n",
    "df['has_video'] = df['video'].apply(lambda x: 0 if pd.isnull(x) else 1)\n",
    "df['has_video'].value_counts()\n",
    "\n",
    "# df['faq_count'] = df['faq_count'].apply(lambda x: float(x.replace(\",\", \"\"))) # transfer over to feature eng"
   ]
  },
  {
   "cell_type": "code",
   "execution_count": 62,
   "id": "c4e608a1",
   "metadata": {},
   "outputs": [],
   "source": [
    "# extract main category and subcategory from category variable\n",
    "# df['subcategory'] = df['category'].apply(lambda x: json.loads(x)['slug'].split(\"/\")[1] if len(json.loads(x)['slug'].split(\"/\")) > 1 else None)\n",
    "#df['category'] = df['category'].apply(lambda x: json.loads(x)['slug'].split(\"/\")[0])\n",
    "# df['location'] = df['location'].apply(lambda x: json.loads(x)['country'])"
   ]
  },
  {
   "cell_type": "markdown",
   "id": "2ae6f8c5",
   "metadata": {},
   "source": [
    "## NLP features"
   ]
  },
  {
   "cell_type": "code",
   "execution_count": 63,
   "id": "a1445895",
   "metadata": {},
   "outputs": [],
   "source": [
    "# Text cleaning for: rewards, description, description story, description risks\n",
    "\n",
    "def clean_text(df):\n",
    "    def process_rewards(corpus):\n",
    "    \n",
    "        corpus_processed = []\n",
    "        for row in corpus:\n",
    "            row_processed = \"\"\n",
    "            row = row.replace(\"\\\\n\", \" \")\n",
    "            row = ast.literal_eval(row)\n",
    "\n",
    "            for dict in row:\n",
    "                row_processed += dict['rewards'].lower() + ' '\n",
    "\n",
    "            \n",
    "            row_processed = row_processed.replace(\"//\",'')\n",
    "            row_processed = re.sub(r'[^\\w\\s]', '', row_processed) # remove punctuation\n",
    "            corpus_processed.append(row_processed)\n",
    "\n",
    "        return corpus_processed\n",
    "    \n",
    "    def process_description_story(corpus):\n",
    "        corpus_processed = []\n",
    "        for row in corpus:\n",
    "            row = str(row)\n",
    "            row_processed = row.replace(\"\\r\", \" \" )\n",
    "            row_processed = row_processed.replace(\"\\n\", \" \" )\n",
    "            row_processed = re.sub(r'[^\\w\\s]', '', row_processed) # remove punctuation\n",
    "            corpus_processed.append(row_processed if not pd.isnull(row_processed) else \"\") # handle NA\n",
    "\n",
    "        return corpus_processed\n",
    "\n",
    "    df[\"rewards_processed\"] = process_rewards(df[\"rewards\"])\n",
    "    df[\"description_processed\"] = process_description_story(df[\"description\"])\n",
    "    df[\"description_story_processed\"] = process_description_story(df[\"description_story\"])\n",
    "    df[\"description_risks_processed\"] = process_description_story(df[\"description_risks\"])\n",
    "\n",
    "    return df\n"
   ]
  },
  {
   "cell_type": "code",
   "execution_count": 64,
   "id": "f95c3473",
   "metadata": {},
   "outputs": [],
   "source": [
    "class LemmatizeTokenizer(object):\n",
    "    def __init__(self):\n",
    "        self.lemmatizer = WordNetLemmatizer()\n",
    "    def __call__(self, text):\n",
    "        return [self.lemmatizer.lemmatize(word) for word in word_tokenize(text)]"
   ]
  },
  {
   "cell_type": "code",
   "execution_count": 65,
   "id": "62c9ad03",
   "metadata": {},
   "outputs": [],
   "source": [
    "# need to return the vectorizer to use on the test data to transform it \n",
    "def generate_nlp_features(df):\n",
    "    \n",
    "    # Rewards\n",
    "\n",
    "    vect_rewards = TfidfVectorizer( \n",
    "        tokenizer=LemmatizeTokenizer(),\n",
    "        lowercase=True,\n",
    "        analyzer='word', \n",
    "        ngram_range=(1,3), # unigram, bigram and trigram \n",
    "        max_features=100, # vocabulary that only consider the top max_features ordered by term frequency across the corpus\n",
    "        min_df=10, # minimum word frequency required to be in model\n",
    "        stop_words=stopwords.words('english') # remove stopwords\n",
    "        )\n",
    "\n",
    "    rewards_processed = pd.Series(df[\"rewards_processed\"])\n",
    "    tfidf_fit_rewards = vect_rewards.fit(rewards_processed)\n",
    "    rewards_tfidf_array = tfidf_fit_rewards.transform(rewards_processed).toarray()\n",
    "    rewards_tfidf_df = pd.DataFrame(rewards_tfidf_array)\n",
    "    rewards_tfidf_df.columns = list(map(lambda x : \"rewards_\" + str(x), rewards_tfidf_df.columns))\n",
    "    df = pd.merge(df, rewards_tfidf_df , left_index=True, right_index=True)\n",
    "    \n",
    "\n",
    "    # Description\n",
    "\n",
    "    vect_description = TfidfVectorizer( \n",
    "        tokenizer=LemmatizeTokenizer(),\n",
    "        lowercase=True,\n",
    "        analyzer='word', \n",
    "        ngram_range=(1,3), # unigram, bigram and trigram \n",
    "        max_features=100, # vocabulary that only consider the top max_features ordered by term frequency across the corpus\n",
    "        min_df=10, # minimum word frequency required to be in model\n",
    "        stop_words=stopwords.words('english') # remove stopwords\n",
    "        )\n",
    "\n",
    "    description = pd.Series(df[\"description_processed\"])\n",
    "    tfidf_fit_description = vect_description.fit(description)\n",
    "    description_tfidf_array = tfidf_fit_description.transform(description).toarray()\n",
    "    description_tfidf_df = pd.DataFrame(description_tfidf_array)\n",
    "    description_tfidf_df.columns = list(map(lambda x : \"description_\" + str(x), description_tfidf_df.columns))\n",
    "    df = pd.merge(df, description_tfidf_df , left_index=True, right_index=True)\n",
    "\n",
    "\n",
    "    # Description Story\n",
    "\n",
    "    vect_description_story = TfidfVectorizer( \n",
    "        tokenizer=LemmatizeTokenizer(),\n",
    "        lowercase=True,\n",
    "        analyzer='word', \n",
    "        ngram_range=(1,3), # unigram, bigram and trigram \n",
    "        max_features=100, # vocabulary that only consider the top max_features ordered by term frequency across the corpus\n",
    "        min_df=10, # minimum word frequency required to be in model\n",
    "        stop_words=stopwords.words('english') # remove stopwords\n",
    "        )\n",
    "    \n",
    "    description_story_processed = pd.Series(df[\"description_story_processed\"])\n",
    "    tfidf_fit_description_story_processed = vect_description_story.fit(description_story_processed)\n",
    "    description_story_processed_tfidf_array = tfidf_fit_description_story_processed.transform(description_story_processed).toarray()\n",
    "    description_story_tfidf_df = pd.DataFrame(description_story_processed_tfidf_array)\n",
    "    description_story_tfidf_df.columns = list(map(lambda x : \"description_story_\" + str(x), description_story_tfidf_df.columns))\n",
    "    df = pd.merge(df, description_story_tfidf_df , left_index=True, right_index=True)\n",
    "\n",
    "\n",
    "    # Description Risks\n",
    "\n",
    "    vect_description_risks = TfidfVectorizer( \n",
    "        tokenizer=LemmatizeTokenizer(),\n",
    "        lowercase=True,\n",
    "        analyzer='word', \n",
    "        ngram_range=(1,3), # unigram, bigram and trigram \n",
    "        max_features=100, # vocabulary that only consider the top max_features ordered by term frequency across the corpus\n",
    "        min_df=10, # minimum word frequency required to be in model\n",
    "        stop_words=stopwords.words('english') # remove stopwords\n",
    "        )\n",
    "\n",
    "    description_risks_processed = pd.Series(df[\"description_risks_processed\"])\n",
    "    tfidf_fit_description_risks_processed = vect_description_risks.fit(description_risks_processed)\n",
    "    description_risks_processed_tfidf_array = tfidf_fit_description_risks_processed.transform(description_risks_processed).toarray()\n",
    "    description_risks_tfidf_df = pd.DataFrame(description_risks_processed_tfidf_array)\n",
    "    description_risks_tfidf_df.columns = list(map(lambda x : \"description_risks_\" + str(x), description_risks_tfidf_df.columns))\n",
    "    df = pd.merge(df, description_risks_tfidf_df , left_index=True, right_index=True)\n",
    "\n",
    "    return (df, tfidf_fit_rewards, tfidf_fit_description, tfidf_fit_description_story_processed, tfidf_fit_description_risks_processed)\n",
    "\n",
    "\n",
    "def nlp_transform_test(df, tfidf_fit_rewards, tfidf_fit_description, tfidf_fit_description_story_processed, tfidf_fit_description_risks_processed):\n",
    "    rewards_tfidf_array = tfidf_fit_rewards.transform(df['rewards_processed']).toarray()\n",
    "    rewards_tfidf_df = pd.DataFrame(rewards_tfidf_array)\n",
    "    rewards_tfidf_df.columns = list(map(lambda x : \"rewards_\" + str(x), rewards_tfidf_df.columns))\n",
    "    df = pd.merge(df, rewards_tfidf_df , left_index=True, right_index=True)\n",
    "    \n",
    "    description_tfidf_array = tfidf_fit_description.transform(df['description_processed']).toarray()\n",
    "    description_tfidf_df = pd.DataFrame(description_tfidf_array)\n",
    "    description_tfidf_df.columns = list(map(lambda x : \"description_\" + str(x), description_tfidf_df.columns))\n",
    "    df = pd.merge(df, description_tfidf_df , left_index=True, right_index=True)\n",
    "    \n",
    "    description_story_processed_tfidf_array = tfidf_fit_description_story_processed.transform(df['description_story_processed']).toarray()\n",
    "    description_story_tfidf_df = pd.DataFrame(description_story_processed_tfidf_array)\n",
    "    description_story_tfidf_df.columns = list(map(lambda x : \"description_story_\" + str(x), description_story_tfidf_df.columns))\n",
    "    df = pd.merge(df, description_story_tfidf_df , left_index=True, right_index=True)\n",
    "    \n",
    "    description_risks_processed_tfidf_array = tfidf_fit_description_risks_processed.transform(df['description_risks_processed']).toarray()\n",
    "    description_risks_tfidf_df = pd.DataFrame(description_risks_processed_tfidf_array)\n",
    "    description_risks_tfidf_df.columns = list(map(lambda x : \"description_risks_\" + str(x), description_risks_tfidf_df.columns))\n",
    "    df = pd.merge(df, description_risks_tfidf_df , left_index=True, right_index=True)\n",
    "    \n",
    "    return df\n"
   ]
  },
  {
   "cell_type": "code",
   "execution_count": 66,
   "id": "dae2d5bd",
   "metadata": {},
   "outputs": [
    {
     "name": "stdout",
     "output_type": "stream",
     "text": [
      "id\n",
      "name\n",
      "description\n",
      "description_story\n",
      "description_risks\n",
      "rewards\n",
      "category\n",
      "goal\n",
      "deadline\n",
      "location\n",
      "state\n",
      "staff_pick\n",
      "video\n",
      "launched_at\n",
      "created_at\n",
      "rewards_processed\n",
      "description_processed\n",
      "description_story_processed\n",
      "description_risks_processed\n",
      "has_video\n"
     ]
    }
   ],
   "source": [
    "for x in df.columns:\n",
    "    print(x)"
   ]
  },
  {
   "cell_type": "markdown",
   "id": "5883c447",
   "metadata": {},
   "source": [
    "## Rewards Features"
   ]
  },
  {
   "cell_type": "code",
   "execution_count": 67,
   "id": "5880f30e",
   "metadata": {},
   "outputs": [
    {
     "name": "stderr",
     "output_type": "stream",
     "text": [
      "<>:37: DeprecationWarning: invalid escape sequence \\d\n",
      "<>:37: DeprecationWarning: invalid escape sequence \\d\n",
      "/var/folders/dq/33rpc0cx4f54t0vx2cdcgczr0000gn/T/ipykernel_66965/3232248864.py:37: DeprecationWarning: invalid escape sequence \\d\n",
      "  integer_amount = re.sub(\"[^\\d\\.]\", \"\", reward_amount.group()) # remove comma in large amounts of money\n"
     ]
    }
   ],
   "source": [
    "# Remove rewards that got cut off while scraping and closes the dictionary\n",
    "def clean_rewards(reward_list):\n",
    "    try:\n",
    "        tiers = ast.literal_eval(reward_list)\n",
    "    except SyntaxError as e:\n",
    "        i = len(reward_list) -1\n",
    "        while reward_list[i] != \"{\":\n",
    "            i -= 1\n",
    "        reward_list = reward_list[:(i-1)]\n",
    "        reward_list += ']'\n",
    "    return reward_list\n",
    "    \n",
    "def create_rewards_tiers(df):\n",
    "    # df[\"rewards\"] = df[\"rewards\"].apply(lambda x : clean_rewards(x))\n",
    "    df[\"reward_tiers\"] = df[\"rewards\"].apply(lambda x : len(ast.literal_eval(x)))\n",
    "    df = move_reward_tiers(df)\n",
    "    return df\n",
    "\n",
    "def create_min_max_reward(df):\n",
    "    df[\"min_reward\"] = 0\n",
    "    df[\"max_reward\"] = 0\n",
    "\n",
    "    for i in range(len(df)):\n",
    "        print(i)\n",
    "        all_reward_amount = []\n",
    "        reward = df.iloc[i, 5]\n",
    "        dict_list = ast.literal_eval(reward)\n",
    "        for dictionary in dict_list:\n",
    "            values_string = str(dictionary.values())\n",
    "            reward_title_SGD = re.search(r\"(S)?\\$\\s?\\d{1,3}(,\\d{1,3})?\", values_string) #S$\n",
    "            if reward_title_SGD:\n",
    "                reward_amount = re.search(r\"\\d{1,3}(,\\d{1,3})?\", reward_title_SGD.group())\n",
    "            else:\n",
    "                 print(\"Error: No reward in SGD found!\")   \n",
    "\n",
    "            if reward_amount is not None:\n",
    "                integer_amount = re.sub(\"[^\\d\\.]\", \"\", reward_amount.group()) # remove comma in large amounts of money\n",
    "                all_reward_amount.append(int(integer_amount))\n",
    "            else:\n",
    "                pledged_without_reward = re.search(r\"Pledge without a reward\", values_string) # check if have \"Pledge without a reward\"\n",
    "                if pledged_without_reward:\n",
    "                    all_reward_amount.append(0)\n",
    "        if len(all_reward_amount) > 0:\n",
    "            df[\"min_reward\"][i] = min(all_reward_amount)\n",
    "            df[\"max_reward\"][i] = max(all_reward_amount)\n",
    "    print(\"create min max reward done, now moving columns\")\n",
    "    df = move_min_max_reward(df)\n",
    "    return df\n",
    "\n",
    "# Rearange reward_tiers column to the right of rewards\n",
    "def move_reward_tiers(df):\n",
    "    cols = df.columns.tolist()\n",
    "    cols = cols[:6] + [cols[-1]] + cols[6:-1]\n",
    "    df = df[cols]\n",
    "    return df\n",
    "\n",
    "# Rearange min and max reward columns to the right of reward_tiers\n",
    "def move_min_max_reward(df):\n",
    "    cols = df.columns.tolist()\n",
    "    cols = cols[:7] + cols[-2:] + cols[7:-2]\n",
    "    df = df[cols]\n",
    "    return df"
   ]
  },
  {
   "cell_type": "markdown",
   "id": "3d885c87",
   "metadata": {},
   "source": [
    "## Sentiment Features"
   ]
  },
  {
   "cell_type": "code",
   "execution_count": 68,
   "id": "2008d31c",
   "metadata": {},
   "outputs": [],
   "source": [
    "'''\n",
    "Polarity is float which lies in the range of [-1,1] where 1 means positive statement and -1 means a negative statement. Subjective sentences generally refer to personal opinion, emotion or judgment whereas objective refers to factual information. Subjectivity is also a float which lies in the range of [0,1].\n",
    "'''\n",
    "def generate_sentiment_features(df):\n",
    "    df = df.dropna(subset=['description_story_processed', 'description_risks_processed', 'description_processed', 'rewards_processed']) # NOTE: put at top with other dropnas from other features?\n",
    "    df[\"description_story_polarity\"] = df[\"description_story_processed\"].apply(lambda x: \n",
    "                   TextBlob(x).sentiment.polarity)\n",
    "    df[\"description_story_subjectivity\"] = df[\"description_story_processed\"].apply(lambda x: \n",
    "                   TextBlob(x).sentiment.subjectivity)\n",
    "    df[\"description_polarity\"] = df[\"description_processed\"].apply(lambda x: \n",
    "                   TextBlob(x).sentiment.polarity)\n",
    "    df[\"description_subjectivity\"] = df[\"description_processed\"].apply(lambda x: \n",
    "                   TextBlob(x).sentiment.subjectivity)\n",
    "    df[\"description_risks_polarity\"] = df[\"description_risks_processed\"].apply(lambda x: \n",
    "                   TextBlob(x).sentiment.polarity)\n",
    "    df[\"description_risks_subjectivity\"] = df[\"description_risks_processed\"].apply(lambda x: \n",
    "                   TextBlob(x).sentiment.subjectivity)\n",
    "    df[\"rewards_polarity\"] = df[\"rewards_processed\"].apply(lambda x: \n",
    "                   TextBlob(x).sentiment.polarity)\n",
    "    df[\"rewards_subjectivity\"] = df[\"rewards_processed\"].apply(lambda x: \n",
    "                   TextBlob(x).sentiment.subjectivity)          \n",
    "    return df"
   ]
  },
  {
   "cell_type": "code",
   "execution_count": 69,
   "id": "bb8913eb",
   "metadata": {},
   "outputs": [],
   "source": [
    "def generate_word_count_features(df): # omitted description due to word limit, word count likely similar for all projects\n",
    "    df['description_story_word_count'] = df[\"description_story_processed\"].apply(lambda x: len(str(x).split(\" \")))\n",
    "    df['description_risks_word_count'] = df[\"description_risks_processed\"].apply(lambda x: len(str(x).split(\" \")))\n",
    "    df['rewards_word_count'] = df[\"rewards_processed\"].apply(lambda x: len(str(x).split(\" \")))\n",
    "    return df"
   ]
  },
  {
   "cell_type": "markdown",
   "id": "49743545",
   "metadata": {},
   "source": [
    "## One-hot Encoding of Categorical Variables"
   ]
  },
  {
   "cell_type": "markdown",
   "id": "365e87cf",
   "metadata": {},
   "source": [
    "when to drop one of the OHE columns: \n",
    "https://stats.stackexchange.com/questions/231285/dropping-one-of-the-columns-when-using-one-hot-encoding"
   ]
  },
  {
   "cell_type": "code",
   "execution_count": 70,
   "id": "d13b9e49",
   "metadata": {},
   "outputs": [],
   "source": [
    "def ohe_transform(enc, col, df):\n",
    "    transformed = enc.transform(df[col].to_numpy().reshape(-1, 1))\n",
    "    #Create a Pandas DataFrame of the hot encoded column\n",
    "    ohe_df = pd.DataFrame(transformed, columns=enc.get_feature_names_out())\n",
    "    #concat with original data\n",
    "    data = pd.concat([df, ohe_df], axis=1)#.drop([col], axis=1)\n",
    "    return data\n",
    "\n",
    "def ohe_fit(col, df):\n",
    "    enc = OneHotEncoder(handle_unknown='ignore', sparse=False)\n",
    "    enc.fit(df[col].unique().reshape(-1, 1))\n",
    "    return (ohe_transform(enc, col, df), enc)"
   ]
  },
  {
   "cell_type": "markdown",
   "id": "bf488355",
   "metadata": {},
   "source": [
    "hold out on topic modelling first because it is unsupervised algorithm"
   ]
  },
  {
   "cell_type": "markdown",
   "id": "4abe22b1",
   "metadata": {},
   "source": [
    "<h2> Generate Duration Feature </h2>"
   ]
  },
  {
   "cell_type": "code",
   "execution_count": 71,
   "id": "9bd04cb2",
   "metadata": {},
   "outputs": [],
   "source": [
    "def generate_duration_features(df):\n",
    "    df['deadline'] = df['deadline'].apply(lambda x: datetime.strptime(x, '%Y-%m-%d %H:%M:%S'))\n",
    "    df['launched_at'] = df['launched_at'].apply(lambda x: datetime.strptime(x, '%Y-%m-%d %H:%M:%S'))\n",
    "    df['created_at'] = df['created_at'].apply(lambda x: datetime.strptime(x, '%Y-%m-%d %H:%M:%S'))\n",
    "    df['funding_duration_in_days'] = (df['deadline'] - df['launched_at'].dt.tz_localize(None))\n",
    "    df['funding_duration_in_days'] = df['funding_duration_in_days'].apply(lambda x: x / timedelta(days=1))\n",
    "    df['preparation_duration_in_days'] = (df['launched_at'] - df['created_at'].dt.tz_localize(None))\n",
    "    df['preparation_duration_in_days'] = df['preparation_duration_in_days'].apply(lambda x: x / timedelta(days=1))\n",
    "    \n",
    "    return df"
   ]
  },
  {
   "cell_type": "markdown",
   "id": "cfe67541",
   "metadata": {},
   "source": [
    "## Combine all feature generating functions"
   ]
  },
  {
   "cell_type": "code",
   "execution_count": 72,
   "id": "35d0b1b7",
   "metadata": {},
   "outputs": [
    {
     "ename": "SyntaxError",
     "evalue": "EOL while scanning string literal (<unknown>, line 1)",
     "output_type": "error",
     "traceback": [
      "Traceback \u001b[0;36m(most recent call last)\u001b[0m:\n",
      "  File \u001b[1;32m~/opt/miniconda3/envs/bt4222/lib/python3.9/site-packages/IPython/core/interactiveshell.py:3397\u001b[0m in \u001b[1;35mrun_code\u001b[0m\n    exec(code_obj, self.user_global_ns, self.user_ns)\n",
      "  Input \u001b[1;32mIn [72]\u001b[0m in \u001b[1;35m<cell line: 1>\u001b[0m\n    result = create_rewards_tiers(df)\n",
      "  Input \u001b[1;32mIn [67]\u001b[0m in \u001b[1;35mcreate_rewards_tiers\u001b[0m\n    df[\"reward_tiers\"] = df[\"rewards\"].apply(lambda x : len(ast.literal_eval(x)))\n",
      "  File \u001b[1;32m~/opt/miniconda3/envs/bt4222/lib/python3.9/site-packages/pandas/core/series.py:4433\u001b[0m in \u001b[1;35mapply\u001b[0m\n    return SeriesApply(self, func, convert_dtype, args, kwargs).apply()\n",
      "  File \u001b[1;32m~/opt/miniconda3/envs/bt4222/lib/python3.9/site-packages/pandas/core/apply.py:1088\u001b[0m in \u001b[1;35mapply\u001b[0m\n    return self.apply_standard()\n",
      "  File \u001b[1;32m~/opt/miniconda3/envs/bt4222/lib/python3.9/site-packages/pandas/core/apply.py:1143\u001b[0m in \u001b[1;35mapply_standard\u001b[0m\n    mapped = lib.map_infer(\n",
      "  File \u001b[1;32mpandas/_libs/lib.pyx:2870\u001b[0m in \u001b[1;35mpandas._libs.lib.map_infer\u001b[0m\n",
      "  Input \u001b[1;32mIn [67]\u001b[0m in \u001b[1;35m<lambda>\u001b[0m\n    df[\"reward_tiers\"] = df[\"rewards\"].apply(lambda x : len(ast.literal_eval(x)))\n",
      "  File \u001b[1;32m~/opt/miniconda3/envs/bt4222/lib/python3.9/ast.py:62\u001b[0m in \u001b[1;35mliteral_eval\u001b[0m\n    node_or_string = parse(node_or_string, mode='eval')\n",
      "\u001b[0;36m  File \u001b[0;32m~/opt/miniconda3/envs/bt4222/lib/python3.9/ast.py:50\u001b[0;36m in \u001b[0;35mparse\u001b[0;36m\u001b[0m\n\u001b[0;31m    return compile(source, filename, mode, flags,\u001b[0m\n",
      "\u001b[0;36m  File \u001b[0;32m<unknown>:1\u001b[0;36m\u001b[0m\n\u001b[0;31m    [{\"rewards\":\"Pledge €13 or more\\n\\nAbout S$ 19\\n\\n\\n\\nJust linen, please\\n\\n\\nOur natural-coloured, 100% linen comes at 140cm width. Get yourself this reward pack for 1 stretching meter of our top quality linen, or pledge the plural of €15 (e.g. 30, 45, 60) for multiple meters of fabric. The linen will be shipped to you in one piece - not cut in separate meters.\\n\\n\\nLess\\n\\n\\n\\n\\nEstimated delivery\\nMar 2019\\n\\n\\nShips to\\nAnywhere in the world\\n\\n\\n\\n\\n\\n\\n0 backers\"},{\"rewards\":\"Pledge €14 or more\\n\\nAbout S$ 20\\n\\n\\n\\nLinen shorts\\n\\n\\nOur softest white linen makes the best underwear.\\nIncludes:\\n\\n\\nSewing instructions\\n\\n\\nCut fabric pack for linen shorts\\n\\n\\n\\n\\nLess\\n\\n\\n\\n\\nEstimated delivery\\nMar 2019\\n\\n\\nShips to\\nAnywhere in the world\\n\\n\\n\\n\\n\\n\\n1 backer\"},{\"rewards\":\"Pledge €15 or more\\n\\nAbout S$ 21\\n\\n\\n\\nJust wool, please\\n\\n\\nOur natural coloured, 100% wool comes at 140cm width. Get yourself this reward pack for 1 stretching meter of our top quality wool, or pledge the plural of €15 (e.g. 30, 45, 60) for multiple meters of fabric. The wool will be shipped to you in one piece - not cut in separate meters.\\n\\n\\nLess\\n\\n\\n\\n\\nEstimated delivery\\nMar 2019\\n\\n\\nShips to\\nAnywhere in the world\\n\\n\\n\\n\\n\\n\\n0 backers\"},{\"rewards\":\"Pledge €19 or more\\n\\nAbout S$ 27\\n\\n\\n\\nWoolen hood\\n\\n\\nA woolen hood to keep your head, neck and shoulders warm and dry. Lined in natural cotton. Comes in men's or lady's model - you can tell us in the questionnaire at the end of the Kickstarter.\\nIncludes:\\n\\n\\nCut fabric pack for woolen hood\\n\\n\\nSewing instructions\\n\\n\\n\\n\\nLess\\n\\n\\n\\n\\nEstimated delivery\\nMar 2019\\n\\n\\nShips to\\nAnywhere in the world\\n\\n\\n\\n\\n\\n\\n5 backers\"},{\"rewards\":\"Pledge €19 or more\\n\\nAbout S$ 27\\n\\n\\n\\nTailor's sewing kit\\n\\n\\nNormally €25, now only €19! \\n\\nVelvet pouch filled with a selection of 30 sewing needles for different uses, 1 pin cushion, 40 pins, 1 scissors, 1 tape ruler (cm+inches), 1 tailor's chalk, 1 seam opener, 1 thimble ring, 1 spindle of linen thread, 1 wooden braid star for making cords/points. \\n\\nADD-ON to other pledge only - not available separately!\\nIncludes:\\n\\n\\nTailor's sewing kit\\n\\n\\n\\n\\nLess\\n\\n\\n\\n\\nEstimated delivery\\nMar 2019\\n\\n\\n\\n\\n\\n\\n1 backer\"},{\"rewards\":\"Pledge €29 or more\\n\\nAbout S$ 41\\n\\n\\n\\nLinen tunic\\n\\n\\nLong shirt that can be worn on the skin, made from natural coloured linen.\\nIncludes:\\n\\n\\nSewing instructions\\n\\n\\nCut fabric pack for linen tunic\\n\\n\\n\\n\\nLess\\n\\n\\n\\n\\nEstimated delivery\\nMar 2019\\n\\n\\nShips to\\nAnywhere in the world\\n\\n\\n\\n\\n\\n\\n0 backers\"},{\"rewards\":\"Pledge €29 or more\\n\\nAbout S$ 41\\n\\n\\n\\nWoolen hood deluxe\\n\\n\\nA woolen hood to keep your head, neck and shoulders warm and dry. Lined in linen. Comes in men's or lady's model - you can tell us in the questionnaire at the end of the Kickstarter.\\nIncludes:\\n\\n\\nCut fabric pack for woolen hood\\n\\n\\nSewing instructions\\n\\n\\n\\n\\nLess\\n\\n\\n\\n\\nEstimated delivery\\nMar 2019\\n\\n\\nShips to\\nAnywhere in the world\\n\\n\\n\\n\\n\\n\\n5 backers\"},{\"rewards\":\"Pledge €29 or more\\n\\nAbout S$ 41\\n\\n\\n\\nLinen shirt\\n\\n\\nOur softest white linen makes the best underwear.\\nIncludes:\\n\\n\\nCut fabric pack for linen shirt\\n\\n\\nSewing instructions\\n\\n\\n\\n\\nLess\\n\\n\\n\\n\\nEstimated delivery\\nMar 2019\\n\\n\\nShips to\\nAnywhere in the world\\n\\n\\n\\n\\n\\n\\n1 backer\"},{\"rewards\":\"Pledge €35 or more\\n\\nAbout S$ 49\\n\\n\\n\\nWoolen hose\\n\\n\\nComfortable legwear are an important part of your total outfit.\\nIncludes:\\n\\n\\nCut fabric pack for woolen hose\\n\\n\\nSewing instructions\\n\\n\\n\\n\\nLess\\n\\n\\n\\n\\nEstimated delivery\\nMar 2019\\n\\n\\nShips to\\nAnywhere in the world\\n\\n\\n\\n\\n\\n\\n1 backer\"},{\"rewards\":\"Pledge €35 or more\\n\\nAbout S$ 49\\n\\n\\n\\nLinen underdress\\n\\n\\nOur softest white linen makes the best underwear.\\nIncludes:\\n\\n\\nCut fabric pack for linen underdress\\n\\n\\nSewing instructions\\n\\n\\n\\n\\nLess\\n\\n\\n\\n\\nEstimated delivery\\nMar 2019\\n\\n\\nShips to\\nAnywhere in the world\\n\\n\\n\\n\\n\\n\\n1 backer\"},{\"rewards\":\"Pledge €35 or more\\n\\nAbout S$ 49\\n\\n\\n\\nLinen pants\\n\\n\\nSpacious pants that allow all kinds of movement without ripping. Top quality natural linen that can be washed by machine. Looks especially good in leather boots.\\nIncludes:\\n\\n\\nCut fabric pack for linen pants\\n\\n\\nSewing instructions\\n\\n\\n\\n\\nLess\\n\\n\\n\\n\\nEstimated delivery\\nMar 2019\\n\\n\\nShips to\\nAnywhere in the world\\n\\n\\n\\n\\n\\n\\n0 backers\"},{\"rewards\":\"Pledge €40 or more\\n\\nAbout S$ 56\\n\\n\\n\\nPouch with 200 pearls\\n\\n\\nNormally €60, now only €40! \\n\\nVelvet pouch filled with 100 white sweetwater pearls 3-4 mm diameter, 40 white sweetwater pearls 9 mm diameter, and 60 peacock pearls 6 mm diameter. Excellent for decorating your clothing, hats, pouches, and more.\\n\\nADD-ON to other pledge only - not available separately!\\n\\n\\nLess\\n\\n\\n\\n\\nEstimated delivery\\nMar 2019\\n\\n\\n\\n\\n\\n\\n0 backers\"},{\"rewards\":\"Pledge €49 or more\\n\\nAbout S$ 69\\n\\n\\n\\nLinen shorts 5-pack\\n\\n\\nOur softest white linen makes the best underwear.\\nIncludes:\\n\\n\\nSewing instructions\\n\\n\\n5×\\nCut fabric pack for linen shorts\\n\\n\\n\\n\\nLess\\n\\n\\n\\n\\nEstimated delivery\\nMar 2019\\n\\n\\nShips to\\nAnywhere in the world\\n\\n\\n\\n\\n\\n\\n1 backer\"},{\"rewards\":\"Pledge €55 or more\\n\\nAbout S$ 77\\n\\n\\n\\n13th century cotte\\n\\n\\nKnee-long garment of the 13th century, made in linen.\\nIncludes:\\n\\n\\nCut fabric pack for 13th century cotte\\n\\n\\nSewing instructions\\n\\n\\n\\n\\nLess\\n\\n\\n\\n\\nEstimated delivery\\nMar 2019\\n\\n\\nShips to\\nAnywhere in the world\\n\\n\\n\\n\\n\\n\\n2 backers\"},{\"rewards\":\"Pledge €55 or more\\n\\nAbout S$ 77\\n\\n\\n\\n13th century surcotte\\n\\n\\nKnee-long overgarment, matches very well with the 13th century cotte. Made in wool.\\nIncludes:\\n\\n\\nCut fabric pack for 13th century surcotte\\n\\n\\nSewing instructions\\n\\n\\n\\n\\nLess\\n\\n\\n\\n\\nEstimated delivery\\nMar 2019\\n\\n\\nShips to\\nAnywhere in the world\\n\\n\\n\\n\\n\\n\\n0 backers\"},{\"rewards\":\"Pledge €59 or more\\n\\nAbout S$ 83\\n\\n\\n\\nUnderwear pack single\\n\\n\\nOne set of clean underwear for a day.\\nIncludes:\\n\\n\\n3×\\nSewing instructions\\n\\n\\nCut fabric pack for linen shorts\\n\\n\\nCut fabric pack for linen shirt\\n\\n\\nCut fabric pack for linen pants\\n\\n\\n\\n\\nLess\\n\\n\\n\\n\\nEstimated delivery\\nMar 2019\\n\\n\\nShips to\\nAnywhere in the world\\n\\n\\n\\n\\n\\n\\n2 backers\"},{\"rewards\":\"Pledge €59 or more\\n\\nAbout S$ 83\\n\\n\\n\\nPlant-dyed woolen hood\\n\\n\\nA woolen hood to keep your head, neck and shoulders warm and dry. Lined in linen. Comes in men's or lady's model - you can tell us in the questionnaire at the end of the Kickstarter.\\nIncludes:\\n\\n\\nCut fabric pack for plant-dyed woolen hood\\n\\n\\nSewing instructions\\n\\n\\n\\n\\nLess\\n\\n\\n\\n\\nEstimated delivery\\nMar 2019\\n\\n\\nShips to\\nAnywhere in the world\\n\\n\\n\\n\\n\\n\\n0 backers\"},{\"rewards\":\"Pledge €60 or more\\n\\nAbout S$ 84\\n\\n\\n\\nPouch with 500 gemstones\\n\\n\\nNormally €99, now only €60!\\n\\nVelvet pouch filled with 100 green agate beads, 100 red garnet beads, 100 blue sodalite beads, 100 black onyx beads, and 100 white mother of pearl beads. All beads 4 mm diameter. Excellent for decorating your clothing, hats, pouches, and more.\\n\\nADD-ON to other pledge only - not available separately!\\n\\n\\nLess\\n\\n\\n\\n\\nEstimated delivery\\nMar 2019\\n\\n\\n\\n\\n\\n\\n1 backer\"},{\"rewards\":\"Pledge €75 or more\\n\\nAbout S$ 105\\n\\n\\n\\nWoolen hood 5-pack\\n\\n\\nA woolen hood to keep your head, neck and shoulders warm and dry. Lined in natural cotton. Comes in men's or lady's model - you can tell us in the questionnaire at the end of the Kickstarter.\\nIncludes:\\n\\n\\n5×\\nCut fabric pack for woolen hood\\n\\n\\nSewing instructions\\n\\n\\n\\n\\nLess\\n\\n\\n\\n\\nEstimated delivery\\nMar 2019\\n\\n\\nShips to\\nAnywhere in the world\\n\\n\\n\\n\\n\\n\\n0 backers\"},{\"rewards\":\"Pledge €89 or more\\n\\nAbout S$ 125\\n\\n\\n\\nLinen cotehardie for men\\n\\n\\nLinen cotehardie with natural cotton lining. See description for available colours.\\n\\n\\nLess\\n\\n\\n\\n\\nEstimated delivery\\nMar 2019\\n\\n\\nShips to\\nAnywhere in the world\\n\\n\\n\\n\\n\\n\\n0 backers\"},{\"rewards\":\"Pledge €89 or more\\n\\nAbout S$ 125\\n\\n\\n\\nWoolen cotehardie for men\\n\\n\\nWoolen cotehardie with natural cotton lining. See description for available colours.\\nIncludes:\\n\\n\\nSewing instructions\\n\\n\\nCut fabric pack for woolen cotehardie\\n\\n\\n\\n\\nLess\\n\\n\\n\\n\\nEstimated delivery\\nMar 2019\\n\\n\\nShips to\\nAnywhere in the world\\n\\n\\n\\n\\n\\n\\n1 backer\"},{\"rewards\":\"Pledge €100 or more\\n\\nAbout S$ 140\\n\\n\\n\\nGM Treasures - Farmer\\n\\n\\nDo you want to improve and expand your medieval kit? Let us help you! Pick your level, and we go shopping for you. As a trader we can often get better prices, and we know precisely where to find the finest medieval treasures. Themed kit basics, maintainance products, awesome accessories, unique artworks, LARP weapons, jewelry and much more. \\n\\nIn 2019, every three months we send you a box filled with the best products we find on the market. So that's four Treasure packs in total. Let us surprise you!\\nIncludes:\\n\\n\\n1-year GM Treasures - Farmer\\n\\n\\n\\n\\nLess\\n\\n\\n\\n\\nEstimated delivery\\nMar 2019\\n\\n\\nShips to\\nAnywhere in the world\\n\\n\\n\\n\\n\\n\\n0 backers\"},{\"rewards\":\"Pledge €109 or more\\n\\nAbout S$ 153\\n\\n\\n\\nLinen shirt 5-pack\\n\\n\\nOur softest white linen makes the best underwear.\\n\\n\\nLess\\n\\n\\n\\n\\nEstimated delivery\\nMar 2019\\n\\n\\nShips to\\nAnywhere in the world\\n\\n\\n\\n\\n\\n\\n0 backers\"},{\"rewards\":\"Pledge €109 or more\\n\\nAbout S$ 153\\n\\n\\n\\nLinen tunic 5-pack\\n\\n\\nLong shirt that can be worn on the skin, made from natural coloured linen.\\nIncludes:\\n\\n\\nSewing instructions\\n\\n\\n5×\\nCut fabric pack for linen tunic\\n\\n\\n\\n\\nLess\\n\\n\\n\\n\\nEstimated delivery\\nMar 2019\\n\\n\\nShips to\\nAnywhere in the world\\n\\n\\n\\n\\n\\n\\n0 backers\"},{\"rewards\":\"Pledge €109 or more\\n\\nAbout S$ 153\\n\\n\\n\\nWoolen hood deluxe 5-pack\\n\\n\\nA woolen hood to keep your head, neck and shoulders warm and dry. Linen in linen. Comes in men's or lady's model - you can tell us in the questionnaire at the end of the Kickstarter.\\nIncludes:\\n\\n\\n5×\\nCut fabric pack for woolen hood\\n\\n\\nSewing instructions\\n\\n\\n\\n\\nLess\\n\\n\\n\\n\\nEstimated delivery\\nMar 2019\\n\\n\\nShips to\\nAnywhere in the world\\n\\n\\n\\n\\n\\n\\n0 backers\"},{\"rewards\":\"Pledge €115 or more\\n\\nAbout S$ 161\\n\\n\\n\\nPlant-dyed woolen hose\\n\\n\\nComfortable legwear are an important part of your total outfit.\\nIncludes:\\n\\n\\nCut fabric pack for plant-dyed woolen hose\\n\\n\\nSewing instructions\\n\\n\\n\\n\\nLess\\n\\n\\n\\n\\nEstimated delivery\\nMar 2019\\n\\n\\nShips to\\nAnywhere in the world\\n\\n\\n\\n\\n\\n\\n0 backers\"},{\"rewards\":\"Pledge €125 or more\\n\\nAbout S$ 175\\n\\n\\n\\nLinen cotehardie deluxe\\n\\n\\nLinen cotehardie with linen lining. See description for available colours.\\nIncludes:\\n\\n\\nCut fabric pack for linen cotehardie\\n\\n\\nSewing instructions\\n\\n\\n\\n\\nLess\\n\\n\\n\\n\\nEstimated delivery\\nMar 2019\\n\\n\\nShips to\\nAnywhere in the world\\n\\n\\n\\n\\n\\n\\n0 backers\"},{\"rewards\":\"Pledge €125 or more\\n\\nAbout S$ 175\\n\\n\\n\\nwoolen cotehardie deluxe\\n\\n\\nWoolen cotehardie with linen lining. See description for available colours.\\nIncludes:\\n\\n\\nCut fabric pack for woolen cotehardie\\n\\n\\nSewing instructions\\n\\n\\n\\n\\nLess\\n\\n\\n\\n\\nEstimated delivery\\nMar 2019\\n\\n\\nShips to\\nAnywhere in the world\\n\\n\\n\\n\\n\\n\\n2 backers\"},{\"rewards\":\"Pledge €139 or more\\n\\nAbout S$ 194\\n\\n\\n\\nwoolen surcotte\\n\\n\\nCoat-like garment that goes very well together with a cotehardie. Fully lined in natural cotton.\\nIncludes:\\n\\n\\nCut fabric pack for woolen surcotte\\n\\n\\nSewing instructions\\n\\n\\n\\n\\nLess\\n\\n\\n\\n\\nEstimated delivery\\nMar 2019\\n\\n\\nShips to\\nAnywhere in the world\\n\\n\\n\\n\\n\\n\\n0 backers\"},{\"rewards\":\"Pledge €144 or more\\n\\nAbout S$ 201\\n\\n\\n\\nLinen pants 5-pack\\n\\n\\nSpacious pants that allow all kinds of movement without ripping. Top quality natural linen that can be washed by machine. Looks especially good in leather boots.\\nIncludes:\\n\\n\\nSewing instructions\\n\\n\\n5×\\nCut fabric pack for linen pants\\n\\n\\n\\n\\nLess\\n\\n\\n\\n\\nEstimated delivery\\nMar 2019\\n\\n\\nShips to\\nAnywhere in the world\\n\\n\\n\\n\\n\\n\\n0 backers\"},{\"rewards\":\"Pledge €144 or more\\n\\nAbout S$ 201\\n\\n\\n\\nLinen underdress 5-pack\\n\\n\\nOur softest white linen makes the best underwear.\\nIncludes:\\n\\n\\nSewing instructions\\n\\n\\n5×\\nCut fabric pack for linen underdress\\n\\n\\n\\n\\nLess\\n\\n\\n\\n\\nEstimated delivery\\nMar 2019\\n\\n\\nShips to\\nAnywhere in the world\\n\\n\\n\\n\\n\\n\\n0 backers\"},{\"rewards\":\"Pledge €149 or more\\n\\nAbout S$ 208\\n\\n\\n\\nCourtyard seat\\n\\n\\nBecome a member of the Courtyard to provide Gewand Manufaktur with feedback on new developments, test products before they get into produciton, and receive access to Courtyard-exclusive sales and events. On top of that, your name will be engraved in the honorary tile in our store, you can adopt a product, and you receive a signed and sealed certificate proving your seat in the Courtyard.\\nIncludes:\\n\\n\\nSigned & sealed certificate\\n\\n\\n\\n\\nLess\\n\\n\\n\\n\\nEstimated delivery\\nMar 2019\\n\\n\\nShips to\\nAnywhere in the world\\n\\n\\n\\n\\n\\n\\n1 backer\\n\\n\\n\\n\\n\\nLimited (32 left of 33)\"},{\"rewards\":\"Pledge €149 or more\\n\\nAbout S$ 208\\n\\n\\n\\nwool kirtle\\n\\n\\nTypical 14th century garment. Works great underneath a surcoat or houppelande. Fully lined with natural cotton.\\nIncludes:\\n\\n\\nCut fabric pack for woolen kirtle\\n\\n\\nSewing instructions\\n\\n\\n\\n\\nLess\\n\\n\\n\\n\\nEstimated delivery\\nMar 2019\\n\\n\\nShips to\\nAnywhere in the world\\n\\n\\n\\n\\n\\n\\n0 backers\"},{\"rewards\":\"Pledge €149 or more\\n\\nAbout S$ 208\\n\\n\\n\\nWoolen hose 5-pack\\n\\n\\nComfortable legwear are an important part of your total outfit.\\nIncludes:\\n\\n\\n5×\\nCut fabric pack for woolen hose\\n\\n\\nSewing instructions\\n\\n\\n\\n\\nLess\\n\\n\\n\\n\\nEstimated delivery\\nMar 2019\\n\\n\\nShips to\\nAnywhere in the world\\n\\n\\n\\n\\n\\n\\n0 backers\"},{\"rewards\":\"Pledge €149 or more\\n\\nAbout S$ 208\\n\\n\\n\\n13th century pack\\n\\n\\nOne linen shirt, linen shorts, linen cotte, woolen surcotte, and a pair of woolen hosen.\\nIncludes:\\n\\n\\nCut fabric pack for linen shirt\\n\\n\\nCut fabric pack for linen shorts\\n\\n\\nCut fabric pack for 13th century cotte\\n\\n\\nCut fabric pack for 13th century surcotte\\n\\n\\nCut fabric pack for woolen hose\\n\\n\\n5×\\nSewing instructions\\n\\n\\n\\n\\nLess\\n\\n\\n\\n\\nEstimated delivery\\nMar 2019\\n\\n\\nShips to\\nAnywhere in the world\\n\\n\\n\\n\\n\\n\\n3 backers\"},{\"rewards\":\"Pledge €169 or more\\n\\nAbout S$ 236\\n\\n\\n\\n13th century surcotte - plant-dyed wool\\n\\n\\nKnee-long overgarment, matches very well with the 13th century cotte. Made in plant-dyed wool.\\nIncludes:\\n\\n\\nCut fabric pack for 13th century surcotte\\n\\n\\nSewing instructions\\n\\n\\n\\n\\nLess\\n\\n\\n\\n\\nEstimated delivery\\nMar 2019\\n\\n\\nShips to\\nAnywhere in the world\\n\\n\\n\\n\\n\\n\\n0 backers\"},{\"rewards\":\"Pledge €179 or more\\n\\nAbout S$ 250\\n\\n\\n\\nWoolen houppelande\\n\\n\\nWide garment with bell-shaped sleeves and decorative dags on the cuffs and lower edge. Fully lined with natural cotton.\\nIncludes:\\n\\n\\nSewing instructions\\n\\n\\nCut fabric pack for woolen houppelande\\n\\n\\n\\n\\nLess\\n\\n\\n\\n\\nEstimated delivery\\nMar 2019\\n\\n\\nShips to\\nAnywhere in the world\\n\\n\\n\\n\\n\\n\\n0 backers\"},{\"rewards\":\"Pledge €199 or more\\n\\nAbout S$ 278\\n\\n\\n\\nwoolen kirtle deluxe\\n\\n\\nTypical 14th century garment. Works great underneath a surcoat or houppelande. Fully lined with linen.\\nIncludes:\\n\\n\\nCut fabric pack for woolen kirtle\\n\\n\\nSewing instructions\\n\\n\\n\\n\\nLess\\n\\n\\n\\n\\nEstimated delivery\\nMar 2019\\n\\n\\nShips to\\nAnywhere in the world\\n\\n\\n\\n\\n\\n\\n0 backers\"},{\"rewards\":\"Pledge €199 or more\\n\\nAbout S$ 278\\n\\n\\n\\nWoolen surcotte deluxe\\n\\n\\nCoat-like garment that goes very well together with a cotehardie. Fully lined in natural cotton.\\n\\n\\nLess\\n\\n\\n\\n\\nEstimated delivery\\nMar 2019\\n\\n\\nShips to\\nAnywhere in the world\\n\\n\\n\\n\\n\\n\\n0 backers\"},{\"rewards\":\"Pledge €200 or more\\n\\nAbout S$ 280\\n\\n\\n\\nGM Treasures - Soldier\\n\\n\\nDo you want to improve and expand your medieval kit? Let us help you! Pick your level, and we go shopping for you. As a trader we can often get better prices, and we know precisely where to find the finest medieval treasures. Themed kit basics, maintainance products, awesome accessories, unique artworks, LARP weapons, jewelry and much more. \\n\\nIn 2019, every three months we send you a box filled with the best products we find on the market. So that's four Treasure packs in total. Let us surprise you!\\n\\nWe will ask you for your shirt size.\\nIncludes:\\n\\n\\n1-year GM Treasures - Soldier\\n\\n\\n\\n\\nLess\\n\\n\\n\\n\\nEstimated delivery\\nMar 2019\\n\\n\\nShips to\\nAnywhere in the world\\n\\n\\n\\n\\n\\n\\n0 backers\"},{\"rewards\":\"Pledge €225 or more\\n\\nAbout S$ 314\\n\\n\\n\\nPlant-dyed woolen hood 5-pack\\n\\n\\nA woolen hood to keep your head, neck and shoulders warm and dry. Lined in linen. Comes in men's or lady's model - you can tell us in the questionnaire at the end of the Kickstarter.\\nIncludes:\\n\\n\\nCut fabric pack for plant-dyed woolen hood\\n\\n\\nSewing instructions\\n\\n\\n\\n\\nLess\\n\\n\\n\\n\\nEstimated delivery\\nMar 2019\\n\\n\\nShips to\\nAnywhere in the world\\n\\n\\n\\n\\n\\n\\n0 backers\"},{\"rewards\":\"Pledge €249 or more\\n\\nAbout S$ 348\\n\\n\\n\\nWoolen houppelande deluxe\\n\\n\\nWide garment with bell-shaped sleeves and decorative dags on the cuffs and lower edge. Fully lined with linen.\\n\\n\\nLess\\n\\n\\n\\n\\nEstimated delivery\\nMar 2019\\n\\n\\nShips to\\nAnywhere in the world\\n\\n\\n\\n\\n\\n\\n0 backers\"},{\"rewards\":\"Pledge €265 or more\\n\\nAbout S$ 370\\n\\n\\n\\nPlant-dyed woolen cotehardie\\n\\n\\nCotehardie in plant-dyed wool, with linen lining.\\nIncludes:\\n\\n\\nSewing instructions\\n\\n\\nCut fabric pack for plant-dyed woolen cotehardie\\n\\n\\n\\n\\nLess\\n\\n\\n\\n\\nEstimated delivery\\nMar 2019\\n\\n\\nShips to\\nAnywhere in the world\\n\\n\\n\\n\\n\\n\\n0 backers\"},{\"rewards\":\"Pledge €333 or more\\n\\nAbout S$ 465\\n\\n\\n\\nUnderwear for a week\\n\\n\\nFive sets of clean underwear to survive the week.\\nIncludes:\\n\\n\\n3×\\nSewing instructions\\n\\n\\n5×\\nCut fabric pack for linen shorts\\n\\n\\n5×\\nCut fabric pack for linen shirt\\n\\n\\n5×\\nCut fabric pack for linen pants\\n\\n\\n\\n\\nLess\\n\\n\\n\\n\\nEstimated delivery\\nMar 2019\\n\\n\\nShips to\\nAnywhere in the world\\n\\n\\n\\n\\n\\n\\n0 backers\"},{\"rewards\":\"Pledge €349 or more\\n\\nAbout S$ 487\\n\\n\\n\\nlinen cotehardie for men 5-pack\\n\\n\\nLinen cotehardie with natural cotton lining. See description for available colours.\\nIncludes:\\n\\n\\nSewing instructions\\n\\n\\n5×\\nCut fabric pack for linen cotehardie\\n\\n\\n\\n\\nLess\\n\\n\\n\\n\\nEstimated delivery\\nMar 2019\\n\\n\\nShips to\\nAnywhere in the world\\n\\n\\n\\n\\n\\n\\n0 backers\"},{\"rewards\":\"Pledge €359 or more\\n\\nAbout S$ 501\\n\\n\\n\\nWoolen cotehardie 5-pack\\n\\n\\nWoolen cotehardie with natural cotton lining. See description for available colours.\\nIncludes:\\n\\n\\nSewing instructions\\n\\n\\n5×\\nCut fabric pack for woolen cotehardie\\n\\n\\n\\n\\nLess\\n\\n\\n\\n\\nEstimated delivery\\nMar 2019\\n\\n\\nShips to\\nAnywhere in the world\\n\\n\\n\\n\\n\\n\\n0 backers\"},{\"rewards\":\"Pledge €360 or more\\n\\nAbout S$ 503\\n\\n\\n\\nNobleman's pack\\n\\n\\nThis set contains:\\n\\n1x linen shorts\\n\\n1x linen shirt\\n\\n1x woolen hosen\\n\\n1x woolen cotehardie lined with linen\\n\\n1x woolen houppelande lined with linen\\nIncludes:\\n\\n\\n5×\\nSewing instructions\\n\\n\\nCut fabric pack for linen shirt\\n\\n\\nCut fabric pack for linen shorts\\n\\n\\nCut fabric pack for woolen hose\\n\\n\\nCut fabric pack for woolen houppelande\\n\\n\\nCut fabric pack for woolen cotehardie\\n\\n\\n\\n\\nLess\\n\\n\\n\\n\\nEstimated delivery\\nMar 2019\\n\\n\\nShips to\\nAnywhere in the world\\n\\n\\n\\n\\n\\n\\n2 backers\"},{\"rewards\":\"Pledge €399 or more\\n\\nAbout S$ 557\\n\\n\\n\\nMerchant's kit\\n\\n\\nThis reward pack contains the following cut fabric packs:\\n\\n1x linen shorts\\n\\n1x linen tunica\\n\\n1x woolen kirtle lined with linen\\n\\n1x woolen surcotte lined with linen\\n\\n1x woolen hosen\\n\\n1x woolen hood lined with linen\\nIncludes:\\n\\n\\nSewing instructions\\n\\n\\nCut fabric pack for linen tunic\\n\\n\\nCut fabric pack for linen shorts\\n\\n\\nCut fabric pack for woolen hood\\n\\n\\nCut fabric pack for woolen hose\\n\\n\\nCut fabric pack for woolen kirtle\\n\\n\\nCut fabric pack for woolen surcotte\\n\\n\\n\\n\\nLess\\n\\n\\n\\n\\nEstimated delivery\\nMar 2019\\n\\n\\nShips to\\nAnywhere in the world\\n\\n\\n\\n\\n\\n\\n2 backers\"},{\"rewards\":\"Pledge €400 or more\\n\\nAbout S$ 559\\n\\n\\n\\nGM Treasures - Merchant\\n\\n\\nDo you want to improve and expand your medieval kit? Let us help you! Pick your level, and we go shopping for you. As a trader we can often get better prices, and we know precisely where to find the finest medieval treasures. Themed kit basics, maintainance products, awesome accessories, unique artworks, LARP weapons, jewelry and much more. \\n\\nIn 2019, every three months we send you a box filled with the best products we find on the market. So that's four Treasure packs in total. Let us surprise you!\\n\\nWe will ask you for your hat size.\\nIncludes:\\n\\n\\n1-year GM Treasures - Merchant\\n\\n\\n\\n\\nLess\\n\\n\\n\\n\\nEstimated delivery\\nJan 2019\\n\\n\\nShips to\\nAnywhere in the world\\n\\n\\n\\n\\n\\n\\n0 backers\"},{\"rewards\":\"Pledge €419 or more\\n\\nAbout S$ 585\\n\\n\\n\\nplant-dyed woolen surcotte\\n\\n\\nCoat-like garment that goes very well together with a cotehardie. Fully lined in linen.\\n\\n\\nLess\\n\\n\\n\\n\\nEstimated delivery\\nMar 2019\\n\\n\\nShips to\\nAnywhere in the world\\n\\n\\n\\n\\n\\n\\n0 backers\"},{\"rewards\":\"Pledge €420 or more\\n\\nAbout S$ 586\\n\\n\\n\\nplant-dyed woolen kirtle\\n\\n\\nTypical 14th century garment. Works great underneath a surcoat or houppelande. Fully lined with linen.\\nIncludes:\\n\\n\\nCut fabric pack for plant-dyed woolen kirtle\\n\\n\\nSewing instructions\\n\\n\\n\\n\\nLess\\n\\n\\n\\n\\nEstimated delivery\\nMar 2019\\n\\n\\nShips to\\nAnywhere in the world\\n\\n\\n\\n\\n\\n\\n0 backers\"},{\"rewards\":\"Pledge €449 or more\\n\\nAbout S$ 627\\n\\n\\n\\nPlant-dyed woolen hose 5-pack\\n\\n\\nComfortable legwear are an important part of your total outfit.\\nIncludes:\\n\\n\\n5×\\nCut fabric pack for plant-dyed woolen hose\\n\\n\\nSewing instructions\\n\\n\\n\\n\\nLess\\n\\n\\n\\n\\nEstimated delivery\\nMar 2019\\n\\n\\nShips to\\nAnywhere in the world\\n\\n\\n\\n\\n\\n\\n0 backers\"},{\"rewards\":\"Pledge €499 or more\\n\\nAbout S$ 697\\n\\n\\n\\nWool everything\\n\\n\\nA combination pack of one woolen cotehardie, one woolen hood, one woolen kirtle, one woolen surcoat and one woolen houppelande. All lined with natural cotton.\\nIncludes:\\n\\n\\n5×\\nSewing instructions\\n\\n\\nCut fabric pack for woolen cotehardie\\n\\n\\nCut fabric pack for woolen kirtle\\n\\n\\nCut fabric pack for woolen surcoat\\n\\n\\nCut fabric pack for woolen houppelande\\n\\n\\nCut fabric pack for woolen hood\\n\\n\\n\\n\\nLess\\n\\n\\n\\n\\nEstimated delivery\\nMar 2019\\n\\n\\nShips to\\nAnywhere in the world\\n\\n\\n\\n\\n\\n\\n1 backer\"},{\"rewards\":\"Pledge €499 or more\\n\\nAbout S$ 697\\n\\n\\n\\nLinen cotehardie deluxe 5-pack\\n\\n\\nWoolen cotehardie with linen lining. See description for available colours.\\nIncludes:\\n\\n\\n5×\\nCut fabric pack for linen cotehardie\\n\\n\\nSewing instructions\\n\\n\\n\\n\\nLess\\n\\n\\n\\n\\nEstimated delivery\\nMar 2019\\n\\n\\nShips to\\nAnywhere in the world\\n\\n\\n\\n\\n\\n\\n0 backers\"},{\"rewards\":\"Pledge €499 or more\\n\\nAbout S$ 697\\n\\n\\n\\nwoolen cotehardie deluxe 5-pack\\n\\n\\nWoolen cotehardie with linen lining. See description for available colours.\\nIncludes:\\n\\n\\nCut fabric pack for woolen cotehardie\\n\\n\\nSewing instructions\\n\\n\\n\\n\\nLess\\n\\n\\n\\n\\nEstimated delivery\\nMar 2019\\n\\n\\nShips to\\nAnywhere in the world\\n\\n\\n\\n\\n\\n\\n0 backers\"},{\"rewards\":\"Pledge €525 or more\\n\\nAbout S$ 733\\n\\n\\n\\nPlant-dyed woolen houppelande\\n\\n\\nWide garment with bell-shaped sleeves and decorative dags on the cuffs and lower edge. Fully lined with linen.\\nIncludes:\\n\\n\\nCut fabric pack for plant-dyed woolen houppelande\\n\\n\\nSewing instructions\\n\\n\\n\\n\\nLess\\n\\n\\n\\n\\nEstimated delivery\\nMar 2019\\n\\n\\nShips to\\nAnywhere in the world\\n\\n\\n\\n\\n\\n\\n0 backers\"},{\"rewards\":\"Pledge €559 or more\\n\\nAbout S$ 780\\n\\n\\n\\nwool kirtle 5-pack\\n\\n\\nTypical 14th century garment. Works great underneath a surcoat or houppelande. Fully lined with natural cotton.\\nIncludes:\\n\\n\\n5×\\nCut fabric pack for woolen kirtle\\n\\n\\nSewing instructions\\n\\n\\n\\n\\nLess\\n\\n\\n\\n\\nEstimated delivery\\nMar 2019\\n\\n\\nShips to\\nAnywhere in the world\\n\\n\\n\\n\\n\\n\\n0 backers\"},{\"rewards\":\"Pledge €559 or more\\n\\nAbout S$ 780\\n\\n\\n\\nwoolen surcotte 5-pack\\n\\n\\nCoat-like garment that goes very well together with a cotehardie. Fully lined in natural cotton.\\n\\n\\nLess\\n\\n\\n\\n\\nEstimated delivery\\nMar 2019\\n\\n\\nShips to\\nAnywhere in the world\\n\\n\\n\\n\\n\\n\\n0 backers\"},{\"rewards\":\"Pledge €700 or more\\n\\nAbout S$ 977\\n\\n\\n\\nGM Treasures - Nobility\\n\\n\\nDo you want to improve and expand your medieval kit? Let us help you! Pick your level, and we go shopping for you. As a trader we can often get better prices, and we know precisely where to find the finest medieval treasures. Themed kit basics, maintainance products, awesome accessories, unique artworks, LARP weapons, jewelry and much more. \\n\\nIn 2019, every three months we send you a box filled with the best products we find on the market. So that's four Treasure packs in total. Let us surprise you!\\n\\nWe will ask you for your hat size and gold or silver preference.\\nIncludes:\\n\\n\\n1-year GM Treasures - Nobility\\n\\n\\n\\n\\nLess\\n\\n\\n\\n\\nEstimated delivery\\nMar 2019\\n\\n\\nShips to\\nAnywhere in the world\\n\\n\\n\\n\\n\\n\\n0 backers\"},{\"rewards\":\"Pledge €725 or more\\n\\nAbout S$ 1,012\\n\\n\\n\\nWoolen houppelande 5-pack\\n\\n\\nWide garment with bell-shaped sleeves and decorative dags on the cuffs and lower edge. Fully lined with natural cotton.\\nIncludes:\\n\\n\\nSewing instructions\\n\\n\\n5×\\nCut fabric pack for woolen houppelande\\n\\n\\n\\n\\nLess\\n\\n\\n\\n\\nEstimated delivery\\nMar 2019\\n\\n\\nShips to\\nAnywhere in the world\\n\\n\\n\\n\\n\\n\\n0 backers\"},{\"rewards\":\"Pledge €799 or more\\n\\nAbout S$ 1,115\\n\\n\\n\\nwoolen kirtle deluxe 5-pack\\n\\n\\nTypical 14th century garment. Works great underneath a surcoat or houppelande. Fully lined with linen.\\nIncludes:\\n\\n\\nCut fabric pack for woolen kirtle\\n\\n\\nSewing instructions\\n\\n\\n\\n\\nLess\\n\\n\\n\\n\\nEstimated delivery\\nMar 2019\\n\\n\\nShips to\\nAnywhere in the world\\n\\n\\n\\n\\n\\n\\n0 backers\"},{\"rewards\":\"Pledge €799 or more\\n\\nAbout S$ 1,115\\n\\n\\n\\nWoolen surcotte deluxe 5-pack\\n\\n\\nCoat-like garment that goes very well together with a cotehardie. Fully lined in natural cotton.\\nIncludes:\\n\\n\\n5×\\nCut fabric pack for woolen surcotte\\n\\n\\nSewing instructions\\n\\n\\n\\n\\nLess\\n\\n\\n\\n\\nEstimated delivery\\nMar 2019\\n\\n\\nShips to\\nAnywhere in the world\\n\\n\\n\\n\\n\\n\\n0 backers\"},{\"rewards\":\"Pledge €900 or more\\n\\nAbout S$ 1,256\\n\\n\\n\\nGM Treasures - Royalty\\n\\n\\nDo you want to improve and expand your medieval kit? Let us help you! Pick your level, and we go shopping for you. As a trader we can often get better prices, and we know precisely where to find the finest medieval treasures. Themed kit basics, maintainance products, awesome accessories, unique artworks, LARP weapons, jewelry and much more. \\n\\nIn 2019, every three months we send you a box filled with the best products we find on the market. So that's four Treasure packs in total. Let us surprise you!\\n\\nWe will ask you for your hat size, ring size, and gold or silver preference.\\nIncludes:\\n\\n\\n1-year GM Treasures - Royalty\\n\\n\\n\\n\\nLess\\n\\n\\n\\n\\nEstimated delivery\\nMar 2019\\n\\n\\nShips to\\nAnywhere in the world\\n\\n\\n\\n\\n\\n\\n0 backers\"},{\"rewards\":\"Pledge €999 or more\\n\\nAbout S$ 1,394\\n\\n\\n\\nwoolen houppelande deluxe 5-pack\\n\\n\\nWide garment with bell-shaped sleeves and decorative dags on the cuffs and lower edge. Fully lined with linen.\\nIncludes:\\n\\n\\n5×\\nCut fabric pack for woolen houppelande\\n\\n\\nSewing instructions\\n\\n\\n\\n\\nLess\\n\\n\\n\\n\\nEstimated delivery\\nMar 2019\\n\\n\\nShips to\\nAnywhere in the world\\n\\n\\n\\n\\n\\n\\n1 backer\"},{\"rewards\":\"Pledge €1,050 or more\\n\\nAbout S$ 1,465\\n\\n\\n\\nplant-dyed woolen cotehardie 5-pack\\n\\n\\nWide garment with bell-shaped sleeves and decorative dags on the cuffs and lower edge. Fully lined with linen.\\nIncludes:\\n\\n\\n5×\\nCut fabric pack for plant-dyed woolen cotehardie\\n\\n\\nSewing instructions\\n\\n\\n\\n\\nLess\\n\\n\\n\\n\\nEstimated delivery\\nMar 2019\\n\\n\\nShips to\\nAnywhere in the world\\n\\n\\n\\n\\n\\n\\n0 backers\"},{\"rewards\":\"Pledge €1,650 or more\\n\\nAbout S$ 2,302\\n\\n\\n\\nplant-dyed woolen kirtle 5-pack\\n\\n\\nTypical 14th century garment. Works great underneath a surcoat or houppelande. Fully lined with linen.\\nIncludes:\\n\\n\\n5×\\nCut fabric pack for plant-dyed woolen kirtle\\n\\n\\nSewing instructions\\n\\n\\n\\n\\nLess\\n\\n\\n\\n\\nEstimated delivery\\nMar 2019\\n\\n\\nShips to\\nAnywhere in the world\\n\\n\\n\\n\\n\\n\\n0 backers\"},{\"rewards\":\"Pledge €1,666 or more\\n\\nAbout S$ 2,325\\n\\n\\n\\nplant-dyed woolen surcotte 5-pack\\n\\n\\nCoat-like garment that goes very well together with a cotehardie. Fully lined in linen.\\nIncludes:\\n\\n\\n5×\\nCut fabric pack for plant-dyed woolen surcotte\\n\\n\\nSewing instructions\\n\\n\\n\\n\\nLess\\n\\n\\n\\n\\nEstimated delivery\\nMar 2019\\n\\n\\nShips to\\nAnywhere in the world\\n\\n\\n\\n\\n\\n\\n0 backers\"},{\"rewards\":\"Pledge €2,099 or more\\n\\nAbout S$ 2,929\\n\\n\\n\\nPlant-dyed woolen houppelande 5-pack\\n\\n\\nWide garment with bell-shaped sleeves and decorative dags on the cuffs and lower edge. Fully lined with linen.\\nIncludes:\\n\\n\\nSewing instructions\\n\\n\\n5×\\nCut fabric pack for plant-dyed woolen houppelande\\n\\n\\n\\n\\nLess\\n\\n\\n\\n\\nEstimated delivery\\nMar 2019\\n\\n\\nShips to\\nAnywhere in the world\\n\\n\\n\\n\\n\\n\\n0 backers\"},{\"rewards\":\"Pledge €10 or more\\n\\nAbout S$ 14\\n\\n\\n\\nEarly bird - linen shorts\\n\\n\\nOur softest white linen makes the best underwear.\\nIncludes:\\n\\n\\nSewing instructions\\n\\n\\nCut fabric pack for linen shorts\\n\\n\\n\\n\\nLess\\n\\n\\n\\n\\nEstimated delivery\\nMar 2019\\n\\n\\nShips to\\nAnywhere in the world\\n\\n\\n\\n\\nReward no longer available\\n\\n\\n\\n\\n1 backer\"},{\"rewards\":\"Pledge €15 or more\\n\\nAbout S$ 21\\n\\n\\n\\nEarly bird - woolen hood\\n\\n\\nA woolen hood to keep your head, neck and shoulders warm and dry. Lined in natural cotton. Comes in men's or lady's model - you can tell us in the questionnaire at the end of the Kickstarter.\\nIncludes:\\n\\n\\nCut fabric pack for woolen hood\\n\\n\\nSewing instructions\\n\\n\\n\\n\\nLess\\n\\n\\n\\n\\nEstimated delivery\\nMar 2019\\n\\n\\nShips to\\nAnywhere in the world\\n\\n\\n\\n\\nReward no longer available\\n\\n\\n\\n\\n0 backers\"},{\"rewards\":\"Pledge €22 or more\\n\\nAbout S$ 31\\n\\n\\n\\nEarly bird - linen shirt\\n\\n\\nOur softest white linen makes the best underwear.\\nIncludes:\\n\\n\\nSewing instructions\\n\\n\\nCut fabric pack for linen shirt\\n\\n\\n\\n\\nLess\\n\\n\\n\\n\\nEstimated delivery\\nMar 2019\\n\\n\\nShips to\\nAnywhere in the world\\n\\n\\n\\n\\nReward no longer available\\n\\n\\n\\n\\n1 backer\"},{\"rewards\":\"Pledge €22 or more\\n\\nAbout S$ 31\\n\\n\\n\\nEarly bird - linen tunic\\n\\n\\nLong shirt that can be worn on the skin, made from natural coloured linen.\\nIncludes:\\n\\n\\nSewing instructions\\n\\n\\nCut fabric pack for linen tunic\\n\\n\\n\\n\\nLess\\n\\n\\n\\n\\nEstimated delivery\\nMar 2019\\n\\n\\nShips to\\nAnywhere in the world\\n\\n\\n\\n\\nReward no longer available\\n\\n\\n\\n\\n2 backers\"},{\"rewards\":\"Pledge €22 or more\\n\\nAbout S$ 31\\n\\n\\n\\nEarly bird - woolen hood deluxe\\n\\n\\nA woolen hood to keep your head, neck and shoulders warm and dry. Linen in linen. Comes in men's or lady's model - you can tell us in the questionnaire at the end of the Kickstarter.\\nIncludes:\\n\\n\\nCut fabric pack for woolen hood\\n\\n\\nSewing instructions\\n\\n\\n\\n\\nLess\\n\\n\\n\\n\\nEstimated delivery\\nMar 2019\\n\\n\\nShips to\\nAnywhere in the world\\n\\n\\n\\n\\nReward no longer available\\n\\n\\n\\n\\n5 backers\"},{\"rewards\":\"Pledge €29 or more\\n\\nAbout S$ 41\\n\\n\\n\\nLinen shirt\\n\\n\\nOur softest white linen makes the best underwear.\\nIncludes:\\n\\n\\nSewing instructions\\n\\n\\nCut fabric pack for linen shirt\\n\\n\\n\\n\\nLess\\n\\n\\n\\n\\nEstimated delivery\\nMar 2019\\n\\n\\nShips to\\nAnywhere in the world\\n\\n\\n\\n\\nReward no longer available\\n\\n\\n\\n\\n0 backers\"},{\"rewards\":\"Pledge €29 or more\\n\\nAbout S$ 41\\n\\n\\n\\nEarly bird - linen pants\\n\\n\\nSpacious pants that allow all kinds of movement without ripping. Top quality natural linen that can be washed by machine. Looks especially good in leather boots.\\nIncludes:\\n\\n\\nSewing instructions\\n\\n\\nCut fabric pack for linen pants\\n\\n\\n\\n\\nLess\\n\\n\\n\\n\\nEstimated delivery\\nMar 2019\\n\\n\\nShips to\\nAnywhere in the world\\n\\n\\n\\n\\nReward no longer available\\n\\n\\n\\n\\n1 backer\"},{\"rewards\":\"Pledge €29 or more\\n\\nAbout S$ 41\\n\\n\\n\\nEarly bird - Linen underdress\\n\\n\\nOur softest white linen makes the best underwear.\\nIncludes:\\n\\n\\nSewing instructions\\n\\n\\nCut fabric pack for linen underdress\\n\\n\\n\\n\\nLess\\n\\n\\n\\n\\nEstimated delivery\\nMar 2019\\n\\n\\nShips to\\nAnywhere in the world\\n\\n\\n\\n\\nReward no longer available\\n\\n\\n\\n\\n4 backers\"},{\"rewards\":\"Pledge €29 or more\\n\\nAbout S$ 41\\n\\n\\n\\nWoolen hose - early bird\\n\\n\\nComfortable legwear are an important part of your total outfit.\\nIncludes:\\n\\n\\nCut fabric pack for woolen hose\\n\\n\\nSewing instructions\\n\\n\\n\\n\\nLess\\n\\n\\n\\n\\nEstimated delivery\\nMar 2019\\n\\n\\nShips to\\nAnywhere in the world\\n\\n\\n\\n\\nReward no longer available\\n\\n\\n\\n\\n4 backers\"},{\"rewards\":\"Pledge €35 or more\\n\\nAbout S$ 49\\n\\n\\n\\nLinen pants\\n\\n\\nSpacious pants that allow all kinds of movement without ripping. Top quality natural linen that can be washed\u001b[0m\n\u001b[0m                                                                                                                                                                                                                                                                                                                                                                                                                                                                                                                                                                                                                                                                                                                                                                                                                                                                                                                                                                                                                                                                                                                                                                                                                                                                                                                                                                                                                                                                                                                                                                                                                                                                                                                                                                                                                                                                                                                                                                                                                                                                                                                                                                                                                                                                                                                                                                                                                                                                                                                                                                                                                                                                                                                                                                                                                                                                                                                                                                                                                                                                                                                                                                                                                                                                                                                                                                                                                                                                                                                                                                                                                                                                                                                                                                                                                                                                                                                                                                                                                                                                                                                                                                                                                                                                                                                                                                                                                                                                                                                                                                                                                                                                                                                                                                                                                                                                                                                                                                                                                                                                                                                                                                                                                                                                                                                                                                                                                                                                                                                                                                                                                                                                                                                                                                                                                                                                                                                                                                                                                                                                                                                                                                                                                                                                                                                                                                                                                                                                                                                                                                                                                                                                                                                                                                                                                                                                                                                                                                                                                                                                                                                                                                                                                                                                                                                                                                                                                                                                                                                                                                                                                                                                                                                                                                                                                                                                                                                                                                                                                                                                                                                                                                                                                                                                                                                                                                                                                                                                                                                                                                                                                                                                                                                                                                                                                                                                                                                                                                                                                                                                                                                                                                                                                                                                                                                                                                                                                                                                                                                                                                                                                                                                                                                                                                                                                                                                                                                                                                                                                                                                                                                                                                                                                                                                                                                                                                                                                                                                                                                                                                                                                                                                                                                                                                                                                                                                                                                                                                                                                                                                                                                                                                                                                                                                                                                                                                                                                                                                                                                                                                                                                                                                                                                                                                                                                                                                                                                                                                                                                                                                                                                                                                                                                                                                                                                                                                                                                                                                                                                                                                                                                                                                                                                                                                                                                                                                                                                                                                                                                                                                                                                                                                                                                                                                                                                                                                                                                                                                                                                                                                                                                                                                                                                                                                                                                                                                                                                                                                                                                                                                                                                                                                                                                                                                                                                                                                                                                                                                                                                                                                                                                                                                                                                                                                                                                                                                                                                                                                                                                                                                                                                                                                                                                                                                                                                                                                                                                                                                                                                                                                                                                                                                                                                                                                                                                                                                                                                                                                                                                                                                                                                                                                                                                                                                                                                                                                                                                                                                                                                                                                                                                                                                                                                                                                                                                                                                                                                                                                                                                                                                                                                                                                                                                                                                                                                                                                                                                                                                                                                                                                                                                                                                                                                                                                                                                                                                                                                                                                                                                                                                                                                                                                                                                                                                                                                                                                                                                                                                                                                                                                                                                                                                                                                                                                                                                                                                                                                                                                                                                                                                                                                                                                                                                                                                                                                                                                                                                                                                                                                                                                                                                                                                                                                                                                                                                                                                                                                                                                                                                                                                                                                                                                                                                                                                                                                                                                                                                                                                                                                                                                                                                                                                                                                                                                                                                                                                                                                                                                                                                                                                                                                                                                                                                                                                                                                                                                                                                                                                                                                                                                                                                                                                                                                                                                                                                                                                                                                                                                                                                                                                                                                                                                                                                                                                                                                                                                                                                                                                                                                                                                                                                                                                                                                                                                                                                                                                                                                                                                                                                                                                                                                                                                                                                                                                                                                                                                                                                                                                                                                                                                                                                                                                                                                                                                                                                                                                                                                                                                                                                                                                                                                                                                                                                                                                                                                                                                                                                                                                                                                                                                                                                                                                                                                                                                                                                                                                                                                                                                                                                                                                                                                                                                                                                                                                                                                                                                                                                                                                                                                                                                                                                                                                                                                                                                                                                                                                                                                                                                                                                                                                                                                                                                                                                                                                                                                                                                                                                                                                                                                                                                                                                                                                                                                                                                                                                                                                                                                                                                                                                                                                                                                                                                                                                                                                                                                                                                                                                                                                                                                                                                                                                                                                                                                                                                                                                                                                                                                                                                                                                                                                                                                                                                                                                                                                                                                                                                                                                                                                                                                                                                                                                                                                                                                                                                                                                                                                                                                                                                                                                                                                                                                                                                                                                                                                                                                                                                                                                                                                                                                                                                                                                                                                                                                                                                                                                                                                                                                                                                                                                                                                                                                                                                                                                                                                                                                                                                                                                                                                                                                                                                                                                                                                                                                                                                                                                                                                                                                                                                                                                                                                                                                                                                                                                                                                                                                                                                                                                                                                                                                                                                                                                                                                                                                                                                                                                                                                                                                                                                                                                                                                                                                                                                                                                                                                                                                                                                                                                                                                                                                                                                                                                                                                                                                                                                                                                                                                                                                                                                                                                                                                                                                                                                                                                                                                                                                                                                                                                                                                                                                                                                                                                                                                                                                                                                                                                                                                                                                                                                                                                                                                                                                                  ^\u001b[0m\n\u001b[0;31mSyntaxError\u001b[0m\u001b[0;31m:\u001b[0m EOL while scanning string literal\n"
     ]
    }
   ],
   "source": [
    "result = create_rewards_tiers(df)\n",
    "print(\"Rewards tiers done\")\n",
    "result = create_min_max_reward(result)\n",
    "print(\"mins max rewards done\")\n",
    "#result = clean_text(result)\n",
    "#print(\"clean text done\")\n",
    "result, tfidf_fit_rewards, tfidf_fit_description, tfidf_fit_description_story_processed, tfidf_fit_description_risks_processed = generate_nlp_features(result)\n",
    "print(\"generate_nlp_features done\")\n",
    "result = generate_sentiment_features(result)\n",
    "print(\"generate_sentiment_features done\")\n",
    "result = generate_word_count_features(result)\n",
    "print(\"generate_word_count_features done\")\n",
    "result, category_encoder = ohe_fit('category', result) #use encoder to fit train data\n",
    "print(\"ohe_fit category done\")\n",
    "# THIS IS WRONG NEED TO CLEAN LOCATION\n",
    "result, location_encoder = ohe_fit('location', result) #use encoder to fit train data\n",
    "print(\"ohe_fit location done\")\n",
    "result = generate_duration_features(result)\n",
    "print(\"generate_duration_features done\")"
   ]
  },
  {
   "cell_type": "markdown",
   "id": "abf43499",
   "metadata": {},
   "source": [
    "## Apply same feature engineering on Test Data"
   ]
  },
  {
   "cell_type": "code",
   "execution_count": null,
   "id": "9db50738",
   "metadata": {
    "scrolled": true
   },
   "outputs": [],
   "source": [
    "test = pd.read_csv(\"/Users/ivankoh/Library/CloudStorage/OneDrive-NationalUniversityofSingapore/1D/NUS Y3S1/BT4222/Data/kickstarter_test.csv\")\n",
    "test = create_rewards_tiers(test)\n",
    "test = create_min_max_reward(test)\n",
    "#test = clean_text(test)\n",
    "test['has_video'] = test['video'].apply(lambda x: 0 if pd.isnull(x) else 1)\n",
    "# test['faq_count'] = test['faq_count'].apply(lambda x: float(x.replace(\",\", \"\"))) # transfer over to feature eng\n",
    "#test = generate_nlp_features(test)\n",
    "test = nlp_transform_test(test, tfidf_fit_rewards, tfidf_fit_description, tfidf_fit_description_story_processed, tfidf_fit_description_risks_processed)\n",
    "test = generate_sentiment_features(test)\n",
    "test = generate_word_count_features(test)\n",
    "test = generate_duration_features(test)\n",
    "\n",
    "#encoders\n",
    "test = ohe_transform(category_encoder, 'category', test)\n",
    "test = ohe_transform(location_encoder, 'location', test)"
   ]
  },
  {
   "cell_type": "code",
   "execution_count": null,
   "id": "4bad7307",
   "metadata": {},
   "outputs": [],
   "source": [
    "print(len(test.columns))\n",
    "print(len(result.columns))\n",
    "\n",
    "for i in result.columns:\n",
    "    if i not in test.columns:\n",
    "        print(i)"
   ]
  },
  {
   "cell_type": "markdown",
   "id": "694754fc",
   "metadata": {},
   "source": [
    "## Export"
   ]
  },
  {
   "cell_type": "code",
   "execution_count": null,
   "id": "087737ee",
   "metadata": {},
   "outputs": [],
   "source": [
    "import time \n",
    "\n",
    "result.to_csv(f'data/train/kickstarter_train_final_{time.strftime(\"%Y%m%d-%H%M%S\")}.csv', index=False)\n",
    "test.to_csv(f'data/test/kickstarter_test_final_{time.strftime(\"%Y%m%d-%H%M%S\")}.csv', index=False)"
   ]
  },
  {
   "cell_type": "code",
   "execution_count": null,
   "id": "a41d3f14",
   "metadata": {},
   "outputs": [],
   "source": [
    "#since there could be more than one categories for each project, create new features to split the categories.\n",
    "# df['new_category'] = df.category.str.split(\"/\", expand=False)\n",
    "# split_cat = pd.DataFrame(df['new_category'].tolist(), columns=['category1', 'category2'])\n",
    "# #each project should at least have 1 category, 'category2' can be \"None\". \n",
    "# #'category1' being the main category for the project.\n",
    "# df = pd.concat([df, split_cat], axis=1)\n",
    "# df.head()"
   ]
  }
 ],
 "metadata": {
  "kernelspec": {
   "display_name": "Python 3.9 (bt4222)",
   "language": "python",
   "name": "bt4222"
  },
  "language_info": {
   "codemirror_mode": {
    "name": "ipython",
    "version": 3
   },
   "file_extension": ".py",
   "mimetype": "text/x-python",
   "name": "python",
   "nbconvert_exporter": "python",
   "pygments_lexer": "ipython3",
   "version": "3.9.12"
  },
  "toc": {
   "base_numbering": 1,
   "nav_menu": {},
   "number_sections": true,
   "sideBar": true,
   "skip_h1_title": false,
   "title_cell": "Table of Contents",
   "title_sidebar": "Contents",
   "toc_cell": false,
   "toc_position": {
    "height": "calc(100% - 180px)",
    "left": "10px",
    "top": "150px",
    "width": "165px"
   },
   "toc_section_display": true,
   "toc_window_display": true
  },
  "vscode": {
   "interpreter": {
    "hash": "3d8ed9d5f82d3a6b03b0c02db761342dfdb80b03ec2829061c6d06f1ae9d9b4d"
   }
  }
 },
 "nbformat": 4,
 "nbformat_minor": 5
}
