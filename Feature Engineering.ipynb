{
 "cells": [
  {
   "cell_type": "code",
   "execution_count": 46,
   "id": "cfcff7e8",
   "metadata": {},
   "outputs": [],
   "source": [
    "import pandas as pd \n",
    "import os\n",
    "import json"
   ]
  },
  {
   "cell_type": "code",
   "execution_count": 38,
   "id": "b667a080",
   "metadata": {},
   "outputs": [],
   "source": [
    "df = pd.read_csv(\"./data/Kickstarter_merged.csv\")"
   ]
  },
  {
   "cell_type": "code",
   "execution_count": 39,
   "id": "30a6a68a",
   "metadata": {},
   "outputs": [
    {
     "data": {
      "text/plain": [
       "1    1404\n",
       "0     728\n",
       "Name: has_video, dtype: int64"
      ]
     },
     "execution_count": 39,
     "metadata": {},
     "output_type": "execute_result"
    }
   ],
   "source": [
    "# convert 'video' to a binary categorical variable\n",
    "df['video'].value_counts()\n",
    "df['has_video'] = df['video'].apply(lambda x: 0 if pd.isnull(x) else 1)\n",
    "df['has_video'].value_counts()"
   ]
  },
  {
   "cell_type": "code",
   "execution_count": 44,
   "id": "58a9b812",
   "metadata": {},
   "outputs": [
    {
     "name": "stdout",
     "output_type": "stream",
     "text": [
      "392244\n",
      "203510\n"
     ]
    },
    {
     "name": "stderr",
     "output_type": "stream",
     "text": [
      "/var/folders/dq/33rpc0cx4f54t0vx2cdcgczr0000gn/T/ipykernel_5579/4110031066.py:5: SettingWithCopyWarning: \n",
      "A value is trying to be set on a copy of a slice from a DataFrame.\n",
      "Try using .loc[row_indexer,col_indexer] = value instead\n",
      "\n",
      "See the caveats in the documentation: https://pandas.pydata.org/pandas-docs/stable/user_guide/indexing.html#returning-a-view-versus-a-copy\n",
      "  df_1['main_url'] = df_1['urls'].apply(lambda x: eval(x)['web']['project'])\n"
     ]
    }
   ],
   "source": [
    "base = \"/Users/ivankoh/Downloads/kickstarter data/\"\n",
    "filepaths = [base + f for f in os.listdir(base) if f.endswith('.csv')]\n",
    "df = pd.concat(map(pd.read_csv, filepaths))\n",
    "df_1 = df.drop_duplicates(subset=['id'])\n",
    "df_1['main_url'] = df_1['urls'].apply(lambda x: eval(x)['web']['project'])\n",
    "print(len(df))\n",
    "print(len(df_1))"
   ]
  },
  {
   "cell_type": "code",
   "execution_count": 47,
   "id": "b5bcac9b",
   "metadata": {},
   "outputs": [],
   "source": [
    "with open(\"data/0_18814_story.json\", 'r') as f:\n",
    "    story = json.load(f)\n",
    "with open(\"data/0_18814_risk.json\", 'r') as f1:\n",
    "    risk = json.load(f1)"
   ]
  },
  {
   "cell_type": "code",
   "execution_count": 48,
   "id": "5c02a3cd",
   "metadata": {},
   "outputs": [
    {
     "name": "stdout",
     "output_type": "stream",
     "text": [
      "18815 18815\n"
     ]
    }
   ],
   "source": [
    "print(len(story), len(risk))"
   ]
  },
  {
   "cell_type": "code",
   "execution_count": 53,
   "id": "9f52c61c",
   "metadata": {},
   "outputs": [
    {
     "name": "stdout",
     "output_type": "stream",
     "text": [
      "18815\n"
     ]
    },
    {
     "name": "stderr",
     "output_type": "stream",
     "text": [
      "/var/folders/dq/33rpc0cx4f54t0vx2cdcgczr0000gn/T/ipykernel_5579/632398381.py:4: SettingWithCopyWarning: \n",
      "A value is trying to be set on a copy of a slice from a DataFrame.\n",
      "Try using .loc[row_indexer,col_indexer] = value instead\n",
      "\n",
      "See the caveats in the documentation: https://pandas.pydata.org/pandas-docs/stable/user_guide/indexing.html#returning-a-view-versus-a-copy\n",
      "  df_subset['story'] = story\n",
      "/var/folders/dq/33rpc0cx4f54t0vx2cdcgczr0000gn/T/ipykernel_5579/632398381.py:5: SettingWithCopyWarning: \n",
      "A value is trying to be set on a copy of a slice from a DataFrame.\n",
      "Try using .loc[row_indexer,col_indexer] = value instead\n",
      "\n",
      "See the caveats in the documentation: https://pandas.pydata.org/pandas-docs/stable/user_guide/indexing.html#returning-a-view-versus-a-copy\n",
      "  df_subset['risk'] = risk\n"
     ]
    }
   ],
   "source": [
    "df_subset = df_1.iloc[:18815]\n",
    "print(len(df_subset))\n",
    "\n",
    "df_subset['story'] = story\n",
    "df_subset['risk'] = risk"
   ]
  },
  {
   "cell_type": "code",
   "execution_count": 60,
   "id": "a976640c",
   "metadata": {},
   "outputs": [
    {
     "data": {
      "text/plain": [
       "backers_count                                                              33\n",
       "blurb                       Ademi bar has succeeded in selling its first 5...\n",
       "category                    {\"id\":315,\"name\":\"Vegan\",\"analytics_name\":\"Veg...\n",
       "converted_pledged_amount                                               4095.0\n",
       "country                                                                    US\n",
       "country_displayable_name                                    the United States\n",
       "created_at                                                         1591815974\n",
       "creator                     {\"id\":1825832733,\"name\":\"Aidar and Aizhan\",\"sl...\n",
       "currency                                                                  USD\n",
       "currency_symbol                                                             $\n",
       "currency_trailing_code                                                   True\n",
       "current_currency                                                          USD\n",
       "deadline                                                           1624731398\n",
       "disable_communication                                                   False\n",
       "friends                                                                   NaN\n",
       "fx_rate                                                                   1.0\n",
       "goal                                                                  48500.0\n",
       "id                                                                  869639785\n",
       "is_backing                                                                NaN\n",
       "is_starrable                                                            False\n",
       "is_starred                                                                NaN\n",
       "launched_at                                                        1619547398\n",
       "location                    {\"id\":2487956,\"name\":\"San Francisco\",\"slug\":\"s...\n",
       "name                                           Ademi: Plant-Based Protein Bar\n",
       "permissions                                                               NaN\n",
       "photo                       {\"key\":\"assets/033/343/421/438a7467f3def120db0...\n",
       "pledged                                                                4095.0\n",
       "profile                     {\"id\":4011936,\"project_id\":4011936,\"state\":\"in...\n",
       "slug                                            ademi-plant-based-protein-bar\n",
       "source_url                  https://www.kickstarter.com/discover/categorie...\n",
       "spotlight                                                               False\n",
       "staff_pick                                                              False\n",
       "state                                                                  failed\n",
       "state_changed_at                                                   1624731398\n",
       "static_usd_rate                                                           1.0\n",
       "urls                        {\"web\":{\"project\":\"https://www.kickstarter.com...\n",
       "usd_exchange_rate                                                         1.0\n",
       "usd_pledged                                                            4095.0\n",
       "usd_type                                                        international\n",
       "main_url                    https://www.kickstarter.com/projects/ademibar/...\n",
       "story                       Ademi Bar: Our Journey While looking back and ...\n",
       "risk                        We understand the challenges that lie ahead of...\n",
       "Name: 0, dtype: object"
      ]
     },
     "execution_count": 60,
     "metadata": {},
     "output_type": "execute_result"
    }
   ],
   "source": [
    "df_subset.iloc[0]"
   ]
  },
  {
   "cell_type": "code",
   "execution_count": null,
   "id": "f142cd16",
   "metadata": {},
   "outputs": [],
   "source": []
  },
  {
   "cell_type": "code",
   "execution_count": null,
   "id": "9751cca7",
   "metadata": {},
   "outputs": [],
   "source": []
  }
 ],
 "metadata": {
  "kernelspec": {
   "display_name": "Python 3.10.7 64-bit (microsoft store)",
   "language": "python",
   "name": "python3"
  },
  "language_info": {
   "codemirror_mode": {
    "name": "ipython",
    "version": 3
   },
   "file_extension": ".py",
   "mimetype": "text/x-python",
   "name": "python",
   "nbconvert_exporter": "python",
   "pygments_lexer": "ipython3",
   "version": "3.10.7"
  },
  "vscode": {
   "interpreter": {
    "hash": "b14d2bd7895077ad303f266db7ad1f8a11e285bbfcdfa868008aad211f623e81"
   }
  }
 },
 "nbformat": 4,
 "nbformat_minor": 5
}
