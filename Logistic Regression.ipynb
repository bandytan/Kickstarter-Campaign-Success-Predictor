{
 "cells": [
  {
   "cell_type": "code",
   "execution_count": 1,
   "id": "a3eb4a31",
   "metadata": {},
   "outputs": [],
   "source": [
    "import pandas as pd \n",
    "import numpy as np\n",
    "import seaborn as sns\n",
    "import matplotlib.pyplot as plt\n",
    "%matplotlib inline\n",
    "from sklearn.linear_model import LogisticRegression\n",
    "from sklearn import metrics\n",
    "from sklearn.metrics import classification_report, confusion_matrix, roc_auc_score\n",
    "import glob\n",
    "import os"
   ]
  },
  {
   "cell_type": "code",
   "execution_count": 2,
   "id": "11b817c2",
   "metadata": {},
   "outputs": [],
   "source": [
    "train_path = max(glob.glob('./data/train/*.csv'), key=os.path.getctime) \n",
    "df = pd.read_csv(train_path)"
   ]
  },
  {
   "cell_type": "markdown",
   "id": "c8cbc4cb",
   "metadata": {},
   "source": [
    "<h1>Get to the correct data format</h1>"
   ]
  },
  {
   "cell_type": "code",
   "execution_count": 3,
   "id": "9523bd27",
   "metadata": {},
   "outputs": [],
   "source": [
    "to_drop = ['rewards', 'deadline', 'launched_at', 'rewards_processed',\n",
    "           'description_processed', 'description_story_processed','description_risks_processed',\n",
    "           'id', 'name', 'description', 'description_story', 'description_risks', 'video', 'state',\n",
    "          'pledged', 'goal', 'category', 'location', 'staff_pick', 'spotlight', 'backers_count', 'update_count', 'faq_count']\n",
    "\n",
    "X_train, y_train = df.drop(to_drop, axis=1).to_numpy(), df['state'].to_numpy()"
   ]
  },
  {
   "cell_type": "code",
   "execution_count": 4,
   "id": "b8940329",
   "metadata": {},
   "outputs": [
    {
     "data": {
      "text/plain": [
       "(array([[4.000e+00, 9.000e+01, 2.500e+02, ..., 0.000e+00, 0.000e+00,\n",
       "         1.000e+00],\n",
       "        [9.000e+00, 1.000e+01, 6.400e+01, ..., 0.000e+00, 0.000e+00,\n",
       "         1.000e+00],\n",
       "        [5.000e+00, 2.000e+00, 1.290e+02, ..., 0.000e+00, 0.000e+00,\n",
       "         1.000e+00],\n",
       "        ...,\n",
       "        [1.400e+01, 5.390e+02, 3.209e+03, ..., 0.000e+00, 0.000e+00,\n",
       "         1.000e+00],\n",
       "        [4.000e+00, 1.000e+01, 2.500e+01, ..., 0.000e+00, 0.000e+00,\n",
       "         1.000e+00],\n",
       "        [2.000e+00, 3.000e+01, 1.000e+02, ..., 0.000e+00, 0.000e+00,\n",
       "         1.000e+00]]),\n",
       " array([1, 1, 1, ..., 1, 1, 0], dtype=int64))"
      ]
     },
     "execution_count": 4,
     "metadata": {},
     "output_type": "execute_result"
    }
   ],
   "source": [
    "X_train, y_train"
   ]
  },
  {
   "cell_type": "markdown",
   "id": "dd774074",
   "metadata": {},
   "source": [
    "<h3>Training using Logisitic Regression Model</h3>"
   ]
  },
  {
   "cell_type": "code",
   "execution_count": 5,
   "id": "2aa693ac",
   "metadata": {},
   "outputs": [
    {
     "data": {
      "text/plain": [
       "{'C': 1.0,\n",
       " 'class_weight': None,\n",
       " 'dual': False,\n",
       " 'fit_intercept': True,\n",
       " 'intercept_scaling': 1,\n",
       " 'l1_ratio': None,\n",
       " 'max_iter': 200000,\n",
       " 'multi_class': 'auto',\n",
       " 'n_jobs': None,\n",
       " 'penalty': 'l2',\n",
       " 'random_state': None,\n",
       " 'solver': 'lbfgs',\n",
       " 'tol': 0.0001,\n",
       " 'verbose': 0,\n",
       " 'warm_start': False}"
      ]
     },
     "execution_count": 5,
     "metadata": {},
     "output_type": "execute_result"
    }
   ],
   "source": [
    "RegressionModel = LogisticRegression(solver = 'lbfgs', max_iter = 200000)\n",
    "RegressionModel.fit(X_train, y_train)\n",
    "RegressionModel.get_params()"
   ]
  },
  {
   "cell_type": "markdown",
   "id": "bc7b392a",
   "metadata": {},
   "source": [
    "<h3> Testing with training model output </h3>"
   ]
  },
  {
   "cell_type": "code",
   "execution_count": 6,
   "id": "43a424d2",
   "metadata": {},
   "outputs": [],
   "source": [
    "test_path = max(glob.glob('./data/test/*.csv'), key=os.path.getctime) \n",
    "test = pd.read_csv(test_path)\n",
    "\n",
    "X_test, y_test = test.drop(to_drop, axis=1).to_numpy(), test['state'].to_numpy()"
   ]
  },
  {
   "cell_type": "code",
   "execution_count": 7,
   "id": "fc003dc1",
   "metadata": {},
   "outputs": [
    {
     "name": "stdout",
     "output_type": "stream",
     "text": [
      "(1557, 540)\n",
      "(1557,)\n",
      "(293, 540)\n",
      "(293,)\n"
     ]
    }
   ],
   "source": [
    "print(X_train.shape)\n",
    "print(y_train.shape)\n",
    "print(X_test.shape)\n",
    "print(y_test.shape)"
   ]
  },
  {
   "cell_type": "code",
   "execution_count": 8,
   "id": "99b6ffc9",
   "metadata": {},
   "outputs": [
    {
     "data": {
      "text/plain": [
       "0.8088737201365188"
      ]
     },
     "execution_count": 8,
     "metadata": {},
     "output_type": "execute_result"
    }
   ],
   "source": [
    "predictions = RegressionModel.predict(X_test)\n",
    "score = RegressionModel.score(X_test, y_test)\n",
    "score"
   ]
  },
  {
   "cell_type": "code",
   "execution_count": 9,
   "id": "70114405",
   "metadata": {},
   "outputs": [
    {
     "name": "stdout",
     "output_type": "stream",
     "text": [
      "[[113  31]\n",
      " [ 25 124]]\n",
      "              precision    recall  f1-score   support\n",
      "\n",
      "           0       0.82      0.78      0.80       144\n",
      "           1       0.80      0.83      0.82       149\n",
      "\n",
      "    accuracy                           0.81       293\n",
      "   macro avg       0.81      0.81      0.81       293\n",
      "weighted avg       0.81      0.81      0.81       293\n",
      "\n",
      "Area Under Curve: 0.8084684936614468\n"
     ]
    }
   ],
   "source": [
    "print(confusion_matrix(y_test, predictions))\n",
    "print(classification_report(y_test, predictions))\n",
    "\n",
    "area_under_curve = roc_auc_score(y_test, predictions)\n",
    "print(\"Area Under Curve:\", area_under_curve)"
   ]
  }
 ],
 "metadata": {
  "kernelspec": {
   "display_name": "Python 3 (ipykernel)",
   "language": "python",
   "name": "python3"
  },
  "language_info": {
   "codemirror_mode": {
    "name": "ipython",
    "version": 3
   },
   "file_extension": ".py",
   "mimetype": "text/x-python",
   "name": "python",
   "nbconvert_exporter": "python",
   "pygments_lexer": "ipython3",
   "version": "3.9.7"
  }
 },
 "nbformat": 4,
 "nbformat_minor": 5
}
