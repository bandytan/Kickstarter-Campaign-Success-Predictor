{
 "cells": [
  {
   "cell_type": "code",
   "execution_count": 37,
   "id": "a3eb4a31",
   "metadata": {},
   "outputs": [],
   "source": [
    "import pandas as pd \n",
    "import numpy as np\n",
    "import seaborn as sns\n",
    "import matplotlib.pyplot as plt\n",
    "%matplotlib inline\n",
    "from sklearn.preprocessing import OrdinalEncoder, MinMaxScaler\n",
    "from sklearn.linear_model import LogisticRegression\n",
    "from sklearn.model_selection import RepeatedStratifiedKFold\n",
    "from sklearn.model_selection import GridSearchCV\n",
    "from sklearn import metrics\n",
    "from sklearn.metrics import classification_report, confusion_matrix, roc_auc_score\n",
    "from sklearn.inspection import permutation_importance\n",
    "import glob\n",
    "import os\n",
    "import time"
   ]
  },
  {
   "cell_type": "code",
   "execution_count": 8,
   "id": "11b817c2",
   "metadata": {},
   "outputs": [],
   "source": [
    "train_path = max(glob.glob('./data/train/*.csv'), key=os.path.getctime) \n",
    "df = pd.read_csv(train_path)\n",
    "test_path = max(glob.glob('./data/test/*.csv'), key=os.path.getctime) \n",
    "test = pd.read_csv(test_path)\n"
   ]
  },
  {
   "cell_type": "code",
   "execution_count": 9,
   "id": "620fcc7c",
   "metadata": {},
   "outputs": [],
   "source": [
    "scaler = MinMaxScaler() \n",
    "df[['reward_tiers', 'min_reward', 'max_reward', 'goal']] = scaler.fit_transform(df[['reward_tiers', 'min_reward', 'max_reward', 'goal']])\n",
    "test[['reward_tiers', 'min_reward', 'max_reward', 'goal']] = scaler.transform(test[['reward_tiers', 'min_reward', 'max_reward', 'goal']])"
   ]
  },
  {
   "cell_type": "markdown",
   "id": "c8cbc4cb",
   "metadata": {},
   "source": [
    "<h1>Get to the correct data format</h1>"
   ]
  },
  {
   "cell_type": "code",
   "execution_count": 10,
   "id": "9523bd27",
   "metadata": {},
   "outputs": [],
   "source": [
    "X_train, y_train = df.drop('state', axis=1), df['state']\n",
    "X_test, y_test = test.drop('state', axis=1), test['state']"
   ]
  },
  {
   "cell_type": "code",
   "execution_count": 11,
   "id": "88a71261",
   "metadata": {},
   "outputs": [
    {
     "data": {
      "text/plain": [
       "array([dtype('float64'), dtype('int64')], dtype=object)"
      ]
     },
     "execution_count": 11,
     "metadata": {},
     "output_type": "execute_result"
    }
   ],
   "source": [
    "X_train.dtypes.unique()"
   ]
  },
  {
   "cell_type": "markdown",
   "id": "dd774074",
   "metadata": {},
   "source": [
    "<h3>Training using Logisitic Regression Model</h3>"
   ]
  },
  {
   "cell_type": "code",
   "execution_count": 12,
   "id": "fc003dc1",
   "metadata": {},
   "outputs": [
    {
     "name": "stdout",
     "output_type": "stream",
     "text": [
      "(24756, 575)\n",
      "(24756,)\n",
      "(4369, 575)\n",
      "(4369,)\n"
     ]
    }
   ],
   "source": [
    "print(X_train.shape)\n",
    "print(y_train.shape)\n",
    "print(X_test.shape)\n",
    "print(y_test.shape)\n"
   ]
  },
  {
   "cell_type": "code",
   "execution_count": 13,
   "id": "2aa693ac",
   "metadata": {},
   "outputs": [
    {
     "name": "stdout",
     "output_type": "stream",
     "text": [
      "Train Set Accuracy Score:  0.9062853449668767\n",
      "Train Set Confusion Matrix \n",
      " [[ 5742  1532]\n",
      " [  788 16694]]\n",
      "Train Set               precision    recall  f1-score   support\n",
      "\n",
      "           0       0.88      0.79      0.83      7274\n",
      "           1       0.92      0.95      0.94     17482\n",
      "\n",
      "    accuracy                           0.91     24756\n",
      "   macro avg       0.90      0.87      0.88     24756\n",
      "weighted avg       0.91      0.91      0.90     24756\n",
      "\n",
      "Area Under Curve: 0.8721559615409598\n",
      "Test Set Accuracy Score:  0.8992904554818036\n",
      "Test Set Confusion Matrix \n",
      " [[1000  282]\n",
      " [ 158 2929]]\n",
      "Test Set               precision    recall  f1-score   support\n",
      "\n",
      "           0       0.86      0.78      0.82      1282\n",
      "           1       0.91      0.95      0.93      3087\n",
      "\n",
      "    accuracy                           0.90      4369\n",
      "   macro avg       0.89      0.86      0.87      4369\n",
      "weighted avg       0.90      0.90      0.90      4369\n",
      "\n",
      "Area Under Curve: 0.8644244117675299\n"
     ]
    }
   ],
   "source": [
    "LRModel = LogisticRegression()\n",
    "LRModel.fit(X_train, y_train)\n",
    "# Train set\n",
    "LRModel_train_score = LRModel.score(X_train, y_train)\n",
    "print('Train Set Accuracy Score: ', LRModel_train_score)\n",
    "pred = LRModel.predict(X_train)\n",
    "print(\"Train Set Confusion Matrix \\n\", confusion_matrix(y_train, pred))\n",
    "print(\"Train Set\",classification_report(y_train, pred))\n",
    "\n",
    "area_under_curve_train = metrics.roc_auc_score(y_train, pred)\n",
    "print(\"Area Under Curve:\", area_under_curve_train)\n",
    "\n",
    "#Test Set\n",
    "LRModel_test_score = LRModel.score(X_test, y_test)\n",
    "print('Test Set Accuracy Score: ', LRModel_test_score)\n",
    "test_pred = LRModel.predict(X_test)\n",
    "print(\"Test Set Confusion Matrix \\n\", confusion_matrix(y_test, test_pred))\n",
    "print(\"Test Set\",classification_report(y_test, test_pred))\n",
    "\n",
    "area_under_curve_test = metrics.roc_auc_score(y_test, test_pred)\n",
    "print(\"Area Under Curve:\", area_under_curve_test)"
   ]
  },
  {
   "cell_type": "markdown",
   "id": "b7c01257",
   "metadata": {},
   "source": [
    "## Hyper parameter tuning"
   ]
  },
  {
   "cell_type": "code",
   "execution_count": 9,
   "id": "a6616966",
   "metadata": {},
   "outputs": [
    {
     "name": "stdout",
     "output_type": "stream",
     "text": [
      "Best: 0.903942 using {'C': 10.0, 'penalty': 'l1', 'solver': 'liblinear'}\n",
      "0.000000 (0.000000) with: {'C': 0.001, 'penalty': 'l1', 'solver': 'newton-cg'}\n",
      "0.000000 (0.000000) with: {'C': 0.001, 'penalty': 'l1', 'solver': 'lbfgs'}\n",
      "0.763963 (0.005961) with: {'C': 0.001, 'penalty': 'l1', 'solver': 'liblinear'}\n",
      "0.763936 (0.005936) with: {'C': 0.001, 'penalty': 'l1', 'solver': 'saga'}\n",
      "0.787351 (0.006397) with: {'C': 0.001, 'penalty': 'l2', 'solver': 'newton-cg'}\n",
      "0.791620 (0.006083) with: {'C': 0.001, 'penalty': 'l2', 'solver': 'lbfgs'}\n",
      "0.793572 (0.006206) with: {'C': 0.001, 'penalty': 'l2', 'solver': 'liblinear'}\n",
      "0.764259 (0.005873) with: {'C': 0.001, 'penalty': 'l2', 'solver': 'saga'}\n",
      "0.902784 (0.005349) with: {'C': 0.001, 'penalty': 'none', 'solver': 'newton-cg'}\n",
      "0.844872 (0.012824) with: {'C': 0.001, 'penalty': 'none', 'solver': 'lbfgs'}\n",
      "0.000000 (0.000000) with: {'C': 0.001, 'penalty': 'none', 'solver': 'liblinear'}\n",
      "0.764286 (0.005868) with: {'C': 0.001, 'penalty': 'none', 'solver': 'saga'}\n",
      "0.000000 (0.000000) with: {'C': 0.01, 'penalty': 'l1', 'solver': 'newton-cg'}\n",
      "0.000000 (0.000000) with: {'C': 0.01, 'penalty': 'l1', 'solver': 'lbfgs'}\n",
      "0.867009 (0.006078) with: {'C': 0.01, 'penalty': 'l1', 'solver': 'liblinear'}\n",
      "0.764219 (0.005949) with: {'C': 0.01, 'penalty': 'l1', 'solver': 'saga'}\n",
      "0.854473 (0.006854) with: {'C': 0.01, 'penalty': 'l2', 'solver': 'newton-cg'}\n",
      "0.838369 (0.011640) with: {'C': 0.01, 'penalty': 'l2', 'solver': 'lbfgs'}\n",
      "0.853005 (0.007276) with: {'C': 0.01, 'penalty': 'l2', 'solver': 'liblinear'}\n",
      "0.764286 (0.005868) with: {'C': 0.01, 'penalty': 'l2', 'solver': 'saga'}\n",
      "0.902784 (0.005349) with: {'C': 0.01, 'penalty': 'none', 'solver': 'newton-cg'}\n",
      "0.844872 (0.012824) with: {'C': 0.01, 'penalty': 'none', 'solver': 'lbfgs'}\n",
      "0.000000 (0.000000) with: {'C': 0.01, 'penalty': 'none', 'solver': 'liblinear'}\n",
      "0.764286 (0.005868) with: {'C': 0.01, 'penalty': 'none', 'solver': 'saga'}\n",
      "0.000000 (0.000000) with: {'C': 0.1, 'penalty': 'l1', 'solver': 'newton-cg'}\n",
      "0.000000 (0.000000) with: {'C': 0.1, 'penalty': 'l1', 'solver': 'lbfgs'}\n",
      "0.897910 (0.006355) with: {'C': 0.1, 'penalty': 'l1', 'solver': 'liblinear'}\n",
      "0.764259 (0.005863) with: {'C': 0.1, 'penalty': 'l1', 'solver': 'saga'}\n",
      "0.888525 (0.006174) with: {'C': 0.1, 'penalty': 'l2', 'solver': 'newton-cg'}\n",
      "0.846098 (0.012271) with: {'C': 0.1, 'penalty': 'l2', 'solver': 'lbfgs'}\n",
      "0.884499 (0.007402) with: {'C': 0.1, 'penalty': 'l2', 'solver': 'liblinear'}\n",
      "0.764286 (0.005868) with: {'C': 0.1, 'penalty': 'l2', 'solver': 'saga'}\n",
      "0.902784 (0.005349) with: {'C': 0.1, 'penalty': 'none', 'solver': 'newton-cg'}\n",
      "0.844872 (0.012824) with: {'C': 0.1, 'penalty': 'none', 'solver': 'lbfgs'}\n",
      "0.000000 (0.000000) with: {'C': 0.1, 'penalty': 'none', 'solver': 'liblinear'}\n",
      "0.764286 (0.005868) with: {'C': 0.1, 'penalty': 'none', 'solver': 'saga'}\n",
      "0.000000 (0.000000) with: {'C': 1.0, 'penalty': 'l1', 'solver': 'newton-cg'}\n",
      "0.000000 (0.000000) with: {'C': 1.0, 'penalty': 'l1', 'solver': 'lbfgs'}\n",
      "0.903794 (0.006117) with: {'C': 1.0, 'penalty': 'l1', 'solver': 'liblinear'}\n",
      "0.764286 (0.005868) with: {'C': 1.0, 'penalty': 'l1', 'solver': 'saga'}\n",
      "0.899149 (0.005916) with: {'C': 1.0, 'penalty': 'l2', 'solver': 'newton-cg'}\n",
      "0.845289 (0.011796) with: {'C': 1.0, 'penalty': 'l2', 'solver': 'lbfgs'}\n",
      "0.890249 (0.005972) with: {'C': 1.0, 'penalty': 'l2', 'solver': 'liblinear'}\n",
      "0.764286 (0.005868) with: {'C': 1.0, 'penalty': 'l2', 'solver': 'saga'}\n",
      "0.902784 (0.005349) with: {'C': 1.0, 'penalty': 'none', 'solver': 'newton-cg'}\n",
      "0.844872 (0.012824) with: {'C': 1.0, 'penalty': 'none', 'solver': 'lbfgs'}\n",
      "0.000000 (0.000000) with: {'C': 1.0, 'penalty': 'none', 'solver': 'liblinear'}\n",
      "0.764286 (0.005868) with: {'C': 1.0, 'penalty': 'none', 'solver': 'saga'}\n",
      "0.000000 (0.000000) with: {'C': 10.0, 'penalty': 'l1', 'solver': 'newton-cg'}\n",
      "0.000000 (0.000000) with: {'C': 10.0, 'penalty': 'l1', 'solver': 'lbfgs'}\n",
      "0.903942 (0.005446) with: {'C': 10.0, 'penalty': 'l1', 'solver': 'liblinear'}\n",
      "0.764286 (0.005868) with: {'C': 10.0, 'penalty': 'l1', 'solver': 'saga'}\n",
      "0.902205 (0.006189) with: {'C': 10.0, 'penalty': 'l2', 'solver': 'newton-cg'}\n",
      "0.844118 (0.011647) with: {'C': 10.0, 'penalty': 'l2', 'solver': 'lbfgs'}\n",
      "0.891191 (0.008265) with: {'C': 10.0, 'penalty': 'l2', 'solver': 'liblinear'}\n",
      "0.764286 (0.005868) with: {'C': 10.0, 'penalty': 'l2', 'solver': 'saga'}\n",
      "0.902784 (0.005349) with: {'C': 10.0, 'penalty': 'none', 'solver': 'newton-cg'}\n",
      "0.844872 (0.012824) with: {'C': 10.0, 'penalty': 'none', 'solver': 'lbfgs'}\n",
      "0.000000 (0.000000) with: {'C': 10.0, 'penalty': 'none', 'solver': 'liblinear'}\n",
      "0.764286 (0.005868) with: {'C': 10.0, 'penalty': 'none', 'solver': 'saga'}\n",
      "0.000000 (0.000000) with: {'C': 100.0, 'penalty': 'l1', 'solver': 'newton-cg'}\n",
      "0.000000 (0.000000) with: {'C': 100.0, 'penalty': 'l1', 'solver': 'lbfgs'}\n",
      "0.903592 (0.005242) with: {'C': 100.0, 'penalty': 'l1', 'solver': 'liblinear'}\n",
      "0.764286 (0.005868) with: {'C': 100.0, 'penalty': 'l1', 'solver': 'saga'}\n",
      "0.902596 (0.005373) with: {'C': 100.0, 'penalty': 'l2', 'solver': 'newton-cg'}\n",
      "0.843715 (0.013313) with: {'C': 100.0, 'penalty': 'l2', 'solver': 'lbfgs'}\n",
      "0.890437 (0.006109) with: {'C': 100.0, 'penalty': 'l2', 'solver': 'liblinear'}\n",
      "0.764286 (0.005868) with: {'C': 100.0, 'penalty': 'l2', 'solver': 'saga'}\n",
      "0.902784 (0.005349) with: {'C': 100.0, 'penalty': 'none', 'solver': 'newton-cg'}\n",
      "0.844872 (0.012824) with: {'C': 100.0, 'penalty': 'none', 'solver': 'lbfgs'}\n",
      "0.000000 (0.000000) with: {'C': 100.0, 'penalty': 'none', 'solver': 'liblinear'}\n",
      "0.764286 (0.005868) with: {'C': 100.0, 'penalty': 'none', 'solver': 'saga'}\n",
      "0.000000 (0.000000) with: {'C': 1000.0, 'penalty': 'l1', 'solver': 'newton-cg'}\n",
      "0.000000 (0.000000) with: {'C': 1000.0, 'penalty': 'l1', 'solver': 'lbfgs'}\n",
      "0.903242 (0.005446) with: {'C': 1000.0, 'penalty': 'l1', 'solver': 'liblinear'}\n",
      "0.764286 (0.005868) with: {'C': 1000.0, 'penalty': 'l1', 'solver': 'saga'}\n",
      "0.902650 (0.005280) with: {'C': 1000.0, 'penalty': 'l2', 'solver': 'newton-cg'}\n",
      "0.845290 (0.013827) with: {'C': 1000.0, 'penalty': 'l2', 'solver': 'lbfgs'}\n",
      "0.890195 (0.006410) with: {'C': 1000.0, 'penalty': 'l2', 'solver': 'liblinear'}\n",
      "0.764286 (0.005868) with: {'C': 1000.0, 'penalty': 'l2', 'solver': 'saga'}\n",
      "0.902784 (0.005349) with: {'C': 1000.0, 'penalty': 'none', 'solver': 'newton-cg'}\n",
      "0.844872 (0.012824) with: {'C': 1000.0, 'penalty': 'none', 'solver': 'lbfgs'}\n",
      "0.000000 (0.000000) with: {'C': 1000.0, 'penalty': 'none', 'solver': 'liblinear'}\n",
      "0.764286 (0.005868) with: {'C': 1000.0, 'penalty': 'none', 'solver': 'saga'}\n",
      "0.000000 (0.000000) with: {'C': 10000.0, 'penalty': 'l1', 'solver': 'newton-cg'}\n",
      "0.000000 (0.000000) with: {'C': 10000.0, 'penalty': 'l1', 'solver': 'lbfgs'}\n",
      "0.902811 (0.005388) with: {'C': 10000.0, 'penalty': 'l1', 'solver': 'liblinear'}\n",
      "0.764286 (0.005868) with: {'C': 10000.0, 'penalty': 'l1', 'solver': 'saga'}\n",
      "0.902663 (0.005217) with: {'C': 10000.0, 'penalty': 'l2', 'solver': 'newton-cg'}\n",
      "0.846017 (0.013310) with: {'C': 10000.0, 'penalty': 'l2', 'solver': 'lbfgs'}\n",
      "0.891083 (0.007515) with: {'C': 10000.0, 'penalty': 'l2', 'solver': 'liblinear'}\n",
      "0.764286 (0.005868) with: {'C': 10000.0, 'penalty': 'l2', 'solver': 'saga'}\n",
      "0.902784 (0.005349) with: {'C': 10000.0, 'penalty': 'none', 'solver': 'newton-cg'}\n",
      "0.844872 (0.012824) with: {'C': 10000.0, 'penalty': 'none', 'solver': 'lbfgs'}\n",
      "0.000000 (0.000000) with: {'C': 10000.0, 'penalty': 'none', 'solver': 'liblinear'}\n",
      "0.764286 (0.005868) with: {'C': 10000.0, 'penalty': 'none', 'solver': 'saga'}\n",
      "0.000000 (0.000000) with: {'C': 100000.0, 'penalty': 'l1', 'solver': 'newton-cg'}\n",
      "0.000000 (0.000000) with: {'C': 100000.0, 'penalty': 'l1', 'solver': 'lbfgs'}\n",
      "0.902515 (0.005437) with: {'C': 100000.0, 'penalty': 'l1', 'solver': 'liblinear'}\n",
      "0.764286 (0.005868) with: {'C': 100000.0, 'penalty': 'l1', 'solver': 'saga'}\n",
      "0.902798 (0.005398) with: {'C': 100000.0, 'penalty': 'l2', 'solver': 'newton-cg'}\n",
      "0.844442 (0.012903) with: {'C': 100000.0, 'penalty': 'l2', 'solver': 'lbfgs'}\n",
      "0.891164 (0.007712) with: {'C': 100000.0, 'penalty': 'l2', 'solver': 'liblinear'}\n",
      "0.764286 (0.005868) with: {'C': 100000.0, 'penalty': 'l2', 'solver': 'saga'}\n",
      "0.902784 (0.005349) with: {'C': 100000.0, 'penalty': 'none', 'solver': 'newton-cg'}\n",
      "0.844872 (0.012824) with: {'C': 100000.0, 'penalty': 'none', 'solver': 'lbfgs'}\n",
      "0.000000 (0.000000) with: {'C': 100000.0, 'penalty': 'none', 'solver': 'liblinear'}\n",
      "0.764286 (0.005868) with: {'C': 100000.0, 'penalty': 'none', 'solver': 'saga'}\n",
      "0.000000 (0.000000) with: {'C': 1000000.0, 'penalty': 'l1', 'solver': 'newton-cg'}\n",
      "0.000000 (0.000000) with: {'C': 1000000.0, 'penalty': 'l1', 'solver': 'lbfgs'}\n",
      "0.902838 (0.005558) with: {'C': 1000000.0, 'penalty': 'l1', 'solver': 'liblinear'}\n",
      "0.764286 (0.005868) with: {'C': 1000000.0, 'penalty': 'l1', 'solver': 'saga'}\n",
      "0.902919 (0.005293) with: {'C': 1000000.0, 'penalty': 'l2', 'solver': 'newton-cg'}\n",
      "0.843432 (0.013464) with: {'C': 1000000.0, 'penalty': 'l2', 'solver': 'lbfgs'}\n",
      "0.889845 (0.006240) with: {'C': 1000000.0, 'penalty': 'l2', 'solver': 'liblinear'}\n",
      "0.764286 (0.005868) with: {'C': 1000000.0, 'penalty': 'l2', 'solver': 'saga'}\n",
      "0.902784 (0.005349) with: {'C': 1000000.0, 'penalty': 'none', 'solver': 'newton-cg'}\n",
      "0.844872 (0.012824) with: {'C': 1000000.0, 'penalty': 'none', 'solver': 'lbfgs'}\n",
      "0.000000 (0.000000) with: {'C': 1000000.0, 'penalty': 'none', 'solver': 'liblinear'}\n",
      "0.764286 (0.005868) with: {'C': 1000000.0, 'penalty': 'none', 'solver': 'saga'}\n",
      "0.000000 (0.000000) with: {'C': 10000000.0, 'penalty': 'l1', 'solver': 'newton-cg'}\n",
      "0.000000 (0.000000) with: {'C': 10000000.0, 'penalty': 'l1', 'solver': 'lbfgs'}\n",
      "0.902744 (0.005395) with: {'C': 10000000.0, 'penalty': 'l1', 'solver': 'liblinear'}\n",
      "0.764286 (0.005868) with: {'C': 10000000.0, 'penalty': 'l1', 'solver': 'saga'}\n",
      "0.902811 (0.005327) with: {'C': 10000000.0, 'penalty': 'l2', 'solver': 'newton-cg'}\n",
      "0.844280 (0.013103) with: {'C': 10000000.0, 'penalty': 'l2', 'solver': 'lbfgs'}\n",
      "0.890141 (0.006546) with: {'C': 10000000.0, 'penalty': 'l2', 'solver': 'liblinear'}\n",
      "0.764286 (0.005868) with: {'C': 10000000.0, 'penalty': 'l2', 'solver': 'saga'}\n",
      "0.902784 (0.005349) with: {'C': 10000000.0, 'penalty': 'none', 'solver': 'newton-cg'}\n",
      "0.844872 (0.012824) with: {'C': 10000000.0, 'penalty': 'none', 'solver': 'lbfgs'}\n",
      "0.000000 (0.000000) with: {'C': 10000000.0, 'penalty': 'none', 'solver': 'liblinear'}\n",
      "0.764286 (0.005868) with: {'C': 10000000.0, 'penalty': 'none', 'solver': 'saga'}\n"
     ]
    }
   ],
   "source": [
    "#define models and parameters for Logistic Regression\n",
    "#don't run this cell, takes around 8 hours to complete\n",
    "model = LogisticRegression()\n",
    "solvers = ['newton-cg', 'lbfgs', 'liblinear', 'saga']\n",
    "penalty = ['l1','l2', 'none']\n",
    "c_values = 10. ** np.arange(-3,8)\n",
    "\n",
    "#define grid seach\n",
    "grid = dict(solver=solvers,penalty=penalty,C=c_values)\n",
    "cv = RepeatedStratifiedKFold(n_splits=10, n_repeats=3, random_state=1)\n",
    "grid_search = GridSearchCV(estimator=model, param_grid=grid, n_jobs=-1, cv=cv, scoring='accuracy',error_score=0)\n",
    "grid_result = grid_search.fit(X_train, y_train)\n",
    "\n",
    "#results \n",
    "print(\"Best: %f using %s\" % (grid_result.best_score_, grid_result.best_params_))\n",
    "means = grid_result.cv_results_['mean_test_score']\n",
    "stds = grid_result.cv_results_['std_test_score']\n",
    "params = grid_result.cv_results_['params']\n",
    "for mean, stdev, param in zip(means, stds, params):\n",
    "    print(\"%f (%f) with: %r\" % (mean, stdev, param))\n",
    "    \n",
    "#Best: 0.903942 using {'C': 10.0, 'penalty': 'l1', 'solver': 'liblinear'}"
   ]
  },
  {
   "cell_type": "markdown",
   "id": "bc7b392a",
   "metadata": {},
   "source": [
    "<h3> Testing with training model output </h3>"
   ]
  },
  {
   "cell_type": "code",
   "execution_count": 34,
   "id": "a93a9e18",
   "metadata": {},
   "outputs": [
    {
     "name": "stdout",
     "output_type": "stream",
     "text": [
      "Train Set Accuracy Score after tuning:  0.91335433834222\n",
      "Train Set Confusion Matrix \n",
      " [[ 5903  1371]\n",
      " [  774 16708]]\n",
      "Train Set               precision    recall  f1-score   support\n",
      "\n",
      "           0       0.88      0.81      0.85      7274\n",
      "           1       0.92      0.96      0.94     17482\n",
      "\n",
      "    accuracy                           0.91     24756\n",
      "   macro avg       0.90      0.88      0.89     24756\n",
      "weighted avg       0.91      0.91      0.91     24756\n",
      "\n",
      "Area Under Curve after tuning: 0.8836231867008218\n",
      "Test Set Accuracy Score:  0.902037079423209\n",
      "Test Set Confusion Matrix \n",
      " [[1011  271]\n",
      " [ 157 2930]]\n",
      "Test Set               precision    recall  f1-score   support\n",
      "\n",
      "           0       0.87      0.79      0.83      1282\n",
      "           1       0.92      0.95      0.93      3087\n",
      "\n",
      "    accuracy                           0.90      4369\n",
      "   macro avg       0.89      0.87      0.88      4369\n",
      "weighted avg       0.90      0.90      0.90      4369\n",
      "\n",
      "Area Under Curve: 0.8688765529241189\n"
     ]
    }
   ],
   "source": [
    "best_model = LogisticRegression(C=10.0, penalty='l1', solver='liblinear')\n",
    "best_model.fit(X_train, y_train)\n",
    "# Train set\n",
    "best_model_train_score = best_model.score(X_train, y_train)\n",
    "print('Train Set Accuracy Score after tuning: ', best_model_train_score)\n",
    "pred1 = best_model.predict(X_train)\n",
    "print(\"Train Set Confusion Matrix \\n\", confusion_matrix(y_train, pred1))\n",
    "print(\"Train Set\",classification_report(y_train, pred1))\n",
    "\n",
    "area_under_curve_train = metrics.roc_auc_score(y_train, pred1)\n",
    "print(\"Area Under Curve after tuning:\", area_under_curve_train)\n",
    "\n",
    "#Test Set\n",
    "best_model_test_score = best_model.score(X_test, y_test)\n",
    "print('Test Set Accuracy Score: ', best_model_test_score)\n",
    "test_pred1 = best_model.predict(X_test)\n",
    "print(\"Test Set Confusion Matrix \\n\", confusion_matrix(y_test, test_pred1))\n",
    "print(\"Test Set\",classification_report(y_test, test_pred1))\n",
    "\n",
    "area_under_curve_test = metrics.roc_auc_score(y_test, test_pred1)\n",
    "print(\"Area Under Curve:\", area_under_curve_test)"
   ]
  },
  {
   "cell_type": "code",
   "execution_count": 12,
   "id": "dc61fefc",
   "metadata": {},
   "outputs": [
    {
     "data": {
      "image/png": "[encoded data removed]",
      "text/plain": [
       "<Figure size 432x288 with 1 Axes>"
      ]
     },
     "metadata": {
      "needs_background": "light"
     },
     "output_type": "display_data"
    }
   ],
   "source": [
    "import matplotlib.pyplot as plt\n",
    "fpr, tpr, thresholds = metrics.roc_curve(y_test, test_pred)\n",
    "plt.plot(fpr, tpr, label = \"Without Tuning\")\n",
    "fpr1, tpr1, thresholds1 = metrics.roc_curve(y_test, test_pred1)\n",
    "plt.plot(fpr1, tpr1, label = \"With Tuning\")\n",
    "plt.xlim([0.0, 1.0])\n",
    "plt.ylim([0.0, 1.0])\n",
    "plt.rcParams['font.size'] = 14\n",
    "plt.title('ROC curve of Logistic Regression')\n",
    "plt.xlabel('False Positive Rate (1 - Specificity)')\n",
    "plt.ylabel('True Positive Rate (Sensitivity)')\n",
    "plt.legend()\n",
    "plt.grid(True)"
   ]
  },
  {
   "cell_type": "markdown",
   "id": "ad771048",
   "metadata": {},
   "source": [
    "### Run Time"
   ]
  },
  {
   "cell_type": "code",
   "execution_count": 42,
   "id": "21338da3",
   "metadata": {},
   "outputs": [
    {
     "name": "stdout",
     "output_type": "stream",
     "text": [
      "Execution time: 1.2596004009246826 s\n",
      "Wall time: 1.26 s\n"
     ]
    }
   ],
   "source": [
    "%%time\n",
    "start_time = time.time()\n",
    "model_time = LogisticRegression(C=10.0, penalty='l1', solver='liblinear')\n",
    "model_time.fit(X_train, y_train)\n",
    "test_pred1 = model_time.predict(X_test)\n",
    "print(\"Execution time: \" + str((time.time() - start_time)) + ' s')"
   ]
  },
  {
   "cell_type": "markdown",
   "id": "c0613ac9",
   "metadata": {},
   "source": [
    "### Feature Importance"
   ]
  },
  {
   "cell_type": "code",
   "execution_count": 41,
   "id": "cc0b8f86",
   "metadata": {},
   "outputs": [
    {
     "name": "stdout",
     "output_type": "stream",
     "text": [
      "Index(['rewards_1', 'reward_tiers', 'rewards_0', 'rewards_5', 'rewards_35',\n",
      "       'funding_duration_in_days', 'rewards_34', 'goal', 'x0_theater',\n",
      "       'description_67', 'rewards_2', 'rewards_14', 'rewards_9',\n",
      "       'description_1', 'x0_food', 'x0_GB', 'rewards_19',\n",
      "       'description_risks_19', 'rewards_56', 'x0_art'],\n",
      "      dtype='object')\n"
     ]
    }
   ],
   "source": [
    "imps = permutation_importance(model_time, X_test, y_test)\n",
    "imps_sorted = imps.importances_mean.argsort()[::-1]\n",
    "\n",
    "print(np.take(X_train.columns, imps_sorted[: 20]))"
   ]
  }
 ],
 "metadata": {
  "kernelspec": {
   "display_name": "Python 3 (ipykernel)",
   "language": "python",
   "name": "python3"
  },
  "language_info": {
   "codemirror_mode": {
    "name": "ipython",
    "version": 3
   },
   "file_extension": ".py",
   "mimetype": "text/x-python",
   "name": "python",
   "nbconvert_exporter": "python",
   "pygments_lexer": "ipython3",
   "version": "3.9.7"
  }
 },
 "nbformat": 4,
 "nbformat_minor": 5
}
