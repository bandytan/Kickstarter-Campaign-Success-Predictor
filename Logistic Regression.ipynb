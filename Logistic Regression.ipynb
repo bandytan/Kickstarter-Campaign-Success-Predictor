{
 "cells": [
  {
   "cell_type": "code",
   "execution_count": 2,
   "id": "a3eb4a31",
   "metadata": {},
   "outputs": [],
   "source": [
    "import pandas as pd \n",
    "import numpy as np\n",
    "%matplotlib inline\n",
    "import matplotlib as mpl\n",
    "import matplotlib.pyplot as plt\n",
    "from sklearn.preprocessing import OrdinalEncoder, MinMaxScaler\n",
    "from sklearn.linear_model import LogisticRegression\n",
    "from sklearn.model_selection import RepeatedStratifiedKFold\n",
    "from sklearn.model_selection import GridSearchCV, RandomizedSearchCV\n",
    "from sklearn import metrics\n",
    "from sklearn.metrics import classification_report, confusion_matrix, roc_auc_score\n",
    "from sklearn.inspection import permutation_importance\n",
    "from scipy.stats import loguniform\n",
    "import glob\n",
    "import os\n",
    "import time"
   ]
  },
  {
   "cell_type": "code",
   "execution_count": 4,
   "id": "11b817c2",
   "metadata": {},
   "outputs": [
    {
     "name": "stdout",
     "output_type": "stream",
     "text": [
      "(24756, 579)\n",
      "(4369, 579)\n"
     ]
    }
   ],
   "source": [
    "train_path = max(glob.glob('./data/train/*.csv'), key=os.path.getctime) \n",
    "test_path = max(glob.glob('./data/test/*.csv'), key=os.path.getctime) \n",
    "train_df = pd.read_csv(train_path)\n",
    "test_df = pd.read_csv(test_path)\n",
    "\n",
    "print(train_df.shape)\n",
    "print(test_df.shape)"
   ]
  },
  {
   "cell_type": "code",
   "execution_count": 4,
   "id": "620fcc7c",
   "metadata": {},
   "outputs": [],
   "source": [
    "# scaler = MinMaxScaler() \n",
    "# df[['reward_tiers', 'min_reward', 'max_reward', 'goal']] = scaler.fit_transform(df[['reward_tiers', 'min_reward', 'max_reward', 'goal']])\n",
    "# test[['reward_tiers', 'min_reward', 'max_reward', 'goal']] = scaler.transform(test[['reward_tiers', 'min_reward', 'max_reward', 'goal']])"
   ]
  },
  {
   "cell_type": "markdown",
   "id": "c8cbc4cb",
   "metadata": {},
   "source": [
    "<h1>Get to the correct data format</h1>"
   ]
  },
  {
   "cell_type": "code",
   "execution_count": 5,
   "id": "9523bd27",
   "metadata": {},
   "outputs": [],
   "source": [
    "X_train, y_train = train_df.drop('state', axis=1), train_df['state']\n",
    "X_test, y_test = test_df.drop('state', axis=1), test_df['state']"
   ]
  },
  {
   "cell_type": "code",
   "execution_count": 6,
   "id": "88a71261",
   "metadata": {},
   "outputs": [
    {
     "data": {
      "text/plain": [
       "array([dtype('float64'), dtype('int64')], dtype=object)"
      ]
     },
     "execution_count": 6,
     "metadata": {},
     "output_type": "execute_result"
    }
   ],
   "source": [
    "X_train.dtypes.unique()"
   ]
  },
  {
   "cell_type": "markdown",
   "id": "dd774074",
   "metadata": {},
   "source": [
    "<h3>Training using Logisitic Regression Model</h3>"
   ]
  },
  {
   "cell_type": "code",
   "execution_count": 7,
   "id": "fc003dc1",
   "metadata": {},
   "outputs": [
    {
     "name": "stdout",
     "output_type": "stream",
     "text": [
      "(24756, 578)\n",
      "(24756,)\n",
      "(4369, 578)\n",
      "(4369,)\n"
     ]
    }
   ],
   "source": [
    "print(X_train.shape)\n",
    "print(y_train.shape)\n",
    "print(X_test.shape)\n",
    "print(y_test.shape)\n"
   ]
  },
  {
   "cell_type": "code",
   "execution_count": 8,
   "id": "2f56b43c",
   "metadata": {},
   "outputs": [
    {
     "name": "stdout",
     "output_type": "stream",
     "text": [
      "Train Set Accuracy Score:  0.917191791888835\n",
      "Train Set Confusion Matrix \n",
      " [[ 5934  1340]\n",
      " [  710 16772]]\n",
      "Train Set               precision    recall  f1-score   support\n",
      "\n",
      "           0       0.89      0.82      0.85      7274\n",
      "           1       0.93      0.96      0.94     17482\n",
      "\n",
      "    accuracy                           0.92     24756\n",
      "   macro avg       0.91      0.89      0.90     24756\n",
      "weighted avg       0.92      0.92      0.92     24756\n",
      "\n",
      "Area Under Curve: 0.8875845179787737\n"
     ]
    }
   ],
   "source": [
    "LRModel = LogisticRegression(max_iter=25000)\n",
    "LRModel.fit(X_train, y_train)\n",
    "# Train set\n",
    "LRModel_train_score = LRModel.score(X_train, y_train)\n",
    "print('Train Set Accuracy Score: ', LRModel_train_score)\n",
    "pred = LRModel.predict(X_train)\n",
    "print(\"Train Set Confusion Matrix \\n\", confusion_matrix(y_train, pred))\n",
    "print(\"Train Set\",classification_report(y_train, pred))\n",
    "\n",
    "area_under_curve_train = metrics.roc_auc_score(y_train, pred)\n",
    "print(\"Area Under Curve:\", area_under_curve_train)"
   ]
  },
  {
   "cell_type": "code",
   "execution_count": 9,
   "id": "2aa693ac",
   "metadata": {},
   "outputs": [
    {
     "name": "stdout",
     "output_type": "stream",
     "text": [
      "Test Set Accuracy Score:  0.9127946898603799\n",
      "Test Set Confusion Matrix \n",
      " [[1052  230]\n",
      " [ 151 2936]]\n",
      "Test Set               precision    recall  f1-score   support\n",
      "\n",
      "           0       0.87      0.82      0.85      1282\n",
      "           1       0.93      0.95      0.94      3087\n",
      "\n",
      "    accuracy                           0.91      4369\n",
      "   macro avg       0.90      0.89      0.89      4369\n",
      "weighted avg       0.91      0.91      0.91      4369\n",
      "\n",
      "Area Under Curve: 0.8858390098480519\n"
     ]
    }
   ],
   "source": [
    "#Test Set\n",
    "LRModel_test_score = LRModel.score(X_test, y_test)\n",
    "print('Test Set Accuracy Score: ', LRModel_test_score)\n",
    "test_pred = LRModel.predict(X_test)\n",
    "print(\"Test Set Confusion Matrix \\n\", confusion_matrix(y_test, test_pred))\n",
    "print(\"Test Set\",classification_report(y_test, test_pred))\n",
    "\n",
    "area_under_curve_test = metrics.roc_auc_score(y_test, test_pred)\n",
    "print(\"Area Under Curve:\", area_under_curve_test)"
   ]
  },
  {
   "cell_type": "markdown",
   "id": "b7c01257",
   "metadata": {},
   "source": [
    "## Hyper parameter tuning"
   ]
  },
  {
   "cell_type": "code",
   "execution_count": 10,
   "id": "894811e9",
   "metadata": {},
   "outputs": [
    {
     "name": "stdout",
     "output_type": "stream",
     "text": [
      "Fitting 15 folds for each of 10 candidates, totalling 150 fits\n",
      "Best Score: 0.957397526666048\n",
      "Best Hyperparameters: {'C': 4.207230251572931, 'penalty': 'l2', 'solver': 'lbfgs'}\n"
     ]
    }
   ],
   "source": [
    "#using repeatedStratifiedKfold \n",
    "model = LogisticRegression(max_iter=25000)\n",
    "cv = RepeatedStratifiedKFold(n_splits=5, n_repeats=3, random_state=999)\n",
    "space = dict()\n",
    "space['solver'] = ['newton-cg', 'lbfgs', 'liblinear']\n",
    "space['penalty'] = ['l1', 'l2']\n",
    "space['C'] = loguniform(1e-5, 100)\n",
    "\n",
    "#define search\n",
    "search = RandomizedSearchCV(\n",
    "    model, \n",
    "    space, \n",
    "    n_iter=10, \n",
    "    scoring='roc_auc', \n",
    "    n_jobs=-1, \n",
    "    cv=cv, \n",
    "    verbose=2,\n",
    "    random_state=999)\n",
    "\n",
    "# execute search\n",
    "result = search.fit(X_train, y_train)\n",
    "\n",
    "print('Best Score: %s' % result.best_score_)\n",
    "print('Best Hyperparameters: %s' % result.best_params_)\n",
    "\n",
    "# Best Score: 0.9573322780023994\n",
    "# Best Hyperparameters: {'C': 4.207230251572931, 'penalty': 'l2', 'solver': 'lbfgs'}"
   ]
  },
  {
   "cell_type": "markdown",
   "id": "bc7b392a",
   "metadata": {},
   "source": [
    "<h3> Testing with training model output </h3>"
   ]
  },
  {
   "cell_type": "code",
   "execution_count": 11,
   "id": "f0945210",
   "metadata": {},
   "outputs": [
    {
     "name": "stdout",
     "output_type": "stream",
     "text": [
      "Train Set Accuracy Score after tuning:  0.9194538697689449\n",
      "Train Set Confusion Matrix \n",
      " [[ 6004  1270]\n",
      " [  724 16758]]\n",
      "Train Set               precision    recall  f1-score   support\n",
      "\n",
      "           0       0.89      0.83      0.86      7274\n",
      "           1       0.93      0.96      0.94     17482\n",
      "\n",
      "    accuracy                           0.92     24756\n",
      "   macro avg       0.91      0.89      0.90     24756\n",
      "weighted avg       0.92      0.92      0.92     24756\n",
      "\n",
      "Area Under Curve after tuning: 0.8919957640864399\n"
     ]
    }
   ],
   "source": [
    "best_model = LogisticRegression(**result.best_params_, max_iter=25000)\n",
    "best_model.fit(X_train, y_train)\n",
    "# Train set\n",
    "best_model_train_score = best_model.score(X_train, y_train)\n",
    "print('Train Set Accuracy Score after tuning: ', best_model_train_score)\n",
    "pred1 = best_model.predict(X_train)\n",
    "print(\"Train Set Confusion Matrix \\n\", confusion_matrix(y_train, pred1))\n",
    "print(\"Train Set\",classification_report(y_train, pred1))\n",
    "\n",
    "area_under_curve_train = metrics.roc_auc_score(y_train, pred1)\n",
    "print(\"Area Under Curve after tuning:\", area_under_curve_train)"
   ]
  },
  {
   "cell_type": "code",
   "execution_count": 16,
   "id": "a93a9e18",
   "metadata": {},
   "outputs": [
    {
     "name": "stdout",
     "output_type": "stream",
     "text": [
      "Test Set Accuracy Score:  0.9150835431448844\n",
      "Test Set Confusion Matrix \n",
      " [[1070  212]\n",
      " [ 159 2928]]\n",
      "Test Set \n",
      "               precision    recall  f1-score   support\n",
      "\n",
      "           0    0.87063   0.83463   0.85225      1282\n",
      "           1    0.93248   0.94849   0.94042      3087\n",
      "\n",
      "    accuracy                        0.91508      4369\n",
      "   macro avg    0.90156   0.89156   0.89634      4369\n",
      "weighted avg    0.91433   0.91508   0.91455      4369\n",
      "\n",
      "Area Under Curve: 0.8915635342614872\n"
     ]
    }
   ],
   "source": [
    "best_model_test_score = best_model.score(X_test, y_test)\n",
    "print('Test Set Accuracy Score: ', best_model_test_score)\n",
    "test_pred1 = best_model.predict(X_test)\n",
    "print(\"Test Set Confusion Matrix \\n\", confusion_matrix(y_test, test_pred1))\n",
    "print(\"Test Set \\n\",classification_report(y_test, test_pred1, digits=5))\n",
    "\n",
    "area_under_curve_test = metrics.roc_auc_score(y_test, test_pred1)\n",
    "print(\"Area Under Curve:\", area_under_curve_test)"
   ]
  },
  {
   "cell_type": "code",
   "execution_count": 13,
   "id": "dc61fefc",
   "metadata": {},
   "outputs": [
    {
     "data": {
      "image/png": "[encoded data removed]",
      "text/plain": [
       "<Figure size 640x480 with 1 Axes>"
      ]
     },
     "metadata": {},
     "output_type": "display_data"
    }
   ],
   "source": [
    "import matplotlib.pyplot as plt\n",
    "test_predict = LRModel.predict_proba(X_test)[:,1]\n",
    "fpr, tpr, thresholds = metrics.roc_curve(y_test, test_predict)\n",
    "plt.plot(fpr, tpr, label = \"Without Tuning\")\n",
    "test_predict1 = best_model.predict_proba(X_test)[:,1]\n",
    "fpr1, tpr1, thresholds1 = metrics.roc_curve(y_test, test_predict1)\n",
    "plt.plot(fpr1, tpr1, label = \"With Tuning\")\n",
    "plt.xlim([0.0, 1.0])\n",
    "plt.ylim([0.0, 1.0])\n",
    "plt.rcParams['font.size'] = 14\n",
    "plt.title('ROC curve of Logistic Regression')\n",
    "plt.xlabel('False Positive Rate (1 - Specificity)')\n",
    "plt.ylabel('True Positive Rate (Sensitivity)')\n",
    "plt.legend()\n",
    "plt.grid(True)"
   ]
  },
  {
   "cell_type": "markdown",
   "id": "ad771048",
   "metadata": {},
   "source": [
    "### Run Time"
   ]
  },
  {
   "cell_type": "code",
   "execution_count": 14,
   "id": "21338da3",
   "metadata": {},
   "outputs": [
    {
     "name": "stdout",
     "output_type": "stream",
     "text": [
      "Execution time: 8.47064757347107 s\n",
      "Wall time: 8.47 s\n"
     ]
    }
   ],
   "source": [
    "%%time\n",
    "start_time = time.time()\n",
    "model_time = LogisticRegression(**result.best_params_, max_iter=25000)\n",
    "model_time.fit(X_train, y_train)\n",
    "test_pred1 = model_time.predict(X_test)\n",
    "print(\"Execution time: \" + str((time.time() - start_time)) + ' s')"
   ]
  },
  {
   "cell_type": "markdown",
   "id": "c0613ac9",
   "metadata": {},
   "source": [
    "### Feature Importance"
   ]
  },
  {
   "cell_type": "code",
   "execution_count": 15,
   "id": "cc0b8f86",
   "metadata": {},
   "outputs": [
    {
     "name": "stdout",
     "output_type": "stream",
     "text": [
      "Index(['success_rate', 'rewards_1', 'rewards_0', 'rewards_5', 'reward_tiers',\n",
      "       'rewards_35', 'funding_duration_in_days', 'rewards_34', 'rewards_9',\n",
      "       'rewards_2', 'x0_journalism', 'rewards_60', 'rewards_61', 'rewards_15',\n",
      "       'x0_art', 'x0_film & video', 'rewards_62', 'rewards_36',\n",
      "       'description_story_26', 'x0_crafts'],\n",
      "      dtype='object')\n"
     ]
    }
   ],
   "source": [
    "imps = permutation_importance(model_time, X_test, y_test)\n",
    "imps_sorted = imps.importances_mean.argsort()[::-1]\n",
    "\n",
    "print(np.take(X_train.columns, imps_sorted[: 20]))"
   ]
  },
  {
   "cell_type": "code",
   "execution_count": null,
   "id": "0af779c7",
   "metadata": {},
   "outputs": [],
   "source": []
  }
 ],
 "metadata": {
  "kernelspec": {
   "display_name": "Python 3 (ipykernel)",
   "language": "python",
   "name": "python3"
  },
  "language_info": {
   "codemirror_mode": {
    "name": "ipython",
    "version": 3
   },
   "file_extension": ".py",
   "mimetype": "text/x-python",
   "name": "python",
   "nbconvert_exporter": "python",
   "pygments_lexer": "ipython3",
   "version": "3.9.13"
  },
  "toc": {
   "base_numbering": 1,
   "nav_menu": {},
   "number_sections": false,
   "sideBar": true,
   "skip_h1_title": false,
   "title_cell": "Table of Contents",
   "title_sidebar": "Contents",
   "toc_cell": false,
   "toc_position": {},
   "toc_section_display": true,
   "toc_window_display": false
  }
 },
 "nbformat": 4,
 "nbformat_minor": 5
}
