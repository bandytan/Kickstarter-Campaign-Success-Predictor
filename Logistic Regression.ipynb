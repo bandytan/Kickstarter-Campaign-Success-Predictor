{
 "cells": [
  {
   "cell_type": "code",
   "execution_count": 1,
   "id": "a3eb4a31",
   "metadata": {},
   "outputs": [],
   "source": [
    "import pandas as pd \n",
    "import numpy as np\n",
    "import seaborn as sns\n",
    "import matplotlib.pyplot as plt\n",
    "%matplotlib inline\n",
    "from sklearn.linear_model import LogisticRegression\n",
    "from sklearn.model_selection import RepeatedStratifiedKFold\n",
    "from sklearn.model_selection import GridSearchCV\n",
    "from sklearn import metrics\n",
    "from sklearn.metrics import classification_report, confusion_matrix, roc_auc_score\n",
    "import glob\n",
    "import os"
   ]
  },
  {
   "cell_type": "code",
   "execution_count": 2,
   "id": "11b817c2",
   "metadata": {},
   "outputs": [],
   "source": [
    "train_path = max(glob.glob('./data/train/*.csv'), key=os.path.getctime) \n",
    "df = pd.read_csv(train_path)\n",
    "test_path = max(glob.glob('./data/test/*.csv'), key=os.path.getctime) \n",
    "test = pd.read_csv(test_path)\n"
   ]
  },
  {
   "cell_type": "markdown",
   "id": "c8cbc4cb",
   "metadata": {},
   "source": [
    "<h1>Get to the correct data format</h1>"
   ]
  },
  {
   "cell_type": "code",
   "execution_count": 3,
   "id": "9523bd27",
   "metadata": {},
   "outputs": [],
   "source": [
    "X_train, y_train = df.drop('state', axis=1), df['state']\n",
    "X_test, y_test = test.drop('state', axis=1), test['state']"
   ]
  },
  {
   "cell_type": "code",
   "execution_count": 4,
   "id": "b8940329",
   "metadata": {},
   "outputs": [
    {
     "data": {
      "text/plain": [
       "(       reward_tiers  min_reward  max_reward      goal  staff_pick  has_video  \\\n",
       " 0          0.041667    0.000167    0.004995  0.000090           1          1   \n",
       " 1          0.058333    0.000067    0.004495  0.000050           1          1   \n",
       " 2          0.058333    0.000033    0.000525  0.000006           0          1   \n",
       " 3          0.041667    0.000133    0.010990  0.000340           0          1   \n",
       " 4          0.066667    0.000007    0.004995  0.000200           1          1   \n",
       " ...             ...         ...         ...       ...         ...        ...   \n",
       " 24751      0.233333    0.000007    0.002495  0.000015           0          0   \n",
       " 24752      0.100000    0.000033    0.004995  0.000022           0          1   \n",
       " 24753      0.083333    0.000133    0.000345  0.000005           0          0   \n",
       " 24754      0.075000    0.000067    0.024995  0.000150           1          1   \n",
       " 24755      0.000000    0.000667    0.000495  0.000035           0          1   \n",
       " \n",
       "        rewards_0  rewards_1  rewards_2  rewards_3  ...  x0_UY  x0_VE  x0_VN  \\\n",
       " 0       0.000000   0.000000   0.000000   0.000000  ...    0.0    0.0    0.0   \n",
       " 1       0.069896   0.069940   0.101049   0.000000  ...    0.0    0.0    0.0   \n",
       " 2       0.077258   0.077307   0.000000   0.106794  ...    0.0    0.0    0.0   \n",
       " 3       0.014734   0.014744   0.021302   0.000000  ...    0.0    0.0    0.0   \n",
       " 4       0.000000   0.000000   0.000000   0.000000  ...    0.0    0.0    0.0   \n",
       " ...          ...        ...        ...        ...  ...    ...    ...    ...   \n",
       " 24751   0.101029   0.094775   0.118673   0.017457  ...    0.0    0.0    0.0   \n",
       " 24752   0.034785   0.034807   0.000000   0.036063  ...    0.0    0.0    0.0   \n",
       " 24753   0.026888   0.026905   0.019436   0.018584  ...    0.0    0.0    0.0   \n",
       " 24754   0.034953   0.034975   0.016844   0.032210  ...    0.0    0.0    0.0   \n",
       " 24755   0.173124   0.173234   0.000000   0.000000  ...    0.0    0.0    0.0   \n",
       " \n",
       "        x0_VU  x0_WS  x0_XK  x0_YE  x0_ZA  x0_ZW  x0_nan  \n",
       " 0        0.0    0.0    0.0    0.0    0.0    0.0     0.0  \n",
       " 1        0.0    0.0    0.0    0.0    0.0    0.0     0.0  \n",
       " 2        0.0    0.0    0.0    0.0    0.0    0.0     0.0  \n",
       " 3        0.0    0.0    0.0    0.0    0.0    0.0     0.0  \n",
       " 4        0.0    0.0    0.0    0.0    0.0    0.0     0.0  \n",
       " ...      ...    ...    ...    ...    ...    ...     ...  \n",
       " 24751    0.0    0.0    0.0    0.0    0.0    0.0     0.0  \n",
       " 24752    0.0    0.0    0.0    0.0    0.0    0.0     0.0  \n",
       " 24753    0.0    0.0    0.0    0.0    0.0    0.0     0.0  \n",
       " 24754    0.0    0.0    0.0    0.0    0.0    0.0     0.0  \n",
       " 24755    0.0    0.0    0.0    0.0    0.0    0.0     0.0  \n",
       " \n",
       " [24756 rows x 575 columns],\n",
       " 0        1\n",
       " 1        1\n",
       " 2        1\n",
       " 3        1\n",
       " 4        1\n",
       "         ..\n",
       " 24751    1\n",
       " 24752    1\n",
       " 24753    1\n",
       " 24754    1\n",
       " 24755    0\n",
       " Name: state, Length: 24756, dtype: int64)"
      ]
     },
     "execution_count": 4,
     "metadata": {},
     "output_type": "execute_result"
    }
   ],
   "source": [
    "X_train, y_train"
   ]
  },
  {
   "cell_type": "code",
   "execution_count": 5,
   "id": "88a71261",
   "metadata": {},
   "outputs": [
    {
     "data": {
      "text/plain": [
       "array([dtype('float64'), dtype('int64')], dtype=object)"
      ]
     },
     "execution_count": 5,
     "metadata": {},
     "output_type": "execute_result"
    }
   ],
   "source": [
    "X_train.dtypes.unique()"
   ]
  },
  {
   "cell_type": "markdown",
   "id": "dd774074",
   "metadata": {},
   "source": [
    "<h3>Training using Logisitic Regression Model</h3>"
   ]
  },
  {
   "cell_type": "code",
   "execution_count": 6,
   "id": "fc003dc1",
   "metadata": {},
   "outputs": [
    {
     "name": "stdout",
     "output_type": "stream",
     "text": [
      "(24756, 575)\n",
      "(24756,)\n",
      "(4369, 575)\n",
      "(4369,)\n"
     ]
    }
   ],
   "source": [
    "print(X_train.shape)\n",
    "print(y_train.shape)\n",
    "print(X_test.shape)\n",
    "print(y_test.shape)\n"
   ]
  },
  {
   "cell_type": "code",
   "execution_count": null,
   "id": "2aa693ac",
   "metadata": {},
   "outputs": [],
   "source": [
    "LRModel = LogisticRegression(max_iter = 200000)\n",
    "LRModel.fit(X_train, y_train)\n",
    "# Train set\n",
    "LRModel_train_score = LRModel.score(X_train, y_train)\n",
    "print('Train Set Accuracy Score: ', LRModel_train_score)\n",
    "pred = LRModel.predict(X_train)\n",
    "print(\"Train Set Confusion Matrix \\n\", confusion_matrix(y_train, pred))\n",
    "print(\"Train Set\",classification_report(y_train, pred))\n",
    "\n",
    "area_under_curve_train = metrics.roc_auc_score(y_train, pred)\n",
    "print(\"Area Under Curve:\", area_under_curve_train)\n",
    "\n",
    "#Test Set\n",
    "LRModel_test_score = LRModel.score(X_test, y_test)\n",
    "print('Test Set Accuracy Score: ', LRModel_test_score)\n",
    "test_pred = LRModel.predict(X_test)\n",
    "print(\"Test Set Confusion Matrix \\n\", confusion_matrix(y_test, test_pred))\n",
    "print(\"Test Set\",classification_report(y_test, test_pred))\n",
    "\n",
    "area_under_curve_test = metrics.roc_auc_score(y_test, test_pred)\n",
    "print(\"Area Under Curve:\", area_under_curve_test)"
   ]
  },
  {
   "cell_type": "markdown",
   "id": "b7c01257",
   "metadata": {},
   "source": [
    "## Hyper parameter tuning"
   ]
  },
  {
   "cell_type": "code",
   "execution_count": null,
   "id": "a6616966",
   "metadata": {},
   "outputs": [],
   "source": [
    "#define models and parameters for Logistic Regression\n",
    "model = LogisticRegression(max_iter=200000)\n",
    "solvers = ['newton-cg', 'lbfgs', 'liblinear', 'saga']\n",
    "penalty = ['l1','l2', 'none']\n",
    "c_values = 10. ** np.arange(-3,8)\n",
    "\n",
    "#define grid seach\n",
    "grid = dict(solver=solvers,penalty=penalty,C=c_values)\n",
    "cv = RepeatedStratifiedKFold(n_splits=10, n_repeats=3, random_state=1)\n",
    "grid_search = GridSearchCV(estimator=model, param_grid=grid, n_jobs=-1, cv=cv, scoring='accuracy',error_score=0)\n",
    "grid_result = grid_search.fit(X_train, y_train)\n",
    "\n",
    "#results \n",
    "print(\"Best: %f using %s\" % (grid_result.best_score_, grid_result.best_params_))\n",
    "means = grid_result.cv_results_['mean_test_score']\n",
    "stds = grid_result.cv_results_['std_test_score']\n",
    "params = grid_result.cv_results_['params']\n",
    "for mean, stdev, param in zip(means, stds, params):\n",
    "    print(\"%f (%f) with: %r\" % (mean, stdev, param))"
   ]
  },
  {
   "cell_type": "markdown",
   "id": "bc7b392a",
   "metadata": {},
   "source": [
    "<h3> Testing with training model output </h3>"
   ]
  }
 ],
 "metadata": {
  "kernelspec": {
   "display_name": "Python 3 (ipykernel)",
   "language": "python",
   "name": "python3"
  },
  "language_info": {
   "codemirror_mode": {
    "name": "ipython",
    "version": 3
   },
   "file_extension": ".py",
   "mimetype": "text/x-python",
   "name": "python",
   "nbconvert_exporter": "python",
   "pygments_lexer": "ipython3",
   "version": "3.9.7"
  }
 },
 "nbformat": 4,
 "nbformat_minor": 5
}
