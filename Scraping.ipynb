{
 "cells": [
  {
   "cell_type": "code",
   "execution_count": 303,
   "id": "c85cc2b2",
   "metadata": {},
   "outputs": [],
   "source": [
    "import requests\n",
    "from bs4 import BeautifulSoup\n",
    "import re\n",
    "import pandas as pd\n",
    "import os \n",
    "import ast\n",
    "import json\n",
    "import time\n",
    "from requests.exceptions import ConnectionError"
   ]
  },
  {
   "cell_type": "markdown",
   "id": "6804745e",
   "metadata": {},
   "source": [
    "https://stackoverflow.com/questions/62335537/scraping-text-from-kickstarter-projects-return-nothing"
   ]
  },
  {
   "cell_type": "code",
   "execution_count": 173,
   "id": "46c7a574",
   "metadata": {},
   "outputs": [
    {
     "name": "stdout",
     "output_type": "stream",
     "text": [
      "392244\n",
      "203510\n"
     ]
    },
    {
     "name": "stderr",
     "output_type": "stream",
     "text": [
      "/var/folders/dq/33rpc0cx4f54t0vx2cdcgczr0000gn/T/ipykernel_74056/4110031066.py:5: SettingWithCopyWarning: \n",
      "A value is trying to be set on a copy of a slice from a DataFrame.\n",
      "Try using .loc[row_indexer,col_indexer] = value instead\n",
      "\n",
      "See the caveats in the documentation: https://pandas.pydata.org/pandas-docs/stable/user_guide/indexing.html#returning-a-view-versus-a-copy\n",
      "  df_1['main_url'] = df_1['urls'].apply(lambda x: eval(x)['web']['project'])\n"
     ]
    }
   ],
   "source": [
    "base = \"/Users/ivankoh/Downloads/kickstarter data/\"\n",
    "filepaths = [base + f for f in os.listdir(base) if f.endswith('.csv')]\n",
    "df = pd.concat(map(pd.read_csv, filepaths))\n",
    "df_1 = df.drop_duplicates(subset=['id'])\n",
    "df_1['main_url'] = df_1['urls'].apply(lambda x: eval(x)['web']['project'])\n",
    "print(len(df))\n",
    "print(len(df_1))"
   ]
  },
  {
   "cell_type": "code",
   "execution_count": null,
   "id": "a614964c",
   "metadata": {},
   "outputs": [],
   "source": [
    "def get_slug(url):\n",
    "    return re.search('/projects/(.*)\\?', url).group(1)\n",
    "\n",
    "# get the slug from the urls. the slug is the input to the GraphQL API call \n",
    "slugs = list(map(get_slug, df_1['main_url'].tolist()))\n",
    "# while iterating through all projects, add the story and risk to these lists. At the end len of both list \n",
    "# should be the same as the len of the dataframe. if all good then add as columns to the dataframe df. \n",
    "story_list = []\n",
    "risk_list = []"
   ]
  },
  {
   "cell_type": "code",
   "execution_count": 299,
   "id": "ffee09f6",
   "metadata": {
    "scrolled": true
   },
   "outputs": [
    {
     "name": "stdout",
     "output_type": "stream",
     "text": [
      "0 2035\n",
      "203510\n"
     ]
    }
   ],
   "source": [
    "block_size = len(df_1) // 100\n",
    "num_blocks = len(df_1) // 2035\n",
    "num_blocks\n",
    "2 * block_size\n",
    "print(0 * block_size, 1 * block_size)\n",
    "print(len(slugs))"
   ]
  },
  {
   "cell_type": "code",
   "execution_count": null,
   "id": "79db610f",
   "metadata": {},
   "outputs": [
    {
     "name": "stdout",
     "output_type": "stream",
     "text": [
      "--------1582430034/project-sexed------\n",
      "-------STORY--------\n",
      "Most of the information that we receive from the mainstream media and pornography is very inaccurate and I would like US to give them an ALTERNATIVE to all of that other input that is out there. \n",
      "Since about one year back, I have been giving sexual education in schools and I´ve come to realize how little our youth know about sexuality and fertility! Such basic things as how our reproductive organs work and when/how we are fertile as well as how to relate to each other sexually should be taught in school. These kids are so intelligent, super curious and thrive from receiving this knowledge . Most kids today DON´T get this information and thats what WE ARE GONNA CHANGE!!!\n",
      "The sexual education I give contains everything from how our reproductive organs work, how big the clitoris ACTUALLY is to the complexity of the menstrual cycle.  But also how we can take equal responsibility regarding birth control and enhance our communication when it comes to sex. \n",
      "WHAT YOU DO!\n",
      "The money from this project will make it possible for me to create better material for teaching, buy anatomical models, a white board for drawing and a good power point program to work with. \n",
      "If yoy rather use SWISH than this page you can send it to my assistants number: 0703547856\n",
      "Some weeks ago I had the question: \"Can you get pregnant if you haven´t got your period yet\"? another one was: \"Do all sexually transmitting diseases infect the same way?\", \"How does the menstrual cup stay in the body?\" Great questions that need anwsers!\n",
      "WHAT WE CAN DO TOGETHER! \n",
      "Together with YOU a lot of young people will have the opportunity ta make better informed choices regarding their sexual and reproductive lives. As well as breaking a tabu that makes these questions heavy and hard to tackle. \n",
      "-------RISKS--------\n",
      "One great obstacle is the fear of these tabu questions. Another one is that the grown up world has this idea that the youth will get into having more sex if we speak about it which is NOT the case. According to several surveys, the youth take better care of themselves IF they get good sexual education.\n",
      "--------1286633095/soul-is-a-ham-hock-in-your-strange-fruit------\n",
      "-------STORY--------\n",
      "I'm raising money to display my art on a 6x12 billboard in Los Angeles. \n",
      "Art should be for everyone, but all too often only certain segments of the population have regular access to museums or art galleries. Street art, like the amazing work by Shepherd Fairey, Invader and Banksy, have upended the traditionally controlled filters that constitute what art is and who has access. In that tradition, my plan is to deploy my illustrations to billboards throughout the country, from inner cities to rural byways. \n",
      "My plan is to start modestly, with a 6x12 billboard in Los Angeles. If successful, we'll take the project to bigger billboards and to more cities. \n",
      "Rent for 2 months of the billboard is $1000.00\n",
      "Printing and installation is $125.00\n",
      "The remaining money covers the 8% of funds raised that will go back to Kickstarter.\n",
      "This is an opportunity to show my art without the gatekeeper of a gallery, but to also share the social commentary contained in the art. In the piece intended for this installation, George Clinton and Funkadelic battle the traditional, often homogenous, image of superheroes. The piece overall makes us question who are heroes are and should be -- from Marvin Gaye to the Black Panthers. \n",
      "All of my art is produced digitally in a vector-based format that allows it to be enlarged REALLY BIG without losing any detail or quality. Basically, this is going to look awesome.\n",
      "-------RISKS--------\n",
      "The only possible tangle would be if there are limitations on the imagery that can appear on billboards.\n",
      "--------1179584221/the-doodle-project------\n",
      "-------STORY--------\n",
      "The Doodle Project is over 350 pages large while only in its third year. By 500 pages, I will be ready to publish the first edition of The Doodle Project, but in order to get there, two things need to happen: I have to collect more pages, and I need the funds to self publish the first copies of the book. This Kickstarter seeks to  provide the infrastructure for the initial publishing and acquisition of important photo materials needed to collect more pages. Once I have enough film and notebooks, I'll hit the road to collect stories, photos and doodles.\n",
      "THE DOODLE TOUR: New Orleans -> Memphis -> St. Louis -> Chicago -> Detroit -> Toronto -> Montreal -> Burlington -> Hartford -> Baltimore -> Asheville -> Atlanta -> New Orleans\n",
      "It's an easy enough route; getting the doodles is the hard part. Polaroid film is expensive! Publishing a book isn't easy! I need your help to bring The Doodle Project into the world. \n",
      "Find more pages here!thedoodleproject.usFacebookInstagramCLARIFICATION: \n",
      "1/3 will go to BUYING FILM\n",
      "1/3 will go to PUBLISHING COSTS\n",
      "1/3 will go to THE ROAD TRIP\n",
      "This Kickstarter isn't just funding the road trip, as some people have asked. The Kickstarter is for the INITIAL INVESTMENT into the Project.\n",
      "-------RISKS--------\n",
      "Potential risks lie mostly in the unpredictable: emergencies while on the road and early attempts at publishing the book. The sum of the funds raised by this campaign will go half for publishing and half for the road trip. Any excess money raised or unused from the road trip will go towards publishing and film, and nothing else. All funds will be used only on The Doodle Project Enterprise. That being said, if there is an emergency while on the road, the funds will be used to sustain myself until I can get back home. Also, when trying to self publish, there can be mistakes during the drafting process. $1000 will provide the buffer needed to fully fund the trip, publishing and any incidentals. None of the funds will go to lodging, I will be using Couchsurfing in order to find accommodations. Any excess funds or funds not used during the tour or publishing will go only towards Doodle Project supplies like film, camera repairs or doodle supplies.\n",
      "--------innovatenursehub/ghiex-digital-health-innovation-in-the-palm-of-your-hand------\n",
      "-------STORY--------\n",
      "Hello Word! \n",
      "My name is Aliya Aaron, a registered nurse turned entrepreneur with over 20 years of experience in healthcare, research, business and technology. As the founder of Nursing Innovation Hub (NIHUB), a healthcare technology innovation company that supports startups building new technologies to transform healthcare, I'm here to ask for your support. We are raising funds to complete the development of our Global Health Innovation Exchange (GHIEx) platform and need your help!\n",
      "Current Problems we are solving: \n",
      " (1) startup founders are spending countless hours searching for professional services and  investors that can serve as a crucial resource and partners for their healthcare startups\n",
      "(2) hospitals with long standing problems are spending a countless amount of time searching for startups that can present potential solutions to transform their organizations\n",
      "Our Solution: Global Healthcare Innovation Exchange (GHIEx). A matchmaking platform that allows users to create a profile, identify needs, get matched with resources, schedule meetings, follow up communication, track progress via a dashboard all in one place, cutting down the time it takes to find resources and partners.  \n",
      "How it works\n",
      "Our intelligent matching tool finds the best resources for you. Share some details and within minutes get matched, compare the best match with your needs\n",
      "(1) startup founders get matched with professional services and investors that can serve as a crucial resource and partner for your healthcare startup\n",
      "(2) hospitals and healthcare organizations with problems they would like solved with the help of technology, get matched with startups to present potential solutions\n",
      "(3) startup founders get suggested microlearning modules delivered to your inbox matched to your learning needs \n",
      "We're developing learning modules and have gathered an ecosystem of over 8,000 members, composed nurses, physicians, researchers, investors, healthcare organizations, hospitals, research and academic institutions, service providers, and industry experts\n",
      "CALL TO ACTION! We are raising funds to complete the development of GHIEx!\n",
      "                                                            Nurse-led innovation \n",
      "                           GHIEx provides useful tools in the palm of your hands.\n",
      "Introducing nurse-led innovation is crucial for transforming healthcare in this historic period of turbulence and change in healthcare.\n",
      "Thank you for stopping in to learn about Nursing Innovation Hub and GHIEx, and for helping to bring GHIEx to life!\n",
      "Stay connected with NIHUB: \n",
      "Email: info@innovatenursehub.com\n",
      "Web: www.innovatenursehub.com \n",
      "IG: @innovatenursehub\n",
      "Twitter: @NNihub\n",
      "Facebook: @innovatenursehub\n",
      "LinkedIn: nursinginnovationhub\n",
      "-------RISKS--------\n",
      "Common risk and challenges include remaining on time and budget to complete the app development. Our team will keep you updated as we journey through the process.\n",
      "--------873916287/ripple-an-interactive-kinetic-sculpture-by-kevin-t------\n"
     ]
    },
    {
     "name": "stdout",
     "output_type": "stream",
     "text": [
      "-------STORY--------\n",
      " Hi, I am Kevin Cook. I am a Baltimore Artist in the process of completing my final semester studying interdisciplinary sculpture at MICA (Maryland Institute College of Art). For my senior thesis project, I am constructing a large human driven, kinetic, public art installation called Ripple in Cohen Plaza in the heart of campus. The project features a modularly built cam shaft which creates ripples in the Cohen water fountain and projects light through the surface of the water onto the surrounding environment. The piece will be featured in the first weeks of May for Vigil, a 24 hour music performance as well as the 2016 MICA Commencement Show : ArtWalk.\n",
      "After a year of research, development, and experimentation, I have received permission to commence with the construction of Ripple. I have spent the past year learning and utilizing new processes and materials to better understand the movement and fabrication of kinetic devices. I believe this work will showcase my particular design style as well as the the processes and experimentation I have explored throughout my artistic career at MICA. The piece will be highly interactive and will transform its surroundings to create a beautiful, accessible, thought provoking, funky sweet experience for its users. \n",
      "Right now I have the materials to build one of the five modules necessary for the full construction. I am using this first module to troubleshoot the functionality of each individual component: bearings/rotation, fabrication, joinery, hinging, levers, and the projection of light through the fountain. I need your support in funding the construction of the 4 remaining modules. Each module costs approximately $1000 in materials for a total of $4000. The remaining $1000 in funding when we reach our goal will be used for installation costs, tooling, transportation, and the creation/delivery of the backer rewards. If I don’t reach this goal of $5000 I will need to make modifications to my design which will severely decrease the impact of the finished product.\n",
      " I want to do this one right. I will be busting my ass over the next couple of months to make this dream become a reality and I don’t want to settle for anything short of the monumental impact I believe this piece can achieve. If you are able to contribute, thank you. Regardless, I hope you will visit Ripple in May during Vigil, ArtWalk or Commencement to see it in action. Vigil takes place on 5/7/16, ArtWalk is on 5/12/16, and commencement is 5/16/16. Thank you for reading!\n",
      "-------RISKS--------\n",
      "The risks and challenges that I face include the alignment of the cam shaft and all associated flanges. The maquette that I have built is fully functional but at full scale in its home at Cohen Plaza, it will be a challenge to make sure that the cam shaft lines up exactly as needed to make all of the pieces move as I intend.\r\n",
      "\r\n",
      "The other major challenge that I face is time. I have already begun construction but this is a large piece and I will be working quickly to ensure it is installed in time for Vigil on 5/7.\n",
      "TAKING A NAP ZZZ...\n"
     ]
    }
   ],
   "source": [
    "# instantiate a new Session \n",
    "s = requests.Session()\n",
    "headers = {\n",
    "            'content-type': 'application/json',\n",
    "            'User-Agent': 'Mozilla/5.0 (Windows NT 6.1; WOW64; rv:50.0) Gecko/20100101 Firefox/50.0',\n",
    "           'cookie': '_ksr_session=fc2U7qXXaRN91foNiE53NyU3s181NZO0Ll57xPkYxZ5iyUNgus35a0HwsPBTfViBY%2ByAKbtpRirAVLxOGKzG%2BYMOmsLRBPujZep%2Fca%2B1%2FXzW3xX56VXkh5w6ItYhIctEFifQQhw3rTmvoljyHw%3D%3D--4pK6xBEgChjqgmte--LH4Q1qSnhU%2FYX9JgTzGuSQ%3D%3D;'\n",
    "          }\n",
    "# GET request to kickstarter to get some token needed for later \n",
    "# r = s.get(\"https://www.kickstarter.com\", headers=headers)\n",
    "# BeautifulSoup parses the html returned as a response from the GET request \n",
    "# soup = BeautifulSoup(r.text, 'html.parser')\n",
    "# xcsrf = soup.find(\"meta\", {\"name\": \"csrf-token\"})[\"content\"]\n",
    "\n",
    "query = \"\"\"\n",
    "query Campaign($slug: String!) {\n",
    "  project(slug: $slug) {\n",
    "    risks\n",
    "    story(assetWidth: 680)\n",
    "  }\n",
    "}\"\"\"\n",
    "\n",
    "# PARAMS\n",
    "counter = 0\n",
    "block_number = 0\n",
    "\n",
    "headers = {\n",
    "            'content-type': 'application/json',\n",
    "            'x-csrf-token': 'fvjxrhwSYir6BG4U761oTRMXCYu4Ql88J4gTJaaXswCLm-qP6vzjo_vw1FdTY3VNpWEmuQb1MZH_JkJ-GuTPew',\n",
    "            'user-agent': 'Mozilla/5.0 (Linux; U; Android 2.3.4; en-us; Kindle Fire Build/GINGERBREAD) AppleWebKit/533.1 (KHTML, like Gecko) Version/4.0 Mobile Safari/533.1',\n",
    "            'cookie': '_ksr_session=XeMoOdlfAuvBg3vZkCPtR2KPkjnWtoE%2FGrwY68dNgE13OYvjkIxO0Eiaf4Oay2xzILiIHuLsmpCAH%2B9aBGT01%2B7gNDH6exw0dtPhWF5xVSYtZnJawqJNc8IUuF52GC%2FS7QHp1woosgy6PABnOt0X0ITzAvUEg8wwMmv5e1IBYNCmj8ZiCiUwlU2'\n",
    "          }\n",
    "\n",
    "agents = [\n",
    "         \"Mozilla/5.0 (Symbian/3; Series60/5.2 NokiaN8-00/012.002; Profile/MIDP-2.1 Configuration/CLDC-1.1 ) AppleWebKit/533.4 (KHTML, like Gecko) NokiaBrowser/7.3.0 Mobile Safari/533.4 3gpp-gba\",\n",
    "         \"Mozilla/5.0 (Linux; Android 5.0; Lenovo S60-a Build/LRX21T) AppleWebKit/537.36 (KHTML, like Gecko) Chrome/56.0.2924.87 YaBrowser/17.3.1.383.00 Mobile Safari/E7FBAF\",\n",
    "         \"Mozilla/5.0 (iPhone; CPU iPhone OS 15_5 like Mac OS X) AppleWebKit/605.1.15 (KHTML, like Gecko) Mobile/15E148 Instagram 244.0.0.12.112 (iPhone12,1; iOS 15_5; en_US; en-US; scale=2.00; 828x1792; 383361019)\",\n",
    "         \"Mozilla/5.0 (Linux; U; Android 2.2.1; en-US; GT-S5830 Build/FROYO) AppleWebKit/534.31 (KHTML, like Gecko) UCBrowser/9.0.1.275 U3/0.8.0 Mobile Safari/534.31\",\n",
    "         \"Mozilla/5.0 (Linux; Android 11; Redmi Note 8 Pro) AppleWebKit/537.36 (KHTML, like Gecko) Chrome/104.0.0.0 Mobile Safari/537.36\"\n",
    "         ]\n",
    "\n",
    "# pause for 5 seconds every 5 iterations\n",
    "for i in range(11895, len(slugs)):\n",
    "    slug = slugs[i]\n",
    "    if counter == 5:\n",
    "        print(\"TAKING A NAP ZZZ...\")\n",
    "        time.sleep(30)\n",
    "        counter = 0\n",
    "    counter += 1\n",
    "    print(f\"--------{slug}------\")\n",
    "    # POST request to GraphQL API situated in kickstarter domain \n",
    "    # response from POST request should contain the story and risks\n",
    "    connect_try = 0\n",
    "    not_found = True\n",
    "    while connect_try < 30 and not_found:       \n",
    "        try:\n",
    "            r = s.post(\"https://www.kickstarter.com/graph\",\n",
    "                headers = {\n",
    "                  'content-type': 'application/json',\n",
    "                  'x-csrf-token': 'bL5nMRm5s147N8RxvNcth-E8NAOt3SprGYtvvKsVLnuZ3XwQ71cy1zrDfjIAGTCHV0obMRNqRMbBJT7nF2ZSAA',\n",
    "                  'User-Agent': 'Mozilla/5.0 (Windows NT 6.1; WOW64; rv:50.0) Gecko/20100101 Firefox/50.0',\n",
    "                  'cookie': '_ksr_session=eus10UNK7iB%2FwIMXafXg5yJdYvRD7rHlR%2Ba1KEbUnB5EKTgQxNKEIqrp%2BIyjRC%2FNXw76u4Eki4AsiBom5M1LKNJKWCD65CBzeegWrk2%2FRV9Sht6dlOKplCATNdrmEIIa0Bt%2FKKGnT2m9ID1nTCduj73%2BdeJK663MNcbYWXBHkFyZJgUKh4JcCx3hL0UF2quVeBvfV45M0CNrT1j4DchvTlFBn%2BpE37ZaGldNz7BF0RAcCjIZrt%2FzNkxugCaFfWEPjxh9amOCvytIcdjxOaE68AAmHuU%3D--RPNmoWC%2FGnWTmsfw--9466UG%2Bqs2V%2F8B8zFtXUig%3D%3D'\n",
    "                },\n",
    "                json = {\n",
    "                    \"operationName\":\"Campaign\",\n",
    "                    \"variables\":{\n",
    "                        \"slug\": slug\n",
    "                    },\n",
    "                    \"query\": query\n",
    "                })\n",
    "            not_found = False\n",
    "        except ConnectionError:\n",
    "            print(\"Connection Error\")\n",
    "            time.sleep(5)\n",
    "            connect_try += 1\n",
    "    try:\n",
    "        result = r.json()\n",
    "        print(\"-------STORY--------\")\n",
    "        story_html = result[\"data\"][\"project\"][\"story\"]\n",
    "        soup = BeautifulSoup(story_html, 'html.parser')\n",
    "        curr_story = []\n",
    "        for i in soup.find_all('p'):\n",
    "            print(i.get_text())\n",
    "            curr_story.append(i.get_text())\n",
    "        story_list2.append(\" \".join(curr_story) if curr_story else \"\")\n",
    "\n",
    "        print(\"-------RISKS--------\")\n",
    "        print(result[\"data\"][\"project\"][\"risks\"])\n",
    "        risk_list2.append(result[\"data\"][\"project\"][\"risks\"] if result[\"data\"][\"project\"][\"risks\"] else \"\")\n",
    "    except:\n",
    "        print(r)\n",
    "        story_list2.append(\"\")\n",
    "        risk_list2.append(\"\")\n",
    "        continue"
   ]
  },
  {
   "cell_type": "markdown",
   "id": "152b1f20",
   "metadata": {},
   "source": [
    "## Latest Iteration Ran Till: 11894, Local copy latest: 0_11894"
   ]
  },
  {
   "cell_type": "code",
   "execution_count": 425,
   "id": "0c4337a3",
   "metadata": {},
   "outputs": [],
   "source": [
    "#SAVE LIST IN LOCAL FOR USE LATER. NAME FILE AS {from}_{to]_{story/risk}.json\n",
    "story_file_name = \"0_11894_story\" #CHANGE THIS\n",
    "risk_file_name = \"0_11894_risk\" #CHANGE THIS \n",
    "\n",
    "story_file_name += \".json\"\n",
    "risk_file_name += \".json\"\n",
    "\n",
    "with open(story_file_name, 'w') as f:\n",
    "    # indent=2 is not needed but makes the file human-readable \n",
    "    # if the data is nested\n",
    "    json.dump(story_list2, f, indent=2) \n",
    "\n",
    "with open(risk_file_name, 'w') as f:\n",
    "    # indent=2 is not needed but makes the file human-readable \n",
    "    # if the data is nested\n",
    "    json.dump(risk_list2, f, indent=2) \n",
    "    \n",
    "# with open(story_file_name, 'r') as f:\n",
    "#     story_subset = json.load(f)"
   ]
  },
  {
   "cell_type": "code",
   "execution_count": 423,
   "id": "10fa8d6b",
   "metadata": {},
   "outputs": [
    {
     "name": "stdout",
     "output_type": "stream",
     "text": [
      "risk: 11895 \n",
      " story: 11895\n"
     ]
    }
   ],
   "source": [
    "print(\"risk:\", len(risk_list2),\"\\n\", \"story:\", len(story_list2))"
   ]
  },
  {
   "cell_type": "code",
   "execution_count": 424,
   "id": "dcd3dcbd",
   "metadata": {},
   "outputs": [
    {
     "name": "stdout",
     "output_type": "stream",
     "text": [
      "LATEST CALL DF ROW \n",
      "\n",
      "We are raising $15K to provide ongoing support for LGBTQ and other youth to tell their story in an authentic way through short films.\n",
      "LATEST STORY IN LIST \n",
      "\n",
      "CHANGE THE SCRIPT: MAN-TO-MAN A student produced short film created during the Mythic Bridge LGBTQ Youth filmmaking workshop July 2016, \"Man-to-Man\" tells the story of a young man as he struggles to come out to his brother during a game of 1-on-1 basketball. Through LGBT filmmaking workshops, we can help give these youth a voice in a safe, inclusive environment. ------------------------------------------------------------------------------------- Mythic Bridge is raising $15,000 to provide continued support for LGBT and other youth by producing a series of short films that tell the LGBT youth experience in an authentic and positive way.  These films will showcase how people deal with the issues of being young, while also being LGBT and finding a balance and normalcy in the face of current societal, social, and political challenges.  LGBT youth, like all kids, need positive examples to emulate and Mythic Bridge aims to provide these examples as well as take part in the current national debate in LGBT equality. Our Change The Script filmmaking workshops create a supportive, fun, judgement-free community for at-risk youth to safely express themselves creatively. Filmmaking is a collaborative art form that requires strong, unbiased listening, teamwork and bold expression. With your support, we will help at-risk teens step out of the shadows, stop being marginalized, and feel safe to be themselves.  Mythic Bridge wants to raise $15,000 to Change The Script on: Suicide, Bullying & Love. Please DONATE to Mythic Bridge's filmmaking workshops to help transform the lives of at-risk youth. We work with, are advised by, and are supported with media partners like The Huffington Post. Our advisory board is led by actress, mother, and activist Susan Sarandon.   \"Mythic Bridge helps at-risk youth build confidence, resiliency & practical job skills through offering hands-on weekend workshops to participate in the art of filmmaking. I encourage my fellow film enthusiasts and those who want to give at-risk youth a chance, to support Mythic Bridge.\" - Susan Sarandon  REWARDS - Anderson Cooper (CNN) Experience Sit in control room during taping of Anderson Cooper & meet Anderson Cooper. * subject to shooting schedule and capacity of control room for day redeemed - Private tour of the MET (NYC) You and up to five guests (6 people) will get an exclusive private tour of one of the best museums in the world, revealing a perspective of the museum not usually afforded to the public. Susan Sarandon - Signed Script \"The Meddler\" Script from The Meddler, a DVD and a signed headshot from Susan Sarandon. - Award Winning \"DREAM\" Prints  \n",
      "Artist Statement: I chose to donate the Dream print to this campaign because the power behind this singular word is so meaningful to the LGBT community and the struggle to 'Change the Script' Everything starts with the Dream of what we hope to be. Peter Ruprecht is an award-winning photographer and creative director who has photographed for publications such as InStyle and brands like Timex and L'Oreal.  - Signed Copy of \"Man Robs Bank with Chin\" Author, comedy writer, comedian, radio and TV personality Jeffrey Gurian has generously supported our campaign by offering a signed copy of \"Man Robs Bank With His Chin - And Other Unusual Stories Missed By Mainstream Media\" , featuring an intro by Scott Dikkers (creator of satire website \"The Onion\"). The Book also includes fun blurbs from Richard Lewis (“Curb your Enthusiasm”) , Nick Kroll (“Kroll Show”) & Colin Jost (“Saturday Night Live”). There is also \"Laughing Legends\" written by Jeffrey Gurian, with an intro by the infamously hilarious Chris Rock.  THE IMPACT OF OUR PROGRAMMING The Weekend Workshops are the foundation and most important part of the Mythic Bridge programming cycles: After running workshops with 120 at-risk youth, we’ve learned that most youth that we work with: Youth that complete our program: Mythic Bridge uses the workshops to teach technical film skills, build relationships and further develop life skills. SCREENING EVENTS We take great care to design these events to feel as grand as possible. We have a step & repeat, a green carpet to walk and photographers. We also present each participant with an award to celebrate their collaboration after the premier of their films. Our goal is to make these LGBT youth feel special. Your support makes these screening events possible. You will beam with PRIDE as you meet the inspired LGBT youth you supported at the MB screening. LONG TERM GROWTH-PATH CONNECTIVITY Mythic Bridge works with participants on an annual basis, cycling youth through our programming on their growth-path towards continued education and employment. We utilize a third-party firm for data and analytics to ensure proper measurement of success and personal growth. TO LEARN MORE Visit: www.MythicBridge.org OTHER WAYS YOU CAN HELP\n",
      "LATEST RISK IN LIST \n",
      "\n",
      "Mythic Bridge has produced over 50 films and has a proven formula for success. When we meet our goal, we WILL make socially impactful films that are delivered on time.\r\n",
      "\r\n",
      "Without these workshops, at-risk LGBT youth may not have any productive filmmaking outlet to help them achieve success as they express themselves\n"
     ]
    }
   ],
   "source": [
    "print(\"LATEST CALL DF ROW\", \"\\n\")\n",
    "print(df_1.iloc[len(story_list2)-1]['blurb'])\n",
    "\n",
    "print(\"LATEST STORY IN LIST\", \"\\n\")\n",
    "print(story_list2[-1])\n",
    "\n",
    "print(\"LATEST RISK IN LIST\", \"\\n\")\n",
    "print(risk_list2[-1])"
   ]
  },
  {
   "cell_type": "code",
   "execution_count": 416,
   "id": "4e02de9a",
   "metadata": {},
   "outputs": [],
   "source": [
    "# story_list2 = story_list2[:-130]\n",
    "# risk_list2 = risk_list2[:-130]\n",
    "# story_list2 = story_list2[:-5]\n",
    "# risk_list2 = risk_list2[:-5]\n",
    "# headers = {\n",
    "#             'content-type': 'application/json',\n",
    "#             'x-csrf-token': 'fvjxrhwSYir6BG4U761oTRMXCYu4Ql88J4gTJaaXswCLm-qP6vzjo_vw1FdTY3VNpWEmuQb1MZH_JkJ-GuTPew',\n",
    "#             'user-agent': 'Mozilla/5.0 (Linux; U; Android 2.3.4; en-us; Kindle Fire Build/GINGERBREAD) AppleWebKit/533.1 (KHTML, like Gecko) Version/4.0 Mobile Safari/533.1',\n",
    "#             'cookie': '_ksr_session=XeMoOdlfAuvBg3vZkCPtR2KPkjnWtoE%2FGrwY68dNgE13OYvjkIxO0Eiaf4Oay2xzILiIHuLsmpCAH%2B9aBGT01%2B7gNDH6exw0dtPhWF5xVSYtZnJawqJNc8IUuF52GC%2FS7QHp1woosgy6PABnOt0X0ITzAvUEg8wwMmv5e1IBYNCmj8ZiCiUwlU2'\n",
    "#           }\n",
    "# agents = [\n",
    "#          \"Mozilla/5.0 (Symbian/3; Series60/5.2 NokiaN8-00/012.002; Profile/MIDP-2.1 Configuration/CLDC-1.1 ) AppleWebKit/533.4 (KHTML, like Gecko) NokiaBrowser/7.3.0 Mobile Safari/533.4 3gpp-gba\",\n",
    "#          \"Mozilla/5.0 (Linux; Android 5.0; Lenovo S60-a Build/LRX21T) AppleWebKit/537.36 (KHTML, like Gecko) Chrome/56.0.2924.87 YaBrowser/17.3.1.383.00 Mobile Safari/E7FBAF\",\n",
    "#          \"Mozilla/5.0 (iPhone; CPU iPhone OS 15_5 like Mac OS X) AppleWebKit/605.1.15 (KHTML, like Gecko) Mobile/15E148 Instagram 244.0.0.12.112 (iPhone12,1; iOS 15_5; en_US; en-US; scale=2.00; 828x1792; 383361019)\",\n",
    "#          \"Mozilla/5.0 (Linux; U; Android 2.2.1; en-US; GT-S5830 Build/FROYO) AppleWebKit/534.31 (KHTML, like Gecko) UCBrowser/9.0.1.275 U3/0.8.0 Mobile Safari/534.31\",\n",
    "#          \"Mozilla/5.0 (Linux; Android 11; Redmi Note 8 Pro) AppleWebKit/537.36 (KHTML, like Gecko) Chrome/104.0.0.0 Mobile Safari/537.36\"\n",
    "#          ]\n",
    "# headers['user-agent'] = agents[0]\n",
    "\n",
    "# headers\n",
    "# story_list[-130]\n",
    "#story_list[:-130][-1]\n",
    "\n",
    "# with open(\"./data/0_4289_story.json\", 'r') as f:\n",
    "#     story_list2 = json.load(f)\n",
    "# with open(\"./data/0_4289_risk.json\", 'r') as f1:\n",
    "#     risk_list2 = json.load(f1)"
   ]
  },
  {
   "cell_type": "code",
   "execution_count": 165,
   "id": "b955b06f",
   "metadata": {},
   "outputs": [],
   "source": [
    "s = requests.Session()"
   ]
  },
  {
   "cell_type": "code",
   "execution_count": 421,
   "id": "135b3a2a",
   "metadata": {},
   "outputs": [
    {
     "name": "stdout",
     "output_type": "stream",
     "text": [
      "200\n",
      "This is my fourth solo Kickstarter campaign, and I delivered all three of my previous games in a timely manner. \n",
      "\n",
      "I have a complete draft of the text, with the exception of Appendix 1. I have a team of editors lined up who will give me feedback so that I can revise, expand, and polish it as needed. The most time-consuming tasks will be completing the artwork and the layout. I've done this before, with the previous Akashic Titan zine and with my game Project 8Ball. Depending on the stretch goals I will be depending on someone else for illustrations and additional text, but I have worked with Josh before and I am confident he will hit his deadlines. \n",
      "\n",
      "I believe I will be able to finish the book by June, but just to be cautious I have set the estimated delivery month as July. \n",
      "\n",
      "Barring any unforeseen catastrophes, I should have no problem printing and shipping the zine by July.\n"
     ]
    }
   ],
   "source": [
    "import requests\n",
    "import json\n",
    "\n",
    "url = \"https://www.kickstarter.com/graph\"\n",
    "\n",
    "payload = json.dumps([\n",
    "  {\n",
    "    \"operationName\": \"Campaign\",\n",
    "    \"variables\": {\n",
    "      \"slug\": \"leightonconnor/akashic-titan-blue-bolt\"\n",
    "    },\n",
    "    \"query\": \"query Campaign($slug: String!) {\\n  project(slug: $slug) {\\n    id\\n    isSharingProjectBudget\\n    risks\\n    story(assetWidth: 680)\\n    currency\\n    spreadsheet {\\n      displayMode\\n      public\\n      url\\n      data {\\n        name\\n        value\\n        phase\\n        rowNum\\n        __typename\\n      }\\n      dataLastUpdatedAt\\n      __typename\\n    }\\n    environmentalCommitments {\\n      id\\n      commitmentCategory\\n      description\\n      __typename\\n    }\\n    __typename\\n  }\\n}\\n\"\n",
    "  }\n",
    "])\n",
    "headers = {\n",
    "  'content-type': 'application/json',\n",
    "  'x-csrf-token': 'bL5nMRm5s147N8RxvNcth-E8NAOt3SprGYtvvKsVLnuZ3XwQ71cy1zrDfjIAGTCHV0obMRNqRMbBJT7nF2ZSAA',\n",
    "  'User-Agent': 'Mozilla/5.0 (Windows NT 6.1; WOW64; rv:50.0) Gecko/20100101 Firefox/50.0',\n",
    "  'cookie': '_ksr_session=eus10UNK7iB%2FwIMXafXg5yJdYvRD7rHlR%2Ba1KEbUnB5EKTgQxNKEIqrp%2BIyjRC%2FNXw76u4Eki4AsiBom5M1LKNJKWCD65CBzeegWrk2%2FRV9Sht6dlOKplCATNdrmEIIa0Bt%2FKKGnT2m9ID1nTCduj73%2BdeJK663MNcbYWXBHkFyZJgUKh4JcCx3hL0UF2quVeBvfV45M0CNrT1j4DchvTlFBn%2BpE37ZaGldNz7BF0RAcCjIZrt%2FzNkxugCaFfWEPjxh9amOCvytIcdjxOaE68AAmHuU%3D--RPNmoWC%2FGnWTmsfw--9466UG%2Bqs2V%2F8B8zFtXUig%3D%3D'\n",
    "}\n",
    "\n",
    "response = requests.request(\"POST\", url, headers=headers, data=payload)\n",
    "print(response.status_code)\n",
    "print(response.json()[0]['data']['project']['risks'])"
   ]
  },
  {
   "cell_type": "code",
   "execution_count": 420,
   "id": "8879d01f",
   "metadata": {},
   "outputs": [
    {
     "name": "stdout",
     "output_type": "stream",
     "text": [
      "403\n"
     ]
    },
    {
     "ename": "JSONDecodeError",
     "evalue": "Expecting value: line 1 column 1 (char 0)",
     "output_type": "error",
     "traceback": [
      "\u001b[0;31m---------------------------------------------------------------------------\u001b[0m",
      "\u001b[0;31mJSONDecodeError\u001b[0m                           Traceback (most recent call last)",
      "File \u001b[0;32m~/opt/miniconda3/envs/bt4222/lib/python3.9/site-packages/requests/models.py:971\u001b[0m, in \u001b[0;36mResponse.json\u001b[0;34m(self, **kwargs)\u001b[0m\n\u001b[1;32m    970\u001b[0m \u001b[38;5;28;01mtry\u001b[39;00m:\n\u001b[0;32m--> 971\u001b[0m     \u001b[38;5;28;01mreturn\u001b[39;00m \u001b[43mcomplexjson\u001b[49m\u001b[38;5;241;43m.\u001b[39;49m\u001b[43mloads\u001b[49m\u001b[43m(\u001b[49m\u001b[38;5;28;43mself\u001b[39;49m\u001b[38;5;241;43m.\u001b[39;49m\u001b[43mtext\u001b[49m\u001b[43m,\u001b[49m\u001b[43m \u001b[49m\u001b[38;5;241;43m*\u001b[39;49m\u001b[38;5;241;43m*\u001b[39;49m\u001b[43mkwargs\u001b[49m\u001b[43m)\u001b[49m\n\u001b[1;32m    972\u001b[0m \u001b[38;5;28;01mexcept\u001b[39;00m JSONDecodeError \u001b[38;5;28;01mas\u001b[39;00m e:\n\u001b[1;32m    973\u001b[0m     \u001b[38;5;66;03m# Catch JSON-related errors and raise as requests.JSONDecodeError\u001b[39;00m\n\u001b[1;32m    974\u001b[0m     \u001b[38;5;66;03m# This aliases json.JSONDecodeError and simplejson.JSONDecodeError\u001b[39;00m\n",
      "File \u001b[0;32m~/opt/miniconda3/envs/bt4222/lib/python3.9/json/__init__.py:346\u001b[0m, in \u001b[0;36mloads\u001b[0;34m(s, cls, object_hook, parse_float, parse_int, parse_constant, object_pairs_hook, **kw)\u001b[0m\n\u001b[1;32m    343\u001b[0m \u001b[38;5;28;01mif\u001b[39;00m (\u001b[38;5;28mcls\u001b[39m \u001b[38;5;129;01mis\u001b[39;00m \u001b[38;5;28;01mNone\u001b[39;00m \u001b[38;5;129;01mand\u001b[39;00m object_hook \u001b[38;5;129;01mis\u001b[39;00m \u001b[38;5;28;01mNone\u001b[39;00m \u001b[38;5;129;01mand\u001b[39;00m\n\u001b[1;32m    344\u001b[0m         parse_int \u001b[38;5;129;01mis\u001b[39;00m \u001b[38;5;28;01mNone\u001b[39;00m \u001b[38;5;129;01mand\u001b[39;00m parse_float \u001b[38;5;129;01mis\u001b[39;00m \u001b[38;5;28;01mNone\u001b[39;00m \u001b[38;5;129;01mand\u001b[39;00m\n\u001b[1;32m    345\u001b[0m         parse_constant \u001b[38;5;129;01mis\u001b[39;00m \u001b[38;5;28;01mNone\u001b[39;00m \u001b[38;5;129;01mand\u001b[39;00m object_pairs_hook \u001b[38;5;129;01mis\u001b[39;00m \u001b[38;5;28;01mNone\u001b[39;00m \u001b[38;5;129;01mand\u001b[39;00m \u001b[38;5;129;01mnot\u001b[39;00m kw):\n\u001b[0;32m--> 346\u001b[0m     \u001b[38;5;28;01mreturn\u001b[39;00m \u001b[43m_default_decoder\u001b[49m\u001b[38;5;241;43m.\u001b[39;49m\u001b[43mdecode\u001b[49m\u001b[43m(\u001b[49m\u001b[43ms\u001b[49m\u001b[43m)\u001b[49m\n\u001b[1;32m    347\u001b[0m \u001b[38;5;28;01mif\u001b[39;00m \u001b[38;5;28mcls\u001b[39m \u001b[38;5;129;01mis\u001b[39;00m \u001b[38;5;28;01mNone\u001b[39;00m:\n",
      "File \u001b[0;32m~/opt/miniconda3/envs/bt4222/lib/python3.9/json/decoder.py:337\u001b[0m, in \u001b[0;36mJSONDecoder.decode\u001b[0;34m(self, s, _w)\u001b[0m\n\u001b[1;32m    333\u001b[0m \u001b[38;5;124;03m\"\"\"Return the Python representation of ``s`` (a ``str`` instance\u001b[39;00m\n\u001b[1;32m    334\u001b[0m \u001b[38;5;124;03mcontaining a JSON document).\u001b[39;00m\n\u001b[1;32m    335\u001b[0m \n\u001b[1;32m    336\u001b[0m \u001b[38;5;124;03m\"\"\"\u001b[39;00m\n\u001b[0;32m--> 337\u001b[0m obj, end \u001b[38;5;241m=\u001b[39m \u001b[38;5;28;43mself\u001b[39;49m\u001b[38;5;241;43m.\u001b[39;49m\u001b[43mraw_decode\u001b[49m\u001b[43m(\u001b[49m\u001b[43ms\u001b[49m\u001b[43m,\u001b[49m\u001b[43m \u001b[49m\u001b[43midx\u001b[49m\u001b[38;5;241;43m=\u001b[39;49m\u001b[43m_w\u001b[49m\u001b[43m(\u001b[49m\u001b[43ms\u001b[49m\u001b[43m,\u001b[49m\u001b[43m \u001b[49m\u001b[38;5;241;43m0\u001b[39;49m\u001b[43m)\u001b[49m\u001b[38;5;241;43m.\u001b[39;49m\u001b[43mend\u001b[49m\u001b[43m(\u001b[49m\u001b[43m)\u001b[49m\u001b[43m)\u001b[49m\n\u001b[1;32m    338\u001b[0m end \u001b[38;5;241m=\u001b[39m _w(s, end)\u001b[38;5;241m.\u001b[39mend()\n",
      "File \u001b[0;32m~/opt/miniconda3/envs/bt4222/lib/python3.9/json/decoder.py:355\u001b[0m, in \u001b[0;36mJSONDecoder.raw_decode\u001b[0;34m(self, s, idx)\u001b[0m\n\u001b[1;32m    354\u001b[0m \u001b[38;5;28;01mexcept\u001b[39;00m \u001b[38;5;167;01mStopIteration\u001b[39;00m \u001b[38;5;28;01mas\u001b[39;00m err:\n\u001b[0;32m--> 355\u001b[0m     \u001b[38;5;28;01mraise\u001b[39;00m JSONDecodeError(\u001b[38;5;124m\"\u001b[39m\u001b[38;5;124mExpecting value\u001b[39m\u001b[38;5;124m\"\u001b[39m, s, err\u001b[38;5;241m.\u001b[39mvalue) \u001b[38;5;28;01mfrom\u001b[39;00m \u001b[38;5;28mNone\u001b[39m\n\u001b[1;32m    356\u001b[0m \u001b[38;5;28;01mreturn\u001b[39;00m obj, end\n",
      "\u001b[0;31mJSONDecodeError\u001b[0m: Expecting value: line 1 column 1 (char 0)",
      "\nDuring handling of the above exception, another exception occurred:\n",
      "\u001b[0;31mJSONDecodeError\u001b[0m                           Traceback (most recent call last)",
      "Input \u001b[0;32mIn [420]\u001b[0m, in \u001b[0;36m<cell line: 24>\u001b[0;34m()\u001b[0m\n\u001b[1;32m     22\u001b[0m response \u001b[38;5;241m=\u001b[39m requests\u001b[38;5;241m.\u001b[39mrequest(\u001b[38;5;124m\"\u001b[39m\u001b[38;5;124mPOST\u001b[39m\u001b[38;5;124m\"\u001b[39m, url, headers\u001b[38;5;241m=\u001b[39mheaders, data\u001b[38;5;241m=\u001b[39mpayload)\n\u001b[1;32m     23\u001b[0m \u001b[38;5;28mprint\u001b[39m(response\u001b[38;5;241m.\u001b[39mstatus_code)\n\u001b[0;32m---> 24\u001b[0m \u001b[38;5;28mprint\u001b[39m(\u001b[43mresponse\u001b[49m\u001b[38;5;241;43m.\u001b[39;49m\u001b[43mjson\u001b[49m\u001b[43m(\u001b[49m\u001b[43m)\u001b[49m[\u001b[38;5;241m0\u001b[39m][\u001b[38;5;124m'\u001b[39m\u001b[38;5;124mdata\u001b[39m\u001b[38;5;124m'\u001b[39m][\u001b[38;5;124m'\u001b[39m\u001b[38;5;124mproject\u001b[39m\u001b[38;5;124m'\u001b[39m][\u001b[38;5;124m'\u001b[39m\u001b[38;5;124mrisks\u001b[39m\u001b[38;5;124m'\u001b[39m])\n",
      "File \u001b[0;32m~/opt/miniconda3/envs/bt4222/lib/python3.9/site-packages/requests/models.py:975\u001b[0m, in \u001b[0;36mResponse.json\u001b[0;34m(self, **kwargs)\u001b[0m\n\u001b[1;32m    971\u001b[0m     \u001b[38;5;28;01mreturn\u001b[39;00m complexjson\u001b[38;5;241m.\u001b[39mloads(\u001b[38;5;28mself\u001b[39m\u001b[38;5;241m.\u001b[39mtext, \u001b[38;5;241m*\u001b[39m\u001b[38;5;241m*\u001b[39mkwargs)\n\u001b[1;32m    972\u001b[0m \u001b[38;5;28;01mexcept\u001b[39;00m JSONDecodeError \u001b[38;5;28;01mas\u001b[39;00m e:\n\u001b[1;32m    973\u001b[0m     \u001b[38;5;66;03m# Catch JSON-related errors and raise as requests.JSONDecodeError\u001b[39;00m\n\u001b[1;32m    974\u001b[0m     \u001b[38;5;66;03m# This aliases json.JSONDecodeError and simplejson.JSONDecodeError\u001b[39;00m\n\u001b[0;32m--> 975\u001b[0m     \u001b[38;5;28;01mraise\u001b[39;00m RequestsJSONDecodeError(e\u001b[38;5;241m.\u001b[39mmsg, e\u001b[38;5;241m.\u001b[39mdoc, e\u001b[38;5;241m.\u001b[39mpos)\n",
      "\u001b[0;31mJSONDecodeError\u001b[0m: Expecting value: line 1 column 1 (char 0)"
     ]
    }
   ],
   "source": [
    "import requests\n",
    "import json\n",
    "\n",
    "url = \"https://www.kickstarter.com/graph\"\n",
    "\n",
    "payload = json.dumps([\n",
    "  {\n",
    "    \"operationName\": \"Campaign\",\n",
    "    \"variables\": {\n",
    "      \"slug\": slugs[4290]\n",
    "    },\n",
    "    \"query\": \"query Campaign($slug: String!) {\\n  project(slug: $slug) {\\n    id\\n    isSharingProjectBudget\\n    risks\\n    story(assetWidth: 680)\\n    currency\\n    spreadsheet {\\n      displayMode\\n      public\\n      url\\n      data {\\n        name\\n        value\\n        phase\\n        rowNum\\n        __typename\\n      }\\n      dataLastUpdatedAt\\n      __typename\\n    }\\n    environmentalCommitments {\\n      id\\n      commitmentCategory\\n      description\\n      __typename\\n    }\\n    __typename\\n  }\\n}\\n\"\n",
    "  }\n",
    "])\n",
    "headers = {\n",
    "  'content-type': 'application/json',\n",
    "  'x-csrf-token': 'fvjxrhwSYir6BG4U761oTRMXCYu4Ql88J4gTJaaXswCLm-qP6vzjo_vw1FdTY3VNpWEmuQb1MZH_JkJ-GuTPew',\n",
    "  'user-agent': 'Mozilla/5.0 (Linux; U; Android 2.3.4; en-us; Kindle Fire Build/GINGERBREAD) AppleWebKit/533.1 (KHTML, like Gecko) Version/4.0 Mobile Safari/533.1',\n",
    "  'cookie': '_ksr_session=XeMoOdlfAuvBg3vZkCPtR2KPkjnWtoE%2FGrwY68dNgE13OYvjkIxO0Eiaf4Oay2xzILiIHuLsmpCAH%2B9aBGT01%2B7gNDH6exw0dtPhWF5xVSYtZnJawqJNc8IUuF52GC%2FS7QHp1woosgy6PABnOt0X0ITzAvUEg8wwMmv5e1IBYNCmj8ZiCiUwlU2h08X3WX0lQSBSeatHjTEHV%2FgAjhqitXq1xvrNIY7MvvonoTMQat4mSbJKrOzGi74PUMwlhlgHz1oDCWy%2BqAiY%2BIQp9ft4c%2BK2ta8%3D--Rds4wbR2FagzmGoy--ZV4JbIYN8J%2FdS8uWWa5EQw%3D%3D'\n",
    "}\n",
    "\n",
    "response = requests.request(\"POST\", url, headers=headers, data=payload)\n",
    "print(response.status_code)\n",
    "print(response.json()[0]['data']['project']['risks'])"
   ]
  },
  {
   "cell_type": "code",
   "execution_count": 255,
   "id": "75e69bc1",
   "metadata": {},
   "outputs": [],
   "source": [
    "s = requests.Session()\n",
    "headers = {\n",
    "            'content-type': 'application/json',\n",
    "            'User-Agent': 'Mozilla/5.0 (Windows NT 6.1; WOW64; rv:50.0) Gecko/20100101 Firefox/50.0',\n",
    "          }\n",
    "# GET request to kickstarter to get some token needed for later \n",
    "r = s.get(\"https://www.kickstarter.com\", headers=headers)\n",
    "#BeautifulSoup parses the html returned as a response from the GET request \n",
    "soup = BeautifulSoup(r.text, 'html.parser')\n",
    "xcsrf = soup.find(\"meta\", {\"name\": \"csrf-token\"})[\"content\"]"
   ]
  },
  {
   "cell_type": "code",
   "execution_count": null,
   "id": "326ac30c",
   "metadata": {},
   "outputs": [],
   "source": [
    "'User-Agent': 'Mozilla/5.0 (Windows NT 6.1; WOW64; rv:50.0) Gecko/20100101 Firefox/50.0'\n",
    "'user-agent': 'Mozilla/5.0 (Windows NT 10.0; Win64; x64) AppleWebKit/537.36 (KHTML, like Gecko) Chrome/98.0.4758.102 Safari/537.36'"
   ]
  },
  {
   "cell_type": "code",
   "execution_count": 237,
   "id": "9f125ab6",
   "metadata": {},
   "outputs": [
    {
     "name": "stdout",
     "output_type": "stream",
     "text": [
      "hello\n",
      "goodnight\n"
     ]
    }
   ],
   "source": [
    "print(\"hello\")\n",
    "time.sleep(3)\n",
    "print(\"goodnight\")"
   ]
  }
 ],
 "metadata": {
  "kernelspec": {
   "display_name": "bt4222",
   "language": "python",
   "name": "bt4222"
  },
  "language_info": {
   "codemirror_mode": {
    "name": "ipython",
    "version": 3
   },
   "file_extension": ".py",
   "mimetype": "text/x-python",
   "name": "python",
   "nbconvert_exporter": "python",
   "pygments_lexer": "ipython3",
   "version": "3.9.12"
  }
 },
 "nbformat": 4,
 "nbformat_minor": 5
}
