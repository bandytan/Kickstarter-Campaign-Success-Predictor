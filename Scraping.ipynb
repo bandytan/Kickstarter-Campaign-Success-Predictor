{
 "cells": [
  {
   "cell_type": "code",
   "execution_count": 74,
   "id": "8339aa0e",
   "metadata": {},
   "outputs": [],
   "source": [
    "import requests\n",
    "from bs4 import BeautifulSoup\n",
    "import re\n",
    "import pandas as pd\n",
    "import os \n",
    "import ast\n",
    "import json"
   ]
  },
  {
   "cell_type": "markdown",
   "id": "5472a784",
   "metadata": {},
   "source": [
    "https://stackoverflow.com/questions/62335537/scraping-text-from-kickstarter-projects-return-nothing"
   ]
  },
  {
   "cell_type": "code",
   "execution_count": 154,
   "id": "ab1ccedd",
   "metadata": {},
   "outputs": [
    {
     "name": "stdout",
     "output_type": "stream",
     "text": [
      "392244\n",
      "203510\n"
     ]
    },
    {
     "name": "stderr",
     "output_type": "stream",
     "text": [
      "/var/folders/dq/33rpc0cx4f54t0vx2cdcgczr0000gn/T/ipykernel_74056/4110031066.py:5: SettingWithCopyWarning: \n",
      "A value is trying to be set on a copy of a slice from a DataFrame.\n",
      "Try using .loc[row_indexer,col_indexer] = value instead\n",
      "\n",
      "See the caveats in the documentation: https://pandas.pydata.org/pandas-docs/stable/user_guide/indexing.html#returning-a-view-versus-a-copy\n",
      "  df_1['main_url'] = df_1['urls'].apply(lambda x: eval(x)['web']['project'])\n"
     ]
    }
   ],
   "source": [
    "base = \"/Users/ivankoh/Downloads/kickstarter data/\"\n",
    "filepaths = [base + f for f in os.listdir(base) if f.endswith('.csv')]\n",
    "df = pd.concat(map(pd.read_csv, filepaths))\n",
    "df_1 = df.drop_duplicates(subset=['id'])\n",
    "df_1['main_url'] = df_1['urls'].apply(lambda x: eval(x)['web']['project'])\n",
    "print(len(df))\n",
    "print(len(df_1))"
   ]
  },
  {
   "cell_type": "code",
   "execution_count": 157,
   "id": "34ce7fce",
   "metadata": {},
   "outputs": [
    {
     "ename": "TypeError",
     "evalue": "'NoneType' object is not subscriptable",
     "output_type": "error",
     "traceback": [
      "\u001b[0;31m---------------------------------------------------------------------------\u001b[0m",
      "\u001b[0;31mTypeError\u001b[0m                                 Traceback (most recent call last)",
      "Input \u001b[0;32mIn [157]\u001b[0m, in \u001b[0;36m<cell line: 12>\u001b[0;34m()\u001b[0m\n\u001b[1;32m     10\u001b[0m r \u001b[38;5;241m=\u001b[39m s\u001b[38;5;241m.\u001b[39mget(\u001b[38;5;124m\"\u001b[39m\u001b[38;5;124mhttps://www.kickstarter.com\u001b[39m\u001b[38;5;124m\"\u001b[39m, headers\u001b[38;5;241m=\u001b[39mheaders)\n\u001b[1;32m     11\u001b[0m soup \u001b[38;5;241m=\u001b[39m BeautifulSoup(r\u001b[38;5;241m.\u001b[39mtext, \u001b[38;5;124m'\u001b[39m\u001b[38;5;124mhtml.parser\u001b[39m\u001b[38;5;124m'\u001b[39m)\n\u001b[0;32m---> 12\u001b[0m xcsrf \u001b[38;5;241m=\u001b[39m \u001b[43msoup\u001b[49m\u001b[38;5;241;43m.\u001b[39;49m\u001b[43mfind\u001b[49m\u001b[43m(\u001b[49m\u001b[38;5;124;43m\"\u001b[39;49m\u001b[38;5;124;43mmeta\u001b[39;49m\u001b[38;5;124;43m\"\u001b[39;49m\u001b[43m,\u001b[49m\u001b[43m \u001b[49m\u001b[43m{\u001b[49m\u001b[38;5;124;43m\"\u001b[39;49m\u001b[38;5;124;43mname\u001b[39;49m\u001b[38;5;124;43m\"\u001b[39;49m\u001b[43m:\u001b[49m\u001b[43m \u001b[49m\u001b[38;5;124;43m\"\u001b[39;49m\u001b[38;5;124;43mcsrf-token\u001b[39;49m\u001b[38;5;124;43m\"\u001b[39;49m\u001b[43m}\u001b[49m\u001b[43m)\u001b[49m\u001b[43m[\u001b[49m\u001b[38;5;124;43m\"\u001b[39;49m\u001b[38;5;124;43mcontent\u001b[39;49m\u001b[38;5;124;43m\"\u001b[39;49m\u001b[43m]\u001b[49m\n\u001b[1;32m     14\u001b[0m query \u001b[38;5;241m=\u001b[39m \u001b[38;5;124m\"\"\"\u001b[39m\n\u001b[1;32m     15\u001b[0m \u001b[38;5;124mquery Campaign($slug: String!) \u001b[39m\u001b[38;5;124m{\u001b[39m\n\u001b[1;32m     16\u001b[0m \u001b[38;5;124m  project(slug: $slug) \u001b[39m\u001b[38;5;124m{\u001b[39m\n\u001b[0;32m   (...)\u001b[0m\n\u001b[1;32m     19\u001b[0m \u001b[38;5;124m  }\u001b[39m\n\u001b[1;32m     20\u001b[0m \u001b[38;5;124m}\u001b[39m\u001b[38;5;124m\"\"\"\u001b[39m\n\u001b[1;32m     22\u001b[0m \u001b[38;5;28;01mfor\u001b[39;00m slug \u001b[38;5;129;01min\u001b[39;00m slugs:\n",
      "\u001b[0;31mTypeError\u001b[0m: 'NoneType' object is not subscriptable"
     ]
    }
   ],
   "source": [
    "def get_slug(url):\n",
    "    return re.search('/projects/(.*)\\?', url).group(1)\n",
    "\n",
    "slugs = list(map(get_slug, df_1['main_url'].tolist()))\n",
    "story_list = []\n",
    "risk_list = []\n",
    "\n",
    "s = requests.Session()\n",
    "headers = {'User-Agent': 'Mozilla/5.0 (Windows NT 6.1; WOW64; rv:50.0) Gecko/20100101 Firefox/50.0'}\n",
    "r = s.get(\"https://www.kickstarter.com\", headers=headers)\n",
    "soup = BeautifulSoup(r.text, 'html.parser')\n",
    "xcsrf = soup.find(\"meta\", {\"name\": \"csrf-token\"})[\"content\"]\n",
    "\n",
    "query = \"\"\"\n",
    "query Campaign($slug: String!) {\n",
    "  project(slug: $slug) {\n",
    "    risks\n",
    "    story(assetWidth: 680)\n",
    "  }\n",
    "}\"\"\"\n",
    "\n",
    "for slug in slugs:\n",
    "    print(f\"--------{slug}------\")\n",
    "    r = s.post(\"https://www.kickstarter.com/graph\",\n",
    "        headers= {\n",
    "            \"x-csrf-token\": xcsrf,\n",
    "            'User-Agent': 'Mozilla/5.0 (Macintosh; Intel Mac OS X 10_15_7) AppleWebKit/537.36 (KHTML, like Gecko) Chrome/105.0.0.0 Safari/537.36'\n",
    "        },\n",
    "        json = {\n",
    "            \"operationName\":\"Campaign\",\n",
    "            \"variables\":{\n",
    "                \"slug\": slug\n",
    "            },\n",
    "            \"query\": query\n",
    "        })\n",
    "    try:\n",
    "        result = r.json()\n",
    "        print(\"-------STORY--------\")\n",
    "        story_html = result[\"data\"][\"project\"][\"story\"]\n",
    "        soup = BeautifulSoup(story_html, 'html.parser')\n",
    "        curr_story = []\n",
    "        for i in soup.find_all('p'):\n",
    "            print(i.get_text())\n",
    "            curr_story.append(i.get_text())\n",
    "        story_list.append(\" \".join(curr_story) if curr_story else \"\")\n",
    "\n",
    "        print(\"-------RISKS--------\")\n",
    "        print(result[\"data\"][\"project\"][\"risks\"])\n",
    "        risk_list.append(result[\"data\"][\"project\"][\"risks\"] if result[\"data\"][\"project\"][\"risks\"] else \"\")\n",
    "    except:\n",
    "        print(r)\n",
    "        story_list.append(\"\")\n",
    "        risk_list.append(\"\")\n",
    "        continue"
   ]
  }
 ],
 "metadata": {
  "kernelspec": {
   "display_name": "bt4222",
   "language": "python",
   "name": "bt4222"
  },
  "language_info": {
   "codemirror_mode": {
    "name": "ipython",
    "version": 3
   },
   "file_extension": ".py",
   "mimetype": "text/x-python",
   "name": "python",
   "nbconvert_exporter": "python",
   "pygments_lexer": "ipython3",
   "version": "3.9.12"
  }
 },
 "nbformat": 4,
 "nbformat_minor": 5
}
