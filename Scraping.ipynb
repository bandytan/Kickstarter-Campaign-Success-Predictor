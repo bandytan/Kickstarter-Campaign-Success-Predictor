{
 "cells": [
  {
   "cell_type": "code",
   "execution_count": 303,
   "id": "c85cc2b2",
   "metadata": {},
   "outputs": [],
   "source": [
    "import requests\n",
    "from bs4 import BeautifulSoup\n",
    "import re\n",
    "import pandas as pd\n",
    "import os \n",
    "import ast\n",
    "import json\n",
    "import time\n",
    "from requests.exceptions import ConnectionError"
   ]
  },
  {
   "cell_type": "markdown",
   "id": "6804745e",
   "metadata": {},
   "source": [
    "https://stackoverflow.com/questions/62335537/scraping-text-from-kickstarter-projects-return-nothing"
   ]
  },
  {
   "cell_type": "code",
   "execution_count": 173,
   "id": "46c7a574",
   "metadata": {},
   "outputs": [
    {
     "name": "stdout",
     "output_type": "stream",
     "text": [
      "392244\n",
      "203510\n"
     ]
    },
    {
     "name": "stderr",
     "output_type": "stream",
     "text": [
      "/var/folders/dq/33rpc0cx4f54t0vx2cdcgczr0000gn/T/ipykernel_74056/4110031066.py:5: SettingWithCopyWarning: \n",
      "A value is trying to be set on a copy of a slice from a DataFrame.\n",
      "Try using .loc[row_indexer,col_indexer] = value instead\n",
      "\n",
      "See the caveats in the documentation: https://pandas.pydata.org/pandas-docs/stable/user_guide/indexing.html#returning-a-view-versus-a-copy\n",
      "  df_1['main_url'] = df_1['urls'].apply(lambda x: eval(x)['web']['project'])\n"
     ]
    }
   ],
   "source": [
    "base = \"/Users/ivankoh/Downloads/kickstarter data/\"\n",
    "filepaths = [base + f for f in os.listdir(base) if f.endswith('.csv')]\n",
    "df = pd.concat(map(pd.read_csv, filepaths))\n",
    "df_1 = df.drop_duplicates(subset=['id'])\n",
    "df_1['main_url'] = df_1['urls'].apply(lambda x: eval(x)['web']['project'])\n",
    "print(len(df))\n",
    "print(len(df_1))"
   ]
  },
  {
   "cell_type": "code",
   "execution_count": null,
   "id": "97a6511b",
   "metadata": {},
   "outputs": [],
   "source": [
    "def get_slug(url):\n",
    "    return re.search('/projects/(.*)\\?', url).group(1)\n",
    "\n",
    "# get the slug from the urls. the slug is the input to the GraphQL API call \n",
    "slugs = list(map(get_slug, df_1['main_url'].tolist()))\n",
    "# while iterating through all projects, add the story and risk to these lists. At the end len of both list \n",
    "# should be the same as the len of the dataframe. if all good then add as columns to the dataframe df. \n",
    "story_list = []\n",
    "risk_list = []"
   ]
  },
  {
   "cell_type": "code",
   "execution_count": 299,
   "id": "081cc250",
   "metadata": {
    "scrolled": true
   },
   "outputs": [
    {
     "name": "stdout",
     "output_type": "stream",
     "text": [
      "0 2035\n",
      "203510\n"
     ]
    }
   ],
   "source": [
    "block_size = len(df_1) // 100\n",
    "num_blocks = len(df_1) // 2035\n",
    "num_blocks\n",
    "2 * block_size\n",
    "print(0 * block_size, 1 * block_size)\n",
    "print(len(slugs))"
   ]
  },
  {
   "cell_type": "code",
   "execution_count": 349,
   "id": "79db610f",
   "metadata": {},
   "outputs": [
    {
     "name": "stdout",
     "output_type": "stream",
     "text": [
      "--------justinmcroberts/justins-18th-musical-project------\n",
      "<Response [429]>\n",
      "--------slydersmith/slyder-smith-and-the-oblivion-kids-debut-album------\n",
      "<Response [429]>\n",
      "--------frenchyandthepunk/zen-ghost-the-new-album-by-frenchy-and-the-punk------\n",
      "<Response [429]>\n",
      "--------flavors/blanketpals-tm------\n",
      "<Response [429]>\n",
      "--------108366845/kickstarter-onboarding-teardown-supreme------\n",
      "<Response [429]>\n",
      "TAKING A NAP ZZZ...\n"
     ]
    },
    {
     "ename": "KeyboardInterrupt",
     "evalue": "",
     "output_type": "error",
     "traceback": [
      "\u001b[0;31m---------------------------------------------------------------------------\u001b[0m",
      "\u001b[0;31mKeyboardInterrupt\u001b[0m                         Traceback (most recent call last)",
      "Input \u001b[0;32mIn [349]\u001b[0m, in \u001b[0;36m<cell line: 27>\u001b[0;34m()\u001b[0m\n\u001b[1;32m     29\u001b[0m \u001b[38;5;28;01mif\u001b[39;00m counter \u001b[38;5;241m==\u001b[39m \u001b[38;5;241m5\u001b[39m:\n\u001b[1;32m     30\u001b[0m     \u001b[38;5;28mprint\u001b[39m(\u001b[38;5;124m\"\u001b[39m\u001b[38;5;124mTAKING A NAP ZZZ...\u001b[39m\u001b[38;5;124m\"\u001b[39m)\n\u001b[0;32m---> 31\u001b[0m     \u001b[43mtime\u001b[49m\u001b[38;5;241;43m.\u001b[39;49m\u001b[43msleep\u001b[49m\u001b[43m(\u001b[49m\u001b[38;5;241;43m20\u001b[39;49m\u001b[43m)\u001b[49m\n\u001b[1;32m     32\u001b[0m     counter \u001b[38;5;241m=\u001b[39m \u001b[38;5;241m0\u001b[39m\n\u001b[1;32m     33\u001b[0m counter \u001b[38;5;241m+\u001b[39m\u001b[38;5;241m=\u001b[39m \u001b[38;5;241m1\u001b[39m\n",
      "\u001b[0;31mKeyboardInterrupt\u001b[0m: "
     ]
    }
   ],
   "source": [
    "# instantiate a new Session \n",
    "s = requests.Session()\n",
    "headers = {\n",
    "            'content-type': 'application/json',\n",
    "            'User-Agent': 'Mozilla/5.0 (Windows NT 6.1; WOW64; rv:50.0) Gecko/20100101 Firefox/50.0',\n",
    "           'cookie': '_ksr_session=fc2U7qXXaRN91foNiE53NyU3s181NZO0Ll57xPkYxZ5iyUNgus35a0HwsPBTfViBY%2ByAKbtpRirAVLxOGKzG%2BYMOmsLRBPujZep%2Fca%2B1%2FXzW3xX56VXkh5w6ItYhIctEFifQQhw3rTmvoljyHw%3D%3D--4pK6xBEgChjqgmte--LH4Q1qSnhU%2FYX9JgTzGuSQ%3D%3D;'\n",
    "          }\n",
    "# GET request to kickstarter to get some token needed for later \n",
    "# r = s.get(\"https://www.kickstarter.com\", headers=headers)\n",
    "# BeautifulSoup parses the html returned as a response from the GET request \n",
    "# soup = BeautifulSoup(r.text, 'html.parser')\n",
    "# xcsrf = soup.find(\"meta\", {\"name\": \"csrf-token\"})[\"content\"]\n",
    "\n",
    "query = \"\"\"\n",
    "query Campaign($slug: String!) {\n",
    "  project(slug: $slug) {\n",
    "    risks\n",
    "    story(assetWidth: 680)\n",
    "  }\n",
    "}\"\"\"\n",
    "\n",
    "# PARAMS\n",
    "counter = 0\n",
    "block_number = 0\n",
    "\n",
    "# pause for 5 seconds every 5 iterations\n",
    "for i in range(2895, len(slugs)):\n",
    "    slug = slugs[i]\n",
    "    if counter == 5:\n",
    "        print(\"TAKING A NAP ZZZ...\")\n",
    "        time.sleep(20)\n",
    "        counter = 0\n",
    "    counter += 1\n",
    "    print(f\"--------{slug}------\")\n",
    "    # POST request to GraphQL API situated in kickstarter domain \n",
    "    # response from POST request should contain the story and risks\n",
    "    connect_try = 0\n",
    "    not_found = True\n",
    "    while connect_try < 30 and not_found:       \n",
    "        try:\n",
    "            r = s.post(\"https://www.kickstarter.com/graph\",\n",
    "                headers= {\n",
    "                      'content-type': 'application/json',\n",
    "                      'x-csrf-token': 'GgpaCc5tY-2VRVj1bE1aLOPKLkwRFEbIF205o2WorHLvaUEoOIPiZJSx4rbQg0csVbwBfq-jKGXPw2j42dvQCQ',\n",
    "                      'user-agent': 'Mozilla/5.0 (Windows NT 6.1; WOW64) AppleWebKit/537.36 (KHTML, like Gecko) Chrome/47.0.2526.111 Safari/537.36',\n",
    "                      'cookie': '_ksr_session=aVeEJvdlSYzJIE8X7f3v85C2T7b9Q30EN0ONWdeWjMLei6H06q6eRA3DZfCsbal40AfBTSbfczmlTv2ZIpvdyykn4QQYZdSlIzlalRivb6Xlb%2BXhXDhBNJg7KPYEEyFFIX3Qz8%2F61YNIoV136X5ju%2BE7jrqQFsGEB1%2FhAwJZ7kjD6QiwTDFdWWmJDr2wmREspLGXKUO0gicnsrUxQJPdTQMCcFNXy6sx95x5S%2FiNs4xVq0t4jWv%2BaiSnwBp8pC6Xu81FBhpD%2F9sNLZ9YyS5Obzbv0jI%3D--tM1UdSPo8XKxtj%2Bt--WQhnQX4EovqKwzBU9tiWIg%3D%3D'\n",
    "                },\n",
    "                json = {\n",
    "                    \"operationName\":\"Campaign\",\n",
    "                    \"variables\":{\n",
    "                        \"slug\": slug\n",
    "                    },\n",
    "                    \"query\": query\n",
    "                })\n",
    "            not_found = False\n",
    "        except ConnectionError:\n",
    "            print(\"Connection Error\")\n",
    "            time.sleep(5)\n",
    "            connect_try += 1\n",
    "    try:\n",
    "        result = r.json()\n",
    "        print(\"-------STORY--------\")\n",
    "        story_html = result[\"data\"][\"project\"][\"story\"]\n",
    "        soup = BeautifulSoup(story_html, 'html.parser')\n",
    "        curr_story = []\n",
    "        for i in soup.find_all('p'):\n",
    "            print(i.get_text())\n",
    "            curr_story.append(i.get_text())\n",
    "        story_list2.append(\" \".join(curr_story) if curr_story else \"\")\n",
    "\n",
    "        print(\"-------RISKS--------\")\n",
    "        print(result[\"data\"][\"project\"][\"risks\"])\n",
    "        risk_list2.append(result[\"data\"][\"project\"][\"risks\"] if result[\"data\"][\"project\"][\"risks\"] else \"\")\n",
    "    except:\n",
    "        print(r)\n",
    "        story_list2.append(\"\")\n",
    "        risk_list2.append(\"\")\n",
    "        continue"
   ]
  },
  {
   "cell_type": "markdown",
   "id": "f3d6346d",
   "metadata": {},
   "source": [
    "## Latest Iteration Ran Till: 4289, Local copy latest: 0_4289"
   ]
  },
  {
   "cell_type": "code",
   "execution_count": 348,
   "id": "6614f8e2",
   "metadata": {},
   "outputs": [],
   "source": [
    "#SAVE LIST IN LOCAL FOR USE LATER. NAME FILE AS {from}_{to]_{story/risk}.json\n",
    "story_file_name = \"0_4289_story\" #CHANGE THIS\n",
    "risk_file_name = \"0_4289_risk\" #CHANGE THIS \n",
    "\n",
    "story_file_name += \".json\"\n",
    "risk_file_name += \".json\"\n",
    "\n",
    "with open(story_file_name, 'w') as f:\n",
    "    # indent=2 is not needed but makes the file human-readable \n",
    "    # if the data is nested\n",
    "    json.dump(story_list2, f, indent=2) \n",
    "\n",
    "with open(risk_file_name, 'w') as f:\n",
    "    # indent=2 is not needed but makes the file human-readable \n",
    "    # if the data is nested\n",
    "    json.dump(risk_list2, f, indent=2) \n",
    "    \n",
    "# with open(story_file_name, 'r') as f:\n",
    "#     story_subset = json.load(f)"
   ]
  },
  {
   "cell_type": "code",
   "execution_count": 347,
   "id": "7ae28055",
   "metadata": {},
   "outputs": [
    {
     "name": "stdout",
     "output_type": "stream",
     "text": [
      "risk: 4290 \n",
      " story: 4290\n"
     ]
    }
   ],
   "source": [
    "print(\"risk:\", len(risk_list2),\"\\n\", \"story:\", len(story_list2))"
   ]
  },
  {
   "cell_type": "code",
   "execution_count": 350,
   "id": "4c80f512",
   "metadata": {},
   "outputs": [
    {
     "name": "stdout",
     "output_type": "stream",
     "text": [
      "LATEST CALL DF ROW \n",
      "\n",
      "Herbal tea time under a pergola\n",
      "LATEST STORY IN LIST \n",
      "\n",
      "\n",
      "LATEST RISK IN LIST \n",
      "\n",
      "\n"
     ]
    }
   ],
   "source": [
    "print(\"LATEST CALL DF ROW\", \"\\n\")\n",
    "print(df_1.iloc[len(story_list2)-1]['blurb'])\n",
    "\n",
    "print(\"LATEST STORY IN LIST\", \"\\n\")\n",
    "print(story_list2[-1])\n",
    "\n",
    "print(\"LATEST RISK IN LIST\", \"\\n\")\n",
    "print(risk_list2[-1])"
   ]
  },
  {
   "cell_type": "code",
   "execution_count": 360,
   "id": "51525280",
   "metadata": {},
   "outputs": [],
   "source": [
    "# story_list2 = story_list[:-130]\n",
    "# risk_list2 = risk_list[:-130]\n",
    "story_list2 = story_list2[:-5]\n",
    "risk_list2 = risk_list2[:-5]"
   ]
  },
  {
   "cell_type": "code",
   "execution_count": 165,
   "id": "b955b06f",
   "metadata": {},
   "outputs": [],
   "source": [
    "s = requests.Session()"
   ]
  },
  {
   "cell_type": "code",
   "execution_count": 234,
   "id": "135b3a2a",
   "metadata": {},
   "outputs": [
    {
     "name": "stdout",
     "output_type": "stream",
     "text": [
      "403\n"
     ]
    },
    {
     "ename": "JSONDecodeError",
     "evalue": "Expecting value: line 1 column 1 (char 0)",
     "output_type": "error",
     "traceback": [
      "\u001b[0;31m---------------------------------------------------------------------------\u001b[0m",
      "\u001b[0;31mJSONDecodeError\u001b[0m                           Traceback (most recent call last)",
      "File \u001b[0;32m~/opt/miniconda3/envs/bt4222/lib/python3.9/site-packages/requests/models.py:971\u001b[0m, in \u001b[0;36mResponse.json\u001b[0;34m(self, **kwargs)\u001b[0m\n\u001b[1;32m    970\u001b[0m \u001b[38;5;28;01mtry\u001b[39;00m:\n\u001b[0;32m--> 971\u001b[0m     \u001b[38;5;28;01mreturn\u001b[39;00m \u001b[43mcomplexjson\u001b[49m\u001b[38;5;241;43m.\u001b[39;49m\u001b[43mloads\u001b[49m\u001b[43m(\u001b[49m\u001b[38;5;28;43mself\u001b[39;49m\u001b[38;5;241;43m.\u001b[39;49m\u001b[43mtext\u001b[49m\u001b[43m,\u001b[49m\u001b[43m \u001b[49m\u001b[38;5;241;43m*\u001b[39;49m\u001b[38;5;241;43m*\u001b[39;49m\u001b[43mkwargs\u001b[49m\u001b[43m)\u001b[49m\n\u001b[1;32m    972\u001b[0m \u001b[38;5;28;01mexcept\u001b[39;00m JSONDecodeError \u001b[38;5;28;01mas\u001b[39;00m e:\n\u001b[1;32m    973\u001b[0m     \u001b[38;5;66;03m# Catch JSON-related errors and raise as requests.JSONDecodeError\u001b[39;00m\n\u001b[1;32m    974\u001b[0m     \u001b[38;5;66;03m# This aliases json.JSONDecodeError and simplejson.JSONDecodeError\u001b[39;00m\n",
      "File \u001b[0;32m~/opt/miniconda3/envs/bt4222/lib/python3.9/json/__init__.py:346\u001b[0m, in \u001b[0;36mloads\u001b[0;34m(s, cls, object_hook, parse_float, parse_int, parse_constant, object_pairs_hook, **kw)\u001b[0m\n\u001b[1;32m    343\u001b[0m \u001b[38;5;28;01mif\u001b[39;00m (\u001b[38;5;28mcls\u001b[39m \u001b[38;5;129;01mis\u001b[39;00m \u001b[38;5;28;01mNone\u001b[39;00m \u001b[38;5;129;01mand\u001b[39;00m object_hook \u001b[38;5;129;01mis\u001b[39;00m \u001b[38;5;28;01mNone\u001b[39;00m \u001b[38;5;129;01mand\u001b[39;00m\n\u001b[1;32m    344\u001b[0m         parse_int \u001b[38;5;129;01mis\u001b[39;00m \u001b[38;5;28;01mNone\u001b[39;00m \u001b[38;5;129;01mand\u001b[39;00m parse_float \u001b[38;5;129;01mis\u001b[39;00m \u001b[38;5;28;01mNone\u001b[39;00m \u001b[38;5;129;01mand\u001b[39;00m\n\u001b[1;32m    345\u001b[0m         parse_constant \u001b[38;5;129;01mis\u001b[39;00m \u001b[38;5;28;01mNone\u001b[39;00m \u001b[38;5;129;01mand\u001b[39;00m object_pairs_hook \u001b[38;5;129;01mis\u001b[39;00m \u001b[38;5;28;01mNone\u001b[39;00m \u001b[38;5;129;01mand\u001b[39;00m \u001b[38;5;129;01mnot\u001b[39;00m kw):\n\u001b[0;32m--> 346\u001b[0m     \u001b[38;5;28;01mreturn\u001b[39;00m \u001b[43m_default_decoder\u001b[49m\u001b[38;5;241;43m.\u001b[39;49m\u001b[43mdecode\u001b[49m\u001b[43m(\u001b[49m\u001b[43ms\u001b[49m\u001b[43m)\u001b[49m\n\u001b[1;32m    347\u001b[0m \u001b[38;5;28;01mif\u001b[39;00m \u001b[38;5;28mcls\u001b[39m \u001b[38;5;129;01mis\u001b[39;00m \u001b[38;5;28;01mNone\u001b[39;00m:\n",
      "File \u001b[0;32m~/opt/miniconda3/envs/bt4222/lib/python3.9/json/decoder.py:337\u001b[0m, in \u001b[0;36mJSONDecoder.decode\u001b[0;34m(self, s, _w)\u001b[0m\n\u001b[1;32m    333\u001b[0m \u001b[38;5;124;03m\"\"\"Return the Python representation of ``s`` (a ``str`` instance\u001b[39;00m\n\u001b[1;32m    334\u001b[0m \u001b[38;5;124;03mcontaining a JSON document).\u001b[39;00m\n\u001b[1;32m    335\u001b[0m \n\u001b[1;32m    336\u001b[0m \u001b[38;5;124;03m\"\"\"\u001b[39;00m\n\u001b[0;32m--> 337\u001b[0m obj, end \u001b[38;5;241m=\u001b[39m \u001b[38;5;28;43mself\u001b[39;49m\u001b[38;5;241;43m.\u001b[39;49m\u001b[43mraw_decode\u001b[49m\u001b[43m(\u001b[49m\u001b[43ms\u001b[49m\u001b[43m,\u001b[49m\u001b[43m \u001b[49m\u001b[43midx\u001b[49m\u001b[38;5;241;43m=\u001b[39;49m\u001b[43m_w\u001b[49m\u001b[43m(\u001b[49m\u001b[43ms\u001b[49m\u001b[43m,\u001b[49m\u001b[43m \u001b[49m\u001b[38;5;241;43m0\u001b[39;49m\u001b[43m)\u001b[49m\u001b[38;5;241;43m.\u001b[39;49m\u001b[43mend\u001b[49m\u001b[43m(\u001b[49m\u001b[43m)\u001b[49m\u001b[43m)\u001b[49m\n\u001b[1;32m    338\u001b[0m end \u001b[38;5;241m=\u001b[39m _w(s, end)\u001b[38;5;241m.\u001b[39mend()\n",
      "File \u001b[0;32m~/opt/miniconda3/envs/bt4222/lib/python3.9/json/decoder.py:355\u001b[0m, in \u001b[0;36mJSONDecoder.raw_decode\u001b[0;34m(self, s, idx)\u001b[0m\n\u001b[1;32m    354\u001b[0m \u001b[38;5;28;01mexcept\u001b[39;00m \u001b[38;5;167;01mStopIteration\u001b[39;00m \u001b[38;5;28;01mas\u001b[39;00m err:\n\u001b[0;32m--> 355\u001b[0m     \u001b[38;5;28;01mraise\u001b[39;00m JSONDecodeError(\u001b[38;5;124m\"\u001b[39m\u001b[38;5;124mExpecting value\u001b[39m\u001b[38;5;124m\"\u001b[39m, s, err\u001b[38;5;241m.\u001b[39mvalue) \u001b[38;5;28;01mfrom\u001b[39;00m \u001b[38;5;28mNone\u001b[39m\n\u001b[1;32m    356\u001b[0m \u001b[38;5;28;01mreturn\u001b[39;00m obj, end\n",
      "\u001b[0;31mJSONDecodeError\u001b[0m: Expecting value: line 1 column 1 (char 0)",
      "\nDuring handling of the above exception, another exception occurred:\n",
      "\u001b[0;31mJSONDecodeError\u001b[0m                           Traceback (most recent call last)",
      "Input \u001b[0;32mIn [234]\u001b[0m, in \u001b[0;36m<cell line: 24>\u001b[0;34m()\u001b[0m\n\u001b[1;32m     22\u001b[0m response \u001b[38;5;241m=\u001b[39m requests\u001b[38;5;241m.\u001b[39mrequest(\u001b[38;5;124m\"\u001b[39m\u001b[38;5;124mPOST\u001b[39m\u001b[38;5;124m\"\u001b[39m, url, headers\u001b[38;5;241m=\u001b[39mheaders, data\u001b[38;5;241m=\u001b[39mpayload)\n\u001b[1;32m     23\u001b[0m \u001b[38;5;28mprint\u001b[39m(response\u001b[38;5;241m.\u001b[39mstatus_code)\n\u001b[0;32m---> 24\u001b[0m \u001b[38;5;28mprint\u001b[39m(\u001b[43mresponse\u001b[49m\u001b[38;5;241;43m.\u001b[39;49m\u001b[43mjson\u001b[49m\u001b[43m(\u001b[49m\u001b[43m)\u001b[49m[\u001b[38;5;241m0\u001b[39m][\u001b[38;5;124m'\u001b[39m\u001b[38;5;124mdata\u001b[39m\u001b[38;5;124m'\u001b[39m][\u001b[38;5;124m'\u001b[39m\u001b[38;5;124mproject\u001b[39m\u001b[38;5;124m'\u001b[39m][\u001b[38;5;124m'\u001b[39m\u001b[38;5;124mrisks\u001b[39m\u001b[38;5;124m'\u001b[39m])\n",
      "File \u001b[0;32m~/opt/miniconda3/envs/bt4222/lib/python3.9/site-packages/requests/models.py:975\u001b[0m, in \u001b[0;36mResponse.json\u001b[0;34m(self, **kwargs)\u001b[0m\n\u001b[1;32m    971\u001b[0m     \u001b[38;5;28;01mreturn\u001b[39;00m complexjson\u001b[38;5;241m.\u001b[39mloads(\u001b[38;5;28mself\u001b[39m\u001b[38;5;241m.\u001b[39mtext, \u001b[38;5;241m*\u001b[39m\u001b[38;5;241m*\u001b[39mkwargs)\n\u001b[1;32m    972\u001b[0m \u001b[38;5;28;01mexcept\u001b[39;00m JSONDecodeError \u001b[38;5;28;01mas\u001b[39;00m e:\n\u001b[1;32m    973\u001b[0m     \u001b[38;5;66;03m# Catch JSON-related errors and raise as requests.JSONDecodeError\u001b[39;00m\n\u001b[1;32m    974\u001b[0m     \u001b[38;5;66;03m# This aliases json.JSONDecodeError and simplejson.JSONDecodeError\u001b[39;00m\n\u001b[0;32m--> 975\u001b[0m     \u001b[38;5;28;01mraise\u001b[39;00m RequestsJSONDecodeError(e\u001b[38;5;241m.\u001b[39mmsg, e\u001b[38;5;241m.\u001b[39mdoc, e\u001b[38;5;241m.\u001b[39mpos)\n",
      "\u001b[0;31mJSONDecodeError\u001b[0m: Expecting value: line 1 column 1 (char 0)"
     ]
    }
   ],
   "source": [
    "import requests\n",
    "import json\n",
    "\n",
    "url = \"https://www.kickstarter.com/graph\"\n",
    "\n",
    "payload = json.dumps([\n",
    "  {\n",
    "    \"operationName\": \"Campaign\",\n",
    "    \"variables\": {\n",
    "      \"slug\": \"leightonconnor/akashic-titan-blue-bolt\"\n",
    "    },\n",
    "    \"query\": \"query Campaign($slug: String!) {\\n  project(slug: $slug) {\\n    id\\n    isSharingProjectBudget\\n    risks\\n    story(assetWidth: 680)\\n    currency\\n    spreadsheet {\\n      displayMode\\n      public\\n      url\\n      data {\\n        name\\n        value\\n        phase\\n        rowNum\\n        __typename\\n      }\\n      dataLastUpdatedAt\\n      __typename\\n    }\\n    environmentalCommitments {\\n      id\\n      commitmentCategory\\n      description\\n      __typename\\n    }\\n    __typename\\n  }\\n}\\n\"\n",
    "  }\n",
    "])\n",
    "headers = {\n",
    "  'content-type': 'application/json',\n",
    "  'x-csrf-token': 'bL5nMRm5s147N8RxvNcth-E8NAOt3SprGYtvvKsVLnuZ3XwQ71cy1zrDfjIAGTCHV0obMRNqRMbBJT7nF2ZSAA',\n",
    "  'User-Agent': 'Mozilla/5.0 (Windows NT 6.1; WOW64; rv:50.0) Gecko/20100101 Firefox/50.0',\n",
    "  'cookie': '_ksr_session=eus10UNK7iB%2FwIMXafXg5yJdYvRD7rHlR%2Ba1KEbUnB5EKTgQxNKEIqrp%2BIyjRC%2FNXw76u4Eki4AsiBom5M1LKNJKWCD65CBzeegWrk2%2FRV9Sht6dlOKplCATNdrmEIIa0Bt%2FKKGnT2m9ID1nTCduj73%2BdeJK663MNcbYWXBHkFyZJgUKh4JcCx3hL0UF2quVeBvfV45M0CNrT1j4DchvTlFBn%2BpE37ZaGldNz7BF0RAcCjIZrt%2FzNkxugCaFfWEPjxh9amOCvytIcdjxOaE68AAmHuU%3D--RPNmoWC%2FGnWTmsfw--9466UG%2Bqs2V%2F8B8zFtXUig%3D%3D'\n",
    "}\n",
    "\n",
    "response = requests.request(\"POST\", url, headers=headers, data=payload)\n",
    "print(response.status_code)\n",
    "print(response.json()[0]['data']['project']['risks'])"
   ]
  },
  {
   "cell_type": "code",
   "execution_count": 363,
   "id": "8879d01f",
   "metadata": {},
   "outputs": [
    {
     "name": "stdout",
     "output_type": "stream",
     "text": [
      "429\n"
     ]
    },
    {
     "ename": "JSONDecodeError",
     "evalue": "Expecting value: line 1 column 1 (char 0)",
     "output_type": "error",
     "traceback": [
      "\u001b[0;31m---------------------------------------------------------------------------\u001b[0m",
      "\u001b[0;31mJSONDecodeError\u001b[0m                           Traceback (most recent call last)",
      "File \u001b[0;32m~/opt/miniconda3/envs/bt4222/lib/python3.9/site-packages/requests/models.py:971\u001b[0m, in \u001b[0;36mResponse.json\u001b[0;34m(self, **kwargs)\u001b[0m\n\u001b[1;32m    970\u001b[0m \u001b[38;5;28;01mtry\u001b[39;00m:\n\u001b[0;32m--> 971\u001b[0m     \u001b[38;5;28;01mreturn\u001b[39;00m \u001b[43mcomplexjson\u001b[49m\u001b[38;5;241;43m.\u001b[39;49m\u001b[43mloads\u001b[49m\u001b[43m(\u001b[49m\u001b[38;5;28;43mself\u001b[39;49m\u001b[38;5;241;43m.\u001b[39;49m\u001b[43mtext\u001b[49m\u001b[43m,\u001b[49m\u001b[43m \u001b[49m\u001b[38;5;241;43m*\u001b[39;49m\u001b[38;5;241;43m*\u001b[39;49m\u001b[43mkwargs\u001b[49m\u001b[43m)\u001b[49m\n\u001b[1;32m    972\u001b[0m \u001b[38;5;28;01mexcept\u001b[39;00m JSONDecodeError \u001b[38;5;28;01mas\u001b[39;00m e:\n\u001b[1;32m    973\u001b[0m     \u001b[38;5;66;03m# Catch JSON-related errors and raise as requests.JSONDecodeError\u001b[39;00m\n\u001b[1;32m    974\u001b[0m     \u001b[38;5;66;03m# This aliases json.JSONDecodeError and simplejson.JSONDecodeError\u001b[39;00m\n",
      "File \u001b[0;32m~/opt/miniconda3/envs/bt4222/lib/python3.9/json/__init__.py:346\u001b[0m, in \u001b[0;36mloads\u001b[0;34m(s, cls, object_hook, parse_float, parse_int, parse_constant, object_pairs_hook, **kw)\u001b[0m\n\u001b[1;32m    343\u001b[0m \u001b[38;5;28;01mif\u001b[39;00m (\u001b[38;5;28mcls\u001b[39m \u001b[38;5;129;01mis\u001b[39;00m \u001b[38;5;28;01mNone\u001b[39;00m \u001b[38;5;129;01mand\u001b[39;00m object_hook \u001b[38;5;129;01mis\u001b[39;00m \u001b[38;5;28;01mNone\u001b[39;00m \u001b[38;5;129;01mand\u001b[39;00m\n\u001b[1;32m    344\u001b[0m         parse_int \u001b[38;5;129;01mis\u001b[39;00m \u001b[38;5;28;01mNone\u001b[39;00m \u001b[38;5;129;01mand\u001b[39;00m parse_float \u001b[38;5;129;01mis\u001b[39;00m \u001b[38;5;28;01mNone\u001b[39;00m \u001b[38;5;129;01mand\u001b[39;00m\n\u001b[1;32m    345\u001b[0m         parse_constant \u001b[38;5;129;01mis\u001b[39;00m \u001b[38;5;28;01mNone\u001b[39;00m \u001b[38;5;129;01mand\u001b[39;00m object_pairs_hook \u001b[38;5;129;01mis\u001b[39;00m \u001b[38;5;28;01mNone\u001b[39;00m \u001b[38;5;129;01mand\u001b[39;00m \u001b[38;5;129;01mnot\u001b[39;00m kw):\n\u001b[0;32m--> 346\u001b[0m     \u001b[38;5;28;01mreturn\u001b[39;00m \u001b[43m_default_decoder\u001b[49m\u001b[38;5;241;43m.\u001b[39;49m\u001b[43mdecode\u001b[49m\u001b[43m(\u001b[49m\u001b[43ms\u001b[49m\u001b[43m)\u001b[49m\n\u001b[1;32m    347\u001b[0m \u001b[38;5;28;01mif\u001b[39;00m \u001b[38;5;28mcls\u001b[39m \u001b[38;5;129;01mis\u001b[39;00m \u001b[38;5;28;01mNone\u001b[39;00m:\n",
      "File \u001b[0;32m~/opt/miniconda3/envs/bt4222/lib/python3.9/json/decoder.py:337\u001b[0m, in \u001b[0;36mJSONDecoder.decode\u001b[0;34m(self, s, _w)\u001b[0m\n\u001b[1;32m    333\u001b[0m \u001b[38;5;124;03m\"\"\"Return the Python representation of ``s`` (a ``str`` instance\u001b[39;00m\n\u001b[1;32m    334\u001b[0m \u001b[38;5;124;03mcontaining a JSON document).\u001b[39;00m\n\u001b[1;32m    335\u001b[0m \n\u001b[1;32m    336\u001b[0m \u001b[38;5;124;03m\"\"\"\u001b[39;00m\n\u001b[0;32m--> 337\u001b[0m obj, end \u001b[38;5;241m=\u001b[39m \u001b[38;5;28;43mself\u001b[39;49m\u001b[38;5;241;43m.\u001b[39;49m\u001b[43mraw_decode\u001b[49m\u001b[43m(\u001b[49m\u001b[43ms\u001b[49m\u001b[43m,\u001b[49m\u001b[43m \u001b[49m\u001b[43midx\u001b[49m\u001b[38;5;241;43m=\u001b[39;49m\u001b[43m_w\u001b[49m\u001b[43m(\u001b[49m\u001b[43ms\u001b[49m\u001b[43m,\u001b[49m\u001b[43m \u001b[49m\u001b[38;5;241;43m0\u001b[39;49m\u001b[43m)\u001b[49m\u001b[38;5;241;43m.\u001b[39;49m\u001b[43mend\u001b[49m\u001b[43m(\u001b[49m\u001b[43m)\u001b[49m\u001b[43m)\u001b[49m\n\u001b[1;32m    338\u001b[0m end \u001b[38;5;241m=\u001b[39m _w(s, end)\u001b[38;5;241m.\u001b[39mend()\n",
      "File \u001b[0;32m~/opt/miniconda3/envs/bt4222/lib/python3.9/json/decoder.py:355\u001b[0m, in \u001b[0;36mJSONDecoder.raw_decode\u001b[0;34m(self, s, idx)\u001b[0m\n\u001b[1;32m    354\u001b[0m \u001b[38;5;28;01mexcept\u001b[39;00m \u001b[38;5;167;01mStopIteration\u001b[39;00m \u001b[38;5;28;01mas\u001b[39;00m err:\n\u001b[0;32m--> 355\u001b[0m     \u001b[38;5;28;01mraise\u001b[39;00m JSONDecodeError(\u001b[38;5;124m\"\u001b[39m\u001b[38;5;124mExpecting value\u001b[39m\u001b[38;5;124m\"\u001b[39m, s, err\u001b[38;5;241m.\u001b[39mvalue) \u001b[38;5;28;01mfrom\u001b[39;00m \u001b[38;5;28mNone\u001b[39m\n\u001b[1;32m    356\u001b[0m \u001b[38;5;28;01mreturn\u001b[39;00m obj, end\n",
      "\u001b[0;31mJSONDecodeError\u001b[0m: Expecting value: line 1 column 1 (char 0)",
      "\nDuring handling of the above exception, another exception occurred:\n",
      "\u001b[0;31mJSONDecodeError\u001b[0m                           Traceback (most recent call last)",
      "Input \u001b[0;32mIn [363]\u001b[0m, in \u001b[0;36m<cell line: 24>\u001b[0;34m()\u001b[0m\n\u001b[1;32m     22\u001b[0m response \u001b[38;5;241m=\u001b[39m requests\u001b[38;5;241m.\u001b[39mrequest(\u001b[38;5;124m\"\u001b[39m\u001b[38;5;124mPOST\u001b[39m\u001b[38;5;124m\"\u001b[39m, url, headers\u001b[38;5;241m=\u001b[39mheaders, data\u001b[38;5;241m=\u001b[39mpayload)\n\u001b[1;32m     23\u001b[0m \u001b[38;5;28mprint\u001b[39m(response\u001b[38;5;241m.\u001b[39mstatus_code)\n\u001b[0;32m---> 24\u001b[0m \u001b[38;5;28mprint\u001b[39m(\u001b[43mresponse\u001b[49m\u001b[38;5;241;43m.\u001b[39;49m\u001b[43mjson\u001b[49m\u001b[43m(\u001b[49m\u001b[43m)\u001b[49m[\u001b[38;5;241m0\u001b[39m][\u001b[38;5;124m'\u001b[39m\u001b[38;5;124mdata\u001b[39m\u001b[38;5;124m'\u001b[39m][\u001b[38;5;124m'\u001b[39m\u001b[38;5;124mproject\u001b[39m\u001b[38;5;124m'\u001b[39m][\u001b[38;5;124m'\u001b[39m\u001b[38;5;124mrisks\u001b[39m\u001b[38;5;124m'\u001b[39m])\n",
      "File \u001b[0;32m~/opt/miniconda3/envs/bt4222/lib/python3.9/site-packages/requests/models.py:975\u001b[0m, in \u001b[0;36mResponse.json\u001b[0;34m(self, **kwargs)\u001b[0m\n\u001b[1;32m    971\u001b[0m     \u001b[38;5;28;01mreturn\u001b[39;00m complexjson\u001b[38;5;241m.\u001b[39mloads(\u001b[38;5;28mself\u001b[39m\u001b[38;5;241m.\u001b[39mtext, \u001b[38;5;241m*\u001b[39m\u001b[38;5;241m*\u001b[39mkwargs)\n\u001b[1;32m    972\u001b[0m \u001b[38;5;28;01mexcept\u001b[39;00m JSONDecodeError \u001b[38;5;28;01mas\u001b[39;00m e:\n\u001b[1;32m    973\u001b[0m     \u001b[38;5;66;03m# Catch JSON-related errors and raise as requests.JSONDecodeError\u001b[39;00m\n\u001b[1;32m    974\u001b[0m     \u001b[38;5;66;03m# This aliases json.JSONDecodeError and simplejson.JSONDecodeError\u001b[39;00m\n\u001b[0;32m--> 975\u001b[0m     \u001b[38;5;28;01mraise\u001b[39;00m RequestsJSONDecodeError(e\u001b[38;5;241m.\u001b[39mmsg, e\u001b[38;5;241m.\u001b[39mdoc, e\u001b[38;5;241m.\u001b[39mpos)\n",
      "\u001b[0;31mJSONDecodeError\u001b[0m: Expecting value: line 1 column 1 (char 0)"
     ]
    }
   ],
   "source": [
    "import requests\n",
    "import json\n",
    "\n",
    "url = \"https://www.kickstarter.com/graph\"\n",
    "\n",
    "payload = json.dumps([\n",
    "  {\n",
    "    \"operationName\": \"Campaign\",\n",
    "    \"variables\": {\n",
    "      \"slug\": \"leightonconnor/akashic-titan-blue-bolt\"\n",
    "    },\n",
    "    \"query\": \"query Campaign($slug: String!) {\\n  project(slug: $slug) {\\n    id\\n    isSharingProjectBudget\\n    risks\\n    story(assetWidth: 680)\\n    currency\\n    spreadsheet {\\n      displayMode\\n      public\\n      url\\n      data {\\n        name\\n        value\\n        phase\\n        rowNum\\n        __typename\\n      }\\n      dataLastUpdatedAt\\n      __typename\\n    }\\n    environmentalCommitments {\\n      id\\n      commitmentCategory\\n      description\\n      __typename\\n    }\\n    __typename\\n  }\\n}\\n\"\n",
    "  }\n",
    "])\n",
    "headers = {\n",
    "  'content-type': 'application/json',\n",
    "  'x-csrf-token': 'fvjxrhwSYir6BG4U761oTRMXCYu4Ql88J4gTJaaXswCLm-qP6vzjo_vw1FdTY3VNpWEmuQb1MZH_JkJ-GuTPew',\n",
    "  'user-agent': 'Mozilla/5.0 (Windows NT 6.1; WOW64) AppleWebKit/537.36 (KHTML, like Gecko) Chrome/47.0.2526.111 Safari/537.36',\n",
    "  'cookie': '_ksr_session=XeMoOdlfAuvBg3vZkCPtR2KPkjnWtoE%2FGrwY68dNgE13OYvjkIxO0Eiaf4Oay2xzILiIHuLsmpCAH%2B9aBGT01%2B7gNDH6exw0dtPhWF5xVSYtZnJawqJNc8IUuF52GC%2FS7QHp1woosgy6PABnOt0X0ITzAvUEg8wwMmv5e1IBYNCmj8ZiCiUwlU2h08X3WX0lQSBSeatHjTEHV%2FgAjhqitXq1xvrNIY7MvvonoTMQat4mSbJKrOzGi74PUMwlhlgHz1oDCWy%2BqAiY%2BIQp9ft4c%2BK2ta8%3D--Rds4wbR2FagzmGoy--ZV4JbIYN8J%2FdS8uWWa5EQw%3D%3D'\n",
    "}\n",
    "\n",
    "response = requests.request(\"POST\", url, headers=headers, data=payload)\n",
    "print(response.status_code)\n",
    "print(response.json()[0]['data']['project']['risks'])"
   ]
  },
  {
   "cell_type": "code",
   "execution_count": 255,
   "id": "75e69bc1",
   "metadata": {},
   "outputs": [],
   "source": [
    "s = requests.Session()\n",
    "headers = {\n",
    "            'content-type': 'application/json',\n",
    "            'User-Agent': 'Mozilla/5.0 (Windows NT 6.1; WOW64; rv:50.0) Gecko/20100101 Firefox/50.0',\n",
    "          }\n",
    "# GET request to kickstarter to get some token needed for later \n",
    "r = s.get(\"https://www.kickstarter.com\", headers=headers)\n",
    "#BeautifulSoup parses the html returned as a response from the GET request \n",
    "soup = BeautifulSoup(r.text, 'html.parser')\n",
    "xcsrf = soup.find(\"meta\", {\"name\": \"csrf-token\"})[\"content\"]"
   ]
  },
  {
   "cell_type": "code",
   "execution_count": null,
   "id": "326ac30c",
   "metadata": {},
   "outputs": [],
   "source": [
    "'User-Agent': 'Mozilla/5.0 (Windows NT 6.1; WOW64; rv:50.0) Gecko/20100101 Firefox/50.0'\n",
    "'user-agent': 'Mozilla/5.0 (Windows NT 10.0; Win64; x64) AppleWebKit/537.36 (KHTML, like Gecko) Chrome/98.0.4758.102 Safari/537.36'"
   ]
  },
  {
   "cell_type": "code",
   "execution_count": 237,
   "id": "9f125ab6",
   "metadata": {},
   "outputs": [
    {
     "name": "stdout",
     "output_type": "stream",
     "text": [
      "hello\n",
      "goodnight\n"
     ]
    }
   ],
   "source": [
    "print(\"hello\")\n",
    "time.sleep(3)\n",
    "print(\"goodnight\")"
   ]
  }
 ],
 "metadata": {
  "kernelspec": {
   "display_name": "bt4222",
   "language": "python",
   "name": "bt4222"
  },
  "language_info": {
   "codemirror_mode": {
    "name": "ipython",
    "version": 3
   },
   "file_extension": ".py",
   "mimetype": "text/x-python",
   "name": "python",
   "nbconvert_exporter": "python",
   "pygments_lexer": "ipython3",
   "version": "3.9.12"
  }
 },
 "nbformat": 4,
 "nbformat_minor": 5
}
