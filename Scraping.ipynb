{
 "cells": [
  {
   "cell_type": "code",
   "execution_count": 159,
   "id": "6ad81392",
   "metadata": {},
   "outputs": [],
   "source": [
    "import requests\n",
    "from bs4 import BeautifulSoup\n",
    "import re\n",
    "import pandas as pd\n",
    "import os \n",
    "import ast\n",
    "import json"
   ]
  },
  {
   "cell_type": "markdown",
   "id": "5190b098",
   "metadata": {},
   "source": [
    "https://stackoverflow.com/questions/62335537/scraping-text-from-kickstarter-projects-return-nothing"
   ]
  },
  {
   "cell_type": "code",
   "execution_count": 160,
   "id": "af7b51d9",
   "metadata": {},
   "outputs": [
    {
     "name": "stdout",
     "output_type": "stream",
     "text": [
      "392244\n",
      "203510\n"
     ]
    },
    {
     "name": "stderr",
     "output_type": "stream",
     "text": [
      "/var/folders/dq/33rpc0cx4f54t0vx2cdcgczr0000gn/T/ipykernel_74056/4110031066.py:5: SettingWithCopyWarning: \n",
      "A value is trying to be set on a copy of a slice from a DataFrame.\n",
      "Try using .loc[row_indexer,col_indexer] = value instead\n",
      "\n",
      "See the caveats in the documentation: https://pandas.pydata.org/pandas-docs/stable/user_guide/indexing.html#returning-a-view-versus-a-copy\n",
      "  df_1['main_url'] = df_1['urls'].apply(lambda x: eval(x)['web']['project'])\n"
     ]
    }
   ],
   "source": [
    "base = \"/Users/ivankoh/Downloads/kickstarter data/\"\n",
    "filepaths = [base + f for f in os.listdir(base) if f.endswith('.csv')]\n",
    "df = pd.concat(map(pd.read_csv, filepaths))\n",
    "df_1 = df.drop_duplicates(subset=['id'])\n",
    "df_1['main_url'] = df_1['urls'].apply(lambda x: eval(x)['web']['project'])\n",
    "print(len(df))\n",
    "print(len(df_1))"
   ]
  },
  {
   "cell_type": "code",
   "execution_count": 170,
   "id": "420bf3ee",
   "metadata": {},
   "outputs": [
    {
     "ename": "TypeError",
     "evalue": "'NoneType' object is not subscriptable",
     "output_type": "error",
     "traceback": [
      "\u001b[0;31m---------------------------------------------------------------------------\u001b[0m",
      "\u001b[0;31mTypeError\u001b[0m                                 Traceback (most recent call last)",
      "Input \u001b[0;32mIn [170]\u001b[0m, in \u001b[0;36m<cell line: 16>\u001b[0;34m()\u001b[0m\n\u001b[1;32m     14\u001b[0m r \u001b[38;5;241m=\u001b[39m s\u001b[38;5;241m.\u001b[39mget(\u001b[38;5;124m\"\u001b[39m\u001b[38;5;124mhttps://www.kickstarter.com\u001b[39m\u001b[38;5;124m\"\u001b[39m, headers\u001b[38;5;241m=\u001b[39mheaders)\n\u001b[1;32m     15\u001b[0m soup \u001b[38;5;241m=\u001b[39m BeautifulSoup(r\u001b[38;5;241m.\u001b[39mtext, \u001b[38;5;124m'\u001b[39m\u001b[38;5;124mhtml.parser\u001b[39m\u001b[38;5;124m'\u001b[39m)\n\u001b[0;32m---> 16\u001b[0m xcsrf \u001b[38;5;241m=\u001b[39m \u001b[43msoup\u001b[49m\u001b[38;5;241;43m.\u001b[39;49m\u001b[43mfind\u001b[49m\u001b[43m(\u001b[49m\u001b[38;5;124;43m\"\u001b[39;49m\u001b[38;5;124;43mmeta\u001b[39;49m\u001b[38;5;124;43m\"\u001b[39;49m\u001b[43m,\u001b[49m\u001b[43m \u001b[49m\u001b[43m{\u001b[49m\u001b[38;5;124;43m\"\u001b[39;49m\u001b[38;5;124;43mname\u001b[39;49m\u001b[38;5;124;43m\"\u001b[39;49m\u001b[43m:\u001b[49m\u001b[43m \u001b[49m\u001b[38;5;124;43m\"\u001b[39;49m\u001b[38;5;124;43mcsrf-token\u001b[39;49m\u001b[38;5;124;43m\"\u001b[39;49m\u001b[43m}\u001b[49m\u001b[43m)\u001b[49m\u001b[43m[\u001b[49m\u001b[38;5;124;43m\"\u001b[39;49m\u001b[38;5;124;43mcontent\u001b[39;49m\u001b[38;5;124;43m\"\u001b[39;49m\u001b[43m]\u001b[49m\n\u001b[1;32m     18\u001b[0m query \u001b[38;5;241m=\u001b[39m \u001b[38;5;124m\"\"\"\u001b[39m\n\u001b[1;32m     19\u001b[0m \u001b[38;5;124mquery Campaign($slug: String!) \u001b[39m\u001b[38;5;124m{\u001b[39m\n\u001b[1;32m     20\u001b[0m \u001b[38;5;124m  project(slug: $slug) \u001b[39m\u001b[38;5;124m{\u001b[39m\n\u001b[0;32m   (...)\u001b[0m\n\u001b[1;32m     23\u001b[0m \u001b[38;5;124m  }\u001b[39m\n\u001b[1;32m     24\u001b[0m \u001b[38;5;124m}\u001b[39m\u001b[38;5;124m\"\"\"\u001b[39m\n\u001b[1;32m     26\u001b[0m \u001b[38;5;28;01mfor\u001b[39;00m slug \u001b[38;5;129;01min\u001b[39;00m slugs:\n",
      "\u001b[0;31mTypeError\u001b[0m: 'NoneType' object is not subscriptable"
     ]
    }
   ],
   "source": [
    "def get_slug(url):\n",
    "    return re.search('/projects/(.*)\\?', url).group(1)\n",
    "\n",
    "# get the slug from the urls. the slug is the input to the GraphQL API call \n",
    "slugs = list(map(get_slug, df_1['main_url'].tolist()))\n",
    "# while iterating through all projects, add the story and risk to these lists. At the end len of both list \n",
    "# should be the same as the len of the dataframe. if all good then add as columns to the dataframe df. \n",
    "story_list = []\n",
    "risk_list = []\n",
    "\n",
    "# instantiate a new Session \n",
    "s = requests.Session()\n",
    "headers = {\n",
    "            'content-type': 'application/json',\n",
    "            'User-Agent': 'Mozilla/5.0 (Windows NT 6.1; WOW64; rv:50.0) Gecko/20100101 Firefox/50.0',\n",
    "           'cookie': '_ksr_session=fc2U7qXXaRN91foNiE53NyU3s181NZO0Ll57xPkYxZ5iyUNgus35a0HwsPBTfViBY%2ByAKbtpRirAVLxOGKzG%2BYMOmsLRBPujZep%2Fca%2B1%2FXzW3xX56VXkh5w6ItYhIctEFifQQhw3rTmvoljyHw%3D%3D--4pK6xBEgChjqgmte--LH4Q1qSnhU%2FYX9JgTzGuSQ%3D%3D;'\n",
    "          }\n",
    "# GET request to kickstarter to get some token needed for later \n",
    "r = s.get(\"https://www.kickstarter.com\", headers=headers)\n",
    "# BeautifulSoup parses the html returned as a response from the GET request \n",
    "soup = BeautifulSoup(r.text, 'html.parser')\n",
    "xcsrf = soup.find(\"meta\", {\"name\": \"csrf-token\"})[\"content\"]\n",
    "\n",
    "query = \"\"\"\n",
    "query Campaign($slug: String!) {\n",
    "  project(slug: $slug) {\n",
    "    risks\n",
    "    story(assetWidth: 680)\n",
    "  }\n",
    "}\"\"\"\n",
    "\n",
    "for slug in slugs:\n",
    "    print(f\"--------{slug}------\")\n",
    "    # POST request to GraphQL API situated in kickstarter domain \n",
    "    # response from POST request should contain the story and risks\n",
    "    r = s.post(\"https://www.kickstarter.com/graph\",\n",
    "        headers= {\n",
    "            \"x-csrf-token\": xcsrf,\n",
    "            'User-Agent': 'Mozilla/5.0 (Macintosh; Intel Mac OS X 10_15_7) AppleWebKit/537.36 (KHTML, like Gecko) Chrome/105.0.0.0 Safari/537.36',\n",
    "            'cookie': '_ksr_session=fc2U7qXXaRN91foNiE53NyU3s181NZO0Ll57xPkYxZ5iyUNgus35a0HwsPBTfViBY%2ByAKbtpRirAVLxOGKzG%2BYMOmsLRBPujZep%2Fca%2B1%2FXzW3xX56VXkh5w6ItYhIctEFifQQhw3rTmvoljyHw%3D%3D--4pK6xBEgChjqgmte--LH4Q1qSnhU%2FYX9JgTzGuSQ%3D%3D;'\n",
    "        },\n",
    "        json = {\n",
    "            \"operationName\":\"Campaign\",\n",
    "            \"variables\":{\n",
    "                \"slug\": slug\n",
    "            },\n",
    "            \"query\": query\n",
    "        })\n",
    "    try:\n",
    "        result = r.json()\n",
    "        print(\"-------STORY--------\")\n",
    "        story_html = result[\"data\"][\"project\"][\"story\"]\n",
    "        soup = BeautifulSoup(story_html, 'html.parser')\n",
    "        curr_story = []\n",
    "        for i in soup.find_all('p'):\n",
    "            print(i.get_text())\n",
    "            curr_story.append(i.get_text())\n",
    "        story_list.append(\" \".join(curr_story) if curr_story else \"\")\n",
    "\n",
    "        print(\"-------RISKS--------\")\n",
    "        print(result[\"data\"][\"project\"][\"risks\"])\n",
    "        risk_list.append(result[\"data\"][\"project\"][\"risks\"] if result[\"data\"][\"project\"][\"risks\"] else \"\")\n",
    "    except:\n",
    "        print(r)\n",
    "        story_list.append(\"\")\n",
    "        risk_list.append(\"\")\n",
    "        continue"
   ]
  },
  {
   "cell_type": "code",
   "execution_count": 165,
   "id": "972799b8",
   "metadata": {},
   "outputs": [],
   "source": [
    "s = requests.Session()"
   ]
  },
  {
   "cell_type": "code",
   "execution_count": 171,
   "id": "024f0641",
   "metadata": {},
   "outputs": [
    {
     "name": "stdout",
     "output_type": "stream",
     "text": [
      "200\n",
      "This is my fourth solo Kickstarter campaign, and I delivered all three of my previous games in a timely manner. \n",
      "\n",
      "I have a complete draft of the text, with the exception of Appendix 1. I have a team of editors lined up who will give me feedback so that I can revise, expand, and polish it as needed. The most time-consuming tasks will be completing the artwork and the layout. I've done this before, with the previous Akashic Titan zine and with my game Project 8Ball. Depending on the stretch goals I will be depending on someone else for illustrations and additional text, but I have worked with Josh before and I am confident he will hit his deadlines. \n",
      "\n",
      "I believe I will be able to finish the book by June, but just to be cautious I have set the estimated delivery month as July. \n",
      "\n",
      "Barring any unforeseen catastrophes, I should have no problem printing and shipping the zine by July.\n"
     ]
    }
   ],
   "source": [
    "import requests\n",
    "import json\n",
    "\n",
    "url = \"https://www.kickstarter.com/graph\"\n",
    "\n",
    "payload = json.dumps([\n",
    "  {\n",
    "    \"operationName\": \"Campaign\",\n",
    "    \"variables\": {\n",
    "      \"slug\": \"leightonconnor/akashic-titan-blue-bolt\"\n",
    "    },\n",
    "    \"query\": \"query Campaign($slug: String!) {\\n  project(slug: $slug) {\\n    id\\n    isSharingProjectBudget\\n    risks\\n    story(assetWidth: 680)\\n    currency\\n    spreadsheet {\\n      displayMode\\n      public\\n      url\\n      data {\\n        name\\n        value\\n        phase\\n        rowNum\\n        __typename\\n      }\\n      dataLastUpdatedAt\\n      __typename\\n    }\\n    environmentalCommitments {\\n      id\\n      commitmentCategory\\n      description\\n      __typename\\n    }\\n    __typename\\n  }\\n}\\n\"\n",
    "  }\n",
    "])\n",
    "headers = {\n",
    "  'content-type': 'application/json',\n",
    "  'x-csrf-token': 'AZsT67Z9s-LHZt6ZJXLSQWJlNdd7biKz2XDfFMkcYMZrNufH1OWoFhNBlXIvxCrxKRzV6l8bG_Z6QlcRoYMe_g',\n",
    "  'user-agent': 'Mozilla/5.0 (Windows NT 10.0; Win64; x64) AppleWebKit/537.36 (KHTML, like Gecko) Chrome/98.0.4758.102 Safari/537.36',\n",
    "  'cookie': '_ksr_session=fc2U7qXXaRN91foNiE53NyU3s181NZO0Ll57xPkYxZ5iyUNgus35a0HwsPBTfViBY%2ByAKbtpRirAVLxOGKzG%2BYMOmsLRBPujZep%2Fca%2B1%2FXzW3xX56VXkh5w6ItYhIctEFifQQhw3rTmvoljyHw%3D%3D--4pK6xBEgChjqgmte--LH4Q1qSnhU%2FYX9JgTzGuSQ%3D%3D;'\n",
    "}\n",
    "\n",
    "response = requests.request(\"POST\", url, headers=headers, data=payload)\n",
    "print(response.status_code)\n",
    "print(response.json()[0]['data']['project']['risks'])"
   ]
  },
  {
   "cell_type": "code",
   "execution_count": null,
   "id": "bfcf0ae4",
   "metadata": {},
   "outputs": [],
   "source": []
  }
 ],
 "metadata": {
  "kernelspec": {
   "display_name": "bt4222",
   "language": "python",
   "name": "bt4222"
  },
  "language_info": {
   "codemirror_mode": {
    "name": "ipython",
    "version": 3
   },
   "file_extension": ".py",
   "mimetype": "text/x-python",
   "name": "python",
   "nbconvert_exporter": "python",
   "pygments_lexer": "ipython3",
   "version": "3.9.12"
  }
 },
 "nbformat": 4,
 "nbformat_minor": 5
}
