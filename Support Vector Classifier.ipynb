{
 "cells": [
  {
   "cell_type": "code",
   "execution_count": 13,
   "id": "d84f715e",
   "metadata": {
    "ExecuteTime": {
     "end_time": "2022-10-21T11:28:40.303187Z",
     "start_time": "2022-10-21T11:28:40.290294Z"
    }
   },
   "outputs": [],
   "source": [
    "import pandas as pd \n",
    "import numpy as np\n",
    "import seaborn as sns\n",
    "import matplotlib.pyplot as plt\n",
    "%matplotlib inline\n",
    "from sklearn.svm import SVC\n",
    "from sklearn.model_selection import GridSearchCV, RandomizedSearchCV, RepeatedStratifiedKFold\n",
    "from sklearn.metrics import classification_report, confusion_matrix, roc_auc_score\n",
    "from sklearn.preprocessing import MinMaxScaler\n",
    "import glob\n",
    "import os\n",
    "import time "
   ]
  },
  {
   "cell_type": "code",
   "execution_count": 14,
   "id": "bbad784c",
   "metadata": {
    "ExecuteTime": {
     "end_time": "2022-10-21T11:28:40.995682Z",
     "start_time": "2022-10-21T11:28:40.307794Z"
    }
   },
   "outputs": [
    {
     "name": "stdout",
     "output_type": "stream",
     "text": [
      "/Users/ivankoh/Library/CloudStorage/OneDrive-NationalUniversityofSingapore/1D/NUS Y3S1/BT4222/Data/train/kickstarter_train_final_20221021-185107.csv\n"
     ]
    }
   ],
   "source": [
    "train_path = max(glob.glob('/Users/ivankoh/Library/CloudStorage/OneDrive-NationalUniversityofSingapore/1D/NUS Y3S1/BT4222/Data/train/*.csv'), key=os.path.getctime) \n",
    "print(train_path)\n",
    "df = pd.read_csv(train_path)"
   ]
  },
  {
   "cell_type": "markdown",
   "id": "4f36eaa9",
   "metadata": {},
   "source": [
    "## Get to the correct data format"
   ]
  },
  {
   "cell_type": "code",
   "execution_count": 15,
   "id": "a34b0d31",
   "metadata": {
    "ExecuteTime": {
     "end_time": "2022-10-21T11:28:41.039161Z",
     "start_time": "2022-10-21T11:28:40.996459Z"
    }
   },
   "outputs": [],
   "source": [
    "X_train, y_train = df.drop('state', axis=1).to_numpy(), df['state'].to_numpy()"
   ]
  },
  {
   "cell_type": "markdown",
   "id": "51684853",
   "metadata": {},
   "source": [
    "## Randomized Search with K-fold CV applied to SVC\n",
    "\n",
    "**Hyperparameter Tuning**\n",
    "\n",
    "We will use RandomizedSearchCV for hyperparameter tuning."
   ]
  },
  {
   "cell_type": "markdown",
   "id": "f4e8ce17",
   "metadata": {},
   "source": [
    "### 1. Training"
   ]
  },
  {
   "cell_type": "code",
   "execution_count": null,
   "id": "95f627af",
   "metadata": {
    "ExecuteTime": {
     "start_time": "2022-10-21T11:28:40.290Z"
    },
    "scrolled": true
   },
   "outputs": [
    {
     "name": "stdout",
     "output_type": "stream",
     "text": [
      "Fitting 15 folds for each of 10 candidates, totalling 150 fits\n"
     ]
    }
   ],
   "source": [
    "# Hyper-parameters\n",
    "gamma = [1e-7,1e-6,1e-5,1e-4,1e-3,1e-2,1e-1,1e0,1e1]\n",
    "C = [1e-3,1e-2,1e-1,1e0,1e1,1e2,1e3,1e4,1e5]\n",
    "kernels = ['rbf', 'linear']  #poly takes forever to train 'sigmoid'\n",
    "\n",
    "params = {'C': C, 'gamma': gamma, 'kernel': kernels}\n",
    "cv_method = RepeatedStratifiedKFold(n_splits=5, \n",
    "                                    n_repeats=3, \n",
    "                                    random_state=2022)\n",
    "svc_randomcv = RandomizedSearchCV(\n",
    "    estimator=SVC(),\n",
    "    param_distributions=params,\n",
    "    n_iter=10, \n",
    "    cv=cv_method,\n",
    "    verbose=2,\n",
    "    random_state=2022,\n",
    "    n_jobs=-1, # use all processors,\n",
    "    scoring='roc_auc'\n",
    ")\n",
    "\n",
    "svc_randomcv.fit(X_train, y_train)"
   ]
  },
  {
   "cell_type": "markdown",
   "id": "d60e3f2e",
   "metadata": {},
   "source": [
    "### 2. Best Hyper-parameters"
   ]
  },
  {
   "cell_type": "code",
   "execution_count": null,
   "id": "a4e729c8",
   "metadata": {
    "ExecuteTime": {
     "start_time": "2022-10-21T11:28:40.290Z"
    }
   },
   "outputs": [],
   "source": [
    "print(svc_randomcv.best_params_)\n",
    "print(svc_randomcv.best_score_)"
   ]
  },
  {
   "cell_type": "markdown",
   "id": "1a8b88de",
   "metadata": {},
   "source": [
    "### 3. Testing"
   ]
  },
  {
   "cell_type": "code",
   "execution_count": null,
   "id": "0528b156",
   "metadata": {
    "ExecuteTime": {
     "start_time": "2022-10-21T11:28:40.291Z"
    }
   },
   "outputs": [],
   "source": [
    "test_path = max(glob.glob('/Users/ivankoh/Library/CloudStorage/OneDrive-NationalUniversityofSingapore/1D/NUS Y3S1/BT4222/Data/test/*.csv'), key=os.path.getctime) \n",
    "print(test_path)\n",
    "test = pd.read_csv(test_path)\n",
    "\n",
    "X_test, y_test = test.drop('state', axis=1).to_numpy(), test['state'].to_numpy()"
   ]
  },
  {
   "cell_type": "code",
   "execution_count": null,
   "id": "fb5bb73f",
   "metadata": {
    "ExecuteTime": {
     "start_time": "2022-10-21T11:28:40.292Z"
    }
   },
   "outputs": [],
   "source": [
    "print(X_train.shape)\n",
    "print(y_train.shape)\n",
    "print(X_test.shape)\n",
    "print(y_test.shape)"
   ]
  },
  {
   "cell_type": "code",
   "execution_count": null,
   "id": "81a8e15e",
   "metadata": {
    "ExecuteTime": {
     "start_time": "2022-10-21T11:28:40.292Z"
    }
   },
   "outputs": [],
   "source": [
    "best_clf = SVC(**svc_randomcv.best_params_)\n",
    "\n",
    "start_time = time.time()\n",
    "best_clf.fit(X_train, y_train)\n",
    "y_pred_test = best_clf.predict(X_test)\n",
    "\n",
    "time_taken = time.time() - start_time\n",
    "print(\"Total time taken for the program execution\", time_taken) # seconds\n",
    "\n",
    "print(classification_report(y_test, y_pred_test, digits=5))\n",
    "roc_auc_score(y_test, y_pred_test)"
   ]
  },
  {
   "cell_type": "code",
   "execution_count": null,
   "id": "73e251db",
   "metadata": {},
   "outputs": [],
   "source": []
  }
 ],
 "metadata": {
  "kernelspec": {
   "display_name": "Python 3.9 (bt4222)",
   "language": "python",
   "name": "bt4222"
  },
  "language_info": {
   "codemirror_mode": {
    "name": "ipython",
    "version": 3
   },
   "file_extension": ".py",
   "mimetype": "text/x-python",
   "name": "python",
   "nbconvert_exporter": "python",
   "pygments_lexer": "ipython3",
   "version": "3.9.12"
  },
  "toc": {
   "base_numbering": 1,
   "nav_menu": {},
   "number_sections": true,
   "sideBar": true,
   "skip_h1_title": false,
   "title_cell": "Table of Contents",
   "title_sidebar": "Contents",
   "toc_cell": false,
   "toc_position": {
    "height": "calc(100% - 180px)",
    "left": "10px",
    "top": "150px",
    "width": "272px"
   },
   "toc_section_display": true,
   "toc_window_display": true
  }
 },
 "nbformat": 4,
 "nbformat_minor": 5
}
