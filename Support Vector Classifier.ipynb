{
 "cells": [
  {
   "cell_type": "code",
   "execution_count": 54,
   "id": "d84f715e",
   "metadata": {
    "ExecuteTime": {
     "end_time": "2022-10-15T06:47:23.207681Z",
     "start_time": "2022-10-15T06:47:23.188355Z"
    }
   },
   "outputs": [],
   "source": [
    "import pandas as pd \n",
    "import numpy as np\n",
    "import seaborn as sns\n",
    "import matplotlib.pyplot as plt\n",
    "%matplotlib inline\n",
    "from sklearn.svm import SVC\n",
    "from sklearn.model_selection import GridSearchCV\n",
    "from sklearn.metrics import classification_report, confusion_matrix, roc_auc_score\n",
    "from sklearn.preprocessing import MinMaxScaler\n",
    "import glob\n",
    "import os"
   ]
  },
  {
   "cell_type": "code",
   "execution_count": 55,
   "id": "bbad784c",
   "metadata": {
    "ExecuteTime": {
     "end_time": "2022-10-15T06:47:24.576587Z",
     "start_time": "2022-10-15T06:47:23.759383Z"
    }
   },
   "outputs": [
    {
     "name": "stdout",
     "output_type": "stream",
     "text": [
      "/Users/ivankoh/Library/CloudStorage/OneDrive-NationalUniversityofSingapore/1D/NUS Y3S1/BT4222/Data/train/kickstarter_train_final_20221015-144713.csv\n"
     ]
    }
   ],
   "source": [
    "train_path = max(glob.glob('/Users/ivankoh/Library/CloudStorage/OneDrive-NationalUniversityofSingapore/1D/NUS Y3S1/BT4222/Data/train/*.csv'), key=os.path.getctime) \n",
    "print(train_path)\n",
    "df = pd.read_csv(train_path)"
   ]
  },
  {
   "cell_type": "markdown",
   "id": "4f36eaa9",
   "metadata": {},
   "source": [
    "## Get to the correct data format"
   ]
  },
  {
   "cell_type": "code",
   "execution_count": 56,
   "id": "a34b0d31",
   "metadata": {
    "ExecuteTime": {
     "end_time": "2022-10-15T06:47:27.770813Z",
     "start_time": "2022-10-15T06:47:27.703133Z"
    }
   },
   "outputs": [],
   "source": [
    "X_train, y_train = df.drop('state', axis=1).to_numpy(), df['state'].to_numpy()"
   ]
  },
  {
   "cell_type": "markdown",
   "id": "51684853",
   "metadata": {},
   "source": [
    "## Grid Search with K-fold CV applied to SVC\n",
    "\n",
    "5 folds \n",
    "- approx 311 per fold \n",
    "- 62 validation data \n",
    "- 249 train data"
   ]
  },
  {
   "cell_type": "markdown",
   "id": "f4e8ce17",
   "metadata": {},
   "source": [
    "### 1. Training"
   ]
  },
  {
   "cell_type": "code",
   "execution_count": 57,
   "id": "95f627af",
   "metadata": {
    "ExecuteTime": {
     "end_time": "2022-10-15T20:16:26.734290Z",
     "start_time": "2022-10-15T06:47:31.028660Z"
    },
    "scrolled": true
   },
   "outputs": [
    {
     "name": "stdout",
     "output_type": "stream",
     "text": [
      "Fitting 5 folds for each of 16 candidates, totalling 80 fits\n",
      "[CV] END .........................C=0.1, gamma=1, kernel=rbf; total time= 7.9min\n",
      "[CV] END .........................C=0.1, gamma=1, kernel=rbf; total time= 7.9min\n",
      "[CV] END .........................C=0.1, gamma=1, kernel=rbf; total time= 7.8min\n",
      "[CV] END .........................C=0.1, gamma=1, kernel=rbf; total time= 7.9min\n",
      "[CV] END .........................C=0.1, gamma=1, kernel=rbf; total time= 7.9min\n",
      "[CV] END .......................C=0.1, gamma=0.1, kernel=rbf; total time= 7.9min\n",
      "[CV] END .......................C=0.1, gamma=0.1, kernel=rbf; total time= 7.9min\n",
      "[CV] END .......................C=0.1, gamma=0.1, kernel=rbf; total time= 7.9min\n",
      "[CV] END .......................C=0.1, gamma=0.1, kernel=rbf; total time= 7.9min\n",
      "[CV] END .......................C=0.1, gamma=0.1, kernel=rbf; total time= 7.9min\n",
      "[CV] END ......................C=0.1, gamma=0.01, kernel=rbf; total time= 6.6min\n",
      "[CV] END ......................C=0.1, gamma=0.01, kernel=rbf; total time= 6.5min\n",
      "[CV] END ......................C=0.1, gamma=0.01, kernel=rbf; total time= 6.5min\n",
      "[CV] END ......................C=0.1, gamma=0.01, kernel=rbf; total time= 6.5min\n",
      "[CV] END ......................C=0.1, gamma=0.01, kernel=rbf; total time= 6.5min\n",
      "[CV] END .....................C=0.1, gamma=0.001, kernel=rbf; total time= 5.3min\n",
      "[CV] END .....................C=0.1, gamma=0.001, kernel=rbf; total time= 6.0min\n",
      "[CV] END .....................C=0.1, gamma=0.001, kernel=rbf; total time= 5.3min\n",
      "[CV] END .....................C=0.1, gamma=0.001, kernel=rbf; total time= 5.4min\n",
      "[CV] END .....................C=0.1, gamma=0.001, kernel=rbf; total time= 5.3min\n",
      "[CV] END ...........................C=1, gamma=1, kernel=rbf; total time=10.1min\n",
      "[CV] END ...........................C=1, gamma=1, kernel=rbf; total time=10.2min\n",
      "[CV] END ...........................C=1, gamma=1, kernel=rbf; total time=10.1min\n",
      "[CV] END ...........................C=1, gamma=1, kernel=rbf; total time=10.0min\n",
      "[CV] END ...........................C=1, gamma=1, kernel=rbf; total time=10.0min\n",
      "[CV] END .........................C=1, gamma=0.1, kernel=rbf; total time= 9.6min\n",
      "[CV] END .........................C=1, gamma=0.1, kernel=rbf; total time= 9.6min\n",
      "[CV] END .........................C=1, gamma=0.1, kernel=rbf; total time= 9.6min\n",
      "[CV] END .........................C=1, gamma=0.1, kernel=rbf; total time= 9.8min\n",
      "[CV] END .........................C=1, gamma=0.1, kernel=rbf; total time= 9.8min\n",
      "[CV] END ........................C=1, gamma=0.01, kernel=rbf; total time= 7.9min\n",
      "[CV] END ........................C=1, gamma=0.01, kernel=rbf; total time= 7.9min\n",
      "[CV] END ........................C=1, gamma=0.01, kernel=rbf; total time= 7.9min\n",
      "[CV] END ........................C=1, gamma=0.01, kernel=rbf; total time= 7.9min\n",
      "[CV] END ........................C=1, gamma=0.01, kernel=rbf; total time= 7.9min\n",
      "[CV] END .......................C=1, gamma=0.001, kernel=rbf; total time= 6.3min\n",
      "[CV] END .......................C=1, gamma=0.001, kernel=rbf; total time= 6.9min\n",
      "[CV] END .......................C=1, gamma=0.001, kernel=rbf; total time= 6.3min\n",
      "[CV] END .......................C=1, gamma=0.001, kernel=rbf; total time= 6.9min\n",
      "[CV] END .......................C=1, gamma=0.001, kernel=rbf; total time= 6.3min\n",
      "[CV] END ..........................C=10, gamma=1, kernel=rbf; total time=14.3min\n",
      "[CV] END ..........................C=10, gamma=1, kernel=rbf; total time=14.3min\n",
      "[CV] END ..........................C=10, gamma=1, kernel=rbf; total time=14.5min\n",
      "[CV] END ..........................C=10, gamma=1, kernel=rbf; total time=14.3min\n",
      "[CV] END ..........................C=10, gamma=1, kernel=rbf; total time=14.2min\n",
      "[CV] END ........................C=10, gamma=0.1, kernel=rbf; total time=14.5min\n",
      "[CV] END ........................C=10, gamma=0.1, kernel=rbf; total time=14.3min\n",
      "[CV] END ........................C=10, gamma=0.1, kernel=rbf; total time=14.6min\n",
      "[CV] END ........................C=10, gamma=0.1, kernel=rbf; total time=14.4min\n",
      "[CV] END ........................C=10, gamma=0.1, kernel=rbf; total time=14.3min\n",
      "[CV] END .......................C=10, gamma=0.01, kernel=rbf; total time= 9.5min\n",
      "[CV] END .......................C=10, gamma=0.01, kernel=rbf; total time= 9.5min\n",
      "[CV] END .......................C=10, gamma=0.01, kernel=rbf; total time= 9.4min\n",
      "[CV] END .......................C=10, gamma=0.01, kernel=rbf; total time= 9.4min\n",
      "[CV] END .......................C=10, gamma=0.01, kernel=rbf; total time= 9.5min\n",
      "[CV] END ......................C=10, gamma=0.001, kernel=rbf; total time= 9.9min\n",
      "[CV] END ......................C=10, gamma=0.001, kernel=rbf; total time=10.4min\n",
      "[CV] END ......................C=10, gamma=0.001, kernel=rbf; total time= 9.8min\n",
      "[CV] END ......................C=10, gamma=0.001, kernel=rbf; total time= 9.8min\n",
      "[CV] END ......................C=10, gamma=0.001, kernel=rbf; total time= 9.9min\n",
      "[CV] END .........................C=100, gamma=1, kernel=rbf; total time=13.8min\n",
      "[CV] END .........................C=100, gamma=1, kernel=rbf; total time=14.1min\n",
      "[CV] END .........................C=100, gamma=1, kernel=rbf; total time=14.3min\n",
      "[CV] END .........................C=100, gamma=1, kernel=rbf; total time=14.0min\n",
      "[CV] END .........................C=100, gamma=1, kernel=rbf; total time=13.9min\n",
      "[CV] END .......................C=100, gamma=0.1, kernel=rbf; total time=13.9min\n",
      "[CV] END .......................C=100, gamma=0.1, kernel=rbf; total time=14.0min\n",
      "[CV] END .......................C=100, gamma=0.1, kernel=rbf; total time=14.2min\n",
      "[CV] END .......................C=100, gamma=0.1, kernel=rbf; total time=14.1min\n",
      "[CV] END .......................C=100, gamma=0.1, kernel=rbf; total time=14.1min\n",
      "[CV] END ......................C=100, gamma=0.01, kernel=rbf; total time= 9.4min\n",
      "[CV] END ......................C=100, gamma=0.01, kernel=rbf; total time= 9.4min\n",
      "[CV] END ......................C=100, gamma=0.01, kernel=rbf; total time= 9.4min\n",
      "[CV] END ......................C=100, gamma=0.01, kernel=rbf; total time= 9.4min\n",
      "[CV] END ......................C=100, gamma=0.01, kernel=rbf; total time= 9.4min\n",
      "[CV] END .....................C=100, gamma=0.001, kernel=rbf; total time=12.5min\n",
      "[CV] END .....................C=100, gamma=0.001, kernel=rbf; total time=12.5min\n",
      "[CV] END .....................C=100, gamma=0.001, kernel=rbf; total time=12.2min\n",
      "[CV] END .....................C=100, gamma=0.001, kernel=rbf; total time=12.3min\n",
      "[CV] END .....................C=100, gamma=0.001, kernel=rbf; total time=13.0min\n"
     ]
    },
    {
     "data": {
      "text/html": [
       "<style>#sk-container-id-2 {color: black;background-color: white;}#sk-container-id-2 pre{padding: 0;}#sk-container-id-2 div.sk-toggleable {background-color: white;}#sk-container-id-2 label.sk-toggleable__label {cursor: pointer;display: block;width: 100%;margin-bottom: 0;padding: 0.3em;box-sizing: border-box;text-align: center;}#sk-container-id-2 label.sk-toggleable__label-arrow:before {content: \"▸\";float: left;margin-right: 0.25em;color: #696969;}#sk-container-id-2 label.sk-toggleable__label-arrow:hover:before {color: black;}#sk-container-id-2 div.sk-estimator:hover label.sk-toggleable__label-arrow:before {color: black;}#sk-container-id-2 div.sk-toggleable__content {max-height: 0;max-width: 0;overflow: hidden;text-align: left;background-color: #f0f8ff;}#sk-container-id-2 div.sk-toggleable__content pre {margin: 0.2em;color: black;border-radius: 0.25em;background-color: #f0f8ff;}#sk-container-id-2 input.sk-toggleable__control:checked~div.sk-toggleable__content {max-height: 200px;max-width: 100%;overflow: auto;}#sk-container-id-2 input.sk-toggleable__control:checked~label.sk-toggleable__label-arrow:before {content: \"▾\";}#sk-container-id-2 div.sk-estimator input.sk-toggleable__control:checked~label.sk-toggleable__label {background-color: #d4ebff;}#sk-container-id-2 div.sk-label input.sk-toggleable__control:checked~label.sk-toggleable__label {background-color: #d4ebff;}#sk-container-id-2 input.sk-hidden--visually {border: 0;clip: rect(1px 1px 1px 1px);clip: rect(1px, 1px, 1px, 1px);height: 1px;margin: -1px;overflow: hidden;padding: 0;position: absolute;width: 1px;}#sk-container-id-2 div.sk-estimator {font-family: monospace;background-color: #f0f8ff;border: 1px dotted black;border-radius: 0.25em;box-sizing: border-box;margin-bottom: 0.5em;}#sk-container-id-2 div.sk-estimator:hover {background-color: #d4ebff;}#sk-container-id-2 div.sk-parallel-item::after {content: \"\";width: 100%;border-bottom: 1px solid gray;flex-grow: 1;}#sk-container-id-2 div.sk-label:hover label.sk-toggleable__label {background-color: #d4ebff;}#sk-container-id-2 div.sk-serial::before {content: \"\";position: absolute;border-left: 1px solid gray;box-sizing: border-box;top: 0;bottom: 0;left: 50%;z-index: 0;}#sk-container-id-2 div.sk-serial {display: flex;flex-direction: column;align-items: center;background-color: white;padding-right: 0.2em;padding-left: 0.2em;position: relative;}#sk-container-id-2 div.sk-item {position: relative;z-index: 1;}#sk-container-id-2 div.sk-parallel {display: flex;align-items: stretch;justify-content: center;background-color: white;position: relative;}#sk-container-id-2 div.sk-item::before, #sk-container-id-2 div.sk-parallel-item::before {content: \"\";position: absolute;border-left: 1px solid gray;box-sizing: border-box;top: 0;bottom: 0;left: 50%;z-index: -1;}#sk-container-id-2 div.sk-parallel-item {display: flex;flex-direction: column;z-index: 1;position: relative;background-color: white;}#sk-container-id-2 div.sk-parallel-item:first-child::after {align-self: flex-end;width: 50%;}#sk-container-id-2 div.sk-parallel-item:last-child::after {align-self: flex-start;width: 50%;}#sk-container-id-2 div.sk-parallel-item:only-child::after {width: 0;}#sk-container-id-2 div.sk-dashed-wrapped {border: 1px dashed gray;margin: 0 0.4em 0.5em 0.4em;box-sizing: border-box;padding-bottom: 0.4em;background-color: white;}#sk-container-id-2 div.sk-label label {font-family: monospace;font-weight: bold;display: inline-block;line-height: 1.2em;}#sk-container-id-2 div.sk-label-container {text-align: center;}#sk-container-id-2 div.sk-container {/* jupyter's `normalize.less` sets `[hidden] { display: none; }` but bootstrap.min.css set `[hidden] { display: none !important; }` so we also need the `!important` here to be able to override the default hidden behavior on the sphinx rendered scikit-learn.org. See: https://github.com/scikit-learn/scikit-learn/issues/21755 */display: inline-block !important;position: relative;}#sk-container-id-2 div.sk-text-repr-fallback {display: none;}</style><div id=\"sk-container-id-2\" class=\"sk-top-container\"><div class=\"sk-text-repr-fallback\"><pre>GridSearchCV(estimator=SVC(),\n",
       "             param_grid={&#x27;C&#x27;: [0.1, 1, 10, 100], &#x27;gamma&#x27;: [1, 0.1, 0.01, 0.001],\n",
       "                         &#x27;kernel&#x27;: [&#x27;rbf&#x27;]},\n",
       "             verbose=2)</pre><b>In a Jupyter environment, please rerun this cell to show the HTML representation or trust the notebook. <br />On GitHub, the HTML representation is unable to render, please try loading this page with nbviewer.org.</b></div><div class=\"sk-container\" hidden><div class=\"sk-item sk-dashed-wrapped\"><div class=\"sk-label-container\"><div class=\"sk-label sk-toggleable\"><input class=\"sk-toggleable__control sk-hidden--visually\" id=\"sk-estimator-id-4\" type=\"checkbox\" ><label for=\"sk-estimator-id-4\" class=\"sk-toggleable__label sk-toggleable__label-arrow\">GridSearchCV</label><div class=\"sk-toggleable__content\"><pre>GridSearchCV(estimator=SVC(),\n",
       "             param_grid={&#x27;C&#x27;: [0.1, 1, 10, 100], &#x27;gamma&#x27;: [1, 0.1, 0.01, 0.001],\n",
       "                         &#x27;kernel&#x27;: [&#x27;rbf&#x27;]},\n",
       "             verbose=2)</pre></div></div></div><div class=\"sk-parallel\"><div class=\"sk-parallel-item\"><div class=\"sk-item\"><div class=\"sk-label-container\"><div class=\"sk-label sk-toggleable\"><input class=\"sk-toggleable__control sk-hidden--visually\" id=\"sk-estimator-id-5\" type=\"checkbox\" ><label for=\"sk-estimator-id-5\" class=\"sk-toggleable__label sk-toggleable__label-arrow\">estimator: SVC</label><div class=\"sk-toggleable__content\"><pre>SVC()</pre></div></div></div><div class=\"sk-serial\"><div class=\"sk-item\"><div class=\"sk-estimator sk-toggleable\"><input class=\"sk-toggleable__control sk-hidden--visually\" id=\"sk-estimator-id-6\" type=\"checkbox\" ><label for=\"sk-estimator-id-6\" class=\"sk-toggleable__label sk-toggleable__label-arrow\">SVC</label><div class=\"sk-toggleable__content\"><pre>SVC()</pre></div></div></div></div></div></div></div></div></div></div>"
      ],
      "text/plain": [
       "GridSearchCV(estimator=SVC(),\n",
       "             param_grid={'C': [0.1, 1, 10, 100], 'gamma': [1, 0.1, 0.01, 0.001],\n",
       "                         'kernel': ['rbf']},\n",
       "             verbose=2)"
      ]
     },
     "execution_count": 57,
     "metadata": {},
     "output_type": "execute_result"
    }
   ],
   "source": [
    "# Hyper-parameters\n",
    "C = [0.1, 1, 10, 100]\n",
    "gamma = [1, 0.1, 0.01, 0.001]\n",
    "kernels = ['rbf']  #poly takes forever to train 'sigmoid'\n",
    "\n",
    "params = {'C': C, 'gamma': gamma, 'kernel': kernels}\n",
    "\n",
    "grid = GridSearchCV(SVC(), params, refit=True, verbose=2)\n",
    "grid.fit(X_train, y_train)"
   ]
  },
  {
   "cell_type": "markdown",
   "id": "d60e3f2e",
   "metadata": {},
   "source": [
    "### 2. Best Hyper-parameters"
   ]
  },
  {
   "cell_type": "code",
   "execution_count": 5,
   "id": "a4e729c8",
   "metadata": {},
   "outputs": [
    {
     "name": "stdout",
     "output_type": "stream",
     "text": [
      "SVC(C=1, gamma=0.001)\n"
     ]
    }
   ],
   "source": [
    "print(grid.best_estimator_)"
   ]
  },
  {
   "cell_type": "markdown",
   "id": "1a8b88de",
   "metadata": {},
   "source": [
    "### 3. Testing"
   ]
  },
  {
   "cell_type": "code",
   "execution_count": 49,
   "id": "0528b156",
   "metadata": {
    "ExecuteTime": {
     "end_time": "2022-10-15T06:04:41.216838Z",
     "start_time": "2022-10-15T06:04:40.407818Z"
    }
   },
   "outputs": [
    {
     "name": "stdout",
     "output_type": "stream",
     "text": [
      "/Users/ivankoh/Library/CloudStorage/OneDrive-NationalUniversityofSingapore/1D/NUS Y3S1/BT4222/Data/test/kickstarter_test_final_20221015-012736.csv\n"
     ]
    }
   ],
   "source": [
    "test_path = max(glob.glob('/Users/ivankoh/Library/CloudStorage/OneDrive-NationalUniversityofSingapore/1D/NUS Y3S1/BT4222/Data/test/*.csv'), key=os.path.getctime) \n",
    "print(test_path)\n",
    "test = pd.read_csv(test_path)\n",
    "\n",
    "X_test, y_test = test.drop('state', axis=1).to_numpy(), test['state'].to_numpy()"
   ]
  },
  {
   "cell_type": "code",
   "execution_count": 7,
   "id": "fb5bb73f",
   "metadata": {},
   "outputs": [
    {
     "name": "stdout",
     "output_type": "stream",
     "text": [
      "(1557, 540)\n",
      "(1557,)\n",
      "(293, 540)\n",
      "(293,)\n"
     ]
    }
   ],
   "source": [
    "print(X_train.shape)\n",
    "print(y_train.shape)\n",
    "print(X_test.shape)\n",
    "print(y_test.shape)"
   ]
  },
  {
   "cell_type": "code",
   "execution_count": 8,
   "id": "81a8e15e",
   "metadata": {},
   "outputs": [
    {
     "name": "stdout",
     "output_type": "stream",
     "text": [
      "[[ 30 114]\n",
      " [ 10 139]]\n",
      "              precision    recall  f1-score   support\n",
      "\n",
      "           0       0.75      0.21      0.33       144\n",
      "           1       0.55      0.93      0.69       149\n",
      "\n",
      "    accuracy                           0.58       293\n",
      "   macro avg       0.65      0.57      0.51       293\n",
      "weighted avg       0.65      0.58      0.51       293\n",
      "\n",
      "AUC: 0.5706096196868009\n"
     ]
    }
   ],
   "source": [
    "grid_predictions = grid.predict(X_test)\n",
    "print(confusion_matrix(y_test,grid_predictions))\n",
    "print(classification_report(y_test,grid_predictions))\n",
    "\n",
    "auc = roc_auc_score(y_test, grid_predictions)\n",
    "print(\"AUC:\", auc)"
   ]
  },
  {
   "cell_type": "code",
   "execution_count": null,
   "id": "73e251db",
   "metadata": {},
   "outputs": [],
   "source": []
  }
 ],
 "metadata": {
  "kernelspec": {
   "display_name": "Python 3.9 (bt4222)",
   "language": "python",
   "name": "bt4222"
  },
  "language_info": {
   "codemirror_mode": {
    "name": "ipython",
    "version": 3
   },
   "file_extension": ".py",
   "mimetype": "text/x-python",
   "name": "python",
   "nbconvert_exporter": "python",
   "pygments_lexer": "ipython3",
   "version": "3.9.12"
  },
  "toc": {
   "base_numbering": 1,
   "nav_menu": {},
   "number_sections": true,
   "sideBar": true,
   "skip_h1_title": false,
   "title_cell": "Table of Contents",
   "title_sidebar": "Contents",
   "toc_cell": false,
   "toc_position": {},
   "toc_section_display": true,
   "toc_window_display": true
  }
 },
 "nbformat": 4,
 "nbformat_minor": 5
}
