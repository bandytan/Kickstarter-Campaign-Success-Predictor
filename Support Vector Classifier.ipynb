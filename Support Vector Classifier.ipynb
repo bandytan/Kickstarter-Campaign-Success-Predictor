{
 "cells": [
  {
   "cell_type": "code",
   "execution_count": 1,
   "id": "d84f715e",
   "metadata": {},
   "outputs": [],
   "source": [
    "import pandas as pd \n",
    "import numpy as np\n",
    "import seaborn as sns\n",
    "import matplotlib.pyplot as plt\n",
    "%matplotlib inline\n",
    "from sklearn.svm import SVC\n",
    "from sklearn.model_selection import GridSearchCV\n",
    "from sklearn.metrics import classification_report, confusion_matrix, roc_auc_score\n",
    "import glob\n",
    "import os"
   ]
  },
  {
   "cell_type": "code",
   "execution_count": 2,
   "id": "bbad784c",
   "metadata": {},
   "outputs": [],
   "source": [
    "train_path = max(glob.glob('./data/train/*.csv'), key=os.path.getctime) \n",
    "df = pd.read_csv(train_path)"
   ]
  },
  {
   "cell_type": "markdown",
   "id": "4f36eaa9",
   "metadata": {},
   "source": [
    "## Get to the correct data format"
   ]
  },
  {
   "cell_type": "code",
   "execution_count": 3,
   "id": "a34b0d31",
   "metadata": {},
   "outputs": [],
   "source": [
    "to_drop = ['rewards', 'all_reward_amount', 'deadline', 'launched_at', 'rewards_processed',\n",
    "           'description_processed', 'description_story_processed','description_risks_processed',\n",
    "           'id', 'name', 'description', 'description_story', 'description_risks', 'video', 'state',\n",
    "          'pledged', 'goal', 'category', 'location']\n",
    "\n",
    "#features that are dependent on time and the final outcome\n",
    "to_drop_more = to_drop + ['staff_pick', 'spotlight', 'backers_count', 'update_count', 'faq_count']\n",
    "\n",
    "X_train, y_train = df.drop(to_drop_more, axis=1).to_numpy(), df['state'].to_numpy()"
   ]
  },
  {
   "cell_type": "markdown",
   "id": "51684853",
   "metadata": {},
   "source": [
    "## Grid Search with K-fold CV applied to SVC\n",
    "\n",
    "5 folds \n",
    "- approx 311 per fold \n",
    "- 62 validation data \n",
    "- 249 train data"
   ]
  },
  {
   "cell_type": "markdown",
   "id": "f4e8ce17",
   "metadata": {},
   "source": [
    "### 1. Training"
   ]
  },
  {
   "cell_type": "code",
   "execution_count": null,
   "id": "95f627af",
   "metadata": {},
   "outputs": [
    {
     "name": "stdout",
     "output_type": "stream",
     "text": [
      "Fitting 5 folds for each of 48 candidates, totalling 240 fits\n",
      "[CV] END ......................C=0.1, gamma=1, kernel=linear; total time=  50.7s\n",
      "[CV] END ......................C=0.1, gamma=1, kernel=linear; total time=  44.3s\n",
      "[CV] END ......................C=0.1, gamma=1, kernel=linear; total time=  43.8s\n",
      "[CV] END ......................C=0.1, gamma=1, kernel=linear; total time=  43.0s\n",
      "[CV] END ......................C=0.1, gamma=1, kernel=linear; total time=  34.3s\n",
      "[CV] END .........................C=0.1, gamma=1, kernel=rbf; total time=   0.5s\n",
      "[CV] END .........................C=0.1, gamma=1, kernel=rbf; total time=   0.5s\n",
      "[CV] END .........................C=0.1, gamma=1, kernel=rbf; total time=   0.5s\n",
      "[CV] END .........................C=0.1, gamma=1, kernel=rbf; total time=   0.5s\n",
      "[CV] END .........................C=0.1, gamma=1, kernel=rbf; total time=   0.5s\n",
      "[CV] END .....................C=0.1, gamma=1, kernel=sigmoid; total time=   0.5s\n",
      "[CV] END .....................C=0.1, gamma=1, kernel=sigmoid; total time=   0.5s\n",
      "[CV] END .....................C=0.1, gamma=1, kernel=sigmoid; total time=   0.5s\n",
      "[CV] END .....................C=0.1, gamma=1, kernel=sigmoid; total time=   0.5s\n",
      "[CV] END .....................C=0.1, gamma=1, kernel=sigmoid; total time=   0.5s\n",
      "[CV] END ....................C=0.1, gamma=0.1, kernel=linear; total time=  50.7s\n",
      "[CV] END ....................C=0.1, gamma=0.1, kernel=linear; total time=  44.3s\n",
      "[CV] END ....................C=0.1, gamma=0.1, kernel=linear; total time=  43.8s\n",
      "[CV] END ....................C=0.1, gamma=0.1, kernel=linear; total time=  43.5s\n",
      "[CV] END ....................C=0.1, gamma=0.1, kernel=linear; total time=  34.3s\n",
      "[CV] END .......................C=0.1, gamma=0.1, kernel=rbf; total time=   0.5s\n",
      "[CV] END .......................C=0.1, gamma=0.1, kernel=rbf; total time=   0.5s\n",
      "[CV] END .......................C=0.1, gamma=0.1, kernel=rbf; total time=   0.5s\n",
      "[CV] END .......................C=0.1, gamma=0.1, kernel=rbf; total time=   0.5s\n",
      "[CV] END .......................C=0.1, gamma=0.1, kernel=rbf; total time=   0.5s\n",
      "[CV] END ...................C=0.1, gamma=0.1, kernel=sigmoid; total time=   0.5s\n",
      "[CV] END ...................C=0.1, gamma=0.1, kernel=sigmoid; total time=   0.5s\n",
      "[CV] END ...................C=0.1, gamma=0.1, kernel=sigmoid; total time=   0.5s\n",
      "[CV] END ...................C=0.1, gamma=0.1, kernel=sigmoid; total time=   0.5s\n",
      "[CV] END ...................C=0.1, gamma=0.1, kernel=sigmoid; total time=   0.5s\n",
      "[CV] END ...................C=0.1, gamma=0.01, kernel=linear; total time=  50.8s\n",
      "[CV] END ...................C=0.1, gamma=0.01, kernel=linear; total time=  44.4s\n",
      "[CV] END ...................C=0.1, gamma=0.01, kernel=linear; total time=  43.7s\n",
      "[CV] END ...................C=0.1, gamma=0.01, kernel=linear; total time=  43.1s\n",
      "[CV] END ...................C=0.1, gamma=0.01, kernel=linear; total time=  34.3s\n",
      "[CV] END ......................C=0.1, gamma=0.01, kernel=rbf; total time=   0.5s\n",
      "[CV] END ......................C=0.1, gamma=0.01, kernel=rbf; total time=   0.5s\n",
      "[CV] END ......................C=0.1, gamma=0.01, kernel=rbf; total time=   0.5s\n",
      "[CV] END ......................C=0.1, gamma=0.01, kernel=rbf; total time=   0.5s\n",
      "[CV] END ......................C=0.1, gamma=0.01, kernel=rbf; total time=   0.5s\n",
      "[CV] END ..................C=0.1, gamma=0.01, kernel=sigmoid; total time=   0.5s\n",
      "[CV] END ..................C=0.1, gamma=0.01, kernel=sigmoid; total time=   0.5s\n",
      "[CV] END ..................C=0.1, gamma=0.01, kernel=sigmoid; total time=   0.5s\n",
      "[CV] END ..................C=0.1, gamma=0.01, kernel=sigmoid; total time=   0.5s\n",
      "[CV] END ..................C=0.1, gamma=0.01, kernel=sigmoid; total time=   0.5s\n",
      "[CV] END ..................C=0.1, gamma=0.001, kernel=linear; total time=  50.7s\n",
      "[CV] END ..................C=0.1, gamma=0.001, kernel=linear; total time=  44.6s\n",
      "[CV] END ..................C=0.1, gamma=0.001, kernel=linear; total time=  43.9s\n",
      "[CV] END ..................C=0.1, gamma=0.001, kernel=linear; total time=  43.1s\n",
      "[CV] END ..................C=0.1, gamma=0.001, kernel=linear; total time=  34.4s\n",
      "[CV] END .....................C=0.1, gamma=0.001, kernel=rbf; total time=   0.6s\n",
      "[CV] END .....................C=0.1, gamma=0.001, kernel=rbf; total time=   0.6s\n",
      "[CV] END .....................C=0.1, gamma=0.001, kernel=rbf; total time=   0.6s\n",
      "[CV] END .....................C=0.1, gamma=0.001, kernel=rbf; total time=   0.6s\n",
      "[CV] END .....................C=0.1, gamma=0.001, kernel=rbf; total time=   0.6s\n",
      "[CV] END .................C=0.1, gamma=0.001, kernel=sigmoid; total time=   0.5s\n",
      "[CV] END .................C=0.1, gamma=0.001, kernel=sigmoid; total time=   0.5s\n",
      "[CV] END .................C=0.1, gamma=0.001, kernel=sigmoid; total time=   0.5s\n",
      "[CV] END .................C=0.1, gamma=0.001, kernel=sigmoid; total time=   0.5s\n",
      "[CV] END .................C=0.1, gamma=0.001, kernel=sigmoid; total time=   0.5s\n",
      "[CV] END ........................C=1, gamma=1, kernel=linear; total time=19.0min\n",
      "[CV] END ........................C=1, gamma=1, kernel=linear; total time=10.0min\n",
      "[CV] END ........................C=1, gamma=1, kernel=linear; total time=12.4min\n",
      "[CV] END ........................C=1, gamma=1, kernel=linear; total time=23.9min\n",
      "[CV] END ........................C=1, gamma=1, kernel=linear; total time=19.3min\n",
      "[CV] END ...........................C=1, gamma=1, kernel=rbf; total time=   0.5s\n",
      "[CV] END ...........................C=1, gamma=1, kernel=rbf; total time=   0.5s\n",
      "[CV] END ...........................C=1, gamma=1, kernel=rbf; total time=   0.5s\n",
      "[CV] END ...........................C=1, gamma=1, kernel=rbf; total time=   0.5s\n",
      "[CV] END ...........................C=1, gamma=1, kernel=rbf; total time=   0.5s\n",
      "[CV] END .......................C=1, gamma=1, kernel=sigmoid; total time=   0.5s\n",
      "[CV] END .......................C=1, gamma=1, kernel=sigmoid; total time=   0.5s\n",
      "[CV] END .......................C=1, gamma=1, kernel=sigmoid; total time=   0.5s\n",
      "[CV] END .......................C=1, gamma=1, kernel=sigmoid; total time=   0.5s\n",
      "[CV] END .......................C=1, gamma=1, kernel=sigmoid; total time=   0.5s\n",
      "[CV] END ......................C=1, gamma=0.1, kernel=linear; total time=19.3min\n",
      "[CV] END ......................C=1, gamma=0.1, kernel=linear; total time=10.0min\n",
      "[CV] END ......................C=1, gamma=0.1, kernel=linear; total time=12.3min\n",
      "[CV] END ......................C=1, gamma=0.1, kernel=linear; total time=23.5min\n",
      "[CV] END ......................C=1, gamma=0.1, kernel=linear; total time=18.9min\n",
      "[CV] END .........................C=1, gamma=0.1, kernel=rbf; total time=   0.5s\n",
      "[CV] END .........................C=1, gamma=0.1, kernel=rbf; total time=   0.5s\n",
      "[CV] END .........................C=1, gamma=0.1, kernel=rbf; total time=   0.5s\n",
      "[CV] END .........................C=1, gamma=0.1, kernel=rbf; total time=   0.5s\n",
      "[CV] END .........................C=1, gamma=0.1, kernel=rbf; total time=   0.5s\n",
      "[CV] END .....................C=1, gamma=0.1, kernel=sigmoid; total time=   0.5s\n",
      "[CV] END .....................C=1, gamma=0.1, kernel=sigmoid; total time=   0.5s\n",
      "[CV] END .....................C=1, gamma=0.1, kernel=sigmoid; total time=   0.5s\n",
      "[CV] END .....................C=1, gamma=0.1, kernel=sigmoid; total time=   0.5s\n",
      "[CV] END .....................C=1, gamma=0.1, kernel=sigmoid; total time=   0.5s\n",
      "[CV] END .....................C=1, gamma=0.01, kernel=linear; total time=18.8min\n",
      "[CV] END .....................C=1, gamma=0.01, kernel=linear; total time= 9.9min\n",
      "[CV] END .....................C=1, gamma=0.01, kernel=linear; total time=12.3min\n",
      "[CV] END .....................C=1, gamma=0.01, kernel=linear; total time=23.5min\n",
      "[CV] END .....................C=1, gamma=0.01, kernel=linear; total time=18.9min\n",
      "[CV] END ........................C=1, gamma=0.01, kernel=rbf; total time=   0.5s\n",
      "[CV] END ........................C=1, gamma=0.01, kernel=rbf; total time=   0.5s\n",
      "[CV] END ........................C=1, gamma=0.01, kernel=rbf; total time=   0.5s\n",
      "[CV] END ........................C=1, gamma=0.01, kernel=rbf; total time=   0.5s\n",
      "[CV] END ........................C=1, gamma=0.01, kernel=rbf; total time=   0.5s\n",
      "[CV] END ....................C=1, gamma=0.01, kernel=sigmoid; total time=   0.5s\n"
     ]
    },
    {
     "name": "stdout",
     "output_type": "stream",
     "text": [
      "[CV] END ....................C=1, gamma=0.01, kernel=sigmoid; total time=   0.5s\n",
      "[CV] END ....................C=1, gamma=0.01, kernel=sigmoid; total time=   0.5s\n",
      "[CV] END ....................C=1, gamma=0.01, kernel=sigmoid; total time=   0.5s\n",
      "[CV] END ....................C=1, gamma=0.01, kernel=sigmoid; total time=   0.5s\n",
      "[CV] END ....................C=1, gamma=0.001, kernel=linear; total time=18.8min\n",
      "[CV] END ....................C=1, gamma=0.001, kernel=linear; total time= 9.9min\n",
      "[CV] END ....................C=1, gamma=0.001, kernel=linear; total time=12.3min\n",
      "[CV] END ....................C=1, gamma=0.001, kernel=linear; total time=23.5min\n",
      "[CV] END ....................C=1, gamma=0.001, kernel=linear; total time=18.9min\n",
      "[CV] END .......................C=1, gamma=0.001, kernel=rbf; total time=   0.5s\n",
      "[CV] END .......................C=1, gamma=0.001, kernel=rbf; total time=   0.5s\n",
      "[CV] END .......................C=1, gamma=0.001, kernel=rbf; total time=   0.5s\n",
      "[CV] END .......................C=1, gamma=0.001, kernel=rbf; total time=   0.5s\n",
      "[CV] END .......................C=1, gamma=0.001, kernel=rbf; total time=   0.5s\n",
      "[CV] END ...................C=1, gamma=0.001, kernel=sigmoid; total time=   0.5s\n",
      "[CV] END ...................C=1, gamma=0.001, kernel=sigmoid; total time=   0.5s\n",
      "[CV] END ...................C=1, gamma=0.001, kernel=sigmoid; total time=   0.5s\n",
      "[CV] END ...................C=1, gamma=0.001, kernel=sigmoid; total time=   0.5s\n",
      "[CV] END ...................C=1, gamma=0.001, kernel=sigmoid; total time=   0.5s\n",
      "[CV] END .......................C=10, gamma=1, kernel=linear; total time=38.4min\n",
      "[CV] END .......................C=10, gamma=1, kernel=linear; total time=35.6min\n",
      "[CV] END .......................C=10, gamma=1, kernel=linear; total time=24.9min\n",
      "[CV] END .......................C=10, gamma=1, kernel=linear; total time=42.2min\n",
      "[CV] END .......................C=10, gamma=1, kernel=linear; total time=46.3min\n",
      "[CV] END ..........................C=10, gamma=1, kernel=rbf; total time=   0.5s\n",
      "[CV] END ..........................C=10, gamma=1, kernel=rbf; total time=   0.5s\n",
      "[CV] END ..........................C=10, gamma=1, kernel=rbf; total time=   0.5s\n",
      "[CV] END ..........................C=10, gamma=1, kernel=rbf; total time=   0.5s\n",
      "[CV] END ..........................C=10, gamma=1, kernel=rbf; total time=   0.5s\n",
      "[CV] END ......................C=10, gamma=1, kernel=sigmoid; total time=   0.5s\n",
      "[CV] END ......................C=10, gamma=1, kernel=sigmoid; total time=   0.5s\n",
      "[CV] END ......................C=10, gamma=1, kernel=sigmoid; total time=   0.5s\n",
      "[CV] END ......................C=10, gamma=1, kernel=sigmoid; total time=   0.5s\n",
      "[CV] END ......................C=10, gamma=1, kernel=sigmoid; total time=   0.5s\n",
      "[CV] END .....................C=10, gamma=0.1, kernel=linear; total time=38.4min\n",
      "[CV] END .....................C=10, gamma=0.1, kernel=linear; total time=35.8min\n",
      "[CV] END .....................C=10, gamma=0.1, kernel=linear; total time=25.2min\n",
      "[CV] END .....................C=10, gamma=0.1, kernel=linear; total time=43.0min\n",
      "[CV] END .....................C=10, gamma=0.1, kernel=linear; total time=47.7min\n",
      "[CV] END ........................C=10, gamma=0.1, kernel=rbf; total time=   0.6s\n",
      "[CV] END ........................C=10, gamma=0.1, kernel=rbf; total time=   0.5s\n",
      "[CV] END ........................C=10, gamma=0.1, kernel=rbf; total time=   0.6s\n",
      "[CV] END ........................C=10, gamma=0.1, kernel=rbf; total time=   0.5s\n",
      "[CV] END ........................C=10, gamma=0.1, kernel=rbf; total time=   0.6s\n",
      "[CV] END ....................C=10, gamma=0.1, kernel=sigmoid; total time=   0.5s\n",
      "[CV] END ....................C=10, gamma=0.1, kernel=sigmoid; total time=   0.5s\n",
      "[CV] END ....................C=10, gamma=0.1, kernel=sigmoid; total time=   0.5s\n",
      "[CV] END ....................C=10, gamma=0.1, kernel=sigmoid; total time=   0.5s\n",
      "[CV] END ....................C=10, gamma=0.1, kernel=sigmoid; total time=   0.5s\n",
      "[CV] END ....................C=10, gamma=0.01, kernel=linear; total time=39.3min\n",
      "[CV] END ....................C=10, gamma=0.01, kernel=linear; total time=36.1min\n",
      "[CV] END ....................C=10, gamma=0.01, kernel=linear; total time=25.0min\n",
      "[CV] END ....................C=10, gamma=0.01, kernel=linear; total time=42.4min\n",
      "[CV] END ....................C=10, gamma=0.01, kernel=linear; total time=46.4min\n",
      "[CV] END .......................C=10, gamma=0.01, kernel=rbf; total time=   0.5s\n",
      "[CV] END .......................C=10, gamma=0.01, kernel=rbf; total time=   0.5s\n",
      "[CV] END .......................C=10, gamma=0.01, kernel=rbf; total time=   0.5s\n",
      "[CV] END .......................C=10, gamma=0.01, kernel=rbf; total time=   0.5s\n",
      "[CV] END .......................C=10, gamma=0.01, kernel=rbf; total time=   0.5s\n",
      "[CV] END ...................C=10, gamma=0.01, kernel=sigmoid; total time=   0.5s\n",
      "[CV] END ...................C=10, gamma=0.01, kernel=sigmoid; total time=   0.5s\n",
      "[CV] END ...................C=10, gamma=0.01, kernel=sigmoid; total time=   0.5s\n",
      "[CV] END ...................C=10, gamma=0.01, kernel=sigmoid; total time=   0.5s\n",
      "[CV] END ...................C=10, gamma=0.01, kernel=sigmoid; total time=   0.5s\n",
      "[CV] END ...................C=10, gamma=0.001, kernel=linear; total time=38.7min\n",
      "[CV] END ...................C=10, gamma=0.001, kernel=linear; total time=36.2min\n"
     ]
    }
   ],
   "source": [
    "# Hyper-parameters\n",
    "C = [0.1,1, 10, 100]\n",
    "gamma = [1,0.1,0.01,0.001]\n",
    "kernels = ['linear', 'rbf', 'sigmoid'] #poly takes forever to train\n",
    "\n",
    "params = {'C': C, \n",
    "          'gamma': gamma, \n",
    "          'kernel': kernels}\n",
    "\n",
    "grid = GridSearchCV(SVC(), params, refit=True, verbose=2)\n",
    "grid.fit(X_train, y_train)\n",
    "\n"
   ]
  },
  {
   "cell_type": "markdown",
   "id": "d60e3f2e",
   "metadata": {},
   "source": [
    "### 2. Best Hyper-parameters"
   ]
  },
  {
   "cell_type": "code",
   "execution_count": null,
   "id": "a4e729c8",
   "metadata": {},
   "outputs": [],
   "source": [
    "print(grid.best_estimator_)"
   ]
  },
  {
   "cell_type": "markdown",
   "id": "1a8b88de",
   "metadata": {},
   "source": [
    "### 3. Testing"
   ]
  },
  {
   "cell_type": "code",
   "execution_count": null,
   "id": "95f52bb9",
   "metadata": {},
   "outputs": [],
   "source": [
    "test_path = max(glob.glob('./data/test/*.csv'), key=os.path.getctime) \n",
    "test = pd.read_csv(test_path)\n",
    "\n",
    "X_test, y_test = test.drop(to_drop_more, axis=1).to_numpy(), test['state'].to_numpy()"
   ]
  },
  {
   "cell_type": "code",
   "execution_count": null,
   "id": "22e12f74",
   "metadata": {},
   "outputs": [],
   "source": [
    "print(X_train.shape)\n",
    "print(y_train.shape)\n",
    "print(X_test.shape)\n",
    "print(y_test.shape)"
   ]
  },
  {
   "cell_type": "code",
   "execution_count": null,
   "id": "029dbe26",
   "metadata": {},
   "outputs": [],
   "source": [
    "grid_predictions = grid.predict(X_test)\n",
    "print(confusion_matrix(y_test,grid_predictions))\n",
    "print(classification_report(y_test,grid_predictions))\n",
    "\n",
    "auc = roc_auc_score(y_test, grid_predictions)\n",
    "print(\"AUC:\", auc)"
   ]
  },
  {
   "cell_type": "code",
   "execution_count": null,
   "id": "b587a198",
   "metadata": {},
   "outputs": [],
   "source": [
    "for c in test.drop(to_drop_more, axis=1).columns: print(c)"
   ]
  },
  {
   "cell_type": "code",
   "execution_count": null,
   "id": "437cc101",
   "metadata": {},
   "outputs": [],
   "source": []
  }
 ],
 "metadata": {
  "kernelspec": {
   "display_name": "bt4222",
   "language": "python",
   "name": "bt4222"
  },
  "language_info": {
   "codemirror_mode": {
    "name": "ipython",
    "version": 3
   },
   "file_extension": ".py",
   "mimetype": "text/x-python",
   "name": "python",
   "nbconvert_exporter": "python",
   "pygments_lexer": "ipython3",
   "version": "3.9.12"
  }
 },
 "nbformat": 4,
 "nbformat_minor": 5
}
