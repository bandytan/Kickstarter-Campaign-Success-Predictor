{
 "cells": [
  {
   "cell_type": "code",
   "execution_count": 2,
   "metadata": {},
   "outputs": [],
   "source": [
    "import json"
   ]
  },
  {
   "cell_type": "code",
   "execution_count": 11,
   "metadata": {},
   "outputs": [],
   "source": [
    "# put all your json file names here\n",
    "f1 = open(\"81404_118176_risk.json\")\n",
    "f2 = open(\"118177_122106_risk.json\")\n",
    "# f3 = open(\"92473_111968_risk.json\")\n",
    "# f4 = open(\"111968_114407_risk.json\")\n",
    "# f5 = open(\"114407_118177_risk.json\")\n",
    "data1 = json.load(f1)\n",
    "data2 = json.load(f2)\n",
    "# data3 = json.load(f3)\n",
    "# data4 = json.load(f4)\n",
    "# data5 = json.load(f5)\n"
   ]
  },
  {
   "cell_type": "code",
   "execution_count": 12,
   "metadata": {},
   "outputs": [],
   "source": [
    "# join here\n",
    "fulldata = data1 + data2 # + data3[1:] + data4[1:] + data5[1:]"
   ]
  },
  {
   "cell_type": "code",
   "execution_count": 4,
   "metadata": {},
   "outputs": [
    {
     "data": {
      "text/plain": [
       "\"100 Seconds to Midnight is a darkly comic situational two hander. It centres around John and May, ex sixth form lovers. They haven't seen each other in five years. One evening, the end of the world is announced. In a moment of panic May calls John, can she come over? She does. Five weeks in, the world is still standing, but they are stuck. Will the world actually end? That is the unspoken question at the centre of their domestic lives, whilst they humorously distract themselves with cacti, kittens and condoms. When they find out May might be pregnant, the latter becomes the catalyst for the breakdown of their newfound harmony. We follow them as the seconds slip away and their relationship oscillates between a childlike playfulness and impending doom. The play was created by Amber Conroy and Rosalie Roger-Lacan, Talkers and Doers, a Franco-Irish duo. In our work, we aim to centre our endless conversations, worries and ponderings about navigating the world as twenty-something year old women. These conversations are crucial in the creation of work which honestly reflect these musings. It is from this talking that the doing is born. Talkers & Doers aim to tackle our big questions with humour, surprise and playfulness. Drawing inspiration from LeCoq in the rehearsal room, to Phoebe Waller-Bridge in the topics we explore and how we approach them, we want to create theatre that humours, questions, and pokes fun. We aim to carry this in all we do. 100 Seconds to Midnight began in a garden shed in Dublin in July 2020. We spent multiple days and evenings brainstorming, workshopping and devising, accompanied by an ever faithful teapot and lots of toast. These drafts were then put together, combined, reread, cut up and edited over the course of a year. We got the chance to put it on for the first time at the Alma Theatre in partnership with the University of Bristol's Spotlights Society and are now taking it up to Fringe, performing at Greenside Courtyard's Olive Studio. This is where your help comes in. This project has been with us for a while and going up to Edinburgh has been a dream for many years. Your contributions will help us realise this. Every little bit helps and we appreciate it immensely. Everything about this prospect excites us; from getting the chance to be surrounded by so many talented artists, to the sheer chaos of flyering on the Royal Mile. As a new company, being apart of the canvas that is August in Edinburgh, meeting like-minded people and discovering new artists and new work, is an opportunity like no other. We cannot overstate how excited we are about this prospect and how much your support is appreciated. Intermission Review - https://www.intermissionbristol.co.uk/arts-coverage/2021/12/8/alma-tavern-and-theatre-100-seconds-to-midnight\\xa0 Epigram Review - \\xa0https://epigram.org.uk/2021/12/02/100stm-alma/\\xa0 Instagram Page - \\xa0https://www.instagram.com/100_seconds_/\\xa0 To give you a taste of this play's beginnings, we have put together some pictures from the original production - both of the rehearsal process and of the actual production. THE WRITER-DIRECTORS: Rosalie Roger-Lacan Rosalie is a French aspiring playwright, director and theatre maker. She grew up in between Paris and Tring, where she met her partner in crime, Amber, with whom she created 100 Seconds To Midnight. England has since become her second home, and she is now based in Bristol, where she studies English Literature. She continues writing and directing through the help of Bristol's drama societies and aims to experiment with everything theatre related, with a particular emphasis on new writing. Since she put on 100 Seconds to Midnight at the Alma Theatre in November, Edinburgh has been the goal and she is very excited to get there! Amber Conroy Amber is an Irish theatre student at the University of Bristol, where she has become fully immersed in anything and everything related to theatrical production. Her formative years at arts school, where she met her long-time collaborator, Rosalie, has instilled in her a deep love for working within the performing arts. Amber is most herself when she is involved in the inception of new ensemble-based productions, with a focus on fun, physical performances that tend to to find the light within the dark. THE PRODUCER: Cecelia Quant Cecelia is an English Literature student based in London and Bristol who loves the collaborative nature of theatre making and relishes the variety of challenges producing poses. After her debut producing gig for Bristol DramaSoc’s production of ‘Wall(s)’ at the Tobacco Factory Theatre, Cecelia completely caught the theatre bug and has learnt so many important lessons about putting on a play - from communicating with external venues to the joys of driving a van. She cannot wait to return to Edinburgh after visiting the Fringe for the first time last year, only this time as part of the phenomenal team that are bringing 100 Seconds to life. TECH GENIUS AND OVERALL PROJECT ASSISTANT Ruth Watson Ruth fell into the world of theatre tech through her local, the New Vic in Stoke-On-Trent. After being in the Youth Theatre for a couple of years, at sixteen Ruth joined the casual tech team - moving from youth projects into follow-spotting, sound and light operation and maintenance. On moving to Bristol to study French and Theatre, Ruth started working as a casual technician at Bristol Old Vic and getting involved in as many projects as possible. THE ACTORS: Will Lockey Will is an actor from the North East of England, who, in between auditions, pulls pints and makes ice cream sundaes (mainly for other people). Last summer, sitting in Amber's garden with Rosalie and some G+Ts, he read the first draft of 100 Seconds to Midnight and instantly fell in love. This love still remains, and he is grateful to be part of a team that have known each other for years to put on such an exciting new play. William has being going to Edinburgh Fringe for a long time and it’s always been a dream of his to mess around on a stage there, so he is thrilled to be with his best friends doing exactly that! Petra Joan-Athene Petra is currently a second year acting student at Bristol Old Vic Theatre School, training to become a professional actor so she can tell stories for a living! Petra met Rosalie, Amber and Will at Tring Park, her second home/school of 5 years where she grew her love for acting and these wonderful people. Seeing 100 Seconds To Midnight at the Alma Theatre made Petra unbelievably proud of the work her friends had created and she left the theatre itching for more people to go and see it, so to be bringing this gorgeous play to Fringe with her best friends means so much!\""
      ]
     },
     "execution_count": 4,
     "metadata": {},
     "output_type": "execute_result"
    }
   ],
   "source": [
    "# check if any overlap\n",
    "data1[-1]"
   ]
  },
  {
   "cell_type": "code",
   "execution_count": 5,
   "metadata": {},
   "outputs": [
    {
     "data": {
      "text/plain": [
       "'Gunhild, by Heimdallsworkshop.com Range Day Collection - The First Ever Time-pieces inspired by gear used by US military and law-enforcement. A dedication to our heroes; precision manufacturing in Japan and Switzerland, American Assembled in North Carolina, USA. Going back to civilian life after serving your country is bitter-sweet. We wish to create luxury well built time-pieces that awaken the nostalgia of life in the armed forces and to awaken the warrior spirit that lies in all of us. Introducing - The Range Day Collection, V1 M4 Carbine Black. \\xa0(PROTOTYPE 1 PICTURED BELOW) \\xa0(Custom Calf Leather White/Black Camo strap included in Special forces and black ops package)\\xa0 \\xa0PVD BLACK STAINLESS STEEL BRACELET We want to reward Backers who share our campaign with friends. Basically if you make a succesful referral to our Kickstarter campaign, you and your friend get a free FKM strap worth ($50). Simply share your friend’s email address with us (please send it to craftteam@heimdallsworkshop.com once he/she backs us) and you\\'re good to go. We are an American Watch Company based in beautiful North Carolina. We are here to raise funds and awareness for a new collection and time-piece that has never been done before in the world of watch making. We need your support to bring this to the larger market and make this a reality. Our prototype is complete, manufacturers are contracted and set, and we are ready to move on to the next stage get this piece in production and out to folks just like you. We decided to turn to the Kickstarter community to make this dream a reality. When you back us you are backing a company that is already established and has all our logistical channels set. We won\\'t be delivering to you a year later like other projects but rather we will start manufacturing half way through the duration of this project. We constantly update our clientele, and we will do so via Kickstarter and if you join our Facebook page below you can not only interact with us but also others who back this project and existing clientele. We understand most luxury artisan watches or \"haute horology\" retail for well over $10,000, and most of the time this is the case due to the name of the artist or brand behind the watch. While the components are rightfully high end in these brands, much of the mark-up is simply due to the brand image and self-proclaimed certifications. We are a small fairly relatively new brand, but our goals are high. We aim to use the same quality components that are used in these well known brands and bring you finely crafted time-pieces at the sub $5,000 range. We aren\\'t here to say we cut out any middlemen or the usual jargon you hear from fashion watch companies (we like to call them marketing companies instead) selling you re-hashed paper-weight, but we do want to make spectacular artisanship and provocative horology a bit more accessible. Our components are all made with attention to detail and individually worked on, and we only use the best movements from Switzerland and Japan. We want to give you luxury and quality time-pieces without cutting corners and quality, assembling all our time-pieces right here in America, and testing them thoroughly. This is the first in a series of our Range Day collection. Inspired by the M4 Carbine this limited edition is the first in tribute to those that serve and protect America. Please refer to our technical image above or below to understand the updates and changes we are making to the case/crown going into production. Thank you!\\xa0 We\\'ve already completed the prototyping process using our own finances to mitigate any risk. Our manufacturers and partners for this piece are already sorted and are ready to produce the 300 pieces.\\xa0(This will be increased to 500 if we are able to raise 150K) When you pledge you are getting: 1) A time-piece that has never been seen or done before\\xa0 2) Allowing us to begin production on this limited edition piece.\\xa0 3) Aiding us in bringing this Unique \"warrior spirit\" luxury time-piece brand to the larger market. We had great success with our time-pieces that are already available in the market and now we want to take it to the next level by introducing a new concept time-piece based on the M4 Carbine, the choice rifle of American Law Enforcement and Military. If you are curious about our brand and our watches we have already done successfully, feel free to visit our website - heimdallsworkshop.com and read the reviews of our existing watches. We do our best to keep our designs unique and interesting, we aren\\'t\\' a company that pays homages to existing brands as there are tons of fashion watch brands that already do that. We want to bring you something new, robust, and something that you can pass down for generations to come, as well as a worthwhile investment down the road.'"
      ]
     },
     "execution_count": 5,
     "metadata": {},
     "output_type": "execute_result"
    }
   ],
   "source": [
    "data2[0]"
   ]
  },
  {
   "cell_type": "code",
   "execution_count": 7,
   "metadata": {},
   "outputs": [
    {
     "data": {
      "text/plain": [
       "40703"
      ]
     },
     "execution_count": 7,
     "metadata": {},
     "output_type": "execute_result"
    }
   ],
   "source": [
    "len(fulldata)"
   ]
  },
  {
   "cell_type": "code",
   "execution_count": 13,
   "metadata": {},
   "outputs": [],
   "source": [
    "# save\n",
    "with open(\"81404_122106_risk.json\", 'w') as f:\n",
    "    # indent=2 is not needed but makes the file human-readable \n",
    "    # if the data is nested\n",
    "    json.dump(fulldata, f, indent=2) "
   ]
  },
  {
   "cell_type": "code",
   "execution_count": 14,
   "metadata": {},
   "outputs": [
    {
     "data": {
      "text/plain": [
       "40703"
      ]
     },
     "execution_count": 14,
     "metadata": {},
     "output_type": "execute_result"
    }
   ],
   "source": [
    "a = json.load(open(\"81404_122106_risk.json\"))\n",
    "len(a)"
   ]
  }
 ],
 "metadata": {
  "kernelspec": {
   "display_name": "Python 3.9.12 ('base')",
   "language": "python",
   "name": "python3"
  },
  "language_info": {
   "codemirror_mode": {
    "name": "ipython",
    "version": 3
   },
   "file_extension": ".py",
   "mimetype": "text/x-python",
   "name": "python",
   "nbconvert_exporter": "python",
   "pygments_lexer": "ipython3",
   "version": "3.9.12"
  },
  "orig_nbformat": 4,
  "vscode": {
   "interpreter": {
    "hash": "77238a471535228e8cd55a3ca9e771a69c6c0bc66c44a56c972f9554a4042742"
   }
  }
 },
 "nbformat": 4,
 "nbformat_minor": 2
}
