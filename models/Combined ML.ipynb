{
 "cells": [
  {
   "cell_type": "code",
   "execution_count": 14,
   "id": "f9de35f5",
   "metadata": {
    "ExecuteTime": {
     "end_time": "2022-11-09T06:12:40.592252Z",
     "start_time": "2022-11-09T06:12:40.544893Z"
    }
   },
   "outputs": [],
   "source": [
    "import pandas as pd\n",
    "import numpy as np \n",
    "import matplotlib.pyplot as plt\n",
    "from sklearn.svm import SVC\n",
    "from sklearn.preprocessing import OrdinalEncoder, MinMaxScaler\n",
    "from sklearn.linear_model import LogisticRegression\n",
    "from sklearn.impute import SimpleImputer\n",
    "from sklearn.naive_bayes import GaussianNB, CategoricalNB, BernoulliNB\n",
    "from sklearn.ensemble import RandomForestClassifier, VotingClassifier, StackingClassifier\n",
    "from xgboost import XGBClassifier\n",
    "from sklearn.metrics import roc_curve, classification_report, roc_auc_score\n",
    "import glob\n",
    "import os\n",
    "import seaborn as sns"
   ]
  },
  {
   "cell_type": "markdown",
   "id": "ca451915",
   "metadata": {},
   "source": [
    "## import data"
   ]
  },
  {
   "cell_type": "code",
   "execution_count": 4,
   "id": "59e59fc8",
   "metadata": {
    "ExecuteTime": {
     "end_time": "2022-11-09T05:53:52.056488Z",
     "start_time": "2022-11-09T05:53:51.124292Z"
    }
   },
   "outputs": [
    {
     "name": "stdout",
     "output_type": "stream",
     "text": [
      "(24756, 579)\n",
      "(4369, 579)\n",
      "(24756, 578)\n",
      "(24756,)\n",
      "(4369, 578)\n",
      "(4369,)\n"
     ]
    }
   ],
   "source": [
    "base = \"/Users/ivankoh/Library/CloudStorage/OneDrive-NationalUniversityofSingapore/1D/NUS Y3S1/BT4222/Data\"\n",
    "#train_path = max(glob.glob('../data/train/*.csv'), key=os.path.getctime) \n",
    "#test_path = max(glob.glob('../data/test/*.csv'), key=os.path.getctime) \n",
    "train_path = max(glob.glob(base + '/train/*.csv'), key=os.path.getctime) \n",
    "test_path = max(glob.glob(base +'/test/*.csv'), key=os.path.getctime) \n",
    "train_df = pd.read_csv(train_path)\n",
    "test_df = pd.read_csv(test_path)\n",
    "\n",
    "print(train_df.shape)\n",
    "print(test_df.shape)\n",
    "\n",
    "X_train, y_train = train_df.drop('state', axis=1), train_df['state']\n",
    "X_test, y_test = test_df.drop('state', axis=1), test_df['state']\n",
    "\n",
    "print(X_train.shape)\n",
    "print(y_train.shape)\n",
    "print(X_test.shape)\n",
    "print(y_test.shape)"
   ]
  },
  {
   "cell_type": "markdown",
   "id": "97c37c6a",
   "metadata": {},
   "source": [
    "## best classifiers "
   ]
  },
  {
   "cell_type": "code",
   "execution_count": 5,
   "id": "34188d90",
   "metadata": {
    "ExecuteTime": {
     "end_time": "2022-11-09T06:06:29.024232Z",
     "start_time": "2022-11-09T05:53:56.302652Z"
    }
   },
   "outputs": [
    {
     "name": "stderr",
     "output_type": "stream",
     "text": [
      "/Users/ivankoh/opt/miniconda3/envs/bt4222/lib/python3.9/site-packages/xgboost/sklearn.py:1224: UserWarning: The use of label encoder in XGBClassifier is deprecated and will be removed in a future release. To remove this warning, do the following: 1) Pass option use_label_encoder=False when constructing XGBClassifier object; and 2) Encode your labels (y) as integers starting with 0, i.e. 0, 1, 2, ..., [num_class - 1].\n",
      "  warnings.warn(label_encoder_deprecation_msg, UserWarning)\n",
      "/Users/ivankoh/opt/miniconda3/envs/bt4222/lib/python3.9/site-packages/xgboost/data.py:250: FutureWarning: pandas.Int64Index is deprecated and will be removed from pandas in a future version. Use pandas.Index with the appropriate dtype instead.\n",
      "  elif isinstance(data.columns, (pd.Int64Index, pd.RangeIndex)):\n"
     ]
    },
    {
     "name": "stdout",
     "output_type": "stream",
     "text": [
      "[14:06:18] WARNING: /var/folders/nz/j6p8yfhx1mv_0grj5xl4650h0000gp/T/abs_eek2t0c4ro/croots/recipe/xgboost-split_1659548960591/work/src/learner.cc:1115: Starting in XGBoost 1.3.0, the default evaluation metric used with the objective 'binary:logistic' was changed from 'error' to 'logloss'. Explicitly set eval_metric if you'd like to restore the old behavior.\n"
     ]
    },
    {
     "data": {
      "text/html": [
       "<style>#sk-container-id-1 {color: black;background-color: white;}#sk-container-id-1 pre{padding: 0;}#sk-container-id-1 div.sk-toggleable {background-color: white;}#sk-container-id-1 label.sk-toggleable__label {cursor: pointer;display: block;width: 100%;margin-bottom: 0;padding: 0.3em;box-sizing: border-box;text-align: center;}#sk-container-id-1 label.sk-toggleable__label-arrow:before {content: \"▸\";float: left;margin-right: 0.25em;color: #696969;}#sk-container-id-1 label.sk-toggleable__label-arrow:hover:before {color: black;}#sk-container-id-1 div.sk-estimator:hover label.sk-toggleable__label-arrow:before {color: black;}#sk-container-id-1 div.sk-toggleable__content {max-height: 0;max-width: 0;overflow: hidden;text-align: left;background-color: #f0f8ff;}#sk-container-id-1 div.sk-toggleable__content pre {margin: 0.2em;color: black;border-radius: 0.25em;background-color: #f0f8ff;}#sk-container-id-1 input.sk-toggleable__control:checked~div.sk-toggleable__content {max-height: 200px;max-width: 100%;overflow: auto;}#sk-container-id-1 input.sk-toggleable__control:checked~label.sk-toggleable__label-arrow:before {content: \"▾\";}#sk-container-id-1 div.sk-estimator input.sk-toggleable__control:checked~label.sk-toggleable__label {background-color: #d4ebff;}#sk-container-id-1 div.sk-label input.sk-toggleable__control:checked~label.sk-toggleable__label {background-color: #d4ebff;}#sk-container-id-1 input.sk-hidden--visually {border: 0;clip: rect(1px 1px 1px 1px);clip: rect(1px, 1px, 1px, 1px);height: 1px;margin: -1px;overflow: hidden;padding: 0;position: absolute;width: 1px;}#sk-container-id-1 div.sk-estimator {font-family: monospace;background-color: #f0f8ff;border: 1px dotted black;border-radius: 0.25em;box-sizing: border-box;margin-bottom: 0.5em;}#sk-container-id-1 div.sk-estimator:hover {background-color: #d4ebff;}#sk-container-id-1 div.sk-parallel-item::after {content: \"\";width: 100%;border-bottom: 1px solid gray;flex-grow: 1;}#sk-container-id-1 div.sk-label:hover label.sk-toggleable__label {background-color: #d4ebff;}#sk-container-id-1 div.sk-serial::before {content: \"\";position: absolute;border-left: 1px solid gray;box-sizing: border-box;top: 0;bottom: 0;left: 50%;z-index: 0;}#sk-container-id-1 div.sk-serial {display: flex;flex-direction: column;align-items: center;background-color: white;padding-right: 0.2em;padding-left: 0.2em;position: relative;}#sk-container-id-1 div.sk-item {position: relative;z-index: 1;}#sk-container-id-1 div.sk-parallel {display: flex;align-items: stretch;justify-content: center;background-color: white;position: relative;}#sk-container-id-1 div.sk-item::before, #sk-container-id-1 div.sk-parallel-item::before {content: \"\";position: absolute;border-left: 1px solid gray;box-sizing: border-box;top: 0;bottom: 0;left: 50%;z-index: -1;}#sk-container-id-1 div.sk-parallel-item {display: flex;flex-direction: column;z-index: 1;position: relative;background-color: white;}#sk-container-id-1 div.sk-parallel-item:first-child::after {align-self: flex-end;width: 50%;}#sk-container-id-1 div.sk-parallel-item:last-child::after {align-self: flex-start;width: 50%;}#sk-container-id-1 div.sk-parallel-item:only-child::after {width: 0;}#sk-container-id-1 div.sk-dashed-wrapped {border: 1px dashed gray;margin: 0 0.4em 0.5em 0.4em;box-sizing: border-box;padding-bottom: 0.4em;background-color: white;}#sk-container-id-1 div.sk-label label {font-family: monospace;font-weight: bold;display: inline-block;line-height: 1.2em;}#sk-container-id-1 div.sk-label-container {text-align: center;}#sk-container-id-1 div.sk-container {/* jupyter's `normalize.less` sets `[hidden] { display: none; }` but bootstrap.min.css set `[hidden] { display: none !important; }` so we also need the `!important` here to be able to override the default hidden behavior on the sphinx rendered scikit-learn.org. See: https://github.com/scikit-learn/scikit-learn/issues/21755 */display: inline-block !important;position: relative;}#sk-container-id-1 div.sk-text-repr-fallback {display: none;}</style><div id=\"sk-container-id-1\" class=\"sk-top-container\"><div class=\"sk-text-repr-fallback\"><pre>XGBClassifier(base_score=0.5, booster=&#x27;gbtree&#x27;, colsample_bylevel=1,\n",
       "              colsample_bynode=1, colsample_bytree=0.7,\n",
       "              enable_categorical=False, gamma=0, gpu_id=-1,\n",
       "              importance_type=None, interaction_constraints=&#x27;&#x27;,\n",
       "              learning_rate=0.1, max_delta_step=0, max_depth=5,\n",
       "              min_child_weight=1, missing=nan, monotone_constraints=&#x27;()&#x27;,\n",
       "              n_estimators=150, n_jobs=8, num_parallel_tree=1, predictor=&#x27;auto&#x27;,\n",
       "              random_state=0, reg_alpha=0, reg_lambda=1, scale_pos_weight=1,\n",
       "              subsample=0.7, tree_method=&#x27;exact&#x27;, validate_parameters=1,\n",
       "              verbosity=None)</pre><b>In a Jupyter environment, please rerun this cell to show the HTML representation or trust the notebook. <br />On GitHub, the HTML representation is unable to render, please try loading this page with nbviewer.org.</b></div><div class=\"sk-container\" hidden><div class=\"sk-item\"><div class=\"sk-estimator sk-toggleable\"><input class=\"sk-toggleable__control sk-hidden--visually\" id=\"sk-estimator-id-1\" type=\"checkbox\" checked><label for=\"sk-estimator-id-1\" class=\"sk-toggleable__label sk-toggleable__label-arrow\">XGBClassifier</label><div class=\"sk-toggleable__content\"><pre>XGBClassifier(base_score=0.5, booster=&#x27;gbtree&#x27;, colsample_bylevel=1,\n",
       "              colsample_bynode=1, colsample_bytree=0.7,\n",
       "              enable_categorical=False, gamma=0, gpu_id=-1,\n",
       "              importance_type=None, interaction_constraints=&#x27;&#x27;,\n",
       "              learning_rate=0.1, max_delta_step=0, max_depth=5,\n",
       "              min_child_weight=1, missing=nan, monotone_constraints=&#x27;()&#x27;,\n",
       "              n_estimators=150, n_jobs=8, num_parallel_tree=1, predictor=&#x27;auto&#x27;,\n",
       "              random_state=0, reg_alpha=0, reg_lambda=1, scale_pos_weight=1,\n",
       "              subsample=0.7, tree_method=&#x27;exact&#x27;, validate_parameters=1,\n",
       "              verbosity=None)</pre></div></div></div></div></div>"
      ],
      "text/plain": [
       "XGBClassifier(base_score=0.5, booster='gbtree', colsample_bylevel=1,\n",
       "              colsample_bynode=1, colsample_bytree=0.7,\n",
       "              enable_categorical=False, gamma=0, gpu_id=-1,\n",
       "              importance_type=None, interaction_constraints='',\n",
       "              learning_rate=0.1, max_delta_step=0, max_depth=5,\n",
       "              min_child_weight=1, missing=nan, monotone_constraints='()',\n",
       "              n_estimators=150, n_jobs=8, num_parallel_tree=1, predictor='auto',\n",
       "              random_state=0, reg_alpha=0, reg_lambda=1, scale_pos_weight=1,\n",
       "              subsample=0.7, tree_method='exact', validate_parameters=1,\n",
       "              verbosity=None)"
      ]
     },
     "execution_count": 5,
     "metadata": {},
     "output_type": "execute_result"
    }
   ],
   "source": [
    "#SVC \n",
    "svc_best = {'kernel': 'linear', 'gamma': 0.1, 'C': 0.001, 'probability':True}\n",
    "svc_clf = SVC(**svc_best)\n",
    "svc_clf.fit(X_train, y_train)\n",
    "\n",
    "#LOGISTIC REGRESSION\n",
    "lr_clf = LogisticRegression(max_iter=25000, C= 1.601, penalty= 'l2', solver= 'lbfgs')\n",
    "lr_clf.fit(X_train, y_train)\n",
    "\n",
    "#RANDOM FOREST\n",
    "rf_best = {'n_estimators': 150,\n",
    " 'min_samples_split': 5,\n",
    " 'min_samples_leaf': 6,\n",
    " 'max_features': 'sqrt',\n",
    " 'max_depth': 10,\n",
    " 'bootstrap': False}\n",
    "rf_clf = RandomForestClassifier(**rf_best)\n",
    "rf_clf.fit(X_train, y_train)\n",
    "\n",
    "#XGBOOST \n",
    "xgb_clf = XGBClassifier(n_estimators= 150, max_depth = 5, learning_rate = 0.1, subsample = 0.7, colsample_bytree = 0.7)\n",
    "xgb_clf.fit(X_train, y_train)\n",
    "\n"
   ]
  },
  {
   "cell_type": "code",
   "execution_count": 6,
   "id": "0aa76d4f",
   "metadata": {
    "ExecuteTime": {
     "end_time": "2022-11-09T06:08:58.929212Z",
     "start_time": "2022-11-09T06:06:29.025810Z"
    }
   },
   "outputs": [
    {
     "name": "stderr",
     "output_type": "stream",
     "text": [
      "/Users/ivankoh/opt/miniconda3/envs/bt4222/lib/python3.9/site-packages/xgboost/sklearn.py:1224: UserWarning: The use of label encoder in XGBClassifier is deprecated and will be removed in a future release. To remove this warning, do the following: 1) Pass option use_label_encoder=False when constructing XGBClassifier object; and 2) Encode your labels (y) as integers starting with 0, i.e. 0, 1, 2, ..., [num_class - 1].\n",
      "  warnings.warn(label_encoder_deprecation_msg, UserWarning)\n",
      "/Users/ivankoh/opt/miniconda3/envs/bt4222/lib/python3.9/site-packages/xgboost/data.py:250: FutureWarning: pandas.Int64Index is deprecated and will be removed from pandas in a future version. Use pandas.Index with the appropriate dtype instead.\n",
      "  elif isinstance(data.columns, (pd.Int64Index, pd.RangeIndex)):\n"
     ]
    },
    {
     "name": "stdout",
     "output_type": "stream",
     "text": [
      "[14:06:42] WARNING: /var/folders/nz/j6p8yfhx1mv_0grj5xl4650h0000gp/T/abs_eek2t0c4ro/croots/recipe/xgboost-split_1659548960591/work/src/learner.cc:1115: Starting in XGBoost 1.3.0, the default evaluation metric used with the objective 'binary:logistic' was changed from 'error' to 'logloss'. Explicitly set eval_metric if you'd like to restore the old behavior.\n"
     ]
    },
    {
     "name": "stderr",
     "output_type": "stream",
     "text": [
      "/Users/ivankoh/opt/miniconda3/envs/bt4222/lib/python3.9/site-packages/xgboost/sklearn.py:1224: UserWarning: The use of label encoder in XGBClassifier is deprecated and will be removed in a future release. To remove this warning, do the following: 1) Pass option use_label_encoder=False when constructing XGBClassifier object; and 2) Encode your labels (y) as integers starting with 0, i.e. 0, 1, 2, ..., [num_class - 1].\n",
      "  warnings.warn(label_encoder_deprecation_msg, UserWarning)\n",
      "/Users/ivankoh/opt/miniconda3/envs/bt4222/lib/python3.9/site-packages/xgboost/data.py:250: FutureWarning: pandas.Int64Index is deprecated and will be removed from pandas in a future version. Use pandas.Index with the appropriate dtype instead.\n",
      "  elif isinstance(data.columns, (pd.Int64Index, pd.RangeIndex)):\n"
     ]
    },
    {
     "name": "stdout",
     "output_type": "stream",
     "text": [
      "[14:07:07] WARNING: /var/folders/nz/j6p8yfhx1mv_0grj5xl4650h0000gp/T/abs_eek2t0c4ro/croots/recipe/xgboost-split_1659548960591/work/src/learner.cc:1115: Starting in XGBoost 1.3.0, the default evaluation metric used with the objective 'binary:logistic' was changed from 'error' to 'logloss'. Explicitly set eval_metric if you'd like to restore the old behavior.\n"
     ]
    },
    {
     "name": "stderr",
     "output_type": "stream",
     "text": [
      "/Users/ivankoh/opt/miniconda3/envs/bt4222/lib/python3.9/site-packages/xgboost/sklearn.py:1224: UserWarning: The use of label encoder in XGBClassifier is deprecated and will be removed in a future release. To remove this warning, do the following: 1) Pass option use_label_encoder=False when constructing XGBClassifier object; and 2) Encode your labels (y) as integers starting with 0, i.e. 0, 1, 2, ..., [num_class - 1].\n",
      "  warnings.warn(label_encoder_deprecation_msg, UserWarning)\n",
      "/Users/ivankoh/opt/miniconda3/envs/bt4222/lib/python3.9/site-packages/xgboost/data.py:250: FutureWarning: pandas.Int64Index is deprecated and will be removed from pandas in a future version. Use pandas.Index with the appropriate dtype instead.\n",
      "  elif isinstance(data.columns, (pd.Int64Index, pd.RangeIndex)):\n"
     ]
    },
    {
     "name": "stdout",
     "output_type": "stream",
     "text": [
      "[14:08:10] WARNING: /var/folders/nz/j6p8yfhx1mv_0grj5xl4650h0000gp/T/abs_eek2t0c4ro/croots/recipe/xgboost-split_1659548960591/work/src/learner.cc:1115: Starting in XGBoost 1.3.0, the default evaluation metric used with the objective 'binary:logistic' was changed from 'error' to 'logloss'. Explicitly set eval_metric if you'd like to restore the old behavior.\n",
      "[14:08:18] WARNING: /var/folders/nz/j6p8yfhx1mv_0grj5xl4650h0000gp/T/abs_eek2t0c4ro/croots/recipe/xgboost-split_1659548960591/work/src/learner.cc:1115: Starting in XGBoost 1.3.0, the default evaluation metric used with the objective 'binary:logistic' was changed from 'error' to 'logloss'. Explicitly set eval_metric if you'd like to restore the old behavior.\n",
      "[14:08:25] WARNING: /var/folders/nz/j6p8yfhx1mv_0grj5xl4650h0000gp/T/abs_eek2t0c4ro/croots/recipe/xgboost-split_1659548960591/work/src/learner.cc:1115: Starting in XGBoost 1.3.0, the default evaluation metric used with the objective 'binary:logistic' was changed from 'error' to 'logloss'. Explicitly set eval_metric if you'd like to restore the old behavior.\n",
      "[14:08:33] WARNING: /var/folders/nz/j6p8yfhx1mv_0grj5xl4650h0000gp/T/abs_eek2t0c4ro/croots/recipe/xgboost-split_1659548960591/work/src/learner.cc:1115: Starting in XGBoost 1.3.0, the default evaluation metric used with the objective 'binary:logistic' was changed from 'error' to 'logloss'. Explicitly set eval_metric if you'd like to restore the old behavior.\n",
      "[14:08:41] WARNING: /var/folders/nz/j6p8yfhx1mv_0grj5xl4650h0000gp/T/abs_eek2t0c4ro/croots/recipe/xgboost-split_1659548960591/work/src/learner.cc:1115: Starting in XGBoost 1.3.0, the default evaluation metric used with the objective 'binary:logistic' was changed from 'error' to 'logloss'. Explicitly set eval_metric if you'd like to restore the old behavior.\n"
     ]
    },
    {
     "data": {
      "text/html": [
       "<style>#sk-container-id-2 {color: black;background-color: white;}#sk-container-id-2 pre{padding: 0;}#sk-container-id-2 div.sk-toggleable {background-color: white;}#sk-container-id-2 label.sk-toggleable__label {cursor: pointer;display: block;width: 100%;margin-bottom: 0;padding: 0.3em;box-sizing: border-box;text-align: center;}#sk-container-id-2 label.sk-toggleable__label-arrow:before {content: \"▸\";float: left;margin-right: 0.25em;color: #696969;}#sk-container-id-2 label.sk-toggleable__label-arrow:hover:before {color: black;}#sk-container-id-2 div.sk-estimator:hover label.sk-toggleable__label-arrow:before {color: black;}#sk-container-id-2 div.sk-toggleable__content {max-height: 0;max-width: 0;overflow: hidden;text-align: left;background-color: #f0f8ff;}#sk-container-id-2 div.sk-toggleable__content pre {margin: 0.2em;color: black;border-radius: 0.25em;background-color: #f0f8ff;}#sk-container-id-2 input.sk-toggleable__control:checked~div.sk-toggleable__content {max-height: 200px;max-width: 100%;overflow: auto;}#sk-container-id-2 input.sk-toggleable__control:checked~label.sk-toggleable__label-arrow:before {content: \"▾\";}#sk-container-id-2 div.sk-estimator input.sk-toggleable__control:checked~label.sk-toggleable__label {background-color: #d4ebff;}#sk-container-id-2 div.sk-label input.sk-toggleable__control:checked~label.sk-toggleable__label {background-color: #d4ebff;}#sk-container-id-2 input.sk-hidden--visually {border: 0;clip: rect(1px 1px 1px 1px);clip: rect(1px, 1px, 1px, 1px);height: 1px;margin: -1px;overflow: hidden;padding: 0;position: absolute;width: 1px;}#sk-container-id-2 div.sk-estimator {font-family: monospace;background-color: #f0f8ff;border: 1px dotted black;border-radius: 0.25em;box-sizing: border-box;margin-bottom: 0.5em;}#sk-container-id-2 div.sk-estimator:hover {background-color: #d4ebff;}#sk-container-id-2 div.sk-parallel-item::after {content: \"\";width: 100%;border-bottom: 1px solid gray;flex-grow: 1;}#sk-container-id-2 div.sk-label:hover label.sk-toggleable__label {background-color: #d4ebff;}#sk-container-id-2 div.sk-serial::before {content: \"\";position: absolute;border-left: 1px solid gray;box-sizing: border-box;top: 0;bottom: 0;left: 50%;z-index: 0;}#sk-container-id-2 div.sk-serial {display: flex;flex-direction: column;align-items: center;background-color: white;padding-right: 0.2em;padding-left: 0.2em;position: relative;}#sk-container-id-2 div.sk-item {position: relative;z-index: 1;}#sk-container-id-2 div.sk-parallel {display: flex;align-items: stretch;justify-content: center;background-color: white;position: relative;}#sk-container-id-2 div.sk-item::before, #sk-container-id-2 div.sk-parallel-item::before {content: \"\";position: absolute;border-left: 1px solid gray;box-sizing: border-box;top: 0;bottom: 0;left: 50%;z-index: -1;}#sk-container-id-2 div.sk-parallel-item {display: flex;flex-direction: column;z-index: 1;position: relative;background-color: white;}#sk-container-id-2 div.sk-parallel-item:first-child::after {align-self: flex-end;width: 50%;}#sk-container-id-2 div.sk-parallel-item:last-child::after {align-self: flex-start;width: 50%;}#sk-container-id-2 div.sk-parallel-item:only-child::after {width: 0;}#sk-container-id-2 div.sk-dashed-wrapped {border: 1px dashed gray;margin: 0 0.4em 0.5em 0.4em;box-sizing: border-box;padding-bottom: 0.4em;background-color: white;}#sk-container-id-2 div.sk-label label {font-family: monospace;font-weight: bold;display: inline-block;line-height: 1.2em;}#sk-container-id-2 div.sk-label-container {text-align: center;}#sk-container-id-2 div.sk-container {/* jupyter's `normalize.less` sets `[hidden] { display: none; }` but bootstrap.min.css set `[hidden] { display: none !important; }` so we also need the `!important` here to be able to override the default hidden behavior on the sphinx rendered scikit-learn.org. See: https://github.com/scikit-learn/scikit-learn/issues/21755 */display: inline-block !important;position: relative;}#sk-container-id-2 div.sk-text-repr-fallback {display: none;}</style><div id=\"sk-container-id-2\" class=\"sk-top-container\"><div class=\"sk-text-repr-fallback\"><pre>StackingClassifier(estimators=[(&#x27;rf&#x27;,\n",
       "                                RandomForestClassifier(bootstrap=False,\n",
       "                                                       max_depth=10,\n",
       "                                                       min_samples_leaf=6,\n",
       "                                                       min_samples_split=5,\n",
       "                                                       n_estimators=150)),\n",
       "                               (&#x27;xgb&#x27;,\n",
       "                                XGBClassifier(base_score=0.5, booster=&#x27;gbtree&#x27;,\n",
       "                                              colsample_bylevel=1,\n",
       "                                              colsample_bynode=1,\n",
       "                                              colsample_bytree=0.7,\n",
       "                                              enable_categorical=False, gamma=0,\n",
       "                                              gpu_id=-1, importance_type=None,\n",
       "                                              interaction_constraints=&#x27;&#x27;...\n",
       "                                              max_delta_step=0, max_depth=5,\n",
       "                                              min_child_weight=1, missing=nan,\n",
       "                                              monotone_constraints=&#x27;()&#x27;,\n",
       "                                              n_estimators=150, n_jobs=8,\n",
       "                                              num_parallel_tree=1,\n",
       "                                              predictor=&#x27;auto&#x27;, random_state=0,\n",
       "                                              reg_alpha=0, reg_lambda=1,\n",
       "                                              scale_pos_weight=1, subsample=0.7,\n",
       "                                              tree_method=&#x27;exact&#x27;,\n",
       "                                              validate_parameters=1,\n",
       "                                              verbosity=None)),\n",
       "                               (&#x27;logreg&#x27;,\n",
       "                                LogisticRegression(C=1.601, max_iter=25000))],\n",
       "                   final_estimator=LogisticRegression())</pre><b>In a Jupyter environment, please rerun this cell to show the HTML representation or trust the notebook. <br />On GitHub, the HTML representation is unable to render, please try loading this page with nbviewer.org.</b></div><div class=\"sk-container\" hidden><div class=\"sk-item sk-dashed-wrapped\"><div class=\"sk-label-container\"><div class=\"sk-label sk-toggleable\"><input class=\"sk-toggleable__control sk-hidden--visually\" id=\"sk-estimator-id-2\" type=\"checkbox\" ><label for=\"sk-estimator-id-2\" class=\"sk-toggleable__label sk-toggleable__label-arrow\">StackingClassifier</label><div class=\"sk-toggleable__content\"><pre>StackingClassifier(estimators=[(&#x27;rf&#x27;,\n",
       "                                RandomForestClassifier(bootstrap=False,\n",
       "                                                       max_depth=10,\n",
       "                                                       min_samples_leaf=6,\n",
       "                                                       min_samples_split=5,\n",
       "                                                       n_estimators=150)),\n",
       "                               (&#x27;xgb&#x27;,\n",
       "                                XGBClassifier(base_score=0.5, booster=&#x27;gbtree&#x27;,\n",
       "                                              colsample_bylevel=1,\n",
       "                                              colsample_bynode=1,\n",
       "                                              colsample_bytree=0.7,\n",
       "                                              enable_categorical=False, gamma=0,\n",
       "                                              gpu_id=-1, importance_type=None,\n",
       "                                              interaction_constraints=&#x27;&#x27;...\n",
       "                                              max_delta_step=0, max_depth=5,\n",
       "                                              min_child_weight=1, missing=nan,\n",
       "                                              monotone_constraints=&#x27;()&#x27;,\n",
       "                                              n_estimators=150, n_jobs=8,\n",
       "                                              num_parallel_tree=1,\n",
       "                                              predictor=&#x27;auto&#x27;, random_state=0,\n",
       "                                              reg_alpha=0, reg_lambda=1,\n",
       "                                              scale_pos_weight=1, subsample=0.7,\n",
       "                                              tree_method=&#x27;exact&#x27;,\n",
       "                                              validate_parameters=1,\n",
       "                                              verbosity=None)),\n",
       "                               (&#x27;logreg&#x27;,\n",
       "                                LogisticRegression(C=1.601, max_iter=25000))],\n",
       "                   final_estimator=LogisticRegression())</pre></div></div></div><div class=\"sk-serial\"><div class=\"sk-item\"><div class=\"sk-parallel\"><div class=\"sk-parallel-item\"><div class=\"sk-item\"><div class=\"sk-label-container\"><div class=\"sk-label sk-toggleable\"><label>rf</label></div></div><div class=\"sk-serial\"><div class=\"sk-item\"><div class=\"sk-estimator sk-toggleable\"><input class=\"sk-toggleable__control sk-hidden--visually\" id=\"sk-estimator-id-3\" type=\"checkbox\" ><label for=\"sk-estimator-id-3\" class=\"sk-toggleable__label sk-toggleable__label-arrow\">RandomForestClassifier</label><div class=\"sk-toggleable__content\"><pre>RandomForestClassifier(bootstrap=False, max_depth=10, min_samples_leaf=6,\n",
       "                       min_samples_split=5, n_estimators=150)</pre></div></div></div></div></div></div><div class=\"sk-parallel-item\"><div class=\"sk-item\"><div class=\"sk-label-container\"><div class=\"sk-label sk-toggleable\"><label>xgb</label></div></div><div class=\"sk-serial\"><div class=\"sk-item\"><div class=\"sk-estimator sk-toggleable\"><input class=\"sk-toggleable__control sk-hidden--visually\" id=\"sk-estimator-id-4\" type=\"checkbox\" ><label for=\"sk-estimator-id-4\" class=\"sk-toggleable__label sk-toggleable__label-arrow\">XGBClassifier</label><div class=\"sk-toggleable__content\"><pre>XGBClassifier(base_score=0.5, booster=&#x27;gbtree&#x27;, colsample_bylevel=1,\n",
       "              colsample_bynode=1, colsample_bytree=0.7,\n",
       "              enable_categorical=False, gamma=0, gpu_id=-1,\n",
       "              importance_type=None, interaction_constraints=&#x27;&#x27;,\n",
       "              learning_rate=0.1, max_delta_step=0, max_depth=5,\n",
       "              min_child_weight=1, missing=nan, monotone_constraints=&#x27;()&#x27;,\n",
       "              n_estimators=150, n_jobs=8, num_parallel_tree=1, predictor=&#x27;auto&#x27;,\n",
       "              random_state=0, reg_alpha=0, reg_lambda=1, scale_pos_weight=1,\n",
       "              subsample=0.7, tree_method=&#x27;exact&#x27;, validate_parameters=1,\n",
       "              verbosity=None)</pre></div></div></div></div></div></div><div class=\"sk-parallel-item\"><div class=\"sk-item\"><div class=\"sk-label-container\"><div class=\"sk-label sk-toggleable\"><label>logreg</label></div></div><div class=\"sk-serial\"><div class=\"sk-item\"><div class=\"sk-estimator sk-toggleable\"><input class=\"sk-toggleable__control sk-hidden--visually\" id=\"sk-estimator-id-5\" type=\"checkbox\" ><label for=\"sk-estimator-id-5\" class=\"sk-toggleable__label sk-toggleable__label-arrow\">LogisticRegression</label><div class=\"sk-toggleable__content\"><pre>LogisticRegression(C=1.601, max_iter=25000)</pre></div></div></div></div></div></div></div></div><div class=\"sk-item\"><div class=\"sk-parallel\"><div class=\"sk-parallel-item\"><div class=\"sk-item\"><div class=\"sk-label-container\"><div class=\"sk-label sk-toggleable\"><label>final_estimator</label></div></div><div class=\"sk-serial\"><div class=\"sk-item\"><div class=\"sk-estimator sk-toggleable\"><input class=\"sk-toggleable__control sk-hidden--visually\" id=\"sk-estimator-id-6\" type=\"checkbox\" ><label for=\"sk-estimator-id-6\" class=\"sk-toggleable__label sk-toggleable__label-arrow\">LogisticRegression</label><div class=\"sk-toggleable__content\"><pre>LogisticRegression()</pre></div></div></div></div></div></div></div></div></div></div></div></div>"
      ],
      "text/plain": [
       "StackingClassifier(estimators=[('rf',\n",
       "                                RandomForestClassifier(bootstrap=False,\n",
       "                                                       max_depth=10,\n",
       "                                                       min_samples_leaf=6,\n",
       "                                                       min_samples_split=5,\n",
       "                                                       n_estimators=150)),\n",
       "                               ('xgb',\n",
       "                                XGBClassifier(base_score=0.5, booster='gbtree',\n",
       "                                              colsample_bylevel=1,\n",
       "                                              colsample_bynode=1,\n",
       "                                              colsample_bytree=0.7,\n",
       "                                              enable_categorical=False, gamma=0,\n",
       "                                              gpu_id=-1, importance_type=None,\n",
       "                                              interaction_constraints=''...\n",
       "                                              max_delta_step=0, max_depth=5,\n",
       "                                              min_child_weight=1, missing=nan,\n",
       "                                              monotone_constraints='()',\n",
       "                                              n_estimators=150, n_jobs=8,\n",
       "                                              num_parallel_tree=1,\n",
       "                                              predictor='auto', random_state=0,\n",
       "                                              reg_alpha=0, reg_lambda=1,\n",
       "                                              scale_pos_weight=1, subsample=0.7,\n",
       "                                              tree_method='exact',\n",
       "                                              validate_parameters=1,\n",
       "                                              verbosity=None)),\n",
       "                               ('logreg',\n",
       "                                LogisticRegression(C=1.601, max_iter=25000))],\n",
       "                   final_estimator=LogisticRegression())"
      ]
     },
     "execution_count": 6,
     "metadata": {},
     "output_type": "execute_result"
    }
   ],
   "source": [
    "#VOTING\n",
    "estimators = [('rf', rf_clf), ('xgb', xgb_clf), ('logreg', lr_clf)]\n",
    "voting_clf = VotingClassifier(estimators=estimators, voting='soft')\n",
    "voting_clf.fit(X_train, y_train)\n",
    "\n",
    "#STACKING\n",
    "stacking_clf = StackingClassifier(estimators=estimators, final_estimator=LogisticRegression())\n",
    "stacking_clf.fit(X_train, y_train)"
   ]
  },
  {
   "cell_type": "markdown",
   "id": "8366a519",
   "metadata": {},
   "source": [
    "## NB"
   ]
  },
  {
   "cell_type": "code",
   "execution_count": 7,
   "id": "a54baa1f",
   "metadata": {
    "ExecuteTime": {
     "end_time": "2022-11-09T06:08:59.018078Z",
     "start_time": "2022-11-09T06:08:58.930152Z"
    }
   },
   "outputs": [],
   "source": [
    "X_train_nb = X_train.copy()\n",
    "X_test_nb = X_test.copy()\n",
    "\n",
    "train_ohe_cat = X_train_nb.iloc[:, 422:437]\n",
    "X_train_nb['category'] = train_ohe_cat.idxmax(1)\n",
    "train_ohe_loc = X_train_nb.iloc[:, 437:-1]\n",
    "X_train_nb['location'] = train_ohe_loc.idxmax(1)\n",
    "\n",
    "train_ohe_cat = X_test_nb.iloc[:, 422:437]\n",
    "X_test_nb['category'] = train_ohe_cat.idxmax(1)\n",
    "train_ohe_loc = X_test_nb.iloc[:, 437:-1]\n",
    "X_test_nb['location'] = train_ohe_loc.idxmax(1)\n",
    "\n",
    "X_train_nb = X_train_nb.drop(X_train_nb.iloc[:, 422:-2].columns, axis=1)\n",
    "X_test_nb = X_test_nb.drop(X_test_nb.iloc[:, 422:-2].columns, axis=1)"
   ]
  },
  {
   "cell_type": "code",
   "execution_count": 8,
   "id": "6a0a0e86",
   "metadata": {
    "ExecuteTime": {
     "end_time": "2022-11-09T06:08:59.024098Z",
     "start_time": "2022-11-09T06:08:59.020016Z"
    }
   },
   "outputs": [],
   "source": [
    "binary_cols = ['staff_pick', 'has_video']\n",
    "categorical_cols = ['category', 'location']\n",
    "train_binary = X_train_nb[binary_cols]\n",
    "train_categorical = X_train_nb[categorical_cols]\n",
    "test_binary = X_test_nb[binary_cols]\n",
    "test_categorical = X_test_nb[categorical_cols]"
   ]
  },
  {
   "cell_type": "code",
   "execution_count": 9,
   "id": "ef38c2c7",
   "metadata": {
    "ExecuteTime": {
     "end_time": "2022-11-09T06:08:59.046088Z",
     "start_time": "2022-11-09T06:08:59.025081Z"
    }
   },
   "outputs": [],
   "source": [
    "train_numeric = X_train_nb.select_dtypes(include='number').drop(binary_cols, axis=1) \n",
    "test_numeric = X_test_nb.select_dtypes(include='number').drop(binary_cols, axis=1) "
   ]
  },
  {
   "cell_type": "code",
   "execution_count": 10,
   "id": "1056be6c",
   "metadata": {
    "ExecuteTime": {
     "end_time": "2022-11-09T06:08:59.207207Z",
     "start_time": "2022-11-09T06:08:59.047029Z"
    }
   },
   "outputs": [
    {
     "name": "stderr",
     "output_type": "stream",
     "text": [
      "/Users/ivankoh/opt/miniconda3/envs/bt4222/lib/python3.9/site-packages/sklearn/impute/_base.py:54: FutureWarning: Unlike other reduction functions (e.g. `skew`, `kurtosis`), the default behavior of `mode` typically preserves the axis it acts along. In SciPy 1.11.0, this behavior will change: the default value of `keepdims` will become False, the `axis` over which the statistic is taken will be eliminated, and the value None will no longer be accepted. Set `keepdims` to True or False to avoid this warning.\n",
      "  mode = stats.mode(array)\n"
     ]
    }
   ],
   "source": [
    "# ----- Fit three models -----\n",
    "\n",
    "model_G = GaussianNB()\n",
    "clf_G = model_G.fit(train_numeric, y_train)\n",
    "\n",
    "model_C2 = CategoricalNB()\n",
    "enc = OrdinalEncoder(handle_unknown='use_encoded_value', unknown_value = np.nan)\n",
    "train_categorical = enc.fit_transform(train_categorical)\n",
    "test_categorical = enc.transform(test_categorical)\n",
    "imp = SimpleImputer(strategy=\"most_frequent\") \n",
    "train_categorical = imp.fit_transform(train_categorical)\n",
    "test_categorical = imp.transform(test_categorical)\n",
    "clf_C2 = model_C2.fit(train_categorical, y_train)\n",
    "\n",
    "model_B = BernoulliNB()\n",
    "clf_B = model_B.fit(train_binary, y_train)\n",
    "\n",
    "# ----- Get probability predictions from each model -----\n",
    "# On training data\n",
    "G_train_probas = model_G.predict_proba(train_numeric)\n",
    "C_train_probas = model_C2.predict_proba(train_categorical)\n",
    "B_train_probas = model_B.predict_proba(train_binary)\n",
    "\n",
    "# And on testing data\n",
    "G_test_probas = model_G.predict_proba(test_numeric)\n",
    "C_test_probas = model_C2.predict_proba(test_categorical)\n",
    "B_test_probas = model_B.predict_proba(test_binary)\n",
    "\n",
    "# Combine probability prediction for class=1 from both models\n",
    "X_new_train = np.c_[(G_train_probas[:,1], C_train_probas[:,1], B_train_probas[:,1])] # Train\n",
    "X_new_test = np.c_[(G_test_probas[:,1], C_test_probas[:,1], B_test_probas[:,1])] # Test\n",
    "\n",
    "\n",
    "# ----- Fit Gaussian model on the X_new -----\n",
    "model = GaussianNB()\n",
    "clf = model.fit(X_new_train, y_train)\n",
    "y_pred = model.predict(X_new_test)"
   ]
  },
  {
   "cell_type": "code",
   "execution_count": 11,
   "id": "0d6b2d4d",
   "metadata": {
    "ExecuteTime": {
     "end_time": "2022-11-09T06:09:07.094554Z",
     "start_time": "2022-11-09T06:08:59.208391Z"
    }
   },
   "outputs": [
    {
     "data": {
      "image/png": "[encoded data removed]",
      "text/plain": [
       "<Figure size 432x288 with 1 Axes>"
      ]
     },
     "metadata": {
      "needs_background": "light"
     },
     "output_type": "display_data"
    }
   ],
   "source": [
    "y_pred_prob1 = model.predict_proba(X_new_test)[:, 1]\n",
    "fpr1, tpr1, thresholds = roc_curve(y_test, y_pred_prob1)\n",
    "y_pred_prob2 = svc_clf.predict_proba(X_test)[:, 1]\n",
    "fpr2, tpr2, thresholds = roc_curve(y_test, y_pred_prob2)\n",
    "y_pred_prob3 = lr_clf.predict_proba(X_test)[:, 1]\n",
    "fpr3, tpr3, thresholds = roc_curve(y_test, y_pred_prob3)\n",
    "y_pred_prob4 = rf_clf.predict_proba(X_test)[:, 1]\n",
    "fpr4, tpr4, thresholds = roc_curve(y_test, y_pred_prob4)\n",
    "y_pred_prob5 = xgb_clf.predict_proba(X_test)[:, 1]\n",
    "fpr5, tpr5, thresholds = roc_curve(y_test, y_pred_prob5)\n",
    "y_pred_prob6 = voting_clf.predict_proba(X_test)[:, 1]\n",
    "fpr6, tpr6, thresholds = roc_curve(y_test, y_pred_prob6)\n",
    "y_pred_prob7 = stacking_clf.predict_proba(X_test)[:, 1]\n",
    "fpr7, tpr7, thresholds = roc_curve(y_test, y_pred_prob7)\n",
    "\n",
    "plt.plot(fpr1, tpr1, label = \"Naive Bayes\")\n",
    "plt.plot(fpr2, tpr2, label =\"Support Vector Classifier\")\n",
    "plt.plot(fpr3, tpr3, label = \"Logistic Regression Classifier\")\n",
    "plt.plot(fpr4, tpr4, label =\"Random Forest Classifier\")\n",
    "plt.plot(fpr5, tpr5, label =\"XGBoost Classifier\")\n",
    "plt.plot(fpr6, tpr6, label =\"Voting Classifier\")\n",
    "plt.plot(fpr7, tpr7, label =\"Stacking Classifier\")\n",
    "\n",
    "plt.xlim([0.0, 1.0])\n",
    "plt.ylim([0.0, 1.0])\n",
    "plt.title('ROC curve')\n",
    "plt.xlabel('False Positive Rate (1 - Specificity)')\n",
    "plt.ylabel('True Positive Rate (Sensitivity)')\n",
    "plt.legend()\n",
    "plt.grid(True)"
   ]
  },
  {
   "cell_type": "code",
   "execution_count": 12,
   "id": "961564a6",
   "metadata": {
    "ExecuteTime": {
     "end_time": "2022-11-09T06:09:07.106818Z",
     "start_time": "2022-11-09T06:09:07.095779Z"
    }
   },
   "outputs": [
    {
     "name": "stdout",
     "output_type": "stream",
     "text": [
      "NB 0.815975807156679\n",
      "SVC 0.8815199060829295\n",
      "LR 0.9068644767170668\n",
      "RF 0.8826845202087968\n",
      "XGB 0.9265226780111049\n",
      "VOTING 0.9213174163506872\n",
      "STACKING 0.9263303865487954\n"
     ]
    }
   ],
   "source": [
    "#roc_auc_score based on predict_proba \n",
    "\n",
    "print(\"NB\", roc_auc_score(y_test, y_pred_prob1))\n",
    "print(\"SVC\", roc_auc_score(y_test, y_pred_prob2))\n",
    "print(\"LR\", roc_auc_score(y_test, y_pred_prob3))\n",
    "print(\"RF\", roc_auc_score(y_test, y_pred_prob4))\n",
    "print(\"XGB\", roc_auc_score(y_test, y_pred_prob5))\n",
    "print(\"VOTING\", roc_auc_score(y_test, y_pred_prob6))\n",
    "print(\"STACKING\", roc_auc_score(y_test, y_pred_prob7))"
   ]
  },
  {
   "cell_type": "code",
   "execution_count": 78,
   "id": "f0f61742",
   "metadata": {
    "ExecuteTime": {
     "end_time": "2022-11-09T13:47:15.917487Z",
     "start_time": "2022-11-09T13:47:15.749871Z"
    }
   },
   "outputs": [
    {
     "name": "stderr",
     "output_type": "stream",
     "text": [
      "/var/folders/dq/33rpc0cx4f54t0vx2cdcgczr0000gn/T/ipykernel_23578/2689980018.py:14: MatplotlibDeprecationWarning: Starting from Matplotlib 3.6, colorbar() will steal space from the mappable's axes, rather than from the current axes, to place the colorbar.  To silence this warning, explicitly pass the 'ax' argument to colorbar().\n",
      "  plt.colorbar(plot)\n"
     ]
    },
    {
     "data": {
      "image/png": "[encoded data removed]",
      "text/plain": [
       "<Figure size 432x288 with 2 Axes>"
      ]
     },
     "metadata": {
      "needs_background": "light"
     },
     "output_type": "display_data"
    }
   ],
   "source": [
    "# plot of F1 with hue as efficiency \n",
    "from math import log \n",
    "names = [\"Naive Bayes\", \"Support Vector Classifier\", \"Logistic Regression Classifier\",\n",
    "         \"Random Forest Classifier\", \"XGBoost Classifier\", \"Voting Classifier\", \"Stacking Classfier\"]\n",
    "f1_scores = [0.7804, 0.6494, 0.8446, 0.7961, 0.8622, 0.8617, 0.8631]\n",
    "efficiency = [0.006142, 115, 5.152, 14.33, 16.8, 42.05, 202.13]\n",
    "efficiency = list(map(lambda x: x*1000, efficiency)) \n",
    "\n",
    "df = pd.DataFrame({\"names\": names, \"f1_scores\": f1_scores, \"efficiency\": efficiency})\n",
    "plot_order = df.groupby('names')['f1_scores'].sum().sort_values(ascending=True).index.values\n",
    "\n",
    "plot = plt.scatter(x=df['names'], y=df[\"f1_scores\"], c=np.log(df[\"efficiency\"]), cmap='rocket_r')\n",
    "plt.clf()\n",
    "plt.colorbar(plot)\n",
    "ax = sns.barplot(y=df['names'], x=df['f1_scores'], hue=np.log(df['efficiency']), order=plot_order, palette='rocket_r', dodge=False,  orient='horizontal')\n",
    "ax.set_ylabel('Classifier')\n",
    "ax.set_xlabel('F1 Scores')\n",
    "ax.legend_.remove()"
   ]
  },
  {
   "cell_type": "code",
   "execution_count": 72,
   "id": "b680bdcf",
   "metadata": {
    "ExecuteTime": {
     "end_time": "2022-11-09T13:31:07.211144Z",
     "start_time": "2022-11-09T13:31:07.062119Z"
    }
   },
   "outputs": [
    {
     "data": {
      "image/png": "[encoded data removed]",
      "text/plain": [
       "<Figure size 432x288 with 2 Axes>"
      ]
     },
     "metadata": {
      "needs_background": "light"
     },
     "output_type": "display_data"
    }
   ],
   "source": [
    "# plot of F1 with hue as efficiency \n",
    "from math import log \n",
    "names = [\"Naive Bayes\", \"Support Vector Classifier\", \"Logistic Regression Classifier\",\n",
    "         \"Random Forest Classifier\", \"XGBoost Classifier\", \"Voting Classifier\", \"Stacking Classfier\"]\n",
    "f1_scores = [0.7804, 0.6494, 0.8446, 0.7961, 0.8622, 0.8617, 0.8631]\n",
    "efficiency = [0.006142, 115, 5.152, 14.33, 16.8, 42.05, 202.13]\n",
    "\n",
    "df = pd.DataFrame({\"names\": names, \"f1_scores\": f1_scores, \"efficiency\": efficiency})\n",
    "plot_order = df.groupby('names')['f1_scores'].sum().sort_values(ascending=True).index.values\n",
    "\n",
    "plot = plt.scatter(x=df['names'], y=df[\"f1_scores\"], c=np.log(df[\"efficiency\"]), cmap='rocket_r')\n",
    "plt.clf()\n",
    "plt.colorbar(plot)\n",
    "ax = sns.barplot(y=df['names'], x=df['f1_scores'], hue=np.log(df['efficiency']), order=plot_order, palette='rocket_r', dodge=False,  orient='horizontal')\n",
    "ax.set_ylabel('Classifier')\n",
    "ax.set_xlabel('F1 Scores')\n",
    "ax.legend_.remove()"
   ]
  },
  {
   "cell_type": "code",
   "execution_count": 68,
   "id": "a2b08907",
   "metadata": {
    "ExecuteTime": {
     "end_time": "2022-11-09T13:24:17.056139Z",
     "start_time": "2022-11-09T13:24:16.970721Z"
    }
   },
   "outputs": [
    {
     "data": {
      "text/plain": [
       "<matplotlib.collections.PathCollection at 0x168e98640>"
      ]
     },
     "execution_count": 68,
     "metadata": {},
     "output_type": "execute_result"
    },
    {
     "data": {
      "image/png": "[encoded data removed]",
      "text/plain": [
       "<Figure size 432x288 with 1 Axes>"
      ]
     },
     "metadata": {
      "needs_background": "light"
     },
     "output_type": "display_data"
    }
   ],
   "source": [
    "plt.scatter(x=df['names'], y=df[\"f1_scores\"], c=df[\"efficiency\"], cmap='rocket_r')"
   ]
  },
  {
   "cell_type": "code",
   "execution_count": 34,
   "id": "094a52a3",
   "metadata": {
    "ExecuteTime": {
     "end_time": "2022-11-09T06:46:26.582199Z",
     "start_time": "2022-11-09T06:46:26.408557Z"
    }
   },
   "outputs": [
    {
     "name": "stderr",
     "output_type": "stream",
     "text": [
      "/var/folders/dq/33rpc0cx4f54t0vx2cdcgczr0000gn/T/ipykernel_23578/2327626116.py:4: MatplotlibDeprecationWarning: Starting from Matplotlib 3.6, colorbar() will steal space from the mappable's axes, rather than from the current axes, to place the colorbar.  To silence this warning, explicitly pass the 'ax' argument to colorbar().\n",
      "  plt.colorbar(plot)\n"
     ]
    },
    {
     "data": {
      "image/png": "[encoded data removed]",
      "text/plain": [
       "<Figure size 432x288 with 2 Axes>"
      ]
     },
     "metadata": {
      "needs_background": "light"
     },
     "output_type": "display_data"
    }
   ],
   "source": [
    "plot_order = df.groupby('names')['efficiency'].sum().sort_values(ascending=True).index.values\n",
    "plot = plt.scatter(x=df['names'], y=df[\"efficiency\"], c=df[\"efficiency\"], cmap='Reds')\n",
    "plt.clf()\n",
    "plt.colorbar(plot)\n",
    "ax = sns.barplot(y=df['names'], x=df['f1_scores'], hue=df['efficiency'], palette='Reds', dodge=False, order=plot_order, orient='horizontal')\n",
    "ax.set_ylabel('Classifier')\n",
    "ax.set_xlabel('F1 Scores')\n",
    "ax.legend_.remove()"
   ]
  },
  {
   "cell_type": "code",
   "execution_count": null,
   "id": "363b9a79",
   "metadata": {},
   "outputs": [],
   "source": []
  }
 ],
 "metadata": {
  "kernelspec": {
   "display_name": "Python 3.9 (bt4222)",
   "language": "python",
   "name": "bt4222"
  },
  "language_info": {
   "codemirror_mode": {
    "name": "ipython",
    "version": 3
   },
   "file_extension": ".py",
   "mimetype": "text/x-python",
   "name": "python",
   "nbconvert_exporter": "python",
   "pygments_lexer": "ipython3",
   "version": "3.9.12"
  },
  "toc": {
   "base_numbering": 1,
   "nav_menu": {},
   "number_sections": false,
   "sideBar": true,
   "skip_h1_title": false,
   "title_cell": "Table of Contents",
   "title_sidebar": "Contents",
   "toc_cell": false,
   "toc_position": {},
   "toc_section_display": true,
   "toc_window_display": false
  },
  "vscode": {
   "interpreter": {
    "hash": "3d8ed9d5f82d3a6b03b0c02db761342dfdb80b03ec2829061c6d06f1ae9d9b4d"
   }
  }
 },
 "nbformat": 4,
 "nbformat_minor": 5
}
