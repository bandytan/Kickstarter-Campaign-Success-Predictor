{
 "cells": [
  {
   "cell_type": "code",
   "execution_count": 2,
   "id": "a3eb4a31",
   "metadata": {},
   "outputs": [],
   "source": [
    "import pandas as pd \n",
    "import numpy as np\n",
    "%matplotlib inline\n",
    "import matplotlib as mpl\n",
    "import matplotlib.pyplot as plt\n",
    "from sklearn.preprocessing import OrdinalEncoder, MinMaxScaler\n",
    "from sklearn.linear_model import LogisticRegression\n",
    "from sklearn.model_selection import RepeatedStratifiedKFold\n",
    "from sklearn.model_selection import GridSearchCV, RandomizedSearchCV\n",
    "from sklearn import metrics\n",
    "from sklearn.metrics import classification_report, confusion_matrix, roc_auc_score\n",
    "from sklearn.inspection import permutation_importance\n",
    "from scipy.stats import loguniform\n",
    "import os\n",
    "import time"
   ]
  },
  {
   "cell_type": "code",
   "execution_count": 3,
   "id": "11b817c2",
   "metadata": {},
   "outputs": [
    {
     "name": "stdout",
     "output_type": "stream",
     "text": [
      "(24756, 579)\n",
      "(4369, 579)\n"
     ]
    }
   ],
   "source": [
    "train_df = pd.read_csv(\"data/kickstarter_train.csv\")\n",
    "test_df = pd.read_csv(\"data/kickstarter_test.csv\")\n",
    "\n",
    "print(train_df.shape)\n",
    "print(test_df.shape)"
   ]
  },
  {
   "cell_type": "markdown",
   "id": "c8cbc4cb",
   "metadata": {},
   "source": [
    "<h1>Get to the correct data format</h1>"
   ]
  },
  {
   "cell_type": "code",
   "execution_count": 5,
   "id": "9523bd27",
   "metadata": {},
   "outputs": [],
   "source": [
    "X_train, y_train = train_df.drop('state', axis=1), train_df['state']\n",
    "X_test, y_test = test_df.drop('state', axis=1), test_df['state']"
   ]
  },
  {
   "cell_type": "code",
   "execution_count": 6,
   "id": "88a71261",
   "metadata": {},
   "outputs": [
    {
     "data": {
      "text/plain": [
       "array([dtype('float64'), dtype('int64')], dtype=object)"
      ]
     },
     "execution_count": 6,
     "metadata": {},
     "output_type": "execute_result"
    }
   ],
   "source": [
    "X_train.dtypes.unique()"
   ]
  },
  {
   "cell_type": "markdown",
   "id": "dd774074",
   "metadata": {},
   "source": [
    "<h3>Training using Logisitic Regression Model</h3>"
   ]
  },
  {
   "cell_type": "code",
   "execution_count": 7,
   "id": "fc003dc1",
   "metadata": {},
   "outputs": [
    {
     "name": "stdout",
     "output_type": "stream",
     "text": [
      "(24756, 578)\n",
      "(24756,)\n",
      "(4369, 578)\n",
      "(4369,)\n"
     ]
    }
   ],
   "source": [
    "print(X_train.shape)\n",
    "print(y_train.shape)\n",
    "print(X_test.shape)\n",
    "print(y_test.shape)\n"
   ]
  },
  {
   "cell_type": "code",
   "execution_count": 12,
   "id": "2f56b43c",
   "metadata": {},
   "outputs": [
    {
     "name": "stdout",
     "output_type": "stream",
     "text": [
      "Train Set Accuracy Score:  0.8413717886572952\n",
      "Train Set Confusion Matrix \n",
      " [[ 4888  2386]\n",
      " [ 1541 15941]]\n",
      "Train Set               precision    recall  f1-score   support\n",
      "\n",
      "           0       0.76      0.67      0.71      7274\n",
      "           1       0.87      0.91      0.89     17482\n",
      "\n",
      "    accuracy                           0.84     24756\n",
      "   macro avg       0.82      0.79      0.80     24756\n",
      "weighted avg       0.84      0.84      0.84     24756\n",
      "\n",
      "Area Under Curve: 0.9042336314689147\n"
     ]
    }
   ],
   "source": [
    "LRModel = LogisticRegression(max_iter=25000)\n",
    "LRModel.fit(X_train, y_train)\n",
    "# Train set\n",
    "LRModel_train_score = LRModel.score(X_train, y_train)\n",
    "print('Train Set Accuracy Score: ', LRModel_train_score)\n",
    "pred = LRModel.predict(X_train)\n",
    "print(\"Train Set Confusion Matrix \\n\", confusion_matrix(y_train, pred))\n",
    "print(\"Train Set\",classification_report(y_train, pred))\n",
    "\n",
    "auc_pred = LRModel.predict_proba(X_train)[:,1]\n",
    "area_under_curve_train = metrics.roc_auc_score(y_train, auc_pred)\n",
    "print(\"Area Under Curve:\", area_under_curve_train)"
   ]
  },
  {
   "cell_type": "code",
   "execution_count": 13,
   "id": "2aa693ac",
   "metadata": {},
   "outputs": [
    {
     "name": "stdout",
     "output_type": "stream",
     "text": [
      "Test Set Accuracy Score:  0.8450446326390478\n",
      "Test Set Confusion Matrix \n",
      " [[ 889  393]\n",
      " [ 284 2803]]\n",
      "Test Set               precision    recall  f1-score   support\n",
      "\n",
      "           0       0.76      0.69      0.72      1282\n",
      "           1       0.88      0.91      0.89      3087\n",
      "\n",
      "    accuracy                           0.85      4369\n",
      "   macro avg       0.82      0.80      0.81      4369\n",
      "weighted avg       0.84      0.85      0.84      4369\n",
      "\n",
      "Area Under Curve: 0.9069898072890845\n"
     ]
    }
   ],
   "source": [
    "#Test Set\n",
    "LRModel_test_score = LRModel.score(X_test, y_test)\n",
    "print('Test Set Accuracy Score: ', LRModel_test_score)\n",
    "test_pred = LRModel.predict(X_test)\n",
    "print(\"Test Set Confusion Matrix \\n\", confusion_matrix(y_test, test_pred))\n",
    "print(\"Test Set\",classification_report(y_test, test_pred))\n",
    "\n",
    "\n",
    "auc_pred_test = LRModel.predict_proba(X_test)[:,1]\n",
    "area_under_curve_test = metrics.roc_auc_score(y_test, auc_pred_test)\n",
    "print(\"Area Under Curve:\", area_under_curve_test)"
   ]
  },
  {
   "cell_type": "markdown",
   "id": "b7c01257",
   "metadata": {},
   "source": [
    "## Hyper parameter tuning"
   ]
  },
  {
   "cell_type": "code",
   "execution_count": 14,
   "id": "894811e9",
   "metadata": {},
   "outputs": [
    {
     "name": "stdout",
     "output_type": "stream",
     "text": [
      "Fitting 15 folds for each of 10 candidates, totalling 150 fits\n",
      "Best Score: 0.8916403758883328\n",
      "Best Hyperparameters: {'C': 1.6008626393306489, 'penalty': 'l2', 'solver': 'lbfgs'}\n"
     ]
    }
   ],
   "source": [
    "import warnings\n",
    "warnings.filterwarnings(\"ignore\")\n",
    "\n",
    "#using repeatedStratifiedKfold \n",
    "model = LogisticRegression(max_iter=25000)\n",
    "cv = RepeatedStratifiedKFold(n_splits=5, n_repeats=3, random_state=999)\n",
    "space = dict()\n",
    "space['solver'] = ['newton-cg', 'lbfgs', 'liblinear']\n",
    "space['penalty'] = ['l1', 'l2']\n",
    "space['C'] = loguniform(1e-5, 100)\n",
    "\n",
    "#define search\n",
    "search = RandomizedSearchCV(\n",
    "    model, \n",
    "    space, \n",
    "    n_iter=100, \n",
    "    scoring='roc_auc', \n",
    "    n_jobs=-1, \n",
    "    cv=cv, \n",
    "    verbose=2,\n",
    "    random_state=999)\n",
    "\n",
    "# execute search\n",
    "result = search.fit(X_train, y_train)\n",
    "\n",
    "print('Best Score: %s' % result.best_score_)\n",
    "print('Best Hyperparameters: %s' % result.best_params_)\n",
    "\n",
    "# Best Score: 0.8916403758883328\n",
    "# Best Hyperparameters: {'C': 1.6008626393306489, 'penalty': 'l2', 'solver': 'lbfgs'}"
   ]
  },
  {
   "cell_type": "markdown",
   "id": "bc7b392a",
   "metadata": {},
   "source": [
    "<h3> Testing with training model output </h3>"
   ]
  },
  {
   "cell_type": "code",
   "execution_count": 15,
   "id": "f0945210",
   "metadata": {},
   "outputs": [
    {
     "name": "stdout",
     "output_type": "stream",
     "text": [
      "Train Set Accuracy Score after tuning:  0.8420584908709\n",
      "Train Set Confusion Matrix \n",
      " [[ 4905  2369]\n",
      " [ 1541 15941]]\n",
      "Train Set               precision    recall  f1-score   support\n",
      "\n",
      "           0       0.76      0.67      0.72      7274\n",
      "           1       0.87      0.91      0.89     17482\n",
      "\n",
      "    accuracy                           0.84     24756\n",
      "   macro avg       0.82      0.79      0.80     24756\n",
      "weighted avg       0.84      0.84      0.84     24756\n",
      "\n",
      "Area Under Curve after tuning: 0.904630748365175\n"
     ]
    }
   ],
   "source": [
    "best_model = LogisticRegression(**result.best_params_, max_iter=25000)\n",
    "best_model.fit(X_train, y_train)\n",
    "# Train set\n",
    "best_model_train_score = best_model.score(X_train, y_train)\n",
    "print('Train Set Accuracy Score after tuning: ', best_model_train_score)\n",
    "pred1 = best_model.predict(X_train)\n",
    "print(\"Train Set Confusion Matrix \\n\", confusion_matrix(y_train, pred1))\n",
    "print(\"Train Set\",classification_report(y_train, pred1))\n",
    "\n",
    "auc_pred1 = best_model.predict_proba(X_train)[:,1]\n",
    "area_under_curve_train = metrics.roc_auc_score(y_train, auc_pred1)\n",
    "print(\"Area Under Curve after tuning:\", area_under_curve_train)"
   ]
  },
  {
   "cell_type": "code",
   "execution_count": 16,
   "id": "a93a9e18",
   "metadata": {},
   "outputs": [
    {
     "name": "stdout",
     "output_type": "stream",
     "text": [
      "Test Set Accuracy Score:  0.846646829938201\n",
      "Test Set Confusion Matrix \n",
      " [[ 892  390]\n",
      " [ 280 2807]]\n",
      "Test Set \n",
      "               precision    recall  f1-score   support\n",
      "\n",
      "           0    0.76109   0.69579   0.72698      1282\n",
      "           1    0.87801   0.90930   0.89338      3087\n",
      "\n",
      "    accuracy                        0.84665      4369\n",
      "   macro avg    0.81955   0.80254   0.81018      4369\n",
      "weighted avg    0.84370   0.84665   0.84455      4369\n",
      "\n",
      "Area Under Curve: 0.9068652347648813\n"
     ]
    }
   ],
   "source": [
    "best_model_test_score = best_model.score(X_test, y_test)\n",
    "print('Test Set Accuracy Score: ', best_model_test_score)\n",
    "test_pred1 = best_model.predict(X_test)\n",
    "print(\"Test Set Confusion Matrix \\n\", confusion_matrix(y_test, test_pred1))\n",
    "print(\"Test Set \\n\",classification_report(y_test, test_pred1, digits=5))\n",
    "\n",
    "auc_pred_test1 = best_model.predict_proba(X_test)[:,1]\n",
    "area_under_curve_test = metrics.roc_auc_score(y_test, auc_pred_test1)\n",
    "print(\"Area Under Curve:\", area_under_curve_test)"
   ]
  },
  {
   "cell_type": "code",
   "execution_count": 17,
   "id": "dc61fefc",
   "metadata": {},
   "outputs": [
    {
     "data": {
      "image/png": "[encoded data removed]",
      "text/plain": [
       "<Figure size 640x480 with 1 Axes>"
      ]
     },
     "metadata": {},
     "output_type": "display_data"
    }
   ],
   "source": [
    "import matplotlib.pyplot as plt\n",
    "test_predict = LRModel.predict_proba(X_test)[:,1]\n",
    "fpr, tpr, thresholds = metrics.roc_curve(y_test, test_predict)\n",
    "plt.plot(fpr, tpr, label = \"Without Tuning\")\n",
    "test_predict1 = best_model.predict_proba(X_test)[:,1]\n",
    "fpr1, tpr1, thresholds1 = metrics.roc_curve(y_test, test_predict1)\n",
    "plt.plot(fpr1, tpr1, label = \"With Tuning\")\n",
    "plt.xlim([0.0, 1.0])\n",
    "plt.ylim([0.0, 1.0])\n",
    "plt.rcParams['font.size'] = 14\n",
    "plt.title('ROC curve of Logistic Regression')\n",
    "plt.xlabel('False Positive Rate (1 - Specificity)')\n",
    "plt.ylabel('True Positive Rate (Sensitivity)')\n",
    "plt.legend()\n",
    "plt.grid(True)"
   ]
  },
  {
   "cell_type": "markdown",
   "id": "ad771048",
   "metadata": {},
   "source": [
    "### Run Time"
   ]
  },
  {
   "cell_type": "code",
   "execution_count": 18,
   "id": "21338da3",
   "metadata": {},
   "outputs": [
    {
     "name": "stdout",
     "output_type": "stream",
     "text": [
      "Execution time: 5.1522111892700195 s\n",
      "Wall time: 5.15 s\n"
     ]
    }
   ],
   "source": [
    "%%time\n",
    "start_time = time.time()\n",
    "model_time = LogisticRegression(**result.best_params_, max_iter=25000)\n",
    "model_time.fit(X_train, y_train)\n",
    "test_pred1 = model_time.predict(X_test)\n",
    "print(\"Execution time: \" + str((time.time() - start_time)) + ' s')"
   ]
  },
  {
   "cell_type": "markdown",
   "id": "c0613ac9",
   "metadata": {},
   "source": [
    "### Feature Importance"
   ]
  },
  {
   "cell_type": "code",
   "execution_count": 19,
   "id": "cc0b8f86",
   "metadata": {},
   "outputs": [
    {
     "name": "stdout",
     "output_type": "stream",
     "text": [
      "Index(['success_rate', 'staff_pick', 'reward_tiers', 'has_video',\n",
      "       'funding_duration_in_days', 'description_story_41', 'x0_film & video',\n",
      "       'x0_crafts', 'x0_comics', 'description_story_94',\n",
      "       'description_story_word_count', 'rewards_41', 'description_risks_10',\n",
      "       'description_story_49', 'rewards_80', 'description_96',\n",
      "       'description_67', 'description_story_5', 'x0_publishing', 'x0_food'],\n",
      "      dtype='object')\n"
     ]
    }
   ],
   "source": [
    "imps = permutation_importance(model_time, X_test, y_test)\n",
    "imps_sorted = imps.importances_mean.argsort()[::-1]\n",
    "\n",
    "print(np.take(X_train.columns, imps_sorted[: 20]))"
   ]
  }
 ],
 "metadata": {
  "kernelspec": {
   "display_name": "Python 3 (ipykernel)",
   "language": "python",
   "name": "python3"
  },
  "language_info": {
   "codemirror_mode": {
    "name": "ipython",
    "version": 3
   },
   "file_extension": ".py",
   "mimetype": "text/x-python",
   "name": "python",
   "nbconvert_exporter": "python",
   "pygments_lexer": "ipython3",
   "version": "3.9.13"
  },
  "toc": {
   "base_numbering": 1,
   "nav_menu": {},
   "number_sections": false,
   "sideBar": true,
   "skip_h1_title": false,
   "title_cell": "Table of Contents",
   "title_sidebar": "Contents",
   "toc_cell": false,
   "toc_position": {},
   "toc_section_display": true,
   "toc_window_display": false
  }
 },
 "nbformat": 4,
 "nbformat_minor": 5
}
