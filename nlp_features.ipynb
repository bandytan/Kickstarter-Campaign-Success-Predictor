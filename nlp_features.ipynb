{
 "cells": [
  {
   "cell_type": "code",
   "execution_count": 94,
   "metadata": {},
   "outputs": [],
   "source": [
    "import pandas as pd \n",
    "import ast\n",
    "import re\n",
    "import numpy as np\n",
    "import nltk\n",
    "from sklearn.model_selection import train_test_split\n",
    "from nltk.tokenize import word_tokenize, TreebankWordTokenizer\n",
    "from nltk.corpus import stopwords\n",
    "from nltk.stem import WordNetLemmatizer, PorterStemmer\n",
    "from nltk.util import ngrams\n",
    "from sklearn.preprocessing import OneHotEncoder\n",
    "from sklearn.feature_extraction.text import CountVectorizer, TfidfVectorizer\n"
   ]
  },
  {
   "cell_type": "code",
   "execution_count": 95,
   "metadata": {},
   "outputs": [],
   "source": [
    "df = pd.read_csv(\"./data/Kickstarter_merged.csv\")\n",
    "df.head(3)\n",
    "df_copy = df.copy()"
   ]
  },
  {
   "cell_type": "code",
   "execution_count": 96,
   "metadata": {},
   "outputs": [
    {
     "data": {
      "text/html": [
       "<div>\n",
       "<style scoped>\n",
       "    .dataframe tbody tr th:only-of-type {\n",
       "        vertical-align: middle;\n",
       "    }\n",
       "\n",
       "    .dataframe tbody tr th {\n",
       "        vertical-align: top;\n",
       "    }\n",
       "\n",
       "    .dataframe thead th {\n",
       "        text-align: right;\n",
       "    }\n",
       "</style>\n",
       "<table border=\"1\" class=\"dataframe\">\n",
       "  <thead>\n",
       "    <tr style=\"text-align: right;\">\n",
       "      <th></th>\n",
       "      <th>id</th>\n",
       "      <th>pledged</th>\n",
       "      <th>goal</th>\n",
       "      <th>update_count</th>\n",
       "      <th>backers_count</th>\n",
       "      <th>is_starrable</th>\n",
       "      <th>spotlight</th>\n",
       "      <th>staff_pick</th>\n",
       "    </tr>\n",
       "  </thead>\n",
       "  <tbody>\n",
       "    <tr>\n",
       "      <th>count</th>\n",
       "      <td>2.132000e+03</td>\n",
       "      <td>2132.000000</td>\n",
       "      <td>2.132000e+03</td>\n",
       "      <td>2132.000000</td>\n",
       "      <td>2132.000000</td>\n",
       "      <td>2132.000000</td>\n",
       "      <td>2132.000000</td>\n",
       "      <td>2132.000000</td>\n",
       "    </tr>\n",
       "    <tr>\n",
       "      <th>mean</th>\n",
       "      <td>1.077279e+09</td>\n",
       "      <td>13784.319747</td>\n",
       "      <td>6.604620e+04</td>\n",
       "      <td>5.312383</td>\n",
       "      <td>119.403846</td>\n",
       "      <td>0.009381</td>\n",
       "      <td>0.432458</td>\n",
       "      <td>0.045966</td>\n",
       "    </tr>\n",
       "    <tr>\n",
       "      <th>std</th>\n",
       "      <td>6.225447e+08</td>\n",
       "      <td>41074.680798</td>\n",
       "      <td>2.166310e+06</td>\n",
       "      <td>8.216737</td>\n",
       "      <td>547.130104</td>\n",
       "      <td>0.096422</td>\n",
       "      <td>0.495533</td>\n",
       "      <td>0.209461</td>\n",
       "    </tr>\n",
       "    <tr>\n",
       "      <th>min</th>\n",
       "      <td>1.454620e+06</td>\n",
       "      <td>0.000000</td>\n",
       "      <td>2.000000e+00</td>\n",
       "      <td>0.000000</td>\n",
       "      <td>0.000000</td>\n",
       "      <td>0.000000</td>\n",
       "      <td>0.000000</td>\n",
       "      <td>0.000000</td>\n",
       "    </tr>\n",
       "    <tr>\n",
       "      <th>25%</th>\n",
       "      <td>5.370663e+08</td>\n",
       "      <td>147.750000</td>\n",
       "      <td>1.200000e+03</td>\n",
       "      <td>0.000000</td>\n",
       "      <td>4.000000</td>\n",
       "      <td>0.000000</td>\n",
       "      <td>0.000000</td>\n",
       "      <td>0.000000</td>\n",
       "    </tr>\n",
       "    <tr>\n",
       "      <th>50%</th>\n",
       "      <td>1.105835e+09</td>\n",
       "      <td>1594.210000</td>\n",
       "      <td>5.000000e+03</td>\n",
       "      <td>2.000000</td>\n",
       "      <td>23.000000</td>\n",
       "      <td>0.000000</td>\n",
       "      <td>0.000000</td>\n",
       "      <td>0.000000</td>\n",
       "    </tr>\n",
       "    <tr>\n",
       "      <th>75%</th>\n",
       "      <td>1.622623e+09</td>\n",
       "      <td>9547.250000</td>\n",
       "      <td>1.500000e+04</td>\n",
       "      <td>8.000000</td>\n",
       "      <td>88.000000</td>\n",
       "      <td>0.000000</td>\n",
       "      <td>1.000000</td>\n",
       "      <td>0.000000</td>\n",
       "    </tr>\n",
       "    <tr>\n",
       "      <th>max</th>\n",
       "      <td>2.145266e+09</td>\n",
       "      <td>515413.000000</td>\n",
       "      <td>1.000000e+08</td>\n",
       "      <td>67.000000</td>\n",
       "      <td>18768.000000</td>\n",
       "      <td>1.000000</td>\n",
       "      <td>1.000000</td>\n",
       "      <td>1.000000</td>\n",
       "    </tr>\n",
       "  </tbody>\n",
       "</table>\n",
       "</div>"
      ],
      "text/plain": [
       "                 id        pledged          goal  update_count  backers_count  \\\n",
       "count  2.132000e+03    2132.000000  2.132000e+03   2132.000000    2132.000000   \n",
       "mean   1.077279e+09   13784.319747  6.604620e+04      5.312383     119.403846   \n",
       "std    6.225447e+08   41074.680798  2.166310e+06      8.216737     547.130104   \n",
       "min    1.454620e+06       0.000000  2.000000e+00      0.000000       0.000000   \n",
       "25%    5.370663e+08     147.750000  1.200000e+03      0.000000       4.000000   \n",
       "50%    1.105835e+09    1594.210000  5.000000e+03      2.000000      23.000000   \n",
       "75%    1.622623e+09    9547.250000  1.500000e+04      8.000000      88.000000   \n",
       "max    2.145266e+09  515413.000000  1.000000e+08     67.000000   18768.000000   \n",
       "\n",
       "       is_starrable    spotlight   staff_pick  \n",
       "count   2132.000000  2132.000000  2132.000000  \n",
       "mean       0.009381     0.432458     0.045966  \n",
       "std        0.096422     0.495533     0.209461  \n",
       "min        0.000000     0.000000     0.000000  \n",
       "25%        0.000000     0.000000     0.000000  \n",
       "50%        0.000000     0.000000     0.000000  \n",
       "75%        0.000000     1.000000     0.000000  \n",
       "max        1.000000     1.000000     1.000000  "
      ]
     },
     "execution_count": 96,
     "metadata": {},
     "output_type": "execute_result"
    }
   ],
   "source": [
    "df_copy.describe()"
   ]
  },
  {
   "cell_type": "code",
   "execution_count": 97,
   "metadata": {},
   "outputs": [
    {
     "data": {
      "text/html": [
       "<div>\n",
       "<style scoped>\n",
       "    .dataframe tbody tr th:only-of-type {\n",
       "        vertical-align: middle;\n",
       "    }\n",
       "\n",
       "    .dataframe tbody tr th {\n",
       "        vertical-align: top;\n",
       "    }\n",
       "\n",
       "    .dataframe thead th {\n",
       "        text-align: right;\n",
       "    }\n",
       "</style>\n",
       "<table border=\"1\" class=\"dataframe\">\n",
       "  <thead>\n",
       "    <tr style=\"text-align: right;\">\n",
       "      <th></th>\n",
       "      <th>id</th>\n",
       "      <th>name</th>\n",
       "      <th>description</th>\n",
       "      <th>description_story</th>\n",
       "      <th>description_risks</th>\n",
       "      <th>rewards</th>\n",
       "      <th>category</th>\n",
       "      <th>pledged</th>\n",
       "      <th>goal</th>\n",
       "      <th>deadline</th>\n",
       "      <th>...</th>\n",
       "      <th>spotlight</th>\n",
       "      <th>staff_pick</th>\n",
       "      <th>video</th>\n",
       "      <th>creator_name</th>\n",
       "      <th>creator_url</th>\n",
       "      <th>url</th>\n",
       "      <th>created_at</th>\n",
       "      <th>published_at</th>\n",
       "      <th>launched_at</th>\n",
       "      <th>link</th>\n",
       "    </tr>\n",
       "  </thead>\n",
       "  <tbody>\n",
       "    <tr>\n",
       "      <th>0</th>\n",
       "      <td>1249154571</td>\n",
       "      <td>Bunny Care Clinic Pin and Apparel Collection</td>\n",
       "      <td>A small collection of Bunny themed enamel pins...</td>\n",
       "      <td>Story\\r\\n\\r\\n\\r\\n\\r\\n\\r\\n\\r\\n\\r\\n\\r\\n\\r\\n\\r\\n\\...</td>\n",
       "      <td>We try our best to keep everything on schedule...</td>\n",
       "      <td>[{'rewards': 'Pledge without a reward'}, {'rew...</td>\n",
       "      <td>art/illustration</td>\n",
       "      <td>14115.0</td>\n",
       "      <td>700</td>\n",
       "      <td>2022-10-04 01:25:20</td>\n",
       "      <td>...</td>\n",
       "      <td>0</td>\n",
       "      <td>0</td>\n",
       "      <td>NaN</td>\n",
       "      <td>Labutori</td>\n",
       "      <td>https://www.kickstarter.com/profile/labutori</td>\n",
       "      <td>https://www.kickstarter.com/projects/labutori/...</td>\n",
       "      <td>2022-05-25 03:28:55+00:00</td>\n",
       "      <td>2022-09-09 01:25:20+00:00</td>\n",
       "      <td>2022-09-09 01:25:20+00:00</td>\n",
       "      <td>https://www.kickstarter.com/projects/labutori/...</td>\n",
       "    </tr>\n",
       "    <tr>\n",
       "      <th>1</th>\n",
       "      <td>1276054891</td>\n",
       "      <td>Hustle: A Singaporean Card Game</td>\n",
       "      <td>Hustle: A Singaporean Card Game is a funny and...</td>\n",
       "      <td>Story\\r\\n\\r\\n\\r\\n\\r\\n\\r\\n\\r\\n\\r\\n\\r\\n\\r\\n\\r\\n\\...</td>\n",
       "      <td>We want to be frank and honest with all our ge...</td>\n",
       "      <td>[{'rewards': 'Pledge without a reward'}, {'rew...</td>\n",
       "      <td>games/tabletop games</td>\n",
       "      <td>6.0</td>\n",
       "      <td>50</td>\n",
       "      <td>2022-10-07 13:08:05</td>\n",
       "      <td>...</td>\n",
       "      <td>0</td>\n",
       "      <td>0</td>\n",
       "      <td>https://v2.kickstarter.com/1662721387-XBw1i2Sj...</td>\n",
       "      <td>Hustle Singapore</td>\n",
       "      <td>https://www.kickstarter.com/profile/hustlesg</td>\n",
       "      <td>https://www.kickstarter.com/projects/hustlesg/...</td>\n",
       "      <td>2022-08-20 09:52:01+00:00</td>\n",
       "      <td>2022-09-07 13:08:05+00:00</td>\n",
       "      <td>2022-09-07 13:08:05+00:00</td>\n",
       "      <td>https://www.kickstarter.com/projects/hustlesg/...</td>\n",
       "    </tr>\n",
       "    <tr>\n",
       "      <th>2</th>\n",
       "      <td>236207086</td>\n",
       "      <td>Neovide, Waterless One-Stop Sous Vide Cooker</td>\n",
       "      <td>No more water containers and vacuum bags. With...</td>\n",
       "      <td>Story\\r\\n\\r\\n\\r\\n\\r\\n\\r\\n\\r\\n\\r\\n\\r\\n\\r\\n\\r\\n\\...</td>\n",
       "      <td>With our years of experience with products, ou...</td>\n",
       "      <td>[{'rewards': 'Pledge without a reward'}, {'rew...</td>\n",
       "      <td>technology</td>\n",
       "      <td>289082.0</td>\n",
       "      <td>10000</td>\n",
       "      <td>2022-10-06 13:00:04</td>\n",
       "      <td>...</td>\n",
       "      <td>0</td>\n",
       "      <td>1</td>\n",
       "      <td>https://v2.kickstarter.com/1662723490-gvkAMr9s...</td>\n",
       "      <td>The Space Tech</td>\n",
       "      <td>https://www.kickstarter.com/profile/thespacetech</td>\n",
       "      <td>https://www.kickstarter.com/projects/thespacet...</td>\n",
       "      <td>2022-06-30 09:28:52+00:00</td>\n",
       "      <td>2022-09-06 13:00:04+00:00</td>\n",
       "      <td>2022-09-06 13:00:04+00:00</td>\n",
       "      <td>https://www.kickstarter.com/projects/thespacet...</td>\n",
       "    </tr>\n",
       "    <tr>\n",
       "      <th>3</th>\n",
       "      <td>2128144913</td>\n",
       "      <td>Lit Cafe</td>\n",
       "      <td>Little Toasts of Happiness</td>\n",
       "      <td>StoryHi! \\r\\nLit Cafe is a small space to prov...</td>\n",
       "      <td>The concept is to offer affordable local food ...</td>\n",
       "      <td>[{'rewards': 'Pledge without a reward'}, {'rew...</td>\n",
       "      <td>food/spaces</td>\n",
       "      <td>170.0</td>\n",
       "      <td>12000</td>\n",
       "      <td>2022-10-02 13:09:00</td>\n",
       "      <td>...</td>\n",
       "      <td>0</td>\n",
       "      <td>0</td>\n",
       "      <td>NaN</td>\n",
       "      <td>Kay En</td>\n",
       "      <td>https://www.kickstarter.com/profile/hosum</td>\n",
       "      <td>https://www.kickstarter.com/projects/hosum/ho-...</td>\n",
       "      <td>2022-08-30 08:28:52+00:00</td>\n",
       "      <td>2022-09-06 04:29:02+00:00</td>\n",
       "      <td>2022-09-06 04:29:02+00:00</td>\n",
       "      <td>https://www.kickstarter.com/projects/hosum/ho-...</td>\n",
       "    </tr>\n",
       "    <tr>\n",
       "      <th>4</th>\n",
       "      <td>891970407</td>\n",
       "      <td>Runway Tarot &amp; Golden Journey Tarot</td>\n",
       "      <td>When the fashion week come into Tarot.\\r\\nThis...</td>\n",
       "      <td>Story\\r\\n\\r\\n\\r\\n\\r\\n\\r\\n\\r\\n\\r\\n\\r\\n\\r\\n\\r\\n\\...</td>\n",
       "      <td>COLLABORATION\\r\\nThis is the third time that b...</td>\n",
       "      <td>[{'rewards': 'Pledge without a reward'}, {'rew...</td>\n",
       "      <td>art/painting</td>\n",
       "      <td>33599.0</td>\n",
       "      <td>6800</td>\n",
       "      <td>2022-10-05 13:57:35</td>\n",
       "      <td>...</td>\n",
       "      <td>0</td>\n",
       "      <td>0</td>\n",
       "      <td>https://v2.kickstarter.com/1662720057-aeWt13h6...</td>\n",
       "      <td>Eugene Leong</td>\n",
       "      <td>https://www.kickstarter.com/profile/locationtarot</td>\n",
       "      <td>https://www.kickstarter.com/projects/locationt...</td>\n",
       "      <td>2022-07-18 14:48:29+00:00</td>\n",
       "      <td>2022-09-05 13:57:35+00:00</td>\n",
       "      <td>2022-09-05 13:57:35+00:00</td>\n",
       "      <td>https://www.kickstarter.com/projects/locationt...</td>\n",
       "    </tr>\n",
       "  </tbody>\n",
       "</table>\n",
       "<p>5 rows × 26 columns</p>\n",
       "</div>"
      ],
      "text/plain": [
       "           id                                          name  \\\n",
       "0  1249154571  Bunny Care Clinic Pin and Apparel Collection   \n",
       "1  1276054891               Hustle: A Singaporean Card Game   \n",
       "2   236207086  Neovide, Waterless One-Stop Sous Vide Cooker   \n",
       "3  2128144913                                      Lit Cafe   \n",
       "4   891970407           Runway Tarot & Golden Journey Tarot   \n",
       "\n",
       "                                         description  \\\n",
       "0  A small collection of Bunny themed enamel pins...   \n",
       "1  Hustle: A Singaporean Card Game is a funny and...   \n",
       "2  No more water containers and vacuum bags. With...   \n",
       "3                         Little Toasts of Happiness   \n",
       "4  When the fashion week come into Tarot.\\r\\nThis...   \n",
       "\n",
       "                                   description_story  \\\n",
       "0  Story\\r\\n\\r\\n\\r\\n\\r\\n\\r\\n\\r\\n\\r\\n\\r\\n\\r\\n\\r\\n\\...   \n",
       "1  Story\\r\\n\\r\\n\\r\\n\\r\\n\\r\\n\\r\\n\\r\\n\\r\\n\\r\\n\\r\\n\\...   \n",
       "2  Story\\r\\n\\r\\n\\r\\n\\r\\n\\r\\n\\r\\n\\r\\n\\r\\n\\r\\n\\r\\n\\...   \n",
       "3  StoryHi! \\r\\nLit Cafe is a small space to prov...   \n",
       "4  Story\\r\\n\\r\\n\\r\\n\\r\\n\\r\\n\\r\\n\\r\\n\\r\\n\\r\\n\\r\\n\\...   \n",
       "\n",
       "                                   description_risks  \\\n",
       "0  We try our best to keep everything on schedule...   \n",
       "1  We want to be frank and honest with all our ge...   \n",
       "2  With our years of experience with products, ou...   \n",
       "3  The concept is to offer affordable local food ...   \n",
       "4  COLLABORATION\\r\\nThis is the third time that b...   \n",
       "\n",
       "                                             rewards              category  \\\n",
       "0  [{'rewards': 'Pledge without a reward'}, {'rew...      art/illustration   \n",
       "1  [{'rewards': 'Pledge without a reward'}, {'rew...  games/tabletop games   \n",
       "2  [{'rewards': 'Pledge without a reward'}, {'rew...            technology   \n",
       "3  [{'rewards': 'Pledge without a reward'}, {'rew...           food/spaces   \n",
       "4  [{'rewards': 'Pledge without a reward'}, {'rew...          art/painting   \n",
       "\n",
       "    pledged   goal             deadline  ... spotlight staff_pick  \\\n",
       "0   14115.0    700  2022-10-04 01:25:20  ...         0          0   \n",
       "1       6.0     50  2022-10-07 13:08:05  ...         0          0   \n",
       "2  289082.0  10000  2022-10-06 13:00:04  ...         0          1   \n",
       "3     170.0  12000  2022-10-02 13:09:00  ...         0          0   \n",
       "4   33599.0   6800  2022-10-05 13:57:35  ...         0          0   \n",
       "\n",
       "                                               video      creator_name  \\\n",
       "0                                                NaN          Labutori   \n",
       "1  https://v2.kickstarter.com/1662721387-XBw1i2Sj...  Hustle Singapore   \n",
       "2  https://v2.kickstarter.com/1662723490-gvkAMr9s...    The Space Tech   \n",
       "3                                                NaN            Kay En   \n",
       "4  https://v2.kickstarter.com/1662720057-aeWt13h6...      Eugene Leong   \n",
       "\n",
       "                                         creator_url  \\\n",
       "0       https://www.kickstarter.com/profile/labutori   \n",
       "1       https://www.kickstarter.com/profile/hustlesg   \n",
       "2   https://www.kickstarter.com/profile/thespacetech   \n",
       "3          https://www.kickstarter.com/profile/hosum   \n",
       "4  https://www.kickstarter.com/profile/locationtarot   \n",
       "\n",
       "                                                 url  \\\n",
       "0  https://www.kickstarter.com/projects/labutori/...   \n",
       "1  https://www.kickstarter.com/projects/hustlesg/...   \n",
       "2  https://www.kickstarter.com/projects/thespacet...   \n",
       "3  https://www.kickstarter.com/projects/hosum/ho-...   \n",
       "4  https://www.kickstarter.com/projects/locationt...   \n",
       "\n",
       "                  created_at               published_at  \\\n",
       "0  2022-05-25 03:28:55+00:00  2022-09-09 01:25:20+00:00   \n",
       "1  2022-08-20 09:52:01+00:00  2022-09-07 13:08:05+00:00   \n",
       "2  2022-06-30 09:28:52+00:00  2022-09-06 13:00:04+00:00   \n",
       "3  2022-08-30 08:28:52+00:00  2022-09-06 04:29:02+00:00   \n",
       "4  2022-07-18 14:48:29+00:00  2022-09-05 13:57:35+00:00   \n",
       "\n",
       "                 launched_at  \\\n",
       "0  2022-09-09 01:25:20+00:00   \n",
       "1  2022-09-07 13:08:05+00:00   \n",
       "2  2022-09-06 13:00:04+00:00   \n",
       "3  2022-09-06 04:29:02+00:00   \n",
       "4  2022-09-05 13:57:35+00:00   \n",
       "\n",
       "                                                link  \n",
       "0  https://www.kickstarter.com/projects/labutori/...  \n",
       "1  https://www.kickstarter.com/projects/hustlesg/...  \n",
       "2  https://www.kickstarter.com/projects/thespacet...  \n",
       "3  https://www.kickstarter.com/projects/hosum/ho-...  \n",
       "4  https://www.kickstarter.com/projects/locationt...  \n",
       "\n",
       "[5 rows x 26 columns]"
      ]
     },
     "execution_count": 97,
     "metadata": {},
     "output_type": "execute_result"
    }
   ],
   "source": [
    "df_copy.head()"
   ]
  },
  {
   "cell_type": "code",
   "execution_count": 98,
   "metadata": {},
   "outputs": [],
   "source": [
    "# process rewards string\n",
    "def process_rewards(corpus):\n",
    "    corpus_processed = []\n",
    "    for row in corpus:\n",
    "        row_processed = \"\"\n",
    "        row = row.replace(\"\\\\n\", \" \")\n",
    "        row = ast.literal_eval(row)\n",
    "\n",
    "        for dict in row:\n",
    "            row_processed += dict['rewards'].lower() + ' '\n",
    "        \n",
    "        row_processed = row_processed.replace(\"//\",'')\n",
    "        corpus_processed.append(row_processed)\n",
    "\n",
    "    return corpus_processed\n",
    "\n",
    "df_copy[\"rewards_processed\"] = process_rewards(df_copy[\"rewards\"])\n"
   ]
  },
  {
   "cell_type": "code",
   "execution_count": 99,
   "metadata": {},
   "outputs": [
    {
     "data": {
      "text/plain": [
       "0       pledge without a reward pledge s$ 12 or more  ...\n",
       "1       pledge without a reward pledge s$ 2 or more  a...\n",
       "2       pledge without a reward pledge s$ 2 or more  a...\n",
       "3       pledge without a reward pledge s$ 7 or more  a...\n",
       "4       pledge without a reward pledge s$ 2 or more  a...\n",
       "                              ...                        \n",
       "2127    pledge s$ 5 or more  about us$ 4    a thank yo...\n",
       "2128    pledge s$ 40 or more  about $29    handmade by...\n",
       "2129    pledge s$ 7 or more  about us$ 6    city rawke...\n",
       "2130    pledge s$ 2 or more  about $2    every dollar ...\n",
       "2131    pledge s$ 50 or more  about us$ 36    the onli...\n",
       "Name: rewards_processed, Length: 2132, dtype: object"
      ]
     },
     "execution_count": 99,
     "metadata": {},
     "output_type": "execute_result"
    }
   ],
   "source": [
    "df_copy[\"rewards_processed\"]"
   ]
  },
  {
   "cell_type": "code",
   "execution_count": 100,
   "metadata": {},
   "outputs": [
    {
     "data": {
      "text/plain": [
       "0       A small collection of Bunny themed enamel pins...\n",
       "1       Hustle: A Singaporean Card Game is a funny and...\n",
       "2       No more water containers and vacuum bags. With...\n",
       "3                              Little Toasts of Happiness\n",
       "4       When the fashion week come into Tarot.\\r\\nThis...\n",
       "                              ...                        \n",
       "2127    Help me make flowers in Singapore affordable a...\n",
       "2128    A wallet/card keeper, hand-folded from leather...\n",
       "2129    Record App Studio features karaoke singing fro...\n",
       "2130    Reinventing the romance genre where 'Happily E...\n",
       "2131    The Online Deals is a location based discount ...\n",
       "Name: description, Length: 2132, dtype: object"
      ]
     },
     "execution_count": 100,
     "metadata": {},
     "output_type": "execute_result"
    }
   ],
   "source": [
    "df_copy[\"description\"]"
   ]
  },
  {
   "cell_type": "code",
   "execution_count": 101,
   "metadata": {},
   "outputs": [],
   "source": [
    "# process description story\n",
    "def process_description_story(corpus):\n",
    "    corpus_processed = []\n",
    "    for row in corpus:\n",
    "        row = str(row)\n",
    "        row_processed = row.replace(\"\\r\", \" \" )\n",
    "        row_processed = row_processed.replace(\"\\n\", \" \" )\n",
    "        corpus_processed.append(row_processed)\n",
    "\n",
    "    return corpus_processed\n",
    "\n",
    "df_copy[\"description_story_processed\"] = process_description_story(df_copy[\"description_story\"])\n",
    "df_copy[\"description_risks_processed\"] = process_description_story(df_copy[\"description_risks\"])"
   ]
  },
  {
   "cell_type": "code",
   "execution_count": 102,
   "metadata": {},
   "outputs": [
    {
     "data": {
      "text/plain": [
       "\"Story                                                                                                                                                                Support Us!  Back HUSTLE! and be one of the very first to own an exclusive digital version of a Singaporean card game about the hustle culture.\\xa0  Music credits: Bensound Royalty Free Music  The Backstory  Hi there, my name is Ah Long, and I’m the lead creator of HUSTLE!  I would deeply appreciate your help and support to get this passion project started. Your contributions will go a long way toward developing the local board game community, alongside helping me to improve the product's artwork, quality and potential physical launch.\\xa0  Do note that due to logistical challenges, we are currently providing backers an e-copy of the game for you to print, cut out and play on your own. We hope to be able to produce physical copies down the road.  •The concept of 'Hustle: A Singaporean Card Game' arose when I was considering the impact of the pandemic, and the massive disruptions it had caused to our lives, jobs and communities. Amidst the chaos, there were stories of individuals who had found out ways to secure their financial independence and stay afloat through a variety of means - admittedly, both legal and illegal. In particular, the KTV hosts and Temasek mask thieves stood out to me.  There's also been much discussion in the media over the 'hustle culture' and 'side-gigging', and how many today have taken these hustles on to pursue both their passions and their financial freedom. The economy is a funny thing, and this brave new world has created a whole new range of opportunities for livelihoods.  I then thought, 'Why not create a card game to capture this crazy, wonderful, terrifying moment in time?' The silliness of HUSTLE! was born as a result. I'm deeply grateful to the many family members and friends who have offered their criticism (feedback is love!), time and encouragement to birthing this baby.  This game is dedicated to all trying to make the best of this pandemic, and in particular, to our heroic frontliners who continue to ensure that this society keeps running. Kudos to you all.  I hope you will enjoy this game as much I as did creating it, and that this game can set you on the path to understanding your own journey to financial freedom.\""
      ]
     },
     "execution_count": 102,
     "metadata": {},
     "output_type": "execute_result"
    }
   ],
   "source": [
    "df_copy[\"description_story_processed\"][1]"
   ]
  },
  {
   "cell_type": "code",
   "execution_count": 103,
   "metadata": {},
   "outputs": [
    {
     "data": {
      "text/plain": [
       "'We want to be frank and honest with all our generous backers so that you get the most genuine experience with our product.      FUNDING   Kickstarter has an \"All-or-Nothing\" policy where the campaign gets $0 funding if the campaign doesn\\'t reach its target. It would mean so much to the HUSTLE team if you could help to spread and share the word about this game so it becomes a reality for you (and for us).  The HUSTLE team genuinely believes in this game being able to start new conversations about what it means to be financially independent in Singapore in this day and age. The risk we are taking with Kickstarter is that if we are unable to be fully funded, we are not able to get the funding needed.'"
      ]
     },
     "execution_count": 103,
     "metadata": {},
     "output_type": "execute_result"
    }
   ],
   "source": [
    "df_copy[\"description_risks_processed\"][1]"
   ]
  },
  {
   "cell_type": "code",
   "execution_count": 104,
   "metadata": {},
   "outputs": [],
   "source": [
    "X, y = df_copy[['id', 'name', 'description', 'description_story', 'description_risks',\n",
    "       'rewards', 'category', 'pledged', 'goal', 'deadline', 'location',\n",
    "       'state', 'faq_count', 'update_count', 'backers_count', 'is_starrable',\n",
    "       'spotlight', 'staff_pick', 'video', 'creator_name', 'creator_url',\n",
    "       'url', 'created_at', 'published_at', 'launched_at', 'link', 'rewards_processed', \"description_story_processed\", \"description_risks_processed\"]], df_copy[[\"state\"]]\n",
    "\n",
    "X_train, X_test, y_train, y_test = train_test_split(X, y, test_size=0.3, random_state=2022, shuffle=True)"
   ]
  },
  {
   "cell_type": "code",
   "execution_count": 105,
   "metadata": {},
   "outputs": [
    {
     "name": "stdout",
     "output_type": "stream",
     "text": [
      "(1492, 29) (640, 29)\n"
     ]
    }
   ],
   "source": [
    "print(X_train.shape, X_test.shape)"
   ]
  },
  {
   "cell_type": "markdown",
   "metadata": {},
   "source": [
    "Pipeline:"
   ]
  },
  {
   "cell_type": "code",
   "execution_count": 106,
   "metadata": {},
   "outputs": [],
   "source": [
    "# tokenize, one hot encoding, tfidf vector\n",
    "\n",
    "# CountVectorizer + TfidfTransformer\n",
    "vect = TfidfVectorizer( \n",
    "    analyzer='word', \n",
    "    ngram_range=(1,3), # unigram, bigram and trigram \n",
    "    max_features=100, # vocabulary that only consider the top max_features ordered by term frequency across the corpus\n",
    "    min_df=2, # minimum word frequency required to be in model\n",
    "    stop_words=stopwords.words('english') # remove stopwords\n",
    "    )\n",
    "\n",
    "## X\n",
    "# tfidf\n",
    "\n",
    "# rewards\n",
    "rewards_processed = pd.Series(X_train[\"rewards_processed\"])\n",
    "tfidf_fit_rewards = vect.fit(rewards_processed)\n",
    "rewards_tfidf_array = tfidf_fit_rewards.transform(rewards_processed).toarray()\n",
    "\n",
    "# description\n",
    "description = pd.Series(X_train[\"description\"])\n",
    "tfidf_fit_description = vect.fit(description)\n",
    "description_tfidf_array = tfidf_fit_description.transform(description).toarray()\n",
    "\n",
    "# description story\n",
    "description_story_processed = pd.Series(X_train[\"description_story_processed\"])\n",
    "tfidf_fit_description_story_processed = vect.fit(description_story_processed)\n",
    "description_story_processed_tfidf_array = tfidf_fit_description_story_processed.transform(description_story_processed).toarray()\n",
    "\n",
    "# description risks\n",
    "description_risks_processed = pd.Series(X_train[\"description_risks_processed\"])\n",
    "tfidf_fit_description_risks_processed = vect.fit(description_risks_processed)\n",
    "description_risks_processed_tfidf_array = tfidf_fit_description_risks_processed.transform(description_risks_processed).toarray()\n",
    "\n",
    "## y\n",
    "# one hot encoding for `state`\n",
    "one_hot_fit_state = OneHotEncoder().fit(y_train)\n",
    "one_hot_state = one_hot_fit_state.transform(y_train).toarray()\n",
    "\n",
    "\n"
   ]
  },
  {
   "cell_type": "code",
   "execution_count": 107,
   "metadata": {},
   "outputs": [
    {
     "name": "stdout",
     "output_type": "stream",
     "text": [
      "(1492, 100)\n"
     ]
    },
    {
     "data": {
      "text/plain": [
       "array([[0.05011934, 0.12703754, 0.        , ..., 0.09768141, 0.04017431,\n",
       "        0.        ],\n",
       "       [0.20505155, 0.        , 0.50049325, ..., 0.        , 0.        ,\n",
       "        0.        ],\n",
       "       [0.        , 0.45397432, 0.        , ..., 0.        , 0.        ,\n",
       "        0.        ],\n",
       "       ...,\n",
       "       [0.04905705, 0.        , 0.02993482, ..., 0.02048808, 0.        ,\n",
       "        0.        ],\n",
       "       [0.        , 0.        , 0.        , ..., 0.09096673, 0.        ,\n",
       "        0.11809267],\n",
       "       [0.01748569, 0.0221605 , 0.        , ..., 0.02921074, 0.        ,\n",
       "        0.01896064]])"
      ]
     },
     "execution_count": 107,
     "metadata": {},
     "output_type": "execute_result"
    }
   ],
   "source": [
    "print(rewards_tfidf_array.shape)\n",
    "rewards_tfidf_array"
   ]
  },
  {
   "cell_type": "code",
   "execution_count": 108,
   "metadata": {},
   "outputs": [
    {
     "name": "stdout",
     "output_type": "stream",
     "text": [
      "(1492, 100)\n"
     ]
    },
    {
     "data": {
      "text/plain": [
       "array([[0.        , 0.        , 0.        , ..., 0.        , 0.        ,\n",
       "        0.        ],\n",
       "       [0.        , 0.        , 0.        , ..., 0.        , 0.        ,\n",
       "        0.        ],\n",
       "       [0.        , 0.        , 0.        , ..., 0.67961909, 0.        ,\n",
       "        0.        ],\n",
       "       ...,\n",
       "       [0.        , 0.        , 0.        , ..., 0.        , 0.        ,\n",
       "        0.        ],\n",
       "       [0.        , 0.        , 0.        , ..., 0.        , 0.        ,\n",
       "        0.        ],\n",
       "       [0.        , 0.        , 0.        , ..., 0.        , 0.        ,\n",
       "        0.        ]])"
      ]
     },
     "execution_count": 108,
     "metadata": {},
     "output_type": "execute_result"
    }
   ],
   "source": [
    "print(description_tfidf_array.shape)\n",
    "description_tfidf_array"
   ]
  },
  {
   "cell_type": "code",
   "execution_count": 109,
   "metadata": {},
   "outputs": [
    {
     "name": "stdout",
     "output_type": "stream",
     "text": [
      "(1492, 100)\n"
     ]
    },
    {
     "data": {
      "text/plain": [
       "array([[0.        , 0.        , 0.        , ..., 0.        , 0.        ,\n",
       "        0.        ],\n",
       "       [0.        , 0.        , 0.        , ..., 0.06163125, 0.        ,\n",
       "        0.        ],\n",
       "       [0.        , 0.        , 0.        , ..., 0.        , 0.11540745,\n",
       "        0.        ],\n",
       "       ...,\n",
       "       [0.        , 0.        , 0.        , ..., 0.        , 0.02486179,\n",
       "        0.        ],\n",
       "       [0.        , 0.        , 0.        , ..., 0.        , 0.        ,\n",
       "        0.        ],\n",
       "       [0.        , 0.        , 0.        , ..., 0.        , 0.        ,\n",
       "        0.        ]])"
      ]
     },
     "execution_count": 109,
     "metadata": {},
     "output_type": "execute_result"
    }
   ],
   "source": [
    "print(description_story_processed_tfidf_array.shape)\n",
    "description_story_processed_tfidf_array"
   ]
  },
  {
   "cell_type": "code",
   "execution_count": 110,
   "metadata": {},
   "outputs": [
    {
     "name": "stdout",
     "output_type": "stream",
     "text": [
      "(1492, 100)\n"
     ]
    },
    {
     "data": {
      "text/plain": [
       "array([[0.        , 0.        , 0.14317997, ..., 0.        , 0.        ,\n",
       "        0.1614124 ],\n",
       "       [0.        , 0.3417851 , 0.        , ..., 0.        , 0.        ,\n",
       "        0.        ],\n",
       "       [0.        , 0.        , 0.        , ..., 0.        , 0.        ,\n",
       "        0.        ],\n",
       "       ...,\n",
       "       [0.        , 0.        , 0.        , ..., 0.        , 0.        ,\n",
       "        0.        ],\n",
       "       [0.        , 0.        , 0.        , ..., 0.08620492, 0.        ,\n",
       "        0.        ],\n",
       "       [0.        , 0.2040057 , 0.        , ..., 0.38557564, 0.        ,\n",
       "        0.23995107]])"
      ]
     },
     "execution_count": 110,
     "metadata": {},
     "output_type": "execute_result"
    }
   ],
   "source": [
    "print(description_risks_processed_tfidf_array.shape)\n",
    "description_risks_processed_tfidf_array"
   ]
  },
  {
   "cell_type": "code",
   "execution_count": 111,
   "metadata": {},
   "outputs": [
    {
     "data": {
      "text/plain": [
       "array([[0., 1., 0., 0.],\n",
       "       [0., 0., 0., 1.],\n",
       "       [1., 0., 0., 0.],\n",
       "       ...,\n",
       "       [0., 0., 0., 1.],\n",
       "       [0., 1., 0., 0.],\n",
       "       [0., 0., 0., 1.]])"
      ]
     },
     "execution_count": 111,
     "metadata": {},
     "output_type": "execute_result"
    }
   ],
   "source": [
    "one_hot_state"
   ]
  },
  {
   "cell_type": "code",
   "execution_count": 112,
   "metadata": {},
   "outputs": [],
   "source": [
    "# Count vectorizer\n",
    "\n",
    "# tokenize, one hot encoding, count vector\n",
    "vect = CountVectorizer( \n",
    "    analyzer='word', \n",
    "    ngram_range=(1,3), # unigram, bigram and trigram \n",
    "    max_features=100, # vocabulary that only consider the top max_features ordered by term frequency across the corpus\n",
    "    min_df=2, # minimum word frequency required to be in model\n",
    "    stop_words=stopwords.words('english') # remove stopwords\n",
    "    )\n",
    "count_fit = vect.fit(pd.Series(X_train[\"rewards_processed\"]))\n",
    "rewards_count_array = tfidf_fit.transform(pd.Series(X_train[\"rewards_processed\"])).toarray()"
   ]
  },
  {
   "cell_type": "code",
   "execution_count": null,
   "metadata": {},
   "outputs": [],
   "source": []
  },
  {
   "cell_type": "markdown",
   "metadata": {},
   "source": [
    "**Ignore below stuff**"
   ]
  },
  {
   "cell_type": "code",
   "execution_count": 113,
   "metadata": {},
   "outputs": [],
   "source": [
    "#tokenize\n",
    "tokenizer = TreebankWordTokenizer()\n",
    "X_train[\"rewards_tokens\"] = X_train[\"rewards_processed\"].apply(lambda x : tokenizer.tokenize(x))\n",
    "\n",
    "# remove stopwords\n",
    "\n",
    "stop = stopwords.words('english')\n",
    "custom_stopwords = ['$']\n",
    "for word in custom_stopwords:\n",
    "    stop.append(word)\n",
    "    \n",
    "X_train[\"rewards_tokens\"] = X_train[\"rewards_tokens\"].apply(lambda x : [word for word in x if word not in stop])\n"
   ]
  },
  {
   "cell_type": "code",
   "execution_count": 114,
   "metadata": {},
   "outputs": [],
   "source": [
    "# POS tagging\n",
    "from nltk.corpus import wordnet\n",
    "\n",
    "def get_part_of_speech_tags(token):\n",
    "    \n",
    "    \"\"\"Maps POS tags to first character of the pos tagging returned by pos_tag.\n",
    "    We are focussing on Verbs, Nouns, Adjectives and Adverbs; otherwise return NOUN\"\"\"\n",
    "\n",
    "    tag_dict = {\"J\": wordnet.ADJ,\n",
    "                \"N\": wordnet.NOUN,\n",
    "                \"V\": wordnet.VERB,\n",
    "                \"R\": wordnet.ADV}\n",
    "    \n",
    "    tag = nltk.pos_tag([token])[0][1][0].upper()\n",
    "    \n",
    "    return tag_dict.get(tag, wordnet.NOUN)\n",
    "\n",
    "# lemmatize\n",
    "lemmatizer = WordNetLemmatizer()\n",
    "X_train[\"rewards_tokens_lemmatized_POS\"] = X_train[\"rewards_tokens\"].apply(lambda x : [lemmatizer.lemmatize(word, get_part_of_speech_tags(word)) for word in x])\n"
   ]
  },
  {
   "cell_type": "code",
   "execution_count": 115,
   "metadata": {},
   "outputs": [],
   "source": [
    "# n-gram\n",
    "X_train[\"rewards_tokens_lemmatized_POS_bigrams\"] = X_train[\"rewards_tokens_lemmatized_POS\"].apply(lambda x : list(ngrams(x, 2)))\n",
    "X_train[\"rewards_tokens_lemmatized_POS_trigrams\"] = X_train[\"rewards_tokens_lemmatized_POS\"].apply(lambda x : list(ngrams(x, 3)))\n"
   ]
  },
  {
   "cell_type": "code",
   "execution_count": 116,
   "metadata": {},
   "outputs": [],
   "source": [
    "# #stemming\n",
    "# ps = PorterStemmer()\n",
    "# X_train[\"rewards_tokens\"] = X_train[\"rewards_tokens\"].apply(lambda x : [ps.stem(word) for word in x])"
   ]
  },
  {
   "cell_type": "code",
   "execution_count": null,
   "metadata": {},
   "outputs": [],
   "source": [
    "\n",
    "\n"
   ]
  },
  {
   "cell_type": "code",
   "execution_count": 117,
   "metadata": {},
   "outputs": [
    {
     "data": {
      "text/plain": [
       "array([[0.05011934, 0.12703754, 0.        , ..., 0.09768141, 0.04017431,\n",
       "        0.        ],\n",
       "       [0.20505155, 0.        , 0.50049325, ..., 0.        , 0.        ,\n",
       "        0.        ],\n",
       "       [0.        , 0.45397432, 0.        , ..., 0.        , 0.        ,\n",
       "        0.        ],\n",
       "       ...,\n",
       "       [0.04905705, 0.        , 0.02993482, ..., 0.02048808, 0.        ,\n",
       "        0.        ],\n",
       "       [0.        , 0.        , 0.        , ..., 0.09096673, 0.        ,\n",
       "        0.11809267],\n",
       "       [0.01748569, 0.0221605 , 0.        , ..., 0.02921074, 0.        ,\n",
       "        0.01896064]])"
      ]
     },
     "execution_count": 117,
     "metadata": {},
     "output_type": "execute_result"
    }
   ],
   "source": [
    "rewards_tfidf_array"
   ]
  }
 ],
 "metadata": {
  "kernelspec": {
   "display_name": "Python 3.9.12 ('base')",
   "language": "python",
   "name": "python3"
  },
  "language_info": {
   "codemirror_mode": {
    "name": "ipython",
    "version": 3
   },
   "file_extension": ".py",
   "mimetype": "text/x-python",
   "name": "python",
   "nbconvert_exporter": "python",
   "pygments_lexer": "ipython3",
   "version": "3.9.12"
  },
  "orig_nbformat": 4,
  "vscode": {
   "interpreter": {
    "hash": "77238a471535228e8cd55a3ca9e771a69c6c0bc66c44a56c972f9554a4042742"
   }
  }
 },
 "nbformat": 4,
 "nbformat_minor": 2
}
