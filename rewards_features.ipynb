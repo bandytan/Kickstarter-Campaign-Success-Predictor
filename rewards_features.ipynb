{
 "cells": [
  {
   "cell_type": "code",
   "execution_count": 161,
   "metadata": {},
   "outputs": [],
   "source": [
    "import pandas as pd \n",
    "import ast\n",
    "import re\n",
    "import numpy as np\n",
    "# df = pd.read_csv(\"./data/kickstarter_test.csv\")\n",
    "df = pd.read_csv(\"/Users/bandy/Downloads/data/kickstarter_train.csv\")\n",
    "\n",
    "df.head(3)\n",
    "df_copy = df.copy()"
   ]
  },
  {
   "cell_type": "code",
   "execution_count": 4,
   "metadata": {},
   "outputs": [
    {
     "data": {
      "text/html": [
       "<div>\n",
       "<style scoped>\n",
       "    .dataframe tbody tr th:only-of-type {\n",
       "        vertical-align: middle;\n",
       "    }\n",
       "\n",
       "    .dataframe tbody tr th {\n",
       "        vertical-align: top;\n",
       "    }\n",
       "\n",
       "    .dataframe thead th {\n",
       "        text-align: right;\n",
       "    }\n",
       "</style>\n",
       "<table border=\"1\" class=\"dataframe\">\n",
       "  <thead>\n",
       "    <tr style=\"text-align: right;\">\n",
       "      <th></th>\n",
       "      <th>id</th>\n",
       "      <th>name</th>\n",
       "      <th>description</th>\n",
       "      <th>description_story</th>\n",
       "      <th>description_risks</th>\n",
       "      <th>rewards</th>\n",
       "      <th>category</th>\n",
       "      <th>goal</th>\n",
       "      <th>deadline</th>\n",
       "      <th>location</th>\n",
       "      <th>state</th>\n",
       "      <th>staff_pick</th>\n",
       "      <th>video</th>\n",
       "      <th>launched_at</th>\n",
       "      <th>created_at</th>\n",
       "    </tr>\n",
       "  </thead>\n",
       "  <tbody>\n",
       "    <tr>\n",
       "      <th>0</th>\n",
       "      <td>3.071031e+08</td>\n",
       "      <td>\"To the things themselves!\"</td>\n",
       "      <td>A new dance exploring both my allergy to \"abou...</td>\n",
       "      <td>November 2, 2018 OMG! We're just over halfway ...</td>\n",
       "      <td>We really need your support!  Thank you.</td>\n",
       "      <td>[{\"rewards\":\"Pledge US$ 25 or more\\n\\nAbout S$...</td>\n",
       "      <td>dance</td>\n",
       "      <td>9000.0</td>\n",
       "      <td>2018-11-17 04:59:00</td>\n",
       "      <td>US</td>\n",
       "      <td>1</td>\n",
       "      <td>1</td>\n",
       "      <td>https://v2.kickstarter.com/1663805284-vaRunMxL...</td>\n",
       "      <td>2018-10-15 20:59:22</td>\n",
       "      <td>2018-10-09 01:27:56</td>\n",
       "    </tr>\n",
       "    <tr>\n",
       "      <th>1</th>\n",
       "      <td>2.143193e+08</td>\n",
       "      <td>Journals 1990-2014</td>\n",
       "      <td>How did we get to the new century? Ride the wa...</td>\n",
       "      <td>Many thanks to my backers for getting us to th...</td>\n",
       "      <td>Here are the steps of my process:\\r\\n\\r\\nStep ...</td>\n",
       "      <td>[{\"rewards\":\"Pledge US$ 10 or more\\n\\nAbout US...</td>\n",
       "      <td>publishing</td>\n",
       "      <td>5000.0</td>\n",
       "      <td>2015-04-09 14:39:44</td>\n",
       "      <td>US</td>\n",
       "      <td>1</td>\n",
       "      <td>1</td>\n",
       "      <td>https://v2.kickstarter.com/1664643846-VxuMrMK%...</td>\n",
       "      <td>2015-03-16 14:39:44</td>\n",
       "      <td>2015-02-24 17:29:35</td>\n",
       "    </tr>\n",
       "    <tr>\n",
       "      <th>2</th>\n",
       "      <td>7.475064e+07</td>\n",
       "      <td>Bailarina Piano</td>\n",
       "      <td>Hemos conseguido poner en marcha el proyecto B...</td>\n",
       "      <td>-¿Te gustaría disfrutar de la mezcla de la dan...</td>\n",
       "      <td>El principal riesgo es el retrasar el proyecto...</td>\n",
       "      <td>[{\"rewards\":\"Pledge €3 or more\\n\\nAbout S$ 5\\n...</td>\n",
       "      <td>music</td>\n",
       "      <td>650.0</td>\n",
       "      <td>2021-05-23 01:36:40</td>\n",
       "      <td>ES</td>\n",
       "      <td>1</td>\n",
       "      <td>0</td>\n",
       "      <td>https://v2.kickstarter.com/1664750650-Kfqx1NI3...</td>\n",
       "      <td>2021-05-03 01:36:40</td>\n",
       "      <td>2021-04-30 22:16:36</td>\n",
       "    </tr>\n",
       "    <tr>\n",
       "      <th>3</th>\n",
       "      <td>1.946709e+09</td>\n",
       "      <td>Lily Locksmith full length album</td>\n",
       "      <td>Help Lily Locksmith put out her final recordin...</td>\n",
       "      <td>Lily Locksmith, with her powerful voice, rich ...</td>\n",
       "      <td>The biggest challange here is the time line. I...</td>\n",
       "      <td>[{\"rewards\":\"Pledge SEK 149 or more\\n\\nAbout S...</td>\n",
       "      <td>music</td>\n",
       "      <td>34000.0</td>\n",
       "      <td>2022-04-14 07:21:20</td>\n",
       "      <td>SE</td>\n",
       "      <td>1</td>\n",
       "      <td>0</td>\n",
       "      <td>https://v2.kickstarter.com/1664734207-Ac%2F11N...</td>\n",
       "      <td>2022-03-20 07:21:20</td>\n",
       "      <td>2022-01-30 12:56:59</td>\n",
       "    </tr>\n",
       "    <tr>\n",
       "      <th>4</th>\n",
       "      <td>5.372524e+08</td>\n",
       "      <td>Very Young Composers @ 20!</td>\n",
       "      <td>Help celebrate 20 years of empowering the youn...</td>\n",
       "      <td>For 20 years now, the Very Young Composers pro...</td>\n",
       "      <td>Live streaming to South Korea, Finland, Venezu...</td>\n",
       "      <td>[{\"rewards\":\"Pledge US$ 1 or more\\n\\nAbout S$ ...</td>\n",
       "      <td>music</td>\n",
       "      <td>20000.0</td>\n",
       "      <td>2016-05-06 18:45:32</td>\n",
       "      <td>US</td>\n",
       "      <td>1</td>\n",
       "      <td>1</td>\n",
       "      <td>https://v2.kickstarter.com/1664682609-xfA%2FLS...</td>\n",
       "      <td>2016-04-05 18:45:32</td>\n",
       "      <td>2016-02-24 16:11:49</td>\n",
       "    </tr>\n",
       "  </tbody>\n",
       "</table>\n",
       "</div>"
      ],
      "text/plain": [
       "             id                              name  \\\n",
       "0  3.071031e+08       \"To the things themselves!\"   \n",
       "1  2.143193e+08                Journals 1990-2014   \n",
       "2  7.475064e+07                   Bailarina Piano   \n",
       "3  1.946709e+09  Lily Locksmith full length album   \n",
       "4  5.372524e+08        Very Young Composers @ 20!   \n",
       "\n",
       "                                         description  \\\n",
       "0  A new dance exploring both my allergy to \"abou...   \n",
       "1  How did we get to the new century? Ride the wa...   \n",
       "2  Hemos conseguido poner en marcha el proyecto B...   \n",
       "3  Help Lily Locksmith put out her final recordin...   \n",
       "4  Help celebrate 20 years of empowering the youn...   \n",
       "\n",
       "                                   description_story  \\\n",
       "0  November 2, 2018 OMG! We're just over halfway ...   \n",
       "1  Many thanks to my backers for getting us to th...   \n",
       "2  -¿Te gustaría disfrutar de la mezcla de la dan...   \n",
       "3  Lily Locksmith, with her powerful voice, rich ...   \n",
       "4  For 20 years now, the Very Young Composers pro...   \n",
       "\n",
       "                                   description_risks  \\\n",
       "0           We really need your support!  Thank you.   \n",
       "1  Here are the steps of my process:\\r\\n\\r\\nStep ...   \n",
       "2  El principal riesgo es el retrasar el proyecto...   \n",
       "3  The biggest challange here is the time line. I...   \n",
       "4  Live streaming to South Korea, Finland, Venezu...   \n",
       "\n",
       "                                             rewards    category     goal  \\\n",
       "0  [{\"rewards\":\"Pledge US$ 25 or more\\n\\nAbout S$...       dance   9000.0   \n",
       "1  [{\"rewards\":\"Pledge US$ 10 or more\\n\\nAbout US...  publishing   5000.0   \n",
       "2  [{\"rewards\":\"Pledge €3 or more\\n\\nAbout S$ 5\\n...       music    650.0   \n",
       "3  [{\"rewards\":\"Pledge SEK 149 or more\\n\\nAbout S...       music  34000.0   \n",
       "4  [{\"rewards\":\"Pledge US$ 1 or more\\n\\nAbout S$ ...       music  20000.0   \n",
       "\n",
       "              deadline location  state  staff_pick  \\\n",
       "0  2018-11-17 04:59:00       US      1           1   \n",
       "1  2015-04-09 14:39:44       US      1           1   \n",
       "2  2021-05-23 01:36:40       ES      1           0   \n",
       "3  2022-04-14 07:21:20       SE      1           0   \n",
       "4  2016-05-06 18:45:32       US      1           1   \n",
       "\n",
       "                                               video          launched_at  \\\n",
       "0  https://v2.kickstarter.com/1663805284-vaRunMxL...  2018-10-15 20:59:22   \n",
       "1  https://v2.kickstarter.com/1664643846-VxuMrMK%...  2015-03-16 14:39:44   \n",
       "2  https://v2.kickstarter.com/1664750650-Kfqx1NI3...  2021-05-03 01:36:40   \n",
       "3  https://v2.kickstarter.com/1664734207-Ac%2F11N...  2022-03-20 07:21:20   \n",
       "4  https://v2.kickstarter.com/1664682609-xfA%2FLS...  2016-04-05 18:45:32   \n",
       "\n",
       "            created_at  \n",
       "0  2018-10-09 01:27:56  \n",
       "1  2015-02-24 17:29:35  \n",
       "2  2021-04-30 22:16:36  \n",
       "3  2022-01-30 12:56:59  \n",
       "4  2016-02-24 16:11:49  "
      ]
     },
     "execution_count": 4,
     "metadata": {},
     "output_type": "execute_result"
    }
   ],
   "source": [
    "df.head()"
   ]
  },
  {
   "cell_type": "code",
   "execution_count": 21,
   "metadata": {},
   "outputs": [],
   "source": [
    "COUNT = 0\n",
    "\n",
    "def increment():\n",
    "    global COUNT\n",
    "    COUNT = COUNT+1\n",
    "\n",
    "\n",
    "def clean_rewards(reward_list):\n",
    "    try:\n",
    "        tiers = ast.literal_eval(reward_list)\n",
    "    except SyntaxError as e:\n",
    "        increment()\n",
    "        i = len(reward_list) -1\n",
    "        while reward_list[i] != \"{\":\n",
    "            i -= 1\n",
    "        reward_list = reward_list[:(i-1)]\n",
    "        reward_list += ']'\n",
    "    return reward_list"
   ]
  },
  {
   "cell_type": "code",
   "execution_count": 22,
   "metadata": {},
   "outputs": [],
   "source": [
    "#Clean rewards to remove broken off rewards\n",
    "df_copy[\"rewards\"] = df_copy[\"rewards\"].apply(lambda x : clean_rewards(x))\n",
    "df_copy[\"reward_tiers\"] = df_copy[\"rewards\"].apply(lambda x : len(ast.literal_eval(x)))\n",
    "\n",
    "# Rearange reward_tiers column to beside rewards\n",
    "cols = df_copy.columns.tolist()\n",
    "cols = cols[:6] + [cols[-1]] + cols[6:-1]\n",
    "df_copy = df_copy[cols]\n",
    "df_copy\n"
   ]
  },
  {
   "cell_type": "markdown",
   "metadata": {},
   "source": [
    "Generate all reward amounts for each listing"
   ]
  },
  {
   "cell_type": "code",
   "execution_count": 164,
   "metadata": {},
   "outputs": [
    {
     "name": "stderr",
     "output_type": "stream",
     "text": [
      "C:\\Users\\bandy\\AppData\\Local\\Temp\\ipykernel_21828\\2523479555.py:43: SettingWithCopyWarning: \n",
      "A value is trying to be set on a copy of a slice from a DataFrame\n",
      "\n",
      "See the caveats in the documentation: https://pandas.pydata.org/pandas-docs/stable/user_guide/indexing.html#returning-a-view-versus-a-copy\n",
      "  df_copy[\"min_reward\"][i] = min(all_reward_amount)\n",
      "C:\\Users\\bandy\\AppData\\Local\\Temp\\ipykernel_21828\\2523479555.py:44: SettingWithCopyWarning: \n",
      "A value is trying to be set on a copy of a slice from a DataFrame\n",
      "\n",
      "See the caveats in the documentation: https://pandas.pydata.org/pandas-docs/stable/user_guide/indexing.html#returning-a-view-versus-a-copy\n",
      "  df_copy[\"max_reward\"][i] = max(all_reward_amount)\n"
     ]
    }
   ],
   "source": [
    "df_copy[\"min_reward\"] = 0\n",
    "df_copy[\"max_reward\"] = 0\n",
    "\n",
    "for i in range(len(df_copy)):\n",
    "    all_reward_amount = []\n",
    "    reward = df_copy.iloc[i, 5]\n",
    "    dict_list = ast.literal_eval(reward)\n",
    "    # print(dict_list)\n",
    "    for dictionary in dict_list:\n",
    "        # print(\"dictionary item is \", dictionary)\n",
    "\n",
    "        # if not isinstance(dictionary,  dict):\n",
    "        #     print(\"ERROR type is\", type(dict))\n",
    "        values_string = str(dictionary.values())\n",
    "        # reward_title_USD = re.search(r\"(US\\$\\s)?(\\$\\s)?\\d{1,3}(,\\d{1,3})?\", values_string) #US$ or $\n",
    "        reward_title_SGD = re.search(r\"(S)?\\$\\s?\\d{1,3}(,\\d{1,3})?\", values_string) #S$\n",
    "        reward_title_USD = reward_title_SGD\n",
    "        # reward_title = re.search(r\"Pledge US\\$ \\d{1,3}(,\\d{1,3})? or more\", values_string)\n",
    "        if reward_title_SGD or reward_title_USD:\n",
    "            if reward_title_SGD is not None:\n",
    "                # print(\"reward USD title is \", reward_title_USD.group())\n",
    "                reward_amount = re.search(r\"\\d{1,3}(,\\d{1,3})?\", reward_title_USD.group())\n",
    "            else:\n",
    "                print(\"ERROR NO SGD\")\n",
    "                # print(\"reward SGD title is \", reward_title_SGD.group())\n",
    "                reward_amount = re.search(r\"\\d{1,3}(,\\d{1,3})?\", reward_title_SGD.group())\n",
    "\n",
    "            if reward_amount is not None:\n",
    "                integer_amount = re.sub(\"[^\\d\\.]\", \"\", reward_amount.group()) # remove comma in large amounts of money\n",
    "                all_reward_amount.append(int(integer_amount))\n",
    "        else:\n",
    "            # print(\"reward title is none\")\n",
    "            pledged_without_reward = re.search(r\"Pledge without a reward\", values_string) # check if have \"Pledge without a reward\"\n",
    "            if pledged_without_reward:\n",
    "                all_reward_amount.append(0)\n",
    "    # print(\"ALL REWARD AMOUNT \", all_reward_amount)\n",
    "    if len(all_reward_amount) > 0:\n",
    "        df_copy[\"min_reward\"][i] = min(all_reward_amount)\n",
    "        df_copy[\"max_reward\"][i] = max(all_reward_amount)\n",
    "    "
   ]
  },
  {
   "cell_type": "code",
   "execution_count": 165,
   "metadata": {},
   "outputs": [],
   "source": [
    "# Remove rewards that got cut off while scraping and closes the dictionary\n",
    "def create_rewards_tiers(df):\n",
    "    # df[\"rewards\"] = df[\"rewards\"].apply(lambda x : clean_rewards(x))\n",
    "    df[\"reward_tiers\"] = df[\"rewards\"].apply(lambda x : len(ast.literal_eval(x)))\n",
    "    df = move_reward_tiers(df)\n",
    "    return df\n",
    "\n",
    "def create_min_max_reward(df):\n",
    "    df[\"min_reward\"] = 0\n",
    "    df[\"max_reward\"] = 0\n",
    "\n",
    "    for i in range(len(df)):\n",
    "        all_reward_amount = []\n",
    "        reward = df.iloc[i, 5]\n",
    "        dict_list = ast.literal_eval(reward)\n",
    "\n",
    "        for dictionary in dict_list:\n",
    "            values_string = str(dictionary.values())\n",
    "            reward_title_SGD = re.search(r\"(S)?\\$\\s?\\d{1,3}(,\\d{1,3})?\", values_string) #S$\n",
    "            if reward_title_SGD:\n",
    "                reward_amount = re.search(r\"\\d{1,3}(,\\d{1,3})?\", reward_title_SGD.group())\n",
    "            else:\n",
    "                 print(\"Error: No reward in SGD found!\")   \n",
    "\n",
    "            if reward_amount is not None:\n",
    "                integer_amount = re.sub(\"[^\\d\\.]\", \"\", reward_amount.group()) # remove comma in large amounts of money\n",
    "                all_reward_amount.append(int(integer_amount))\n",
    "            else:\n",
    "                pledged_without_reward = re.search(r\"Pledge without a reward\", values_string) # check if have \"Pledge without a reward\"\n",
    "                if pledged_without_reward:\n",
    "                    all_reward_amount.append(0)\n",
    "        if len(all_reward_amount) > 0:\n",
    "            df.loc[i, \"min_reward\"] = min(all_reward_amount)\n",
    "            df.loc[i, \"max_reward\"] = max(all_reward_amount)\n",
    "            \n",
    "    print(\"create min max reward done, now moving columns\")\n",
    "    df = move_min_max_reward(df)\n",
    "    return df\n",
    "\n",
    "# Rearange reward_tiers column to the right of rewards\n",
    "def move_reward_tiers(df):\n",
    "    cols = df.columns.tolist()\n",
    "    cols = cols[:6] + [cols[-1]] + cols[6:-1]\n",
    "    df = df[cols]\n",
    "    return df\n",
    "\n",
    "# Rearange min and max reward columns to the right of reward_tiers\n",
    "def move_min_max_reward(df):\n",
    "    cols = df.columns.tolist()\n",
    "    cols = cols[:7] + cols[-2:] + cols[7:-2]\n",
    "    df = df[cols]\n",
    "    return df\n",
    "\n",
    "# Remove backer count in rewards to prevent data leakage\n",
    "def remove_backers(df):\n",
    "    new_df = df.copy()\n",
    "    for i in range(len(df)):\n",
    "        # print(i)\n",
    "        reward = df.iloc[i, 5]\n",
    "        dict_list = ast.literal_eval(reward)\n",
    "        new_list = []\n",
    "\n",
    "        for dictionary in dict_list:\n",
    "            values_string = str(dictionary.values())\n",
    "            match_result = re.search(r\"\\d+ backer(s)?\", values_string) #\\nxxx backer\n",
    "            # print(match_result.group())\n",
    "            start_index = match_result.span()[0]\n",
    "            new_reward = values_string[14:start_index] #Remove \"dict_values\" and backer-count related words\n",
    "            new_list.append({'rewards': new_reward})\n",
    "\n",
    "        new_df.iloc[i,5] = str(new_list)\n",
    "    return new_df\n"
   ]
  },
  {
   "cell_type": "code",
   "execution_count": 166,
   "metadata": {},
   "outputs": [
    {
     "name": "stdout",
     "output_type": "stream",
     "text": [
      "Rewards tiers done\n"
     ]
    }
   ],
   "source": [
    "result = create_rewards_tiers(df)\n",
    "print(\"Rewards tiers done\")\n"
   ]
  },
  {
   "cell_type": "code",
   "execution_count": 167,
   "metadata": {},
   "outputs": [
    {
     "name": "stderr",
     "output_type": "stream",
     "text": [
      "C:\\Users\\bandy\\AppData\\Local\\Temp\\ipykernel_8472\\1181530906.py:9: SettingWithCopyWarning: \n",
      "A value is trying to be set on a copy of a slice from a DataFrame.\n",
      "Try using .loc[row_indexer,col_indexer] = value instead\n",
      "\n",
      "See the caveats in the documentation: https://pandas.pydata.org/pandas-docs/stable/user_guide/indexing.html#returning-a-view-versus-a-copy\n",
      "  df[\"min_reward\"] = 0\n",
      "C:\\Users\\bandy\\AppData\\Local\\Temp\\ipykernel_8472\\1181530906.py:10: SettingWithCopyWarning: \n",
      "A value is trying to be set on a copy of a slice from a DataFrame.\n",
      "Try using .loc[row_indexer,col_indexer] = value instead\n",
      "\n",
      "See the caveats in the documentation: https://pandas.pydata.org/pandas-docs/stable/user_guide/indexing.html#returning-a-view-versus-a-copy\n",
      "  df[\"max_reward\"] = 0\n"
     ]
    },
    {
     "name": "stdout",
     "output_type": "stream",
     "text": [
      "create min max reward done, now moving columns\n",
      "mins max rewards done\n"
     ]
    }
   ],
   "source": [
    "result = create_min_max_reward(result)\n",
    "print(\"mins max rewards done\")"
   ]
  },
  {
   "cell_type": "code",
   "execution_count": 168,
   "metadata": {},
   "outputs": [
    {
     "data": {
      "text/plain": [
       "'[{\"rewards\":\"Pledge US$ 10 or more\\\\n\\\\nAbout US$ 10\\\\n\\\\n\\\\n\\\\nEbook of JOURNALS 1990-2014. Heartfelt thanks, and a mention in the acknowledgements section of the JOURNALS.\\\\n\\\\n\\\\nLess\\\\n\\\\n\\\\n\\\\n\\\\nEstimated delivery\\\\nMay 2015\\\\n\\\\n\\\\n\\\\n\\\\n\\\\n\\\\n39 backers\"},{\"rewards\":\"Pledge US$ 25 or more\\\\n\\\\nAbout US$ 25\\\\n\\\\n\\\\n\\\\nSame as the $10 level, plus free ebooks of nine other Rucker Transreal Books titles: TRANSREAL TRILOGY, ALL THE VISIONS, MATHEMATICIANS IN LOVE, JIM AND THE FLIMS, THE BIG AHA, TURING & BURROUGHS, COLLECTED ESSAYS, COMPLETE STORIES, and THE HOLLOW EARTH.\\\\n\\\\n\\\\nLess\\\\n\\\\n\\\\n\\\\n\\\\nEstimated delivery\\\\nMay 2015\\\\n\\\\n\\\\n\\\\n\\\\n\\\\n\\\\n17 backers\"},{\"rewards\":\"Pledge US$ 50 or more\\\\n\\\\nAbout US$ 50\\\\n\\\\n\\\\n\\\\nAll of the above, plus a paperback collector\\'s edition of JOURNALS 1990-2014. Book will include a signed and numbered bookplate designed by me. Book size 6.7\\\\\" x 9.6\\\\\" and 820 pages.\\\\n\\\\n\\\\nLess\\\\n\\\\n\\\\n\\\\n\\\\nEstimated delivery\\\\nJun 2015\\\\n\\\\n\\\\nShips to\\\\nAnywhere in the world\\\\n\\\\n\\\\n\\\\n\\\\n\\\\n\\\\n39 backers\"},{\"rewards\":\"Pledge US$ 100 or more\\\\n\\\\nAbout US$ 100\\\\n\\\\n\\\\n\\\\nAll of the above, but with a hardback collector\\'s edition instead of a paperback edition hardback of JOURNALS 1990-2014. Book will include a signed and numbered bookplate designed by me. Book size 6.7\\\\\" x 9.6\\\\\" and 820 pages.\\\\n\\\\n\\\\nLess\\\\n\\\\n\\\\n\\\\n\\\\nEstimated delivery\\\\nJun 2015\\\\n\\\\n\\\\nShips to\\\\nAnywhere in the world\\\\n\\\\n\\\\n\\\\n\\\\n\\\\n\\\\n18 backers\"},{\"rewards\":\"Pledge US$ 200 or more\\\\n\\\\nAbout US$ 200\\\\n\\\\n\\\\n\\\\nSame as the $100 level, plus three signed items from the author\\'s stash of his hardbacks, paperback, magazines, and journal reprints, your choice among his available stock, as shown on http://www.rudyrucker.com/blog/ruckerstash/\\\\n\\\\n\\\\nLess\\\\n\\\\n\\\\n\\\\n\\\\nEstimated delivery\\\\nJun 2015\\\\n\\\\n\\\\nShips to\\\\nAnywhere in the world\\\\n\\\\n\\\\n\\\\n\\\\n\\\\n\\\\n2 backers\"},{\"rewards\":\"Pledge US$ 600 or more\\\\n\\\\nAbout US$ 600\\\\n\\\\n\\\\n\\\\nSame as the $100 level, plus one of three marked-up Rucker manuscripts: autobio NESTED SCROLLS, the novel TURING & BURROUGHS, or the novel JIM AND THE FLIMS.  See http://www.rudyrucker.com/blog/collectible-rucker-manuscripts/\\\\n\\\\n\\\\nLess\\\\n\\\\n\\\\n\\\\n\\\\nEstimated delivery\\\\nJun 2015\\\\n\\\\n\\\\nShips to\\\\nAnywhere in the world\\\\n\\\\n\\\\n\\\\n\\\\n\\\\n\\\\n0 backers\\\\n\\\\n\\\\n\\\\n\\\\n\\\\nLimited (3 left of 3)\"},{\"rewards\":\"Pledge US$ 750 or more\\\\n\\\\nAbout US$ 750\\\\n\\\\n\\\\n\\\\nSame as the $100 level, plus the very heavily marked-up and corrected final draft 3 of the JOURNALS, see http://www.rudyrucker.com/blog/collectible-rucker-manuscripts/\\\\n\\\\n\\\\nLess\\\\n\\\\n\\\\n\\\\n\\\\nEstimated delivery\\\\nJun 2015\\\\n\\\\n\\\\nShips to\\\\nAnywhere in the world\\\\n\\\\n\\\\n\\\\n\\\\n\\\\n\\\\n0 backers\\\\n\\\\n\\\\n\\\\n\\\\n\\\\nLimited (1 left of 1)\"},{\"rewards\":\"Pledge US$ 900 or more\\\\n\\\\nAbout US$ 900\\\\n\\\\n\\\\n\\\\nSame as the $100 level, plus one of the author\\'s original oil paintings, your choice from those listed as available on his paintings site, http://www.rudyrucker.com/paintings\\\\n\\\\n\\\\nLess\\\\n\\\\n\\\\n\\\\n\\\\nEstimated delivery\\\\nJun 2015\\\\n\\\\n\\\\nShips to\\\\nAnywhere in the world\\\\n\\\\n\\\\n\\\\n\\\\n\\\\n\\\\n0 backers\\\\n\\\\n\\\\n\\\\n\\\\n\\\\nLimited (2 left of 2)\"}]'"
      ]
     },
     "execution_count": 168,
     "metadata": {},
     "output_type": "execute_result"
    }
   ],
   "source": [
    "result.iloc[1,5]"
   ]
  },
  {
   "cell_type": "code",
   "execution_count": 169,
   "metadata": {},
   "outputs": [
    {
     "name": "stdout",
     "output_type": "stream",
     "text": [
      "remove backers done\n"
     ]
    }
   ],
   "source": [
    "result = remove_backers(result)\n",
    "print(\"remove backers done\")"
   ]
  },
  {
   "cell_type": "code",
   "execution_count": 158,
   "metadata": {},
   "outputs": [
    {
     "data": {
      "text/plain": [
       "'[{\\'rewards\\': \\'Pledge US$ 25 or more\\\\\\\\n\\\\\\\\nAbout S$ 36\\\\\\\\n\\\\\\\\n\\\\\\\\n\\\\\\\\nFRIEND\\\\\\\\n\\\\\\\\n\\\\\\\\nA personal shout-out on Facebook and a listing in the program as a supporter of the project.\\\\\\\\n\\\\\\\\n\\\\\\\\nLess\\\\\\\\n\\\\\\\\n\\\\\\\\n\\\\\\\\n\\\\\\\\nEstimated delivery\\\\\\\\nDec 2018\\\\\\\\n\\\\\\\\n\\\\\\\\n\\\\\\\\n\\\\\\\\n\\\\\\\\n\\\\\\\\n\\'}, {\\'rewards\\': \\'Pledge US$ 50 or more\\\\\\\\n\\\\\\\\nAbout S$ 72\\\\\\\\n\\\\\\\\n\\\\\\\\n\\\\\\\\nDONOR\\\\\\\\n\\\\\\\\n\\\\\\\\nTwo video artifacts from the rehearsal process for “To The Things Themselves!” – a clip of one of the source movement improvisations, and a clip of a construction made using that source video – selected especially for you and sent via email.\\\\\\\\n\\\\\\\\n\\\\\\\\nLess\\\\\\\\n\\\\\\\\n\\\\\\\\n\\\\\\\\n\\\\\\\\nEstimated delivery\\\\\\\\nDec 2018\\\\\\\\n\\\\\\\\n\\\\\\\\n\\\\\\\\n\\\\\\\\n\\\\\\\\n\\\\\\\\n\\'}, {\\'rewards\\': \\'Pledge US$ 100 or more\\\\\\\\n\\\\\\\\nAbout S$ 143\\\\\\\\n\\\\\\\\n\\\\\\\\n\\\\\\\\nCONTRIBUTOR\\\\\\\\n\\\\\\\\n\\\\\\\\nAll of the above, plus: An archival clip of one of Neil’s 1994 source movement improvisations for “Not-About-AIDS-Dance” (my he was young then).\\\\\\\\n\\\\\\\\n\\\\\\\\nLess\\\\\\\\n\\\\\\\\n\\\\\\\\n\\\\\\\\n\\\\\\\\nEstimated delivery\\\\\\\\nDec 2018\\\\\\\\n\\\\\\\\n\\\\\\\\n\\\\\\\\n\\\\\\\\n\\\\\\\\n\\\\\\\\n\\'}, {\\'rewards\\': \\'Pledge US$ 250 or more\\\\\\\\n\\\\\\\\nAbout S$ 356\\\\\\\\n\\\\\\\\n\\\\\\\\n\\\\\\\\nSPONSOR\\\\\\\\n\\\\\\\\n\\\\\\\\nAll of the above plus: Archival print of a Frank Mullaney photograph of a dance by Neil Greenberg – either This (2014), (like a vase) (2010) or Really Queer Dance With Harps” (2008). Edition of 25.\\\\\\\\n\\\\\\\\n\\\\\\\\nLess\\\\\\\\n\\\\\\\\n\\\\\\\\n\\\\\\\\n\\\\\\\\nEstimated delivery\\\\\\\\nDec 2018\\\\\\\\n\\\\\\\\n\\\\\\\\nShips to\\\\\\\\nOnly United States\\\\\\\\n\\\\\\\\n\\\\\\\\n\\\\\\\\n\\\\\\\\n\\\\\\\\n\\\\\\\\n\\'}, {\\'rewards\\': \\'Pledge US$ 500 or more\\\\\\\\n\\\\\\\\nAbout S$ 711\\\\\\\\n\\\\\\\\n\\\\\\\\n\\\\\\\\nPATRON\\\\\\\\n\\\\\\\\n\\\\\\\\nOriginal T-shirt designed by Cary S. Leibowotiz/Candyass for our 1992 collaboration, “I Am A Miserable And Selfish Person (Kick Me Dance)” that reads: “My friend went to see Neil Greenberg dance and all I got was this lousy t-shirt.” Only 7 left!\\\\\\\\n\\\\\\\\n\\\\\\\\nLess\\\\\\\\n\\\\\\\\n\\\\\\\\n\\\\\\\\n\\\\\\\\nEstimated delivery\\\\\\\\nDec 2018\\\\\\\\n\\\\\\\\n\\\\\\\\nShips to\\\\\\\\nOnly United States\\\\\\\\n\\\\\\\\n\\\\\\\\n\\\\\\\\n\\\\\\\\n\\\\\\\\n\\\\\\\\n\\'}, {\\'rewards\\': \\'Pledge US$ 1,000 or more\\\\\\\\n\\\\\\\\nAbout S$ 1,421\\\\\\\\n\\\\\\\\n\\\\\\\\n\\\\\\\\nSAINT\\\\\\\\n\\\\\\\\n\\\\\\\\n1 of 2 remaining \"Vote 4 Neil\" T-shirts, in addition to the \"My friend went to see....\" T-shirt (above), both designed by Cary S. Leibowitz/Candyass for \"I Am A Miserable And Selfish Person (Kick Me Dance).\"\\\\\\\\n\\\\\\\\n\\\\\\\\nLess\\\\\\\\n\\\\\\\\n\\\\\\\\n\\\\\\\\n\\\\\\\\nEstimated delivery\\\\\\\\nDec 2018\\\\\\\\n\\\\\\\\n\\\\\\\\nShips to\\\\\\\\nOnly United States\\\\\\\\n\\\\\\\\n\\\\\\\\n\\\\\\\\n\\\\\\\\n\\\\\\\\n\\\\\\\\n\\'}]'"
      ]
     },
     "execution_count": 158,
     "metadata": {},
     "output_type": "execute_result"
    }
   ],
   "source": [
    "result.iloc[0,5]"
   ]
  },
  {
   "cell_type": "code",
   "execution_count": 137,
   "metadata": {},
   "outputs": [],
   "source": [
    "def remove_backers(df):\n",
    "    new_df = df.copy()\n",
    "    for i in range(len(df)):\n",
    "        # print(i)\n",
    "        reward = df.iloc[i, 5]\n",
    "        dict_list = ast.literal_eval(reward)\n",
    "        new_list = []\n",
    "        for dictionary in dict_list:\n",
    "            values_string = str(dictionary.values())\n",
    "            match_result = re.search(r\"\\d+ backer(s)?\", values_string) #\\nxxx backer\n",
    "            # print(match_result.group())\n",
    "            start_index = match_result.span()[0]\n",
    "            new_reward = values_string[14:start_index] #Remove backer-count related words to prevent data leakage\n",
    "            new_list.append({\"rewards\": new_reward})\n",
    "\n",
    "        new_df.iloc[i,5] = str(new_list)\n",
    "    return new_df"
   ]
  }
 ],
 "metadata": {
  "kernelspec": {
   "display_name": "Python 3 (ipykernel)",
   "language": "python",
   "name": "python3"
  },
  "language_info": {
   "codemirror_mode": {
    "name": "ipython",
    "version": 3
   },
   "file_extension": ".py",
   "mimetype": "text/x-python",
   "name": "python",
   "nbconvert_exporter": "python",
   "pygments_lexer": "ipython3",
   "version": "3.9.13"
  },
  "toc": {
   "base_numbering": 1,
   "nav_menu": {},
   "number_sections": false,
   "sideBar": true,
   "skip_h1_title": false,
   "title_cell": "Table of Contents",
   "title_sidebar": "Contents",
   "toc_cell": false,
   "toc_position": {},
   "toc_section_display": true,
   "toc_window_display": false
  },
  "vscode": {
   "interpreter": {
    "hash": "b14d2bd7895077ad303f266db7ad1f8a11e285bbfcdfa868008aad211f623e81"
   }
  }
 },
 "nbformat": 4,
 "nbformat_minor": 2
}
