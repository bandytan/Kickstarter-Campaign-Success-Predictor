{
 "metadata": {
  "language_info": {
   "codemirror_mode": {
    "name": "ipython",
    "version": 3
   },
   "file_extension": ".py",
   "mimetype": "text/x-python",
   "name": "python",
   "nbconvert_exporter": "python",
   "pygments_lexer": "ipython3",
   "version": "3.8.5-final"
  },
  "orig_nbformat": 2,
  "kernelspec": {
   "name": "python3",
   "display_name": "Python 3",
   "language": "python"
  }
 },
 "nbformat": 4,
 "nbformat_minor": 2,
 "cells": [
  {
   "cell_type": "code",
   "execution_count": 4,
   "metadata": {},
   "outputs": [],
   "source": [
    "import pandas as pd\n",
    "from textblob import TextBlob"
   ]
  },
  {
   "cell_type": "code",
   "execution_count": 6,
   "metadata": {},
   "outputs": [],
   "source": [
    "df = pd.read_csv('kickstarter_merged.csv')"
   ]
  },
  {
   "cell_type": "code",
   "execution_count": 14,
   "metadata": {},
   "outputs": [],
   "source": [
    "df = df.dropna(subset=['description_story', 'description_risks'])"
   ]
  },
  {
   "cell_type": "code",
   "execution_count": 24,
   "metadata": {},
   "outputs": [],
   "source": [
    "df[\"description_story\"] = df[\"description_story\"].replace('\\n','', regex=True)\n",
    "df[\"description_risks\"] = df[\"description_risks\"].replace('\\n','', regex=True)"
   ]
  },
  {
   "cell_type": "code",
   "execution_count": null,
   "metadata": {},
   "outputs": [],
   "source": [
    "'''\n",
    "Polarity is float which lies in the range of [-1,1] where 1 means positive statement and -1 means a negative statement. Subjective sentences generally refer to personal opinion, emotion or judgment whereas objective refers to factual information. Subjectivity is also a float which lies in the range of [0,1].\n",
    "'''"
   ]
  },
  {
   "cell_type": "code",
   "execution_count": 26,
   "metadata": {},
   "outputs": [],
   "source": [
    "df[\"description_story_polarity\"] = df[\"description_story\"].apply(lambda x: \n",
    "                   TextBlob(x).sentiment.polarity)\n",
    "df[\"description_story_subjectivity\"] = df[\"description_story\"].apply(lambda x: \n",
    "                   TextBlob(x).sentiment.subjectivity)"
   ]
  },
  {
   "cell_type": "code",
   "execution_count": 27,
   "metadata": {},
   "outputs": [],
   "source": [
    "df[\"description_risks_polarity\"] = df[\"description_risks\"].apply(lambda x: \n",
    "                   TextBlob(x).sentiment.polarity)\n",
    "df[\"description_risks_subjectivity\"] = df[\"description_risks\"].apply(lambda x: \n",
    "                   TextBlob(x).sentiment.subjectivity)"
   ]
  },
  {
   "cell_type": "code",
   "execution_count": null,
   "metadata": {},
   "outputs": [],
   "source": [
    "'''\n",
    "Added word count for description_story and description_risks (not sentiment related but may be useful)\n",
    "'''"
   ]
  },
  {
   "cell_type": "code",
   "execution_count": 30,
   "metadata": {},
   "outputs": [],
   "source": [
    "df['description_story_word_count'] = df[\"description_story\"].apply(lambda x: len(str(x).split(\" \")))\n",
    "df['description_risks_word_count'] = df[\"description_risks\"].apply(lambda x: len(str(x).split(\" \")))"
   ]
  },
  {
   "cell_type": "code",
   "execution_count": 35,
   "metadata": {},
   "outputs": [
    {
     "output_type": "execute_result",
     "data": {
      "text/plain": [
       "           id                                          name  \\\n",
       "0  1249154571  Bunny Care Clinic Pin and Apparel Collection   \n",
       "1  1276054891               Hustle: A Singaporean Card Game   \n",
       "2   236207086  Neovide, Waterless One-Stop Sous Vide Cooker   \n",
       "3  2128144913                                      Lit Cafe   \n",
       "4   891970407           Runway Tarot & Golden Journey Tarot   \n",
       "\n",
       "                                         description  \\\n",
       "0  A small collection of Bunny themed enamel pins...   \n",
       "1  Hustle: A Singaporean Card Game is a funny and...   \n",
       "2  No more water containers and vacuum bags. With...   \n",
       "3                         Little Toasts of Happiness   \n",
       "4  When the fashion week come into Tarot.\\nThis p...   \n",
       "\n",
       "                                   description_story  \\\n",
       "0  StoryHello! My name is Dani, the creator behin...   \n",
       "1  StorySupport Us!Back HUSTLE! and be one of the...   \n",
       "2  StorySous vide is a popular way to cook for bo...   \n",
       "3  StoryHi! Lit Cafe is a small space to provide ...   \n",
       "4  StoryYou'll need an HTML5 capable browser to s...   \n",
       "\n",
       "                                   description_risks  \\\n",
       "0  We try our best to keep everything on schedule...   \n",
       "1  We want to be frank and honest with all our ge...   \n",
       "2  With our years of experience with products, ou...   \n",
       "3  The concept is to offer affordable local food ...   \n",
       "4  COLLABORATIONThis is the third time that both ...   \n",
       "\n",
       "                                             rewards              category  \\\n",
       "0  [{'rewards': 'Pledge without a reward'}, {'rew...      art/illustration   \n",
       "1  [{'rewards': 'Pledge without a reward'}, {'rew...  games/tabletop games   \n",
       "2  [{'rewards': 'Pledge without a reward'}, {'rew...            technology   \n",
       "3  [{'rewards': 'Pledge without a reward'}, {'rew...           food/spaces   \n",
       "4  [{'rewards': 'Pledge without a reward'}, {'rew...          art/painting   \n",
       "\n",
       "    pledged   goal             deadline  ...               published_at  \\\n",
       "0   14115.0    700  2022-10-04 01:25:20  ...  2022-09-09 01:25:20+00:00   \n",
       "1       6.0     50  2022-10-07 13:08:05  ...  2022-09-07 13:08:05+00:00   \n",
       "2  289082.0  10000  2022-10-06 13:00:04  ...  2022-09-06 13:00:04+00:00   \n",
       "3     170.0  12000  2022-10-02 13:09:00  ...  2022-09-06 04:29:02+00:00   \n",
       "4   33599.0   6800  2022-10-05 13:57:35  ...  2022-09-05 13:57:35+00:00   \n",
       "\n",
       "                 launched_at  \\\n",
       "0  2022-09-09 01:25:20+00:00   \n",
       "1  2022-09-07 13:08:05+00:00   \n",
       "2  2022-09-06 13:00:04+00:00   \n",
       "3  2022-09-06 04:29:02+00:00   \n",
       "4  2022-09-05 13:57:35+00:00   \n",
       "\n",
       "                                                link  \\\n",
       "0  https://www.kickstarter.com/projects/labutori/...   \n",
       "1  https://www.kickstarter.com/projects/hustlesg/...   \n",
       "2  https://www.kickstarter.com/projects/thespacet...   \n",
       "3  https://www.kickstarter.com/projects/hosum/ho-...   \n",
       "4  https://www.kickstarter.com/projects/locationt...   \n",
       "\n",
       "   description_story_polarity  description_story_subjectivity  \\\n",
       "0                    0.188805                        0.435610   \n",
       "1                    0.094721                        0.480456   \n",
       "2                    0.153652                        0.467155   \n",
       "3                    0.136957                        0.428882   \n",
       "4                    0.231593                        0.486163   \n",
       "\n",
       "   description_risks_polarity  description_risks_subjectivity  \\\n",
       "0                    0.115278                        0.419444   \n",
       "1                    0.067220                        0.493619   \n",
       "2                    0.218229                        0.465451   \n",
       "3                    0.056488                        0.383095   \n",
       "4                    0.157143                        0.304762   \n",
       "\n",
       "   description_story_word_count description_risks_word_count  \\\n",
       "0                          1021                           46   \n",
       "1                           365                          131   \n",
       "2                           737                          163   \n",
       "3                           154                           68   \n",
       "4                          1281                          115   \n",
       "\n",
       "  pledged_goal_ratio  \n",
       "0          20.164286  \n",
       "1           0.120000  \n",
       "2          28.908200  \n",
       "3           0.014167  \n",
       "4           4.941029  \n",
       "\n",
       "[5 rows x 33 columns]"
      ],
      "text/html": "<div>\n<style scoped>\n    .dataframe tbody tr th:only-of-type {\n        vertical-align: middle;\n    }\n\n    .dataframe tbody tr th {\n        vertical-align: top;\n    }\n\n    .dataframe thead th {\n        text-align: right;\n    }\n</style>\n<table border=\"1\" class=\"dataframe\">\n  <thead>\n    <tr style=\"text-align: right;\">\n      <th></th>\n      <th>id</th>\n      <th>name</th>\n      <th>description</th>\n      <th>description_story</th>\n      <th>description_risks</th>\n      <th>rewards</th>\n      <th>category</th>\n      <th>pledged</th>\n      <th>goal</th>\n      <th>deadline</th>\n      <th>...</th>\n      <th>published_at</th>\n      <th>launched_at</th>\n      <th>link</th>\n      <th>description_story_polarity</th>\n      <th>description_story_subjectivity</th>\n      <th>description_risks_polarity</th>\n      <th>description_risks_subjectivity</th>\n      <th>description_story_word_count</th>\n      <th>description_risks_word_count</th>\n      <th>pledged_goal_ratio</th>\n    </tr>\n  </thead>\n  <tbody>\n    <tr>\n      <th>0</th>\n      <td>1249154571</td>\n      <td>Bunny Care Clinic Pin and Apparel Collection</td>\n      <td>A small collection of Bunny themed enamel pins...</td>\n      <td>StoryHello! My name is Dani, the creator behin...</td>\n      <td>We try our best to keep everything on schedule...</td>\n      <td>[{'rewards': 'Pledge without a reward'}, {'rew...</td>\n      <td>art/illustration</td>\n      <td>14115.0</td>\n      <td>700</td>\n      <td>2022-10-04 01:25:20</td>\n      <td>...</td>\n      <td>2022-09-09 01:25:20+00:00</td>\n      <td>2022-09-09 01:25:20+00:00</td>\n      <td>https://www.kickstarter.com/projects/labutori/...</td>\n      <td>0.188805</td>\n      <td>0.435610</td>\n      <td>0.115278</td>\n      <td>0.419444</td>\n      <td>1021</td>\n      <td>46</td>\n      <td>20.164286</td>\n    </tr>\n    <tr>\n      <th>1</th>\n      <td>1276054891</td>\n      <td>Hustle: A Singaporean Card Game</td>\n      <td>Hustle: A Singaporean Card Game is a funny and...</td>\n      <td>StorySupport Us!Back HUSTLE! and be one of the...</td>\n      <td>We want to be frank and honest with all our ge...</td>\n      <td>[{'rewards': 'Pledge without a reward'}, {'rew...</td>\n      <td>games/tabletop games</td>\n      <td>6.0</td>\n      <td>50</td>\n      <td>2022-10-07 13:08:05</td>\n      <td>...</td>\n      <td>2022-09-07 13:08:05+00:00</td>\n      <td>2022-09-07 13:08:05+00:00</td>\n      <td>https://www.kickstarter.com/projects/hustlesg/...</td>\n      <td>0.094721</td>\n      <td>0.480456</td>\n      <td>0.067220</td>\n      <td>0.493619</td>\n      <td>365</td>\n      <td>131</td>\n      <td>0.120000</td>\n    </tr>\n    <tr>\n      <th>2</th>\n      <td>236207086</td>\n      <td>Neovide, Waterless One-Stop Sous Vide Cooker</td>\n      <td>No more water containers and vacuum bags. With...</td>\n      <td>StorySous vide is a popular way to cook for bo...</td>\n      <td>With our years of experience with products, ou...</td>\n      <td>[{'rewards': 'Pledge without a reward'}, {'rew...</td>\n      <td>technology</td>\n      <td>289082.0</td>\n      <td>10000</td>\n      <td>2022-10-06 13:00:04</td>\n      <td>...</td>\n      <td>2022-09-06 13:00:04+00:00</td>\n      <td>2022-09-06 13:00:04+00:00</td>\n      <td>https://www.kickstarter.com/projects/thespacet...</td>\n      <td>0.153652</td>\n      <td>0.467155</td>\n      <td>0.218229</td>\n      <td>0.465451</td>\n      <td>737</td>\n      <td>163</td>\n      <td>28.908200</td>\n    </tr>\n    <tr>\n      <th>3</th>\n      <td>2128144913</td>\n      <td>Lit Cafe</td>\n      <td>Little Toasts of Happiness</td>\n      <td>StoryHi! Lit Cafe is a small space to provide ...</td>\n      <td>The concept is to offer affordable local food ...</td>\n      <td>[{'rewards': 'Pledge without a reward'}, {'rew...</td>\n      <td>food/spaces</td>\n      <td>170.0</td>\n      <td>12000</td>\n      <td>2022-10-02 13:09:00</td>\n      <td>...</td>\n      <td>2022-09-06 04:29:02+00:00</td>\n      <td>2022-09-06 04:29:02+00:00</td>\n      <td>https://www.kickstarter.com/projects/hosum/ho-...</td>\n      <td>0.136957</td>\n      <td>0.428882</td>\n      <td>0.056488</td>\n      <td>0.383095</td>\n      <td>154</td>\n      <td>68</td>\n      <td>0.014167</td>\n    </tr>\n    <tr>\n      <th>4</th>\n      <td>891970407</td>\n      <td>Runway Tarot &amp; Golden Journey Tarot</td>\n      <td>When the fashion week come into Tarot.\\nThis p...</td>\n      <td>StoryYou'll need an HTML5 capable browser to s...</td>\n      <td>COLLABORATIONThis is the third time that both ...</td>\n      <td>[{'rewards': 'Pledge without a reward'}, {'rew...</td>\n      <td>art/painting</td>\n      <td>33599.0</td>\n      <td>6800</td>\n      <td>2022-10-05 13:57:35</td>\n      <td>...</td>\n      <td>2022-09-05 13:57:35+00:00</td>\n      <td>2022-09-05 13:57:35+00:00</td>\n      <td>https://www.kickstarter.com/projects/locationt...</td>\n      <td>0.231593</td>\n      <td>0.486163</td>\n      <td>0.157143</td>\n      <td>0.304762</td>\n      <td>1281</td>\n      <td>115</td>\n      <td>4.941029</td>\n    </tr>\n  </tbody>\n</table>\n<p>5 rows × 33 columns</p>\n</div>"
     },
     "metadata": {},
     "execution_count": 35
    }
   ],
   "source": [
    "df.head()"
   ]
  },
  {
   "cell_type": "code",
   "execution_count": 37,
   "metadata": {},
   "outputs": [
    {
     "output_type": "execute_result",
     "data": {
      "text/plain": [
       "Index(['id', 'name', 'description', 'description_story', 'description_risks',\n",
       "       'rewards', 'category', 'pledged', 'goal', 'deadline', 'location',\n",
       "       'state', 'faq_count', 'update_count', 'backers_count', 'is_starrable',\n",
       "       'spotlight', 'staff_pick', 'video', 'creator_name', 'creator_url',\n",
       "       'url', 'created_at', 'published_at', 'launched_at', 'link',\n",
       "       'description_story_polarity', 'description_story_subjectivity',\n",
       "       'description_risks_polarity', 'description_risks_subjectivity',\n",
       "       'description_story_word_count', 'description_risks_word_count',\n",
       "       'pledged_goal_ratio'],\n",
       "      dtype='object')"
      ]
     },
     "metadata": {},
     "execution_count": 37
    }
   ],
   "source": [
    "df.columns"
   ]
  }
 ]
}